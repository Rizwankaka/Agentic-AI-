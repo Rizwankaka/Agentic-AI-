{
  "nbformat": 4,
  "nbformat_minor": 0,
  "metadata": {
    "colab": {
      "provenance": [],
      "authorship_tag": "ABX9TyMIgJvSyJuDSIYLSCYeMttB",
      "include_colab_link": true
    },
    "kernelspec": {
      "name": "python3",
      "display_name": "Python 3"
    },
    "language_info": {
      "name": "python"
    }
  },
  "cells": [
    {
      "cell_type": "markdown",
      "metadata": {
        "id": "view-in-github",
        "colab_type": "text"
      },
      "source": [
        "<a href=\"https://colab.research.google.com/github/Rizwankaka/Agentic-AI-/blob/main/Pydantic/pydanticai_weather_agent.ipynb\" target=\"_parent\"><img src=\"https://colab.research.google.com/assets/colab-badge.svg\" alt=\"Open In Colab\"/></a>"
      ]
    },
    {
      "cell_type": "code",
      "source": [
        "%pip install -qU pydantic-ai nest-asyncio"
      ],
      "metadata": {
        "id": "xkTTeRDCTTGb"
      },
      "execution_count": 17,
      "outputs": []
    },
    {
      "cell_type": "code",
      "source": [
        "import os\n",
        "from google.colab import userdata\n",
        "os.environ['GEMINI_API_KEY'] = userdata.get('GEMINI_API_KEY')"
      ],
      "metadata": {
        "id": "US-mq3r5Tqom"
      },
      "execution_count": 13,
      "outputs": []
    },
    {
      "cell_type": "code",
      "source": [
        "# to check if the key is present\n",
        "print(f\"API key present: {'GEMINI_API_KEY' in os.environ}\")"
      ],
      "metadata": {
        "colab": {
          "base_uri": "https://localhost:8080/"
        },
        "id": "aAfV1LcuV-jH",
        "outputId": "c46fe01e-9b51-43f5-bfa3-75da4992c650"
      },
      "execution_count": 14,
      "outputs": [
        {
          "output_type": "stream",
          "name": "stdout",
          "text": [
            "API key present: True\n"
          ]
        }
      ]
    },
    {
      "cell_type": "code",
      "source": [
        "# from pydantic_ai.models.groq import GrogModel\n",
        "# from pydantic_ai.models.openai import OpenAIModel\n",
        "# from pydantic_ai.models.ollama import OllamaModel\n",
        "from pydantic_ai.models.gemini import GeminiModel\n",
        "\n",
        "# OPENAI_MODEL = OpenAIModel(\"gpt-4o-mini\")\n",
        "# # OLLAMA_MODEL = OllamaModel(\"llama3.2:3b\")\n",
        "# # GROC_MODEL = GrogModel(\"llama3-groq-8b-8192-tool-use-preview\")\n",
        "\n",
        "# GROC_MODEL = GrogModel(\"llama3-groq-8b-8192-tool-use-preview\")\n",
        "GEMINI_MODEL = GeminiModel(\"gemini-2.0-flash-exp\")\n",
        "\n",
        "# GEMINI_MODEL = GeminiModel(\"gemini-2.0-flash-thinking-exp-1219\")\n"
      ],
      "metadata": {
        "id": "_cefevjESkyv"
      },
      "execution_count": 15,
      "outputs": []
    },
    {
      "cell_type": "code",
      "execution_count": 18,
      "metadata": {
        "colab": {
          "base_uri": "https://localhost:8080/"
        },
        "id": "DY-R_QI2QZBB",
        "outputId": "97bdefbf-8433-4117-b8e9-70ef0921a964"
      },
      "outputs": [
        {
          "output_type": "stream",
          "name": "stdout",
          "text": [
            "params passed by agent: {'q': 'London', 'api_key': '<geo_api_key>'}\n",
            "params passed by agent: {'q': 'San Francisco, CA', 'api_key': '<geo_api_key>'}\n",
            "---\n",
            "Result:\n",
            "The weather in London is Snowing with a temperature of 70, and the weather in San Francisco is Windy with a temperature of 100.\n",
            "\n"
          ]
        }
      ],
      "source": [
        "\"\"\" Pydantic AI Weather Agent Example \"\"\"\n",
        "import nest_asyncio\n",
        "nest_asyncio.apply()\n",
        "\n",
        "from typing import Any\n",
        "\n",
        "from pydantic import BaseModel, Field\n",
        "\n",
        "from pydantic_ai import Agent, ModelRetry, RunContext\n",
        "from pydantic_ai.models.gemini import GeminiModel\n",
        "\n",
        "class Deps(BaseModel):\n",
        "    \"\"\" Default Dependencies \"\"\"\n",
        "    weather_api_key: str | None = Field(title='Weather API Key', description='weather service API key')\n",
        "    geo_api_key: str | None = Field(title='Geo API Key', description='geo service API key')\n",
        "\n",
        "weather_agent = Agent(\n",
        "    name='Weather Agent',\n",
        "    model=GEMINI_MODEL,\n",
        "    system_prompt=(\n",
        "        \"Be concise, reply with one sentence.\"\n",
        "        \"Use the 'get_lat_lng' tool to get the latitude and longitude of the locations, \"\n",
        "        \"then use the 'get_weather' tool to get the weather.\"\n",
        "    ),\n",
        "    deps_type=Deps,\n",
        "    # result_type=<response object>,\n",
        ")\n",
        "\n",
        "@weather_agent.tool\n",
        "def get_lat_lng(\n",
        "    ctx: RunContext[Deps], Location_description: str\n",
        ") -> dict[str, float]:\n",
        "    \"\"\"Get the latitude and longitude of a location.\n",
        "\n",
        "    Args:\n",
        "        ctx: The context.\n",
        "        location_description: A description of a location.\n",
        "    \"\"\"\n",
        "\n",
        "    params = {\n",
        "        'q': Location_description,\n",
        "        'api_key': ctx.deps.geo_api_key,\n",
        "    }\n",
        "\n",
        "    print('params passed by agent:', params)\n",
        "    # Simulate an API call to get the latitude and longitude\n",
        "    if 'London' in Location_description:\n",
        "        return {\"lat\": 10.795320, \"lng\": -55.393958}\n",
        "    elif 'San Francisco' in Location_description:\n",
        "        return {\"lat\": 37.7749, \"lng\": -122.4194}\n",
        "    else:\n",
        "        raise ModelRetry('Could not find the location')\n",
        "\n",
        "@weather_agent.tool\n",
        "def get_weather(ctx: RunContext[Deps], lat: float, lng: float) -> dict[str, Any]:\n",
        "    \"\"\"Get the weather at a location.\n",
        "\n",
        "    Args:\n",
        "        ctx: The context.\n",
        "        lat: The latitude of the location.\n",
        "        lng: The longitude of the location.\n",
        "    \"\"\"\n",
        "\n",
        "    if lat == 0 and lng == 0:\n",
        "        raise ModelRetry(\"Could not find the location\")\n",
        "\n",
        "    params = {\n",
        "        \"lat\": lat,\n",
        "        \"lng\": lng,\n",
        "        \"api_key\": ctx.deps.weather_api_key,\n",
        "    }\n",
        "\n",
        "    # Simulate an API call to get the weather info\n",
        "    if lat == 10.79532 and lng == -55.393958:\n",
        "        return {\"temp\": 70, \"description\": \"Snowing\"}\n",
        "    elif lat == 37.7749 and lng == -122.4194:\n",
        "        return {\"temp\": 100, \"description\": \"Windy\"}\n",
        "\n",
        "\n",
        "if __name__ == \"__main__\":\n",
        "    deps = Deps(weather_api_key=\"<weather_api_key>\", geo_api_key=\"<geo_api_key>\")\n",
        "\n",
        "    result = weather_agent.run_sync(\n",
        "        \"What is the weather like in London and in San Francisco, CA?\",\n",
        "        deps=deps\n",
        "    )\n",
        "\n",
        "    print(\"---\")\n",
        "    print(\"Result:\")\n",
        "    print(result.data)"
      ]
    },
    {
      "cell_type": "code",
      "source": [
        "%python -m pydantic_ai_examples.question_graph"
      ],
      "metadata": {
        "id": "ZJFjlPunbt2L"
      },
      "execution_count": null,
      "outputs": []
    }
  ]
}