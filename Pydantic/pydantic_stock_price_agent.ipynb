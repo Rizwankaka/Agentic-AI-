{
  "nbformat": 4,
  "nbformat_minor": 0,
  "metadata": {
    "colab": {
      "provenance": [],
      "authorship_tag": "ABX9TyOjfZhz+fnUkDmgDyvruTyC",
      "include_colab_link": true
    },
    "kernelspec": {
      "name": "python3",
      "display_name": "Python 3"
    },
    "language_info": {
      "name": "python"
    }
  },
  "cells": [
    {
      "cell_type": "markdown",
      "metadata": {
        "id": "view-in-github",
        "colab_type": "text"
      },
      "source": [
        "<a href=\"https://colab.research.google.com/github/Rizwankaka/Agentic-AI-/blob/main/Pydantic/pydantic_stock_price_agent.ipynb\" target=\"_parent\"><img src=\"https://colab.research.google.com/assets/colab-badge.svg\" alt=\"Open In Colab\"/></a>"
      ]
    },
    {
      "cell_type": "markdown",
      "source": [
        "# 🤖 Building an Agentic Stock Price Assistant with Pydantic-AI\n",
        "\n",
        "## Introduction\n",
        "This notebook demonstrates how to build an intelligent stock price assistant using Pydantic-AI, an agentic framework that simplifies the creation of AI-powered applications. By combining Pydantic-AI's agent capabilities with Groq's LLama 3.3 model and real-time financial data from YFinance, we create a natural language interface that can understand and respond to queries about stock prices. The integration with Gradio provides an intuitive web interface for user interactions.\n",
        "\n",
        "## Goals\n",
        "1. Showcase how to use Pydantic-AI's Agent class to create an intelligent financial assistant\n",
        "2. Demonstrate tool integration by connecting YFinance for real-time stock data retrieval\n",
        "3. Implement structured data handling using Pydantic models for type-safe responses\n",
        "4. Create a conversational interface where users can query stock prices in natural language\n",
        "5. Build a web-based interface using Gradio for easy interaction with the agent\n",
        "\n",
        "This implementation highlights the power of agentic frameworks in creating AI applications that can understand user intent, execute specific tools, and return structured responses - all while maintaining a simple and clean architecture."
      ],
      "metadata": {
        "id": "UGmHijYfKxlR"
      }
    },
    {
      "cell_type": "code",
      "execution_count": 6,
      "metadata": {
        "id": "ltsHKL1Uzq0M"
      },
      "outputs": [],
      "source": [
        "%pip install -qU pydantic-ai yfinance gradio nest_asyncio"
      ]
    },
    {
      "cell_type": "code",
      "source": [
        "import os\n",
        "from google.colab import userdata\n",
        "os.environ['GROQ_API_KEY'] = userdata.get('GROQ_API_KEY')"
      ],
      "metadata": {
        "id": "jS6OggJPzzAJ"
      },
      "execution_count": 2,
      "outputs": []
    },
    {
      "cell_type": "code",
      "source": [
        "import nest_asyncio\n",
        "nest_asyncio.apply()\n",
        "\n",
        "from pydantic_ai import Agent\n",
        "from pydantic import BaseModel\n",
        "import yfinance as yf\n",
        "\n",
        "class StockPriceResult(BaseModel):\n",
        "    symbol: str\n",
        "    price: float\n",
        "    currency: str = \"USD\"\n",
        "    message: str\n",
        "\n",
        "stock_agent = Agent(\n",
        "    \"groq:llama-3.3-70b-versatile\",\n",
        "    result_type=StockPriceResult,\n",
        "    system_prompt=\"You are a helpful financial assistant that can look up stock prices. Use the get_stock_price tool to fetch current data.\"\n",
        ")\n",
        "\n",
        "@stock_agent.tool_plain\n",
        "def get_stock_price(symbol: str) -> dict:\n",
        "    ticker = yf.Ticker(symbol)\n",
        "    price = ticker.fast_info.last_price\n",
        "    return {\n",
        "        \"price\": round(price, 2),\n",
        "        \"currency\": \"USD\"\n",
        "    }\n",
        "\n",
        "result = stock_agent.run_sync(\"What is Apple's current stock price?\")\n",
        "print(f\"Stock Price: ${result.data.price:.2f} {result.data.currency}\")\n",
        "print(f\"Message: {result.data.message}\")"
      ],
      "metadata": {
        "colab": {
          "base_uri": "https://localhost:8080/"
        },
        "id": "x5sFR6bj0Pfo",
        "outputId": "32ba3872-4d3b-4dca-d771-2f5ce5022999"
      },
      "execution_count": 4,
      "outputs": [
        {
          "output_type": "stream",
          "name": "stdout",
          "text": [
            "Stock Price: $229.98 USD\n",
            "Message: The current stock price of Apple (AAPL) is\n"
          ]
        }
      ]
    },
    {
      "cell_type": "markdown",
      "source": [
        "## User interface in gradio"
      ],
      "metadata": {
        "id": "5dVMjrov1Miw"
      }
    },
    {
      "cell_type": "code",
      "source": [
        "from pydantic_ai import Agent\n",
        "from pydantic import BaseModel\n",
        "import yfinance as yf\n",
        "import gradio as gr\n",
        "\n",
        "class StockPriceResult(BaseModel):\n",
        "    symbol: str\n",
        "    price: float\n",
        "    currency: str = \"USD\"\n",
        "    message: str\n",
        "\n",
        "stock_agent = Agent(\n",
        "    \"groq:llama-3.3-70b-versatile\",\n",
        "    result_type=StockPriceResult,\n",
        "    system_prompt=\"You are a helpful financial assistant that can look up stock prices. Use the get_stock_price tool to fetch current data.\"\n",
        ")\n",
        "\n",
        "@stock_agent.tool_plain\n",
        "def get_stock_price(symbol: str) -> dict:\n",
        "    ticker = yf.Ticker(symbol)\n",
        "    price = ticker.fast_info.last_price\n",
        "    return {\n",
        "        \"price\": round(price, 2),\n",
        "        \"currency\": \"USD\"\n",
        "    }\n",
        "\n",
        "def get_stock_info(query):\n",
        "    try:\n",
        "        result = stock_agent.run_sync(query)\n",
        "        response = f\" Stock: {result.data.symbol}\\n\"\n",
        "        response += f\" Price: ${result.data.price:.2f} {result.data.currency}\\n\"\n",
        "        response += f\"\\n{result.data.message}\"\n",
        "        return response\n",
        "    except Exception as e:\n",
        "        return f\"Error: {str(e)}\"\n",
        "\n",
        "demo = gr.Interface(\n",
        "    fn=get_stock_info,\n",
        "    inputs=gr.Textbox(label=\"Ask about any stock price\", placeholder=\"What is Apple's current stock price?\"),\n",
        "    outputs=gr.Textbox(label=\"Stock Information\"),\n",
        "    title=\"Stock Price AI Assistant\",\n",
        "    description=\"Ask me about any stock price and I'll fetch the latest information for you!\"\n",
        ")\n",
        "\n",
        "if __name__ == \"__main__\":\n",
        "    demo.launch()"
      ],
      "metadata": {
        "colab": {
          "base_uri": "https://localhost:8080/",
          "height": 633
        },
        "id": "XOEceR-81L_p",
        "outputId": "368458d4-1f0d-4997-823b-f8e0b33c7268"
      },
      "execution_count": 5,
      "outputs": [
        {
          "output_type": "stream",
          "name": "stdout",
          "text": [
            "Running Gradio in a Colab notebook requires sharing enabled. Automatically setting `share=True` (you can turn this off by setting `share=False` in `launch()` explicitly).\n",
            "\n",
            "Colab notebook detected. To show errors in colab notebook, set debug=True in launch()\n",
            "* Running on public URL: https://4ded733d05045feca0.gradio.live\n",
            "\n",
            "This share link expires in 72 hours. For free permanent hosting and GPU upgrades, run `gradio deploy` from the terminal in the working directory to deploy to Hugging Face Spaces (https://huggingface.co/spaces)\n"
          ]
        },
        {
          "output_type": "display_data",
          "data": {
            "text/plain": [
              "<IPython.core.display.HTML object>"
            ],
            "text/html": [
              "<div><iframe src=\"https://4ded733d05045feca0.gradio.live\" width=\"100%\" height=\"500\" allow=\"autoplay; camera; microphone; clipboard-read; clipboard-write;\" frameborder=\"0\" allowfullscreen></iframe></div>"
            ]
          },
          "metadata": {}
        }
      ]
    }
  ]
}