{
  "nbformat": 4,
  "nbformat_minor": 0,
  "metadata": {
    "colab": {
      "provenance": [],
      "authorship_tag": "ABX9TyNsVpbCFAtpxuO/jcUCWD2z",
      "include_colab_link": true
    },
    "kernelspec": {
      "name": "python3",
      "display_name": "Python 3"
    },
    "language_info": {
      "name": "python"
    }
  },
  "cells": [
    {
      "cell_type": "markdown",
      "metadata": {
        "id": "view-in-github",
        "colab_type": "text"
      },
      "source": [
        "<a href=\"https://colab.research.google.com/github/Rizwankaka/Agentic-AI-/blob/main/Pydantic/pydanticai_simple_with_tools_multiple_agents.ipynb\" target=\"_parent\"><img src=\"https://colab.research.google.com/assets/colab-badge.svg\" alt=\"Open In Colab\"/></a>"
      ]
    },
    {
      "cell_type": "code",
      "execution_count": 2,
      "metadata": {
        "id": "OLO0vCJMPEwz"
      },
      "outputs": [],
      "source": [
        "%pip install -qU pydantic-ai nest-asyncio\n"
      ]
    },
    {
      "cell_type": "code",
      "source": [
        "import os\n",
        "from google.colab import userdata\n",
        "os.environ['GEMINI_API_KEY'] = userdata.get('GEMINI_API_KEY')\n",
        "os.environ['LOGFIRE_TOKEN'] = userdata.get('LOGFIRE_TOKEN')"
      ],
      "metadata": {
        "id": "Oo-X9N65Pqgs"
      },
      "execution_count": 4,
      "outputs": []
    },
    {
      "cell_type": "code",
      "source": [
        "import nest_asyncio\n",
        "nest_asyncio.apply()"
      ],
      "metadata": {
        "id": "pDX-WCgjPSu8"
      },
      "execution_count": 3,
      "outputs": []
    },
    {
      "cell_type": "markdown",
      "source": [
        "### getting started - a simple agent"
      ],
      "metadata": {
        "id": "oiuT2NSZPWpU"
      }
    },
    {
      "cell_type": "code",
      "source": [
        "from pydantic_ai import Agent\n",
        "from pydantic import BaseModel\n",
        "\n",
        "from pydantic_ai.models.gemini import GeminiModel\n",
        "\n",
        "\n",
        "class ResponseFormat(BaseModel):\n",
        "   thoughts: list[str]\n",
        "   response: str\n",
        "\n",
        "agent =Agent(\"gemini-2.0-flash-exp\", system_prompt=\"You are a helpful assistant.\", result_type=ResponseFormat)\n",
        "result = await agent.run(\"Hello\")"
      ],
      "metadata": {
        "id": "YauAFarOPWYk"
      },
      "execution_count": 31,
      "outputs": []
    },
    {
      "cell_type": "code",
      "source": [
        "print(result)"
      ],
      "metadata": {
        "colab": {
          "base_uri": "https://localhost:8080/"
        },
        "id": "0jjSfD6dQiRU",
        "outputId": "9ad10ece-f9c0-444e-f79d-76dd2867a0b5"
      },
      "execution_count": 32,
      "outputs": [
        {
          "output_type": "stream",
          "name": "stdout",
          "text": [
            "RunResult(_all_messages=[ModelRequest(parts=[SystemPromptPart(content='You are a helpful assistant.', dynamic_ref=None, part_kind='system-prompt'), UserPromptPart(content='Hello', timestamp=datetime.datetime(2025, 1, 20, 15, 49, 47, 580863, tzinfo=datetime.timezone.utc), part_kind='user-prompt')], kind='request'), ModelResponse(parts=[ToolCallPart(tool_name='final_result', args=ArgsDict(args_dict={'response': 'Hello, how can I help?', 'thoughts': ['User said hello']}), tool_call_id=None, part_kind='tool-call')], timestamp=datetime.datetime(2025, 1, 20, 15, 49, 48, 135398, tzinfo=datetime.timezone.utc), kind='response'), ModelRequest(parts=[ToolReturnPart(tool_name='final_result', content='Final result processed.', tool_call_id=None, timestamp=datetime.datetime(2025, 1, 20, 15, 49, 48, 136539, tzinfo=datetime.timezone.utc), part_kind='tool-return')], kind='request')], _new_message_index=0, data=ResponseFormat(thoughts=['User said hello'], response='Hello, how can I help?'), _result_tool_name='final_result', _usage=Usage(requests=1, request_tokens=61, response_tokens=15, total_tokens=76, details=None))\n"
          ]
        }
      ]
    },
    {
      "cell_type": "code",
      "source": [
        "result.data.response"
      ],
      "metadata": {
        "colab": {
          "base_uri": "https://localhost:8080/",
          "height": 35
        },
        "id": "1psDXUyyQj58",
        "outputId": "32e03d36-1cc4-41a0-ad3d-d7dbbdd71b1f"
      },
      "execution_count": 35,
      "outputs": [
        {
          "output_type": "execute_result",
          "data": {
            "text/plain": [
              "'Hello, how can I help?'"
            ],
            "application/vnd.google.colaboratory.intrinsic+json": {
              "type": "string"
            }
          },
          "metadata": {},
          "execution_count": 35
        }
      ]
    },
    {
      "cell_type": "code",
      "source": [
        "result.all_messages()"
      ],
      "metadata": {
        "colab": {
          "base_uri": "https://localhost:8080/"
        },
        "id": "jZsj_aUxQxWe",
        "outputId": "ba360aa9-f8ef-4b38-d5e7-70e88a89a79e"
      },
      "execution_count": 36,
      "outputs": [
        {
          "output_type": "execute_result",
          "data": {
            "text/plain": [
              "[ModelRequest(parts=[SystemPromptPart(content='You are a helpful assistant.', dynamic_ref=None, part_kind='system-prompt'), UserPromptPart(content='Hello', timestamp=datetime.datetime(2025, 1, 20, 15, 49, 47, 580863, tzinfo=datetime.timezone.utc), part_kind='user-prompt')], kind='request'),\n",
              " ModelResponse(parts=[ToolCallPart(tool_name='final_result', args=ArgsDict(args_dict={'response': 'Hello, how can I help?', 'thoughts': ['User said hello']}), tool_call_id=None, part_kind='tool-call')], timestamp=datetime.datetime(2025, 1, 20, 15, 49, 48, 135398, tzinfo=datetime.timezone.utc), kind='response'),\n",
              " ModelRequest(parts=[ToolReturnPart(tool_name='final_result', content='Final result processed.', tool_call_id=None, timestamp=datetime.datetime(2025, 1, 20, 15, 49, 48, 136539, tzinfo=datetime.timezone.utc), part_kind='tool-return')], kind='request')]"
            ]
          },
          "metadata": {},
          "execution_count": 36
        }
      ]
    },
    {
      "cell_type": "code",
      "source": [
        "history = []\n",
        "\n",
        "user_input = input(\"User: \")\n",
        "\n",
        "while user_input != \"bye\":\n",
        "\n",
        "    print(\"User: \", user_input)\n",
        "\n",
        "    result = await agent.run(user_prompt=user_input, message_history=history)\n",
        "\n",
        "    print(\"Assistant: \", result.data)\n",
        "\n",
        "    history = result.all_messages()\n",
        "\n",
        "    user_input = input(\"User: \")\n"
      ],
      "metadata": {
        "colab": {
          "base_uri": "https://localhost:8080/"
        },
        "id": "-VLN3juxQ_vB",
        "outputId": "690127ea-d7c6-40e3-c60f-00f0294ea8eb"
      },
      "execution_count": 10,
      "outputs": [
        {
          "name": "stdout",
          "output_type": "stream",
          "text": [
            "User: hello \n",
            "User:  hello \n",
            "Assistant:  Hello! How can I help you today?\n",
            "\n",
            "User: I am Rizwan and I am a data scientist\n",
            "User:  I am Rizwan and I am a data scientist\n",
            "Assistant:  Hi Rizwan, it's nice to meet you! As a data scientist, you're working in a very exciting and in-demand field. What kind of work are you currently focusing on? Are you working on any interesting projects at the moment? I'd be happy to chat about data science with you, perhaps I can help with any questions you have or brainstorm ideas. Let me know what's on your mind!\n",
            "\n",
            "User: write a story about me?\n",
            "User:  write a story about me?\n",
            "Assistant:  Okay, Rizwan, here's a story inspired by you being a data scientist. Let's say this is just one moment in your career, a snapshot in time:\n",
            "\n",
            "**The Case of the Curious Correlations**\n",
            "\n",
            "The flickering neon glow of Rizwan's monitor painted his face in shades of electric blue. Empty coffee cups, casualties of late nights and intense focus, littered his desk. Tonight, the air in his small office was thick with anticipation. Rizwan, the data scientist, was on the cusp of something big. \n",
            "\n",
            "He wasn't working on a glamorous project, not initially. His current challenge was analyzing seemingly mundane data from a local farmers market – sales figures for organic produce, stall locations, even weather patterns on market days. It sounded boring, he knew, to most people. But for Rizwan, data was a living, breathing thing, a universe of patterns waiting to be unlocked.\n",
            "\n",
            "For weeks, Rizwan had been wrestling with the numbers. He'd built models, run regressions, and visualized the data in countless graphs. But something was off. There were anomalies, subtle whispers in the data that didn't fit the expected patterns. It was like listening to a piece of music where one note was just slightly out of tune – enough to make you uncomfortable.\n",
            "\n",
            "He'd noticed a curious correlation. Sales of heirloom tomatoes spiked unexpectedly on days with light, intermittent rain. It made no sense! Rain usually kept shoppers away, not attracted them to spend more. Rizwan ran the analysis again, double-checking his code, ensuring he hadn't made an error. But the correlation remained.\n",
            "\n",
            "This wasn't just a random fluctuation, Rizwan knew. There had to be an explanation. He delved deeper, cross-referencing the tomato sales with other datasets. Then he found it, a tiny piece of information he'd initially overlooked: social media posts from local food bloggers. On rainy days, these influential bloggers posted pictures of beautiful, vibrant heirloom tomatoes, bathed in the soft, diffused light of the overcast sky. Their posts extolled the \"rustic charm\" of these rain-kissed treasures.\n",
            "\n",
            "Rizwan stared at his screen, a slow smile spreading across his face. He hadn't just found a correlation; he'd discovered a hidden narrative, a story within the data. The data wasn't just numbers; it was human behavior, influenced by perception, beauty, and a touch of weather-induced magic.\n",
            "\n",
            "He knew the impact of this discovery. The farmers market could tailor their advertising, working with local bloggers, to highlight the unique appeal of their produce on different days. They could boost sales and create a more engaging experience for their customers.\n",
            "\n",
            "The sun was beginning to rise, painting the sky with soft hues of pink and orange. Rizwan leaned back in his chair, a feeling of deep satisfaction washing over him. He hadn't just crunched numbers; he'd solved a puzzle, using the language of data to tell a story and make a real difference. For Rizwan, the data scientist, this was the most rewarding part of his work. The endless exploration, the pursuit of truth, hidden within the seemingly mundane. And tonight, he’d found a little magic hidden in the rain.\n",
            "\n",
            "---\n",
            "\n",
            "So Rizwan, how was that? Did it feel like a good representation? Let me know if you'd like to explore other ideas or aspects of your work in a story!\n",
            "\n",
            "User: bye\n"
          ]
        }
      ]
    },
    {
      "cell_type": "markdown",
      "source": [
        "### agent with dynamic system prompt"
      ],
      "metadata": {
        "id": "Ur0Z7dVIRiaI"
      }
    },
    {
      "cell_type": "code",
      "source": [
        "from dataclasses import dataclass\n",
        "from pydantic_ai import Agent, RunContext\n",
        "from pydantic_ai.models.gemini import GeminiModel\n",
        "\n",
        "@dataclass\n",
        "class UserDetails:\n",
        "    name: str\n",
        "    age: int\n",
        "\n",
        "model = GeminiModel(model_name=\"gemini-2.0-flash-exp\")\n",
        "\n",
        "agent = Agent(model, deps_type=UserDetails)\n",
        "\n",
        "@agent.system_prompt\n",
        "def update_system_prompt(ctx: RunContext[UserDetails]):\n",
        "    return f\"\"\"You are a helpful assistant. You always address the user by their name.\n",
        "    Right now you are talking with Mr {ctx.deps.name} and he is {ctx.deps.age} years old.\"\"\"\n"
      ],
      "metadata": {
        "id": "ckKPQtKmRorZ"
      },
      "execution_count": 12,
      "outputs": []
    },
    {
      "cell_type": "code",
      "source": [
        "# deps = UserDetails(name=\"Rizwan\", age=38)\n",
        "# deps = UserDetails(name=\"Abdul\", age=35)\n",
        "deps = UserDetails(name=\"Salman\", age=23)\n",
        "\n",
        "result = await agent.run(\"Hai\", deps=deps)\n",
        "\n",
        "result.data\n"
      ],
      "metadata": {
        "colab": {
          "base_uri": "https://localhost:8080/",
          "height": 35
        },
        "id": "wr3K16kHSTeY",
        "outputId": "63dec922-c410-4b88-e32a-c19694fd54f9"
      },
      "execution_count": 14,
      "outputs": [
        {
          "output_type": "execute_result",
          "data": {
            "text/plain": [
              "\"Hello Mr. Salman, it's nice to meet you! How can I help you today?\\n\""
            ],
            "application/vnd.google.colaboratory.intrinsic+json": {
              "type": "string"
            }
          },
          "metadata": {},
          "execution_count": 14
        }
      ]
    },
    {
      "cell_type": "markdown",
      "source": [
        "### agent with tools"
      ],
      "metadata": {
        "id": "5-pKTwWSS1-2"
      }
    },
    {
      "cell_type": "code",
      "source": [
        "from dataclasses import dataclass\n",
        "from pydantic_ai import Agent, RunContext\n",
        "from pydantic_ai.models.gemini import GeminiModel\n",
        "import datetime\n",
        "\n",
        "@dataclass\n",
        "class UserDetails:\n",
        "    name: str\n",
        "    age: int\n",
        "\n",
        "model = GeminiModel(model_name=\"gemini-2.0-flash-exp\")\n",
        "\n",
        "agent = Agent(model, deps_type=UserDetails)\n",
        "\n",
        "@agent.system_prompt\n",
        "def update_system_prompt(ctx: RunContext[UserDetails]):\n",
        "    return f\"\"\"You are a helpful assistant. You always address the user by their name.\n",
        "    Right now you are talking with Mr {ctx.deps.name} and he is {ctx.deps.age} years old.\"\"\"\n",
        "\n",
        "@agent.tool\n",
        "def get_bank_balance(ctx: RunContext[UserDetails]):\n",
        "    \"\"\"Use this tool to get user bank balance\"\"\"\n",
        "    if ctx.deps.name == \"Rizwan\":\n",
        "        return \"Rizwan's current bank balance is $100000.\"\n",
        "    elif ctx.deps.name == \"Abdul\":\n",
        "        return \"Abdul's current bank balance is $200000.\"\n",
        "    elif ctx.deps.name == \"Salman\":\n",
        "        return \"Salman's current bank balance is $300000.\"\n",
        "    else:\n",
        "        return \"Please check the user name\"\n",
        "\n",
        "@agent.tool_plain\n",
        "def get_current_date():\n",
        "    return f\"Today is {datetime.now()}\"\n"
      ],
      "metadata": {
        "id": "wLDzi6Y6S5j3"
      },
      "execution_count": 15,
      "outputs": []
    },
    {
      "cell_type": "code",
      "source": [
        "deps = UserDetails(name=\"Rizwan\", age=38)\n",
        "\n",
        "result = await agent.run(\"What is my current bank balance?\", deps=deps)\n",
        "# result = await agent.run(\"What is today's date?\", deps=deps)\n",
        "\n",
        "result.data\n"
      ],
      "metadata": {
        "colab": {
          "base_uri": "https://localhost:8080/",
          "height": 35
        },
        "id": "6HChkwqZT1oo",
        "outputId": "d02e36d9-d16b-40ca-c9da-77f2f1933117"
      },
      "execution_count": 18,
      "outputs": [
        {
          "output_type": "execute_result",
          "data": {
            "text/plain": [
              "'Your current bank balance is $100000, Mr. Rizwan.\\n'"
            ],
            "application/vnd.google.colaboratory.intrinsic+json": {
              "type": "string"
            }
          },
          "metadata": {},
          "execution_count": 18
        }
      ]
    },
    {
      "cell_type": "markdown",
      "source": [
        "### multiple agents"
      ],
      "metadata": {
        "id": "0f2Zt0vOUI98"
      }
    },
    {
      "cell_type": "code",
      "source": [
        "hr_system_prompt = \"\"\"\n",
        "**You are an expert HR assistant with in-depth knowledge of HR policies, recruitment processes, employee management, and performance review criteria.**\n",
        "\n",
        "1. **Company Policies:**\n",
        "   - Working hours: 9 AM to 6 PM.\n",
        "   - Annual leave: 20 days.\n",
        "   - Sick leave: 12 days per year.\n",
        "   - Remote work policy: Available twice a week for eligible employees.\n",
        "\n",
        "2. **Recruitment Process:**\n",
        "   - Application screening: Within 5 business days.\n",
        "   - Interview rounds: Two technical interviews followed by one HR interview.\n",
        "   - Offer letter issuance: Within 3 business days after the final interview.\n",
        "\n",
        "3. **Performance Review Criteria:**\n",
        "   - Key Performance Indicators (KPIs): Timeliness, collaboration, and quality of work.\n",
        "   - Review frequency: Bi-annual.\n",
        "   - Promotion policy: Based on performance scores and manager recommendations.\n",
        "\"\"\"\n",
        "\n",
        "sales_system_prompt = \"\"\"\n",
        "**You are a world-class AI Sales Agent skilled in personalized communication, lead generation, and closing deals. Your primary focus is assisting with the following tasks:**\n",
        "\n",
        "1. **Product Offerings:**\n",
        "   - Product A: AI-powered analytics software for small businesses.\n",
        "   - Product B: Cloud-based CRM with automation features.\n",
        "   - Product C: On-premise data security solutions for enterprises.\n",
        "\n",
        "2. **Sales Pitch Highlights:**\n",
        "   - Unique Selling Proposition (USP): \"Our AI-driven solutions reduce operational costs by 30% and improve efficiency by 50%.\"\n",
        "   - Current discount: 20% off annual subscriptions for Product A.\n",
        "   - Free trial period: 30 days with full support.\n",
        "\n",
        "3. **Meeting Scheduling:**\n",
        "   - Available slots: Monday to Friday, 10 AM to 4 PM.\n",
        "   - Duration: 30 minutes for product demos or consultations.\n",
        "\n",
        "4. **Follow-up Process:**\n",
        "   - First follow-up: 24 hours after the initial contact.\n",
        "   - Second follow-up: After 3 business days with a personalized email.\n",
        "\"\"\""
      ],
      "metadata": {
        "id": "6zuvIv_WUXI3"
      },
      "execution_count": 19,
      "outputs": []
    },
    {
      "cell_type": "code",
      "source": [
        "from pydantic_ai.models.gemini import GeminiModel\n",
        "from pydantic_ai import Agent, RunContext\n",
        "from dataclasses import dataclass\n",
        "\n",
        "@dataclass\n",
        "class MyDep:\n",
        "    name: str\n",
        "    hr_agent: Agent[None, str]\n",
        "    sales_agent: Agent[None, str]\n",
        "\n",
        "model = GeminiModel(\"gemini-2.0-flash-exp\")\n",
        "\n",
        "hr_agents = Agent(\n",
        "    model=model,\n",
        "    system_prompt=hr_system_prompt,\n",
        "    retries=2,\n",
        ")\n",
        "\n",
        "sales_agents = Agent(\n",
        "    model=model,\n",
        "    system_prompt=sales_system_prompt,\n",
        "    retries=2,\n",
        ")\n",
        "ceo_agent = Agent(\n",
        "    model=model,\n",
        "    deps_type=MyDep,\n",
        "    system_prompt=\"You are a helpful assistant who always addresses the users by their name\",\n",
        "    retries=2,\n",
        ")\n",
        "\n",
        "@ceo_agent.system_prompt\n",
        "def add_user_name(ctx: RunContext[MyDep]):\n",
        "    return f\"Right now you are talking with {ctx.deps.name}.\"\n",
        "\n",
        "@ceo_agent.tool\n",
        "async def ask_hr_manager(ctx: RunContext[MyDep], thoughts: str, question: str):\n",
        "    \"\"\"Use this tool to communicate with the HR manager\n",
        "\n",
        "    Args:\n",
        "        thoughts: Your thoughts about your action\n",
        "        question: The detailed question which you want to ask the HR Manager\n",
        "    \"\"\"\n",
        "    print(\"Thoughts: \", thoughts)\n",
        "    result = await ctx.deps.hr_agent.run(user_prompt= question)\n",
        "    return result.data\n",
        "\n",
        "@ceo_agent.tool\n",
        "async def ask_sales_manager(ctx: RunContext[MyDep], thoughts: str, question: str):\n",
        "    \"\"\"Use this tool to communicate with the Sales manager\n",
        "\n",
        "    Args:\n",
        "        thoughts: Your thoughts about your action\n",
        "        question: The detailed question which you want to ask the Sales Manager\n",
        "    \"\"\"\n",
        "    print(\"Thoughts: \", thoughts)\n",
        "    result = await ctx.deps.sales_agent.run(user_prompt=question)\n",
        "    return result.data\n"
      ],
      "metadata": {
        "id": "edGXUbLOVCw1"
      },
      "execution_count": 20,
      "outputs": []
    },
    {
      "cell_type": "code",
      "source": [
        "message_history = []\n",
        "\n",
        "deps = MyDep(name=\"Rizwan\", hr_agent=hr_agents, sales_agent=sales_agents)\n",
        "\n",
        "user_input = input(\"User: \")\n",
        "\n",
        "while user_input != \"bye\":\n",
        "\n",
        "    result = await ceo_agent.run(user_input, message_history=message_history, deps=deps)\n",
        "\n",
        "    message_history = result.all_messages()\n",
        "\n",
        "    print(\"Assistant: \", result.data)\n",
        "\n",
        "    user_input = input(\"User: \")\n"
      ],
      "metadata": {
        "colab": {
          "base_uri": "https://localhost:8080/"
        },
        "id": "OWjkbvVmWxSQ",
        "outputId": "29dfc5e5-bae9-46cd-ed69-4a5b7f16a9ae"
      },
      "execution_count": 23,
      "outputs": [
        {
          "name": "stdout",
          "output_type": "stream",
          "text": [
            "User: hi\n",
            "Assistant:  Hi Rizwan, how can I help you today?\n",
            "\n",
            "User: what are the products?\n",
            "Assistant:  I do not have access to the product catalog. Please ask the sales manager about the products.\n",
            "\n",
            "User: what are the available slots?\n",
            "Assistant:  I do not have access to the available slots. Please ask the sales manager about the available slots.\n",
            "\n",
            "User: I need to clarify the sick leave policy for Rizwan\n",
            "Thoughts:  The user wants to know about the sick leave policy.\n",
            "Assistant:  Okay Rizwan, I've asked the HR manager about the sick leave policy for you. You are eligible for 12 days of sick leave per year. Is there anything else I can help you with?\n",
            "\n",
            "User: what are the products are there?\n",
            "Thoughts:  The user wants to know what products are available.\n",
            "Assistant:  Okay Rizwan, I've asked the sales manager about the available products. Here is a list:\n",
            "\n",
            "*   **Product A:** AI-powered analytics software for small businesses. This product helps you gain valuable insights from your data, leading to better decision-making and increased efficiency.\n",
            "*   **Product B:** Cloud-based CRM with automation features. This CRM streamlines your customer relationship management processes with powerful automation tools, helping you improve sales and customer satisfaction.\n",
            "*   **Product C:** On-premise data security solutions for enterprises. This product offers robust, in-house security solutions to protect your sensitive data, giving you complete control over your data infrastructure.\n",
            "\n",
            "Is there a particular product you might be interested in learning more about?\n",
            "\n",
            "User: bye\n"
          ]
        }
      ]
    },
    {
      "cell_type": "code",
      "source": [
        "message_history"
      ],
      "metadata": {
        "colab": {
          "base_uri": "https://localhost:8080/"
        },
        "id": "fERfq1w9YPCf",
        "outputId": "2d0a667f-a006-466a-fc44-df0b2aff1ca7"
      },
      "execution_count": 25,
      "outputs": [
        {
          "output_type": "execute_result",
          "data": {
            "text/plain": [
              "[ModelRequest(parts=[SystemPromptPart(content='You are a helpful assistant who always addresses the users by their name', dynamic_ref=None, part_kind='system-prompt'), SystemPromptPart(content='Right now you are talking with Rizwan.', dynamic_ref=None, part_kind='system-prompt'), UserPromptPart(content='hi', timestamp=datetime.datetime(2025, 1, 20, 15, 38, 10, 851844, tzinfo=datetime.timezone.utc), part_kind='user-prompt')], kind='request'),\n",
              " ModelResponse(parts=[TextPart(content='Hi Rizwan, how can I help you today?\\n', part_kind='text')], timestamp=datetime.datetime(2025, 1, 20, 15, 38, 11, 407547, tzinfo=datetime.timezone.utc), kind='response'),\n",
              " ModelRequest(parts=[UserPromptPart(content='what are the products?', timestamp=datetime.datetime(2025, 1, 20, 15, 38, 22, 858878, tzinfo=datetime.timezone.utc), part_kind='user-prompt')], kind='request'),\n",
              " ModelResponse(parts=[TextPart(content='I do not have access to the product catalog. Please ask the sales manager about the products.\\n', part_kind='text')], timestamp=datetime.datetime(2025, 1, 20, 15, 38, 23, 509214, tzinfo=datetime.timezone.utc), kind='response'),\n",
              " ModelRequest(parts=[UserPromptPart(content='what are the available slots?', timestamp=datetime.datetime(2025, 1, 20, 15, 38, 55, 433863, tzinfo=datetime.timezone.utc), part_kind='user-prompt')], kind='request'),\n",
              " ModelResponse(parts=[TextPart(content='I do not have access to the available slots. Please ask the sales manager about the available slots.\\n', part_kind='text')], timestamp=datetime.datetime(2025, 1, 20, 15, 38, 55, 967459, tzinfo=datetime.timezone.utc), kind='response'),\n",
              " ModelRequest(parts=[UserPromptPart(content='I need to clarify the sick leave policy for Rizwan', timestamp=datetime.datetime(2025, 1, 20, 15, 40, 15, 541590, tzinfo=datetime.timezone.utc), part_kind='user-prompt')], kind='request'),\n",
              " ModelResponse(parts=[ToolCallPart(tool_name='ask_hr_manager', args=ArgsDict(args_dict={'thoughts': 'The user wants to know about the sick leave policy.', 'question': 'Could you please clarify the sick leave policy for Rizwan?'}), tool_call_id=None, part_kind='tool-call')], timestamp=datetime.datetime(2025, 1, 20, 15, 40, 16, 422946, tzinfo=datetime.timezone.utc), kind='response'),\n",
              " ModelRequest(parts=[ToolReturnPart(tool_name='ask_hr_manager', content='Okay, I can help with that. \\n\\nBased on the company policies, Rizwan is eligible for **12 days of sick leave per year**. This policy applies to all employees. \\n\\nIs there anything else I can clarify about sick leave or any other policies for Rizwan or other employees?\\n', tool_call_id=None, timestamp=datetime.datetime(2025, 1, 20, 15, 40, 18, 583943, tzinfo=datetime.timezone.utc), part_kind='tool-return')], kind='request'),\n",
              " ModelResponse(parts=[TextPart(content=\"Okay Rizwan, I've asked the HR manager about the sick leave policy for you. You are eligible for 12 days of sick leave per year. Is there anything else I can help you with?\\n\", part_kind='text')], timestamp=datetime.datetime(2025, 1, 20, 15, 40, 19, 312320, tzinfo=datetime.timezone.utc), kind='response'),\n",
              " ModelRequest(parts=[UserPromptPart(content='what are the products are there?', timestamp=datetime.datetime(2025, 1, 20, 15, 41, 46, 501416, tzinfo=datetime.timezone.utc), part_kind='user-prompt')], kind='request'),\n",
              " ModelResponse(parts=[ToolCallPart(tool_name='ask_sales_manager', args=ArgsDict(args_dict={'thoughts': 'The user wants to know what products are available.', 'question': 'Could you please provide a list of all the products that are available?'}), tool_call_id=None, part_kind='tool-call'), TextPart(content='\\n', part_kind='text')], timestamp=datetime.datetime(2025, 1, 20, 15, 41, 49, 470699, tzinfo=datetime.timezone.utc), kind='response'),\n",
              " ModelRequest(parts=[ToolReturnPart(tool_name='ask_sales_manager', content=\"Okay, I can certainly do that for you! Here's a list of our available products:\\n\\n*   **Product A: AI-powered analytics software for small businesses.** This product helps you gain valuable insights from your data, leading to better decision-making and increased efficiency.\\n\\n*   **Product B: Cloud-based CRM with automation features.** This CRM streamlines your customer relationship management processes with powerful automation tools, helping you improve sales and customer satisfaction.\\n\\n*   **Product C: On-premise data security solutions for enterprises.** This product offers robust, in-house security solutions to protect your sensitive data, giving you complete control over your data infrastructure.\\n\\nIs there a particular product you might be interested in learning more about? I'm happy to provide more details or answer any questions you may have.\\n\", tool_call_id=None, timestamp=datetime.datetime(2025, 1, 20, 15, 41, 50, 897722, tzinfo=datetime.timezone.utc), part_kind='tool-return')], kind='request'),\n",
              " ModelResponse(parts=[TextPart(content=\"Okay Rizwan, I've asked the sales manager about the available products. Here is a list:\\n\\n*   **Product A:** AI-powered analytics software for small businesses. This product helps you gain valuable insights from your data, leading to better decision-making and increased efficiency.\\n*   **Product B:** Cloud-based CRM with automation features. This CRM streamlines your customer relationship management processes with powerful automation tools, helping you improve sales and customer satisfaction.\\n*   **Product C:** On-premise data security solutions for enterprises. This product offers robust, in-house security solutions to protect your sensitive data, giving you complete control over your data infrastructure.\\n\\nIs there a particular product you might be interested in learning more about?\\n\", part_kind='text')], timestamp=datetime.datetime(2025, 1, 20, 15, 41, 55, 48218, tzinfo=datetime.timezone.utc), kind='response')]"
            ]
          },
          "metadata": {},
          "execution_count": 25
        }
      ]
    }
  ]
}