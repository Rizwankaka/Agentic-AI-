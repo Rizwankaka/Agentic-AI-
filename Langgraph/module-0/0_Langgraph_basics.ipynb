{
  "nbformat": 4,
  "nbformat_minor": 0,
  "metadata": {
    "colab": {
      "provenance": [],
      "gpuType": "T4",
      "authorship_tag": "ABX9TyPcjtL2UMawYGdo3GMk0ISS",
      "include_colab_link": true
    },
    "kernelspec": {
      "name": "python3",
      "display_name": "Python 3"
    },
    "language_info": {
      "name": "python"
    },
    "accelerator": "GPU"
  },
  "cells": [
    {
      "cell_type": "markdown",
      "metadata": {
        "id": "view-in-github",
        "colab_type": "text"
      },
      "source": [
        "<a href=\"https://colab.research.google.com/github/Rizwankaka/Agentic-AI-/blob/main/Langgraph/module-0/0_Langgraph_basics.ipynb\" target=\"_parent\"><img src=\"https://colab.research.google.com/assets/colab-badge.svg\" alt=\"Open In Colab\"/></a>"
      ]
    },
    {
      "cell_type": "markdown",
      "source": [
        "# LangChain Academy"
      ],
      "metadata": {
        "id": "lK0myEP4Ywem"
      }
    },
    {
      "cell_type": "markdown",
      "source": [
        "## Context\n",
        "\n",
        "At LangChain, we aim to make it easy to build LLM applications. One type of LLM application you can build is an agent. There’s a lot of excitement around building agents because they can automate a wide range of tasks that were previously impossible.\n",
        "\n",
        "In practice though, it is incredibly difficult to build systems that reliably execute on these tasks. As we’ve worked with our users to put agents into production, we’ve learned that more control is often necessary. You might need an agent to always call a specific tool first or use different prompts based on its state.\n",
        "\n",
        "To tackle this problem, we’ve built LangGraph — a framework for building agent and multi-agent applications. Separate from the LangChain package, LangGraph’s core design philosophy is to help developers add better precision and control into agent workflows, suitable for the complexity of real-world systems."
      ],
      "metadata": {
        "id": "KVn3RkqNY6re"
      }
    },
    {
      "cell_type": "markdown",
      "source": [
        "## Setup\n",
        "\n",
        "Before you begin, please follow the instructions in the `README` to create an environment and install dependencies."
      ],
      "metadata": {
        "id": "cTc56DfzYd-c"
      }
    },
    {
      "cell_type": "markdown",
      "source": [
        "## Chat Models\n",
        "\n",
        "In this course, we'll be using [Chat Models](https://python.langchain.com/v0.2/docs/concepts/#chat-models), which do a few things take a sequence of messages as inputs and return chat messages as outputs. LangChain does not host any Chat Models, rather we rely on third party integrations. Here is a list of 3rd party chat model integrations within LangChain! By default, the course with use [GEMINI_API_KEY](https://ai.google.dev/gemini-api/docs/api-key) because it is both popular and performant. As noted, please ensure that you have an `GEMINI_API_KEY`.\n",
        "\n",
        "Let's check that your `GEMINI_API_KEY` is set and, if not, you will be asked to enter it."
      ],
      "metadata": {
        "id": "vkjiB86AU9LV"
      }
    },
    {
      "cell_type": "code",
      "execution_count": 1,
      "metadata": {
        "id": "cAV0UJYmUruu"
      },
      "outputs": [],
      "source": [
        "%%capture --no-stderr\n",
        "!pip install -q langchain_google_genai langchain_core langchain_community tavily-python"
      ]
    },
    {
      "cell_type": "code",
      "source": [
        "from langchain_google_genai import ChatGoogleGenerativeAI\n",
        "\n",
        "from google.colab import userdata\n",
        "GEMINI_API_KEY = userdata.get('GEMINI_API_KEY')\n",
        "llm = ChatGoogleGenerativeAI(\n",
        "    model=\"gemini-1.5-flash\",\n",
        "    api_key=GEMINI_API_KEY,\n",
        "    temperature=0\n",
        ")"
      ],
      "metadata": {
        "id": "8r2V1pfAWHbm"
      },
      "execution_count": 2,
      "outputs": []
    },
    {
      "cell_type": "code",
      "source": [
        "result  = llm.invoke(\"Who won 2024 US presidential ellection?\")\n",
        "result"
      ],
      "metadata": {
        "colab": {
          "base_uri": "https://localhost:8080/"
        },
        "id": "sG2TwSI8WLUU",
        "outputId": "2254ceaf-db82-47b9-f91c-6e062efc85a7"
      },
      "execution_count": 3,
      "outputs": [
        {
          "output_type": "execute_result",
          "data": {
            "text/plain": [
              "AIMessage(content='The 2024 US presidential election has not yet happened.  The election will be held in November 2024.', additional_kwargs={}, response_metadata={'prompt_feedback': {'block_reason': 0, 'safety_ratings': []}, 'finish_reason': 'STOP', 'safety_ratings': []}, id='run-67733bee-7ca4-4f79-9cf2-7b3d7de20d9a-0', usage_metadata={'input_tokens': 13, 'output_tokens': 29, 'total_tokens': 42, 'input_token_details': {'cache_read': 0}})"
            ]
          },
          "metadata": {},
          "execution_count": 3
        }
      ]
    },
    {
      "cell_type": "markdown",
      "source": [
        "Chat models in LangChain have a number of [default methods](https://python.langchain.com/v0.2/docs/concepts/#runnable-interface). For the most part, we'll be using:\n",
        "\n",
        "- `stream`: stream back chunks of the response\n",
        "- `invoke`: call the chain on an input\n",
        "\n",
        "And, as mentioned, chat models take [messages](https://python.langchain.com/v0.2/docs/concepts/#messages) as input. Messages have a role (that describes who is saying the message) and a content property. We'll be talking a lot more about this later, but here let's just show the basics.\n"
      ],
      "metadata": {
        "id": "tajHrpGYWYzF"
      }
    },
    {
      "cell_type": "code",
      "source": [
        "from langchain_core.messages import HumanMessage, AIMessage\n",
        "\n",
        "# Create a message\n",
        "# Message list\n",
        "messages = [\n",
        "    HumanMessage(content=\"Hi\", name=\"Human Student\"),\n",
        "    AIMessage(content='Hi! How can I help you today? \\n', name=\"AI Assistant\"),\n",
        "    HumanMessage(content=\"What is LangChain?\", name=\"Human Student\"),\n",
        "    AIMessage(content='LangChain is a framework for developing applications powered by language models.', name=\"AI Assistant\"),\n",
        "    HumanMessage(content=\"How can I learn\", name=\"Human Student\"),\n",
        "    ]\n",
        "\n",
        "# Invoke the model with a list of messages\n",
        "llm.invoke(messages)"
      ],
      "metadata": {
        "colab": {
          "base_uri": "https://localhost:8080/"
        },
        "id": "6aKcCYC_XH1m",
        "outputId": "1fbc2aa4-979f-41bb-e116-334499b3e14b"
      },
      "execution_count": 4,
      "outputs": [
        {
          "output_type": "execute_result",
          "data": {
            "text/plain": [
              "AIMessage(content='There are several ways to learn LangChain, depending on your learning style and prior experience:\\n\\n**1. Official Documentation:** The best place to start is the official LangChain documentation.  It\\'s well-structured and provides comprehensive tutorials and examples.  Look for their \"Getting Started\" guides and work your way through the examples.\\n\\n**2. Tutorials and Blog Posts:** Many tutorials and blog posts are available online that cover various aspects of LangChain. Search for \"LangChain tutorial\" or \"LangChain example\" on Google, YouTube, or Medium.  Look for tutorials that focus on specific use cases that interest you, such as building a chatbot or a question-answering system.\\n\\n**3. GitHub Repository:** Explore the LangChain GitHub repository.  You can find the source code, contribute to the project, and see how different components are implemented.  Reading the code can be a great way to deepen your understanding.\\n\\n**4. Example Projects:**  The LangChain documentation and GitHub repository contain many example projects.  Start by running and modifying these examples to understand how different parts of the framework work together.  Try to break them, see what happens, and learn from the errors.\\n\\n**5. Community and Forums:** Engage with the LangChain community.  Ask questions on forums like Stack Overflow or join the LangChain Discord server (if one exists).  Learning from others\\' experiences and getting help when you\\'re stuck is invaluable.\\n\\n**6. Courses (Future Possibility):** While there aren\\'t many dedicated LangChain courses yet, as the framework is relatively new, you might find relevant courses on broader topics like large language models (LLMs) or building AI applications.  These courses might include sections on LangChain or provide a foundation that makes learning LangChain easier.\\n\\n\\n**To effectively learn LangChain, consider these steps:**\\n\\n* **Start with the basics:**  Understand the core concepts of LangChain, such as chains, indexes, agents, and memory.\\n* **Focus on a specific use case:**  Don\\'t try to learn everything at once.  Choose a project that interests you and focus on learning the relevant parts of LangChain.\\n* **Practice regularly:**  The best way to learn is by doing.  Build small projects and gradually increase their complexity.\\n* **Don\\'t be afraid to experiment:**  Try different approaches and see what works best.\\n* **Seek help when needed:**  Don\\'t hesitate to ask for help from the community.\\n\\n\\nBy combining these resources and approaches, you\\'ll be well on your way to mastering LangChain. Remember to be patient and persistent – learning a new framework takes time and effort.', additional_kwargs={}, response_metadata={'prompt_feedback': {'block_reason': 0, 'safety_ratings': []}, 'finish_reason': 'STOP', 'safety_ratings': []}, id='run-dd737ece-6b24-4712-b1ab-41e850dcab85-0', usage_metadata={'input_tokens': 39, 'output_tokens': 552, 'total_tokens': 591, 'input_token_details': {'cache_read': 0}})"
            ]
          },
          "metadata": {},
          "execution_count": 4
        }
      ]
    },
    {
      "cell_type": "markdown",
      "source": [
        "We get an `AIMessage` response. Also, note that we can just invoke a chat model with a string. When a string is passed in as input, it is converted to a `HumanMessage` and then passed to the underlying model.\n",
        "\n",
        "The interface is consistent across all chat models and models are typically initialized once at the start up each notebooks.\n",
        "\n",
        "So, you can easily switch between models without changing the downstream code if you have strong preference for another provider."
      ],
      "metadata": {
        "id": "chLUU0Z6Xbjv"
      }
    },
    {
      "cell_type": "markdown",
      "source": [
        "## Search Tools\n",
        "\n",
        "You'll also see Tavily in the README, which is a search engine optimized for LLMs and RAG, aimed at efficient, quick, and persistent search results. As mentioned, it's easy to sign up and offers a generous free tier. Some lessons (in Module 4) will use Tavily by default but, of course, other search tools can be used if you want to modify the code for yourself."
      ],
      "metadata": {
        "id": "UG24_R2_Xksm"
      }
    },
    {
      "cell_type": "code",
      "source": [
        "import os\n",
        "from google.colab import userdata\n",
        "TAVILY_API_KEY = userdata.get('TAVILY_API_KEY')\n",
        "os.environ[\"TAVILY_API_KEY\"] = userdata.get('TAVILY_API_KEY')\n",
        "\n",
        "from langchain_community.tools.tavily_search import TavilySearchResults\n",
        "tavily_search = TavilySearchResults(max_results=3)\n",
        "search_docs = tavily_search.invoke(\"Who won 2024 US presidential ellection?\")"
      ],
      "metadata": {
        "id": "J82sTSGNXjls"
      },
      "execution_count": 5,
      "outputs": []
    },
    {
      "cell_type": "code",
      "source": [
        "search_docs"
      ],
      "metadata": {
        "colab": {
          "base_uri": "https://localhost:8080/"
        },
        "id": "RHcPPVg1YVzE",
        "outputId": "3f07d2b1-483b-4dde-aadb-5740fcc5daa3"
      },
      "execution_count": 6,
      "outputs": [
        {
          "output_type": "execute_result",
          "data": {
            "text/plain": [
              "[{'url': 'https://www.latimes.com/politics/story/2024-11-06/trump-defeats-harris-47th-president-election-2024',\n",
              "  'content': 'Trump wins 2024 U.S. presidential election - Los Angeles Times Trump elected 47th president of the United States, defeating Harris to retake White House Nancy Northup, President and CEO of the Center for Reproductive Rights, called Trump’s win “a deadly threat to the democratic values of liberty and equality, the rule of law, and reproductive health, rights, and justice in the United States and around the globe.” “The Democrats thought there were enough people who hated Trump or were willing to fear him to win the race,” Jennings said. 2024 election results: Trump wins second term in historic comeback'},\n",
              " {'url': 'https://www.politico.com/news/2024/11/06/donald-trump-wins-presidency-00187478',\n",
              "  'content': '2024 Elections. Donald Trump returns to the White House He prevailed through a 34-count felony conviction, 2 assassination attempts and bipartisan backlash to return to power.'},\n",
              " {'url': 'https://www.cnn.com/election/2024/results/president',\n",
              "  'content': \"Presidential election results 2024 | CNN Politics CNN10 About CNN Watch CNN CNN Harris is hoping to become the first woman elected president, while Trump is vying to become only the second former president to win a nonconsecutive second term after Grover Cleveland in 1892. Maine 4 Electoral Votes Harris 0Trump 0 Nebraska 5 Electoral Votes Harris 0Trump 0 What's so important to note here is that Harris' best path to 270 electoral votes in pre-election polls ran through Michigan, Pennsylvania and Wisconsin. Dems may need to hold their seats in Ohio and Montana -- two states Trump won twice before -- along with MI, WI, PA, AZ, NV and MD to keep the Senate at 50-50 and hope Harris wins to give them control of the chamber. CNN10 About CNN\"}]"
            ]
          },
          "metadata": {},
          "execution_count": 6
        }
      ]
    }
  ]
}