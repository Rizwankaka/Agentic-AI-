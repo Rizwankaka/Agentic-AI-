{
  "nbformat": 4,
  "nbformat_minor": 0,
  "metadata": {
    "colab": {
      "provenance": [],
      "authorship_tag": "ABX9TyMJIeP63WsXLUI4wmvHn8jT",
      "include_colab_link": true
    },
    "kernelspec": {
      "name": "python3",
      "display_name": "Python 3"
    },
    "language_info": {
      "name": "python"
    }
  },
  "cells": [
    {
      "cell_type": "markdown",
      "metadata": {
        "id": "view-in-github",
        "colab_type": "text"
      },
      "source": [
        "<a href=\"https://colab.research.google.com/github/Rizwankaka/Agentic-AI-/blob/main/Langgraph/module-2/2_6_1_chatbot_external_memory_with_our_db_file.ipynb\" target=\"_parent\"><img src=\"https://colab.research.google.com/assets/colab-badge.svg\" alt=\"Open In Colab\"/></a>"
      ]
    },
    {
      "cell_type": "markdown",
      "source": [
        "# Chatbot with message summarization & external DB memory\n",
        "\n",
        "## Review\n",
        "We've covered how to customize graph state schema and reducer.\n",
        "\n",
        "We've also shown a number of tricks for trimming or filtering messages in graph state.\n",
        "\n",
        "We've used these concepts in a Chatbot with memory that produces a running summary of the conversation."
      ],
      "metadata": {
        "id": "hmTzWQ4OXUCQ"
      }
    },
    {
      "cell_type": "markdown",
      "source": [
        "## Goals\n",
        "But, what if we want our Chatbot to have memory that persists indefinitely?\n",
        "\n",
        "Now, we'll introduce some more advanced checkpointers that support external databases.\n",
        "\n",
        "Here, we'll show how to use [Sqlite as a checkpointer](https://langchain-ai.github.io/langgraph/concepts/low_level/#checkpointer), but other checkpointers, such as[ Postgres](https://langchain-ai.github.io/langgraph/how-tos/persistence_postgres/) are available!\n",
        "\n",
        "**Use Cases for Database File Management:**\n",
        "1. Fetching a Database File from a GitHub URL\n",
        "2. Uploading a Database File from Your Local System\n",
        "3. Accessing a Database File from Google Drive"
      ],
      "metadata": {
        "id": "It7c8DHAXeCG"
      }
    },
    {
      "cell_type": "code",
      "execution_count": 46,
      "metadata": {
        "id": "LpTMKDuQXSgv"
      },
      "outputs": [],
      "source": [
        "%%capture --no-stderr\n",
        "%pip install --quiet -U langgraph-checkpoint-sqlite langchain_core langgraph langchain_google_genai"
      ]
    },
    {
      "cell_type": "code",
      "source": [
        "from google.colab import userdata\n",
        "GEMINI_API_KEY = userdata.get('GEMINI_API_KEY')"
      ],
      "metadata": {
        "id": "K_cFQXAKYDB4"
      },
      "execution_count": 47,
      "outputs": []
    },
    {
      "cell_type": "code",
      "source": [
        "import os\n",
        "os.environ[\"LANGCHAIN_API_KEY\"] = userdata.get('LANGCHAIN_API_KEY')\n",
        "os.environ[\"LANGCHAIN_TRACING_V2\"] = \"true\"\n",
        "os.environ[\"LANGCHAIN_PROJECT\"] = \"langchain-academy\""
      ],
      "metadata": {
        "id": "r8yc8AF5YG4H"
      },
      "execution_count": 48,
      "outputs": []
    },
    {
      "cell_type": "markdown",
      "source": [
        "## Sqlite\n",
        "A good starting point here is the [SqliteSaver checkpointer](https://langchain-ai.github.io/langgraph/concepts/low_level/#checkpointer).\n",
        "\n",
        "Sqlite is a [small, fast, highly popular SQL database](https://x.com/karpathy/status/1819490455664685297).\n",
        "\n",
        "If we supply `\":memory:\"` it creates an in-memory Sqlite database.\n"
      ],
      "metadata": {
        "id": "HHF-U89UYeDC"
      }
    },
    {
      "cell_type": "code",
      "source": [
        "import sqlite3\n",
        "# In memory - temporary database is created, not on-disk database\n",
        "conn = sqlite3.connect(\":memory:\", check_same_thread = False) #check_same_thread = False | allowing multiple threads to share and use the same SQLite database connection. By default it is True"
      ],
      "metadata": {
        "id": "cmrvL1DqYcPN"
      },
      "execution_count": 49,
      "outputs": []
    },
    {
      "cell_type": "markdown",
      "source": [
        "## When you want to pass your DB file:\n",
        "You need example.db as well as example.db-wal file to retrieve your previous data.\n",
        "\n",
        "Sqlite uses these 3 files:\n",
        "\n",
        "1. example.db\n",
        "2. example.db-wal\n",
        "3. example.db-shm\n",
        "\n",
        "**How SQLite Uses These Files**\n",
        "1. example.db: This is the main database file where committed data is stored.\n",
        "\n",
        "2. example.db-wal: If SQLite is in WAL mode, this file temporarily holds changes that have not been checkpointed (written to example.db). SQLite automatically reads from this file when you connect to the database.\n",
        "\n",
        "3. example.db-shm: This file is used for shared memory when multiple connections are accessing the same database. It is a temporary file and does not affect persistence.\n",
        "\n",
        "**Why you need to save example.db-wal file along with example.db file?**\n",
        "1. **Uncommitted Changes Are Stored in example.db-wal:**\n",
        "- In WAL mode, SQLite writes all changes to the example.db-wal file instead of directly modifying the main example.db file.\n",
        "- These changes are only merged (checkpointed) into example.db when a checkpoint operation occurs.\n",
        "If you only copy or use the example.db file without the example.db-wal,** any uncommitted changes in the WAL file will be lost.**\n",
        "\n",
        "2. **Ensures Data Consistency:**\n",
        "\n",
        "If you transfer the database (example.db) to another system without the example.db-wal, the database may appear incomplete or inconsistent if there are pending writes stored in the WAL file.\n",
        "3. **Concurrent Access:**\n",
        "\n",
        "The WAL file allows multiple processes to read from the database while another process writes to it, without blocking each other. If this feature is in use, the example.db-wal file is essential for proper functionality."
      ],
      "metadata": {
        "id": "Dbekvhk1jc2X"
      }
    },
    {
      "cell_type": "markdown",
      "source": [
        "## Default Behavior:\n",
        "When you run the code for the first time, it will automatically fetch a new example.db file for you. But, if we supply a db path, then it will create a database for us"
      ],
      "metadata": {
        "id": "-G0bNDWGY_dv"
      }
    },
    {
      "cell_type": "code",
      "source": [
        "import sqlite3\n",
        "# pull file if it doesn't exist and connect to local db\n",
        "\n",
        "!mkdir -p state_db && [ ! -f state_db/example.db ] && wget -P state_db https://github.com/langchain-ai/langchain-academy/raw/main/module-2/state_db/example.db\n",
        "\n",
        "db_path = \"state_db/example.db\"\n",
        "conn = sqlite3.connect(db_path, check_same_thread=False)"
      ],
      "metadata": {
        "id": "5yclIVwnZBe1"
      },
      "execution_count": 50,
      "outputs": []
    },
    {
      "cell_type": "markdown",
      "source": [
        "## Mount with Google Drive"
      ],
      "metadata": {
        "id": "bFoDBRwEZLWN"
      }
    },
    {
      "cell_type": "code",
      "source": [
        "from google.colab import drive\n",
        "drive.mount('/content/drive')"
      ],
      "metadata": {
        "colab": {
          "base_uri": "https://localhost:8080/"
        },
        "id": "XQwvhMP2ZJ6W",
        "outputId": "421802a7-8dd8-4fff-e276-1e6d8ed4d806"
      },
      "execution_count": 51,
      "outputs": [
        {
          "output_type": "stream",
          "name": "stdout",
          "text": [
            "Drive already mounted at /content/drive; to attempt to forcibly remount, call drive.mount(\"/content/drive\", force_remount=True).\n"
          ]
        }
      ]
    },
    {
      "cell_type": "markdown",
      "source": [
        "connection is established"
      ],
      "metadata": {
        "id": "_GEhYWv2ZXTN"
      }
    },
    {
      "cell_type": "code",
      "source": [
        "import sqlite3\n",
        "file_path = '/content/state_db/example.db'\n",
        "conn = sqlite3.connect(file_path)"
      ],
      "metadata": {
        "id": "7E_jgBi_ZcH1"
      },
      "execution_count": 52,
      "outputs": []
    },
    {
      "cell_type": "code",
      "source": [
        "#Follow step if you already have previous database file\n",
        "#uplaod example.db file from your system\n",
        "from google.colab import files\n",
        "uploaded = files.upload()"
      ],
      "metadata": {
        "colab": {
          "base_uri": "https://localhost:8080/",
          "height": 73
        },
        "id": "RDyn3x2FZ9rV",
        "outputId": "1d3be196-8868-4ffa-934a-af961825b927"
      },
      "execution_count": 53,
      "outputs": [
        {
          "output_type": "display_data",
          "data": {
            "text/plain": [
              "<IPython.core.display.HTML object>"
            ],
            "text/html": [
              "\n",
              "     <input type=\"file\" id=\"files-5b836e4f-ac67-468f-8358-f2e98b5af9e4\" name=\"files[]\" multiple disabled\n",
              "        style=\"border:none\" />\n",
              "     <output id=\"result-5b836e4f-ac67-468f-8358-f2e98b5af9e4\">\n",
              "      Upload widget is only available when the cell has been executed in the\n",
              "      current browser session. Please rerun this cell to enable.\n",
              "      </output>\n",
              "      <script>// Copyright 2017 Google LLC\n",
              "//\n",
              "// Licensed under the Apache License, Version 2.0 (the \"License\");\n",
              "// you may not use this file except in compliance with the License.\n",
              "// You may obtain a copy of the License at\n",
              "//\n",
              "//      http://www.apache.org/licenses/LICENSE-2.0\n",
              "//\n",
              "// Unless required by applicable law or agreed to in writing, software\n",
              "// distributed under the License is distributed on an \"AS IS\" BASIS,\n",
              "// WITHOUT WARRANTIES OR CONDITIONS OF ANY KIND, either express or implied.\n",
              "// See the License for the specific language governing permissions and\n",
              "// limitations under the License.\n",
              "\n",
              "/**\n",
              " * @fileoverview Helpers for google.colab Python module.\n",
              " */\n",
              "(function(scope) {\n",
              "function span(text, styleAttributes = {}) {\n",
              "  const element = document.createElement('span');\n",
              "  element.textContent = text;\n",
              "  for (const key of Object.keys(styleAttributes)) {\n",
              "    element.style[key] = styleAttributes[key];\n",
              "  }\n",
              "  return element;\n",
              "}\n",
              "\n",
              "// Max number of bytes which will be uploaded at a time.\n",
              "const MAX_PAYLOAD_SIZE = 100 * 1024;\n",
              "\n",
              "function _uploadFiles(inputId, outputId) {\n",
              "  const steps = uploadFilesStep(inputId, outputId);\n",
              "  const outputElement = document.getElementById(outputId);\n",
              "  // Cache steps on the outputElement to make it available for the next call\n",
              "  // to uploadFilesContinue from Python.\n",
              "  outputElement.steps = steps;\n",
              "\n",
              "  return _uploadFilesContinue(outputId);\n",
              "}\n",
              "\n",
              "// This is roughly an async generator (not supported in the browser yet),\n",
              "// where there are multiple asynchronous steps and the Python side is going\n",
              "// to poll for completion of each step.\n",
              "// This uses a Promise to block the python side on completion of each step,\n",
              "// then passes the result of the previous step as the input to the next step.\n",
              "function _uploadFilesContinue(outputId) {\n",
              "  const outputElement = document.getElementById(outputId);\n",
              "  const steps = outputElement.steps;\n",
              "\n",
              "  const next = steps.next(outputElement.lastPromiseValue);\n",
              "  return Promise.resolve(next.value.promise).then((value) => {\n",
              "    // Cache the last promise value to make it available to the next\n",
              "    // step of the generator.\n",
              "    outputElement.lastPromiseValue = value;\n",
              "    return next.value.response;\n",
              "  });\n",
              "}\n",
              "\n",
              "/**\n",
              " * Generator function which is called between each async step of the upload\n",
              " * process.\n",
              " * @param {string} inputId Element ID of the input file picker element.\n",
              " * @param {string} outputId Element ID of the output display.\n",
              " * @return {!Iterable<!Object>} Iterable of next steps.\n",
              " */\n",
              "function* uploadFilesStep(inputId, outputId) {\n",
              "  const inputElement = document.getElementById(inputId);\n",
              "  inputElement.disabled = false;\n",
              "\n",
              "  const outputElement = document.getElementById(outputId);\n",
              "  outputElement.innerHTML = '';\n",
              "\n",
              "  const pickedPromise = new Promise((resolve) => {\n",
              "    inputElement.addEventListener('change', (e) => {\n",
              "      resolve(e.target.files);\n",
              "    });\n",
              "  });\n",
              "\n",
              "  const cancel = document.createElement('button');\n",
              "  inputElement.parentElement.appendChild(cancel);\n",
              "  cancel.textContent = 'Cancel upload';\n",
              "  const cancelPromise = new Promise((resolve) => {\n",
              "    cancel.onclick = () => {\n",
              "      resolve(null);\n",
              "    };\n",
              "  });\n",
              "\n",
              "  // Wait for the user to pick the files.\n",
              "  const files = yield {\n",
              "    promise: Promise.race([pickedPromise, cancelPromise]),\n",
              "    response: {\n",
              "      action: 'starting',\n",
              "    }\n",
              "  };\n",
              "\n",
              "  cancel.remove();\n",
              "\n",
              "  // Disable the input element since further picks are not allowed.\n",
              "  inputElement.disabled = true;\n",
              "\n",
              "  if (!files) {\n",
              "    return {\n",
              "      response: {\n",
              "        action: 'complete',\n",
              "      }\n",
              "    };\n",
              "  }\n",
              "\n",
              "  for (const file of files) {\n",
              "    const li = document.createElement('li');\n",
              "    li.append(span(file.name, {fontWeight: 'bold'}));\n",
              "    li.append(span(\n",
              "        `(${file.type || 'n/a'}) - ${file.size} bytes, ` +\n",
              "        `last modified: ${\n",
              "            file.lastModifiedDate ? file.lastModifiedDate.toLocaleDateString() :\n",
              "                                    'n/a'} - `));\n",
              "    const percent = span('0% done');\n",
              "    li.appendChild(percent);\n",
              "\n",
              "    outputElement.appendChild(li);\n",
              "\n",
              "    const fileDataPromise = new Promise((resolve) => {\n",
              "      const reader = new FileReader();\n",
              "      reader.onload = (e) => {\n",
              "        resolve(e.target.result);\n",
              "      };\n",
              "      reader.readAsArrayBuffer(file);\n",
              "    });\n",
              "    // Wait for the data to be ready.\n",
              "    let fileData = yield {\n",
              "      promise: fileDataPromise,\n",
              "      response: {\n",
              "        action: 'continue',\n",
              "      }\n",
              "    };\n",
              "\n",
              "    // Use a chunked sending to avoid message size limits. See b/62115660.\n",
              "    let position = 0;\n",
              "    do {\n",
              "      const length = Math.min(fileData.byteLength - position, MAX_PAYLOAD_SIZE);\n",
              "      const chunk = new Uint8Array(fileData, position, length);\n",
              "      position += length;\n",
              "\n",
              "      const base64 = btoa(String.fromCharCode.apply(null, chunk));\n",
              "      yield {\n",
              "        response: {\n",
              "          action: 'append',\n",
              "          file: file.name,\n",
              "          data: base64,\n",
              "        },\n",
              "      };\n",
              "\n",
              "      let percentDone = fileData.byteLength === 0 ?\n",
              "          100 :\n",
              "          Math.round((position / fileData.byteLength) * 100);\n",
              "      percent.textContent = `${percentDone}% done`;\n",
              "\n",
              "    } while (position < fileData.byteLength);\n",
              "  }\n",
              "\n",
              "  // All done.\n",
              "  yield {\n",
              "    response: {\n",
              "      action: 'complete',\n",
              "    }\n",
              "  };\n",
              "}\n",
              "\n",
              "scope.google = scope.google || {};\n",
              "scope.google.colab = scope.google.colab || {};\n",
              "scope.google.colab._files = {\n",
              "  _uploadFiles,\n",
              "  _uploadFilesContinue,\n",
              "};\n",
              "})(self);\n",
              "</script> "
            ]
          },
          "metadata": {}
        },
        {
          "output_type": "stream",
          "name": "stdout",
          "text": [
            "Saving example.db to example.db\n"
          ]
        }
      ]
    },
    {
      "cell_type": "code",
      "source": [
        "#Follow step if you already have previous database file\n",
        "#upload example.db-wal file from your system\n",
        "uploaded = files.upload()"
      ],
      "metadata": {
        "colab": {
          "base_uri": "https://localhost:8080/",
          "height": 73
        },
        "id": "WxU-Si18aY-0",
        "outputId": "19e2fb09-8065-4783-8c0e-ed493d655125"
      },
      "execution_count": 54,
      "outputs": [
        {
          "output_type": "display_data",
          "data": {
            "text/plain": [
              "<IPython.core.display.HTML object>"
            ],
            "text/html": [
              "\n",
              "     <input type=\"file\" id=\"files-636310db-bdd6-49dc-926e-f012079d3fd0\" name=\"files[]\" multiple disabled\n",
              "        style=\"border:none\" />\n",
              "     <output id=\"result-636310db-bdd6-49dc-926e-f012079d3fd0\">\n",
              "      Upload widget is only available when the cell has been executed in the\n",
              "      current browser session. Please rerun this cell to enable.\n",
              "      </output>\n",
              "      <script>// Copyright 2017 Google LLC\n",
              "//\n",
              "// Licensed under the Apache License, Version 2.0 (the \"License\");\n",
              "// you may not use this file except in compliance with the License.\n",
              "// You may obtain a copy of the License at\n",
              "//\n",
              "//      http://www.apache.org/licenses/LICENSE-2.0\n",
              "//\n",
              "// Unless required by applicable law or agreed to in writing, software\n",
              "// distributed under the License is distributed on an \"AS IS\" BASIS,\n",
              "// WITHOUT WARRANTIES OR CONDITIONS OF ANY KIND, either express or implied.\n",
              "// See the License for the specific language governing permissions and\n",
              "// limitations under the License.\n",
              "\n",
              "/**\n",
              " * @fileoverview Helpers for google.colab Python module.\n",
              " */\n",
              "(function(scope) {\n",
              "function span(text, styleAttributes = {}) {\n",
              "  const element = document.createElement('span');\n",
              "  element.textContent = text;\n",
              "  for (const key of Object.keys(styleAttributes)) {\n",
              "    element.style[key] = styleAttributes[key];\n",
              "  }\n",
              "  return element;\n",
              "}\n",
              "\n",
              "// Max number of bytes which will be uploaded at a time.\n",
              "const MAX_PAYLOAD_SIZE = 100 * 1024;\n",
              "\n",
              "function _uploadFiles(inputId, outputId) {\n",
              "  const steps = uploadFilesStep(inputId, outputId);\n",
              "  const outputElement = document.getElementById(outputId);\n",
              "  // Cache steps on the outputElement to make it available for the next call\n",
              "  // to uploadFilesContinue from Python.\n",
              "  outputElement.steps = steps;\n",
              "\n",
              "  return _uploadFilesContinue(outputId);\n",
              "}\n",
              "\n",
              "// This is roughly an async generator (not supported in the browser yet),\n",
              "// where there are multiple asynchronous steps and the Python side is going\n",
              "// to poll for completion of each step.\n",
              "// This uses a Promise to block the python side on completion of each step,\n",
              "// then passes the result of the previous step as the input to the next step.\n",
              "function _uploadFilesContinue(outputId) {\n",
              "  const outputElement = document.getElementById(outputId);\n",
              "  const steps = outputElement.steps;\n",
              "\n",
              "  const next = steps.next(outputElement.lastPromiseValue);\n",
              "  return Promise.resolve(next.value.promise).then((value) => {\n",
              "    // Cache the last promise value to make it available to the next\n",
              "    // step of the generator.\n",
              "    outputElement.lastPromiseValue = value;\n",
              "    return next.value.response;\n",
              "  });\n",
              "}\n",
              "\n",
              "/**\n",
              " * Generator function which is called between each async step of the upload\n",
              " * process.\n",
              " * @param {string} inputId Element ID of the input file picker element.\n",
              " * @param {string} outputId Element ID of the output display.\n",
              " * @return {!Iterable<!Object>} Iterable of next steps.\n",
              " */\n",
              "function* uploadFilesStep(inputId, outputId) {\n",
              "  const inputElement = document.getElementById(inputId);\n",
              "  inputElement.disabled = false;\n",
              "\n",
              "  const outputElement = document.getElementById(outputId);\n",
              "  outputElement.innerHTML = '';\n",
              "\n",
              "  const pickedPromise = new Promise((resolve) => {\n",
              "    inputElement.addEventListener('change', (e) => {\n",
              "      resolve(e.target.files);\n",
              "    });\n",
              "  });\n",
              "\n",
              "  const cancel = document.createElement('button');\n",
              "  inputElement.parentElement.appendChild(cancel);\n",
              "  cancel.textContent = 'Cancel upload';\n",
              "  const cancelPromise = new Promise((resolve) => {\n",
              "    cancel.onclick = () => {\n",
              "      resolve(null);\n",
              "    };\n",
              "  });\n",
              "\n",
              "  // Wait for the user to pick the files.\n",
              "  const files = yield {\n",
              "    promise: Promise.race([pickedPromise, cancelPromise]),\n",
              "    response: {\n",
              "      action: 'starting',\n",
              "    }\n",
              "  };\n",
              "\n",
              "  cancel.remove();\n",
              "\n",
              "  // Disable the input element since further picks are not allowed.\n",
              "  inputElement.disabled = true;\n",
              "\n",
              "  if (!files) {\n",
              "    return {\n",
              "      response: {\n",
              "        action: 'complete',\n",
              "      }\n",
              "    };\n",
              "  }\n",
              "\n",
              "  for (const file of files) {\n",
              "    const li = document.createElement('li');\n",
              "    li.append(span(file.name, {fontWeight: 'bold'}));\n",
              "    li.append(span(\n",
              "        `(${file.type || 'n/a'}) - ${file.size} bytes, ` +\n",
              "        `last modified: ${\n",
              "            file.lastModifiedDate ? file.lastModifiedDate.toLocaleDateString() :\n",
              "                                    'n/a'} - `));\n",
              "    const percent = span('0% done');\n",
              "    li.appendChild(percent);\n",
              "\n",
              "    outputElement.appendChild(li);\n",
              "\n",
              "    const fileDataPromise = new Promise((resolve) => {\n",
              "      const reader = new FileReader();\n",
              "      reader.onload = (e) => {\n",
              "        resolve(e.target.result);\n",
              "      };\n",
              "      reader.readAsArrayBuffer(file);\n",
              "    });\n",
              "    // Wait for the data to be ready.\n",
              "    let fileData = yield {\n",
              "      promise: fileDataPromise,\n",
              "      response: {\n",
              "        action: 'continue',\n",
              "      }\n",
              "    };\n",
              "\n",
              "    // Use a chunked sending to avoid message size limits. See b/62115660.\n",
              "    let position = 0;\n",
              "    do {\n",
              "      const length = Math.min(fileData.byteLength - position, MAX_PAYLOAD_SIZE);\n",
              "      const chunk = new Uint8Array(fileData, position, length);\n",
              "      position += length;\n",
              "\n",
              "      const base64 = btoa(String.fromCharCode.apply(null, chunk));\n",
              "      yield {\n",
              "        response: {\n",
              "          action: 'append',\n",
              "          file: file.name,\n",
              "          data: base64,\n",
              "        },\n",
              "      };\n",
              "\n",
              "      let percentDone = fileData.byteLength === 0 ?\n",
              "          100 :\n",
              "          Math.round((position / fileData.byteLength) * 100);\n",
              "      percent.textContent = `${percentDone}% done`;\n",
              "\n",
              "    } while (position < fileData.byteLength);\n",
              "  }\n",
              "\n",
              "  // All done.\n",
              "  yield {\n",
              "    response: {\n",
              "      action: 'complete',\n",
              "    }\n",
              "  };\n",
              "}\n",
              "\n",
              "scope.google = scope.google || {};\n",
              "scope.google.colab = scope.google.colab || {};\n",
              "scope.google.colab._files = {\n",
              "  _uploadFiles,\n",
              "  _uploadFilesContinue,\n",
              "};\n",
              "})(self);\n",
              "</script> "
            ]
          },
          "metadata": {}
        },
        {
          "output_type": "stream",
          "name": "stdout",
          "text": [
            "Saving example.db-wal to example.db-wal\n"
          ]
        }
      ]
    },
    {
      "cell_type": "code",
      "source": [
        "#Follow step if you already have previous database file\n",
        "#move both files to state_db folder and establish a connection:\n",
        "\n",
        "import sqlite3\n",
        "import shutil\n",
        "import os\n",
        "\n",
        "# Ensure the state_db directory exists\n",
        "os.makedirs(\"state_db\", exist_ok=True)\n",
        "\n",
        "# Move the uploaded files to the state_db directory\n",
        "shutil.move(\"example.db\", \"state_db/example.db\")\n",
        "if os.path.exists(\"example.db-wal\"):  # Check if WAL file exists\n",
        "    shutil.move(\"example.db-wal\", \"state_db/example.db-wal\")\n",
        "    print(\"WAL file moved successfully.\")\n",
        "else:\n",
        "    print(\"No WAL file found. Proceeding with example.db only.\")\n",
        "\n",
        "# Define the path to the main database file\n",
        "db_path = \"state_db/example.db\"\n",
        "\n",
        "# Connect to the SQLite database\n",
        "try:\n",
        "    conn = sqlite3.connect(db_path, check_same_thread=False)\n",
        "    print(f\"Connected to database: {db_path}\")\n",
        "except sqlite3.OperationalError as e:\n",
        "    print(f\"Error connecting to the database: {e}\")"
      ],
      "metadata": {
        "colab": {
          "base_uri": "https://localhost:8080/"
        },
        "id": "wjxz9nnGaeCM",
        "outputId": "c6c263c9-c81a-492d-c1b0-c80daf74cd6b"
      },
      "execution_count": 55,
      "outputs": [
        {
          "output_type": "stream",
          "name": "stdout",
          "text": [
            "WAL file moved successfully.\n",
            "Connected to database: state_db/example.db\n"
          ]
        }
      ]
    },
    {
      "cell_type": "code",
      "source": [
        "# Here is our checkpointer\n",
        "from langgraph.checkpoint.sqlite import SqliteSaver\n",
        "memory: SqliteSaver = SqliteSaver(conn)"
      ],
      "metadata": {
        "id": "RX5IQ-mqcoKr"
      },
      "execution_count": 56,
      "outputs": []
    },
    {
      "cell_type": "markdown",
      "source": [
        "Let's re-define our chatbot."
      ],
      "metadata": {
        "id": "c6dqjXIocsRb"
      }
    },
    {
      "cell_type": "code",
      "source": [
        "from langchain_google_genai import ChatGoogleGenerativeAI\n",
        "from langchain_core.messages import SystemMessage, HumanMessage, RemoveMessage\n",
        "\n",
        "from langgraph.graph import END\n",
        "from langgraph.graph import MessagesState\n",
        "\n",
        "model: ChatGoogleGenerativeAI = ChatGoogleGenerativeAI(model = \"gemini-1.5-flash\", api_key =  GEMINI_API_KEY)\n",
        "\n",
        "class State(MessagesState):\n",
        "    summary: str\n",
        "\n",
        "# Define the logic to call the model\n",
        "def call_model(state: State) -> State:\n",
        "\n",
        "    # Get summary if it exists\n",
        "    summary = state.get(\"summary\", \"\")\n",
        "    print(f\"Using summary: {summary}\")\n",
        "\n",
        "    # If there is summary, then we add it\n",
        "    if summary:\n",
        "\n",
        "        # Add summary to system message\n",
        "        system_message = f\"Summary of conversation earlier: {summary}\"\n",
        "\n",
        "        # Append summary to any newer messages\n",
        "        messages = [SystemMessage(content=system_message)] + state[\"messages\"]\n",
        "\n",
        "    else:\n",
        "        messages = state[\"messages\"]\n",
        "\n",
        "    response = model.invoke(messages)\n",
        "    return {\"messages\": response}\n",
        "\n",
        "def summarize_conversation(state: State) -> State:\n",
        "    print(f\"Messages before summarizing: {len(state['messages'])}\")\n",
        "    # First, we get any existing summary\n",
        "    summary = state.get(\"summary\", \"\")\n",
        "    print(f\"Existing summary: {summary}\")\n",
        "\n",
        "    # Create our summarization prompt\n",
        "    if summary:\n",
        "\n",
        "        # A summary already exists\n",
        "        summary_message = (\n",
        "            f\"This is summary of the conversation to date: {summary}\\n\\n\"\n",
        "            \"Extend the summary by taking into account the new messages above:\"\n",
        "        )\n",
        "\n",
        "    else:\n",
        "        summary_message = \"Create a summary of the conversation above:\"\n",
        "\n",
        "\n",
        "    # Add prompt to our history\n",
        "    messages = state[\"messages\"] + [HumanMessage(content=summary_message)]\n",
        "    response = model.invoke(messages)\n",
        "    # Summarization logic\n",
        "    print(f\"New summary: {response.content}\")\n",
        "\n",
        "    # Delete all but the 2 most recent messages\n",
        "    delete_messages = [RemoveMessage(id=m.id) for m in state[\"messages\"][:-2]]\n",
        "\n",
        "    print(f\"Messages after truncation: {len(delete_messages)}\")\n",
        "    return {\"summary\": response.content, \"messages\": delete_messages}\n",
        "\n",
        "# Determine whether to end or summarize the conversation\n",
        "def should_continue(state: State) -> State:\n",
        "\n",
        "    \"\"\"Return the next node to execute.\"\"\"\n",
        "\n",
        "    messages = state[\"messages\"]\n",
        "    print(f\"Message count: {len(messages)}\")\n",
        "    # If there are more than six messages, then we summarize the conversation\n",
        "    if len(messages) > 6:\n",
        "        return \"summarize_conversation\"\n",
        "\n",
        "    # Otherwise we can just end\n",
        "    return END"
      ],
      "metadata": {
        "id": "lIk7PK7Scyv6"
      },
      "execution_count": 57,
      "outputs": []
    },
    {
      "cell_type": "markdown",
      "source": [
        "Now, we just re-compile with our sqlite checkpointer."
      ],
      "metadata": {
        "id": "I4bxx2hIgC0q"
      }
    },
    {
      "cell_type": "code",
      "source": [
        "from IPython.display import Image, display\n",
        "from langgraph.graph import StateGraph, START\n",
        "from langgraph.graph.state import CompiledStateGraph\n",
        "\n",
        "# Define a new graph\n",
        "workflow: StateGraph = StateGraph(State)\n",
        "workflow.add_node(\"conversation\", call_model)\n",
        "workflow.add_node(summarize_conversation)\n",
        "\n",
        "# Set the entrypoint as conversation\n",
        "workflow.add_edge(START, \"conversation\")\n",
        "workflow.add_conditional_edges(\"conversation\", should_continue)\n",
        "workflow.add_edge(\"summarize_conversation\", END)\n",
        "\n",
        "# Compile\n",
        "graph: CompiledStateGraph = workflow.compile(checkpointer=memory)\n",
        "display(Image(graph.get_graph().draw_mermaid_png()))"
      ],
      "metadata": {
        "colab": {
          "base_uri": "https://localhost:8080/",
          "height": 350
        },
        "id": "UHreYv1ngE3h",
        "outputId": "16bf6307-aad0-41fe-8f6b-d3787a0f969a"
      },
      "execution_count": 58,
      "outputs": [
        {
          "output_type": "display_data",
          "data": {
            "image/png": "[encoded data removed]",
            "text/plain": [
              "<IPython.core.display.Image object>"
            ]
          },
          "metadata": {}
        }
      ]
    },
    {
      "cell_type": "markdown",
      "source": [
        "Now, we can invoke the graph several times."
      ],
      "metadata": {
        "id": "WEyCyCkVgLnT"
      }
    },
    {
      "cell_type": "code",
      "source": [
        "# Create a thread\n",
        "config = {\"configurable\": {\"thread_id\": \"1\"}}\n",
        "\n",
        "# Start conversation\n",
        "input_message = HumanMessage(content=\"I would like to know about football.\")\n",
        "output = graph.invoke({\"messages\": [input_message]}, config)\n",
        "for m in output['messages'][-1:]:\n",
        "    m.pretty_print()"
      ],
      "metadata": {
        "colab": {
          "base_uri": "https://localhost:8080/"
        },
        "id": "6f3-WnPXgK8D",
        "outputId": "a9152e27-c9c6-4d96-a1d6-d8556270c1ca"
      },
      "execution_count": 59,
      "outputs": [
        {
          "output_type": "stream",
          "name": "stdout",
          "text": [
            "Using summary: Here's an extended summary of the conversation:\n",
            "\n",
            "The conversation began with Lance introducing himself twice, expressing his enthusiasm for the San Francisco 49ers. The AI assistant correctly identified Lance and offered several discussion points related to the team, demonstrating an understanding of the user's interest.  However, Lance's responses were brief and didn't fully engage with the AI's suggestions for further conversation.  The conversation then took an unexpected turn when Rizwan introduced himself, suggesting a potential confusion of identities or a change of user.  The AI acknowledged Rizwan's introduction and offered assistance, effectively ending the previous line of conversation about the 49ers and Lance's fandom.  The conversation highlights a potential limitation in maintaining context across multiple user inputs, especially when there's a shift in identity.  The overall interaction demonstrates the AI's ability to recognize and respond to user introductions but also showcases a need for more robust context management to handle such shifts smoothly.\n",
            "Message count: 8\n",
            "Messages before summarizing: 8\n",
            "Existing summary: Here's an extended summary of the conversation:\n",
            "\n",
            "The conversation began with Lance introducing himself twice, expressing his enthusiasm for the San Francisco 49ers. The AI assistant correctly identified Lance and offered several discussion points related to the team, demonstrating an understanding of the user's interest.  However, Lance's responses were brief and didn't fully engage with the AI's suggestions for further conversation.  The conversation then took an unexpected turn when Rizwan introduced himself, suggesting a potential confusion of identities or a change of user.  The AI acknowledged Rizwan's introduction and offered assistance, effectively ending the previous line of conversation about the 49ers and Lance's fandom.  The conversation highlights a potential limitation in maintaining context across multiple user inputs, especially when there's a shift in identity.  The overall interaction demonstrates the AI's ability to recognize and respond to user introductions but also showcases a need for more robust context management to handle such shifts smoothly.\n",
            "New summary: The conversation, initially focused on Lance's enthusiasm for the San Francisco 49ers, experienced a significant shift when Rizwan introduced himself, highlighting a potential identity confusion or user change.  The AI adeptly handled both introductions, demonstrating its ability to recognize and respond to distinct users.  However, after Rizwan's introduction, the conversation veered away from the 49ers and towards a broader inquiry about football in general.  This demonstrates a successful transition in topic, though it also underscores the AI's capacity to adapt to changing user interests and requests for information, even amidst a potential identity change.  The AI's response to Rizwan's request for information about football was helpful and proactive, offering specific areas of focus to guide the conversation and provide relevant information.  The overall interaction showcases the AI's flexibility in managing both user identity shifts and topic changes, although further refinement in context management could improve the seamlessness of these transitions.  The initial focus on the 49ers was effectively abandoned, showcasing a prioritization of the current user's request over maintaining a previously established context, which may or may not be the optimal approach depending on the desired conversational model.\n",
            "Messages after truncation: 6\n",
            "==================================\u001b[1m Ai Message \u001b[0m==================================\n",
            "\n",
            "Okay, great!  To help me give you the best information about football, could you tell me what specifically you'd like to know?  For example, are you interested in:\n",
            "\n",
            "* **Specific rules of the game?**  (e.g.,  downs, penalties, scoring)\n",
            "* **The history of football?** (e.g.,  evolution of the game, significant moments)\n",
            "* **A particular team or league?** (e.g., NFL, college football, international leagues)\n",
            "* **Football strategy and tactics?** (e.g., offensive and defensive formations)\n",
            "* **Famous players or coaches?**\n",
            "\n",
            "The more detail you can give me, the better I can assist you.\n"
          ]
        }
      ]
    },
    {
      "cell_type": "markdown",
      "source": [
        "Let's confirm that our state is saved locally."
      ],
      "metadata": {
        "id": "U-vl3hJ-gyOB"
      }
    },
    {
      "cell_type": "code",
      "source": [
        "input_message = HumanMessage(content=\"what's my name?\")\n",
        "output = graph.invoke({\"messages\": [input_message]}, config)\n",
        "for m in output['messages'][-1:]:\n",
        "    m.pretty_print()"
      ],
      "metadata": {
        "colab": {
          "base_uri": "https://localhost:8080/"
        },
        "id": "ufSiyJSJg1MR",
        "outputId": "f1e18aa9-a560-440a-e7e0-c00d52f8e477"
      },
      "execution_count": 60,
      "outputs": [
        {
          "output_type": "stream",
          "name": "stdout",
          "text": [
            "Using summary: The conversation, initially focused on Lance's enthusiasm for the San Francisco 49ers, experienced a significant shift when Rizwan introduced himself, highlighting a potential identity confusion or user change.  The AI adeptly handled both introductions, demonstrating its ability to recognize and respond to distinct users.  However, after Rizwan's introduction, the conversation veered away from the 49ers and towards a broader inquiry about football in general.  This demonstrates a successful transition in topic, though it also underscores the AI's capacity to adapt to changing user interests and requests for information, even amidst a potential identity change.  The AI's response to Rizwan's request for information about football was helpful and proactive, offering specific areas of focus to guide the conversation and provide relevant information.  The overall interaction showcases the AI's flexibility in managing both user identity shifts and topic changes, although further refinement in context management could improve the seamlessness of these transitions.  The initial focus on the 49ers was effectively abandoned, showcasing a prioritization of the current user's request over maintaining a previously established context, which may or may not be the optimal approach depending on the desired conversational model.\n",
            "Message count: 4\n",
            "==================================\u001b[1m Ai Message \u001b[0m==================================\n",
            "\n",
            "I don't have access to your personal information, including your name.  To protect user privacy, I don't store or remember details from previous conversations.  How can I help you with your question about football?\n"
          ]
        }
      ]
    },
    {
      "cell_type": "code",
      "source": [
        "input_message = HumanMessage(content=\"i like the 49ers!\")\n",
        "output = graph.invoke({\"messages\": [input_message]}, config)\n",
        "for m in output['messages'][-1:]:\n",
        "    m.pretty_print()"
      ],
      "metadata": {
        "colab": {
          "base_uri": "https://localhost:8080/"
        },
        "id": "DS3A3Bd_hArw",
        "outputId": "5b600b86-8c4a-42fe-a167-fef510a1e314"
      },
      "execution_count": 61,
      "outputs": [
        {
          "output_type": "stream",
          "name": "stdout",
          "text": [
            "Using summary: The conversation, initially focused on Lance's enthusiasm for the San Francisco 49ers, experienced a significant shift when Rizwan introduced himself, highlighting a potential identity confusion or user change.  The AI adeptly handled both introductions, demonstrating its ability to recognize and respond to distinct users.  However, after Rizwan's introduction, the conversation veered away from the 49ers and towards a broader inquiry about football in general.  This demonstrates a successful transition in topic, though it also underscores the AI's capacity to adapt to changing user interests and requests for information, even amidst a potential identity change.  The AI's response to Rizwan's request for information about football was helpful and proactive, offering specific areas of focus to guide the conversation and provide relevant information.  The overall interaction showcases the AI's flexibility in managing both user identity shifts and topic changes, although further refinement in context management could improve the seamlessness of these transitions.  The initial focus on the 49ers was effectively abandoned, showcasing a prioritization of the current user's request over maintaining a previously established context, which may or may not be the optimal approach depending on the desired conversational model.\n",
            "Message count: 6\n",
            "==================================\u001b[1m Ai Message \u001b[0m==================================\n",
            "\n",
            "That's great!  The 49ers have a rich history and a passionate fan base.  To give you the best information about them, could you tell me what specifically you'd like to know? For example, are you interested in:\n",
            "\n",
            "* **Their current season and performance?**\n",
            "* **Their history and past successes?**\n",
            "* **Specific players on the team?**\n",
            "* **Upcoming games or events?**\n",
            "* **News and rumors about the team?**\n",
            "\n",
            "\n",
            "Let me know what you'd like to discuss about the 49ers, and I'll do my best to help!\n"
          ]
        }
      ]
    },
    {
      "cell_type": "code",
      "source": [
        "config = {\"configurable\": {\"thread_id\": \"1\"}}\n",
        "graph_state = graph.get_state(config)\n",
        "graph_state"
      ],
      "metadata": {
        "colab": {
          "base_uri": "https://localhost:8080/"
        },
        "id": "zm7eAMlYhKYI",
        "outputId": "27f3fcac-60f9-402e-b850-e95913abc4c6"
      },
      "execution_count": 62,
      "outputs": [
        {
          "output_type": "execute_result",
          "data": {
            "text/plain": [
              "StateSnapshot(values={'messages': [HumanMessage(content='I would like to know about football.', additional_kwargs={}, response_metadata={}, id='f0ab0a1e-2b38-40b1-a879-fd6b8ac9efdb'), AIMessage(content=\"Okay, great!  To help me give you the best information about football, could you tell me what specifically you'd like to know?  For example, are you interested in:\\n\\n* **Specific rules of the game?**  (e.g.,  downs, penalties, scoring)\\n* **The history of football?** (e.g.,  evolution of the game, significant moments)\\n* **A particular team or league?** (e.g., NFL, college football, international leagues)\\n* **Football strategy and tactics?** (e.g., offensive and defensive formations)\\n* **Famous players or coaches?**\\n\\nThe more detail you can give me, the better I can assist you.\", additional_kwargs={}, response_metadata={'prompt_feedback': {'block_reason': 0, 'safety_ratings': []}, 'finish_reason': 'STOP', 'safety_ratings': []}, id='run-6fc70c06-aaf9-400e-972f-f20bd0c4c062-0', usage_metadata={'input_tokens': 349, 'output_tokens': 152, 'total_tokens': 501, 'input_token_details': {'cache_read': 0}}), HumanMessage(content=\"what's my name?\", additional_kwargs={}, response_metadata={}, id='2e20c423-bcd6-449e-b3b8-8a13d95598f7'), AIMessage(content=\"I don't have access to your personal information, including your name.  To protect user privacy, I don't store or remember details from previous conversations.  How can I help you with your question about football?\", additional_kwargs={}, response_metadata={'prompt_feedback': {'block_reason': 0, 'safety_ratings': []}, 'finish_reason': 'STOP', 'safety_ratings': []}, id='run-fc9944dd-56f6-48d0-b028-053412c342fe-0', usage_metadata={'input_tokens': 416, 'output_tokens': 46, 'total_tokens': 462, 'input_token_details': {'cache_read': 0}}), HumanMessage(content='i like the 49ers!', additional_kwargs={}, response_metadata={}, id='121179e3-4a18-442f-9783-ecf237c3fda3'), AIMessage(content=\"That's great!  The 49ers have a rich history and a passionate fan base.  To give you the best information about them, could you tell me what specifically you'd like to know? For example, are you interested in:\\n\\n* **Their current season and performance?**\\n* **Their history and past successes?**\\n* **Specific players on the team?**\\n* **Upcoming games or events?**\\n* **News and rumors about the team?**\\n\\n\\nLet me know what you'd like to discuss about the 49ers, and I'll do my best to help!\", additional_kwargs={}, response_metadata={'prompt_feedback': {'block_reason': 0, 'safety_ratings': []}, 'finish_reason': 'STOP', 'safety_ratings': []}, id='run-0641de1a-fb54-44c2-a759-c7fac223b8bb-0', usage_metadata={'input_tokens': 471, 'output_tokens': 131, 'total_tokens': 602, 'input_token_details': {'cache_read': 0}})], 'summary': \"The conversation, initially focused on Lance's enthusiasm for the San Francisco 49ers, experienced a significant shift when Rizwan introduced himself, highlighting a potential identity confusion or user change.  The AI adeptly handled both introductions, demonstrating its ability to recognize and respond to distinct users.  However, after Rizwan's introduction, the conversation veered away from the 49ers and towards a broader inquiry about football in general.  This demonstrates a successful transition in topic, though it also underscores the AI's capacity to adapt to changing user interests and requests for information, even amidst a potential identity change.  The AI's response to Rizwan's request for information about football was helpful and proactive, offering specific areas of focus to guide the conversation and provide relevant information.  The overall interaction showcases the AI's flexibility in managing both user identity shifts and topic changes, although further refinement in context management could improve the seamlessness of these transitions.  The initial focus on the 49ers was effectively abandoned, showcasing a prioritization of the current user's request over maintaining a previously established context, which may or may not be the optimal approach depending on the desired conversational model.\"}, next=(), config={'configurable': {'thread_id': '1', 'checkpoint_ns': '', 'checkpoint_id': '1efce9aa-c15c-678d-8025-2460eb8b0cda'}}, metadata={'source': 'loop', 'writes': {'conversation': {'messages': AIMessage(content=\"That's great!  The 49ers have a rich history and a passionate fan base.  To give you the best information about them, could you tell me what specifically you'd like to know? For example, are you interested in:\\n\\n* **Their current season and performance?**\\n* **Their history and past successes?**\\n* **Specific players on the team?**\\n* **Upcoming games or events?**\\n* **News and rumors about the team?**\\n\\n\\nLet me know what you'd like to discuss about the 49ers, and I'll do my best to help!\", additional_kwargs={}, response_metadata={'prompt_feedback': {'block_reason': 0, 'safety_ratings': []}, 'finish_reason': 'STOP', 'safety_ratings': []}, id='run-0641de1a-fb54-44c2-a759-c7fac223b8bb-0', usage_metadata={'input_tokens': 471, 'output_tokens': 131, 'total_tokens': 602, 'input_token_details': {'cache_read': 0}})}}, 'thread_id': '1', 'step': 37, 'parents': {}}, created_at='2025-01-09T15:01:57.916823+00:00', parent_config={'configurable': {'thread_id': '1', 'checkpoint_ns': '', 'checkpoint_id': '1efce9aa-b533-6726-8024-e1e71406e812'}}, tasks=())"
            ]
          },
          "metadata": {},
          "execution_count": 62
        }
      ]
    },
    {
      "cell_type": "code",
      "source": [
        "config = {\"configurable\": {\"thread_id\": \"1\"}}\n",
        "messages = graph.get_state(config).values.get(\"messages\")\n",
        "len(messages)"
      ],
      "metadata": {
        "colab": {
          "base_uri": "https://localhost:8080/"
        },
        "id": "xHmULyoehOzH",
        "outputId": "b5ac2fd8-307f-4052-ac83-5e2a36c5dea2"
      },
      "execution_count": 63,
      "outputs": [
        {
          "output_type": "execute_result",
          "data": {
            "text/plain": [
              "6"
            ]
          },
          "metadata": {},
          "execution_count": 63
        }
      ]
    },
    {
      "cell_type": "code",
      "source": [
        "graph_state = graph.get_state(config).values.get(\"summary\",\"\")\n",
        "graph_state"
      ],
      "metadata": {
        "colab": {
          "base_uri": "https://localhost:8080/",
          "height": 122
        },
        "id": "83oQg9qmhRGB",
        "outputId": "7e6ab257-1351-41d5-b725-99b26c1eb010"
      },
      "execution_count": 64,
      "outputs": [
        {
          "output_type": "execute_result",
          "data": {
            "text/plain": [
              "\"The conversation, initially focused on Lance's enthusiasm for the San Francisco 49ers, experienced a significant shift when Rizwan introduced himself, highlighting a potential identity confusion or user change.  The AI adeptly handled both introductions, demonstrating its ability to recognize and respond to distinct users.  However, after Rizwan's introduction, the conversation veered away from the 49ers and towards a broader inquiry about football in general.  This demonstrates a successful transition in topic, though it also underscores the AI's capacity to adapt to changing user interests and requests for information, even amidst a potential identity change.  The AI's response to Rizwan's request for information about football was helpful and proactive, offering specific areas of focus to guide the conversation and provide relevant information.  The overall interaction showcases the AI's flexibility in managing both user identity shifts and topic changes, although further refinement in context management could improve the seamlessness of these transitions.  The initial focus on the 49ers was effectively abandoned, showcasing a prioritization of the current user's request over maintaining a previously established context, which may or may not be the optimal approach depending on the desired conversational model.\""
            ],
            "application/vnd.google.colaboratory.intrinsic+json": {
              "type": "string"
            }
          },
          "metadata": {},
          "execution_count": 64
        }
      ]
    },
    {
      "cell_type": "code",
      "source": [
        "!ls state_db"
      ],
      "metadata": {
        "colab": {
          "base_uri": "https://localhost:8080/"
        },
        "id": "jHLVT41LhUq4",
        "outputId": "1b658600-e705-41a4-8cbf-cf1094bdd482"
      },
      "execution_count": 65,
      "outputs": [
        {
          "output_type": "stream",
          "name": "stdout",
          "text": [
            "example.db  example.db-shm  example.db-wal\n"
          ]
        }
      ]
    },
    {
      "cell_type": "code",
      "source": [
        "from google.colab import files\n",
        "files.download('state_db/example.db')\n",
        "files.download('state_db/example.db-wal')"
      ],
      "metadata": {
        "colab": {
          "base_uri": "https://localhost:8080/",
          "height": 17
        },
        "id": "gSZyb45She-v",
        "outputId": "7ba0d7a7-d30d-464e-d603-373117293cd6"
      },
      "execution_count": 66,
      "outputs": [
        {
          "output_type": "display_data",
          "data": {
            "text/plain": [
              "<IPython.core.display.Javascript object>"
            ],
            "application/javascript": [
              "\n",
              "    async function download(id, filename, size) {\n",
              "      if (!google.colab.kernel.accessAllowed) {\n",
              "        return;\n",
              "      }\n",
              "      const div = document.createElement('div');\n",
              "      const label = document.createElement('label');\n",
              "      label.textContent = `Downloading \"${filename}\": `;\n",
              "      div.appendChild(label);\n",
              "      const progress = document.createElement('progress');\n",
              "      progress.max = size;\n",
              "      div.appendChild(progress);\n",
              "      document.body.appendChild(div);\n",
              "\n",
              "      const buffers = [];\n",
              "      let downloaded = 0;\n",
              "\n",
              "      const channel = await google.colab.kernel.comms.open(id);\n",
              "      // Send a message to notify the kernel that we're ready.\n",
              "      channel.send({})\n",
              "\n",
              "      for await (const message of channel.messages) {\n",
              "        // Send a message to notify the kernel that we're ready.\n",
              "        channel.send({})\n",
              "        if (message.buffers) {\n",
              "          for (const buffer of message.buffers) {\n",
              "            buffers.push(buffer);\n",
              "            downloaded += buffer.byteLength;\n",
              "            progress.value = downloaded;\n",
              "          }\n",
              "        }\n",
              "      }\n",
              "      const blob = new Blob(buffers, {type: 'application/binary'});\n",
              "      const a = document.createElement('a');\n",
              "      a.href = window.URL.createObjectURL(blob);\n",
              "      a.download = filename;\n",
              "      div.appendChild(a);\n",
              "      a.click();\n",
              "      div.remove();\n",
              "    }\n",
              "  "
            ]
          },
          "metadata": {}
        },
        {
          "output_type": "display_data",
          "data": {
            "text/plain": [
              "<IPython.core.display.Javascript object>"
            ],
            "application/javascript": [
              "download(\"download_4151cd6b-c8c0-48c2-bdd9-3591f2d445e9\", \"example.db\", 110592)"
            ]
          },
          "metadata": {}
        },
        {
          "output_type": "display_data",
          "data": {
            "text/plain": [
              "<IPython.core.display.Javascript object>"
            ],
            "application/javascript": [
              "\n",
              "    async function download(id, filename, size) {\n",
              "      if (!google.colab.kernel.accessAllowed) {\n",
              "        return;\n",
              "      }\n",
              "      const div = document.createElement('div');\n",
              "      const label = document.createElement('label');\n",
              "      label.textContent = `Downloading \"${filename}\": `;\n",
              "      div.appendChild(label);\n",
              "      const progress = document.createElement('progress');\n",
              "      progress.max = size;\n",
              "      div.appendChild(progress);\n",
              "      document.body.appendChild(div);\n",
              "\n",
              "      const buffers = [];\n",
              "      let downloaded = 0;\n",
              "\n",
              "      const channel = await google.colab.kernel.comms.open(id);\n",
              "      // Send a message to notify the kernel that we're ready.\n",
              "      channel.send({})\n",
              "\n",
              "      for await (const message of channel.messages) {\n",
              "        // Send a message to notify the kernel that we're ready.\n",
              "        channel.send({})\n",
              "        if (message.buffers) {\n",
              "          for (const buffer of message.buffers) {\n",
              "            buffers.push(buffer);\n",
              "            downloaded += buffer.byteLength;\n",
              "            progress.value = downloaded;\n",
              "          }\n",
              "        }\n",
              "      }\n",
              "      const blob = new Blob(buffers, {type: 'application/binary'});\n",
              "      const a = document.createElement('a');\n",
              "      a.href = window.URL.createObjectURL(blob);\n",
              "      a.download = filename;\n",
              "      div.appendChild(a);\n",
              "      a.click();\n",
              "      div.remove();\n",
              "    }\n",
              "  "
            ]
          },
          "metadata": {}
        },
        {
          "output_type": "display_data",
          "data": {
            "text/plain": [
              "<IPython.core.display.Javascript object>"
            ],
            "application/javascript": [
              "download(\"download_99146538-c10a-444c-9b7a-a4e15d65393b\", \"example.db-wal\", 515032)"
            ]
          },
          "metadata": {}
        }
      ]
    },
    {
      "cell_type": "markdown",
      "source": [
        "## Persisting state\n",
        "Using database like Sqlite means state is persisted!\n",
        "\n",
        "For example, we can re-start the notebook kernel and see that we can still load from Sqlite DB on disk."
      ],
      "metadata": {
        "id": "5Zha0CShheq6"
      }
    },
    {
      "cell_type": "markdown",
      "source": [
        "## LangGraph Studio\n",
        "--\n",
        "\n",
        "⚠️ DISCLAIMER\n",
        "\n",
        "Running Studio currently requires a Mac. If you are not using a Mac, then skip this step.\n",
        "\n",
        "--\n",
        "\n",
        "Now that we better understand external memory, recall that the LangGraph API packages your code and provides you with with built-in persistence.\n",
        "\n",
        "And the API is the back-end for Studio!\n",
        "\n",
        "Load the chatbot in the UI, which uses `module2-/studio/chatbot.py` set in `module2-/studio/langgraph.json`."
      ],
      "metadata": {
        "id": "qQH8cVoQhoyQ"
      }
    }
  ]
}