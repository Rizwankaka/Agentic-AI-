{
  "nbformat": 4,
  "nbformat_minor": 0,
  "metadata": {
    "colab": {
      "provenance": [],
      "authorship_tag": "ABX9TyMlO46npf+mCB13mkfV6lR5",
      "include_colab_link": true
    },
    "kernelspec": {
      "name": "python3",
      "display_name": "Python 3"
    },
    "language_info": {
      "name": "python"
    }
  },
  "cells": [
    {
      "cell_type": "markdown",
      "metadata": {
        "id": "view-in-github",
        "colab_type": "text"
      },
      "source": [
        "<a href=\"https://colab.research.google.com/github/Rizwankaka/Agentic-AI-/blob/main/Langgraph/agentic_rag/sql_agent_with_langgraph.ipynb\" target=\"_parent\"><img src=\"https://colab.research.google.com/assets/colab-badge.svg\" alt=\"Open In Colab\"/></a>"
      ]
    },
    {
      "cell_type": "markdown",
      "source": [
        "# SQL Agent with Langgraph"
      ],
      "metadata": {
        "id": "0jN3-oFtDm3L"
      }
    },
    {
      "cell_type": "markdown",
      "source": [
        "### Introduction and Goal of the Notebook\n",
        "\n",
        "#### **Introduction:**\n",
        "\n",
        "This notebook demonstrates the use of a **Langraph SQL Agent Workflow**, as visualized in the provided flow diagram, to create an intelligent, automated system for interacting with an SQLite database. By leveraging **Langraph**, **LangChain**, and Large Language Models (LLMs), the notebook sets up a pipeline where users can ask natural language questions and receive precise SQL-generated insights from the database.\n",
        "\n",
        "The flow diagram illustrates a structured, tool-driven workflow consisting of:\n",
        "1. **Starting the process**: The workflow begins by listing tables in the database and retrieving their schemas.\n",
        "2. **Query Generation**: User input in natural language is converted into SQL queries, which are validated and refined if necessary.\n",
        "3. **Execution and Error Handling**: Queries are executed to extract data, while robust mechanisms are in place to correct and reattempt invalid queries.\n",
        "4. **Output Generation**: The final results are provided back to the user in an understandable format.\n",
        "\n",
        "This workflow ensures a seamless and user-friendly interaction with the database, eliminating the need for manual SQL knowledge.\n",
        "\n",
        "#### **Goal:**\n",
        "\n",
        "The goal of this notebook is to build a fully-functional, AI-driven system that:\n",
        "- **Simplifies Data Interaction**: Converts natural language questions into accurate SQL queries.\n",
        "- **Ensures Query Integrity**: Validates, corrects, and retries queries when errors occur.\n",
        "- **Streamlines Data Retrieval**: Automates schema understanding, query execution, and results generation.\n",
        "\n",
        "By implementing the Langraph workflow, this notebook empowers users—regardless of technical expertise—to interact with databases in a conversational manner. This approach enhances productivity, accessibility, and data-driven decision-making in both technical and non-technical environments.\n",
        "\n",
        "---"
      ],
      "metadata": {
        "id": "0k7k5xmUEqzn"
      }
    },
    {
      "cell_type": "code",
      "execution_count": 80,
      "metadata": {
        "id": "xCR3QD4izBJU"
      },
      "outputs": [],
      "source": [
        "# Importing sqlite3 module to interact with SQLite databases\n",
        "import sqlite3"
      ]
    },
    {
      "cell_type": "code",
      "source": [
        "# Establishing a connection to the SQLite database named \"mydb.db\"\n",
        "connection = sqlite3.connect(\"mydb.db\")"
      ],
      "metadata": {
        "id": "yBGls_XozODS"
      },
      "execution_count": 2,
      "outputs": []
    },
    {
      "cell_type": "code",
      "source": [
        "# Checking the connection object\n",
        "connection"
      ],
      "metadata": {
        "colab": {
          "base_uri": "https://localhost:8080/"
        },
        "id": "2-qtR-XmzRpK",
        "outputId": "a957f1a8-2ab3-4803-f978-3f97c0c7241e"
      },
      "execution_count": 3,
      "outputs": [
        {
          "output_type": "execute_result",
          "data": {
            "text/plain": [
              "<sqlite3.Connection at 0x7f96a1acfd40>"
            ]
          },
          "metadata": {},
          "execution_count": 3
        }
      ]
    },
    {
      "cell_type": "code",
      "source": [
        "# SQL query to create a table for storing employee details if it does not already exist\n",
        "table_creation_query=\"\"\"\n",
        "CREATE TABLE IF NOT EXISTS employees (\n",
        "    emp_id INTEGER PRIMARY KEY,\n",
        "    first_name TEXT NOT NULL,\n",
        "    last_name TEXT NOT NULL,\n",
        "    email TEXT UNIQUE NOT NULL,\n",
        "    hire_date TEXT NOT NULL,\n",
        "    salary REAL NOT NULL\n",
        ");\n",
        "\"\"\""
      ],
      "metadata": {
        "id": "wXVhEtKpzUKD"
      },
      "execution_count": 4,
      "outputs": []
    },
    {
      "cell_type": "code",
      "source": [
        "# SQL query to create a table for storing customer details if it does not already exist\n",
        "table_creation_query2=\"\"\"\n",
        "CREATE TABLE IF NOT EXISTS customers (\n",
        "    customer_id INTEGER PRIMARY KEY AUTOINCREMENT,\n",
        "    first_name TEXT NOT NULL,\n",
        "    last_name TEXT NOT NULL,\n",
        "    email TEXT UNIQUE NOT NULL,\n",
        "    phone TEXT\n",
        ");\n",
        "\"\"\""
      ],
      "metadata": {
        "id": "pZPB5QUHzZUR"
      },
      "execution_count": 5,
      "outputs": []
    },
    {
      "cell_type": "code",
      "source": [
        "# SQL query to create a table for storing order details if it does not already exist\n",
        "table_creation_query3=\"\"\"\n",
        "CREATE TABLE IF NOT EXISTS orders (\n",
        "    order_id INTEGER PRIMARY KEY AUTOINCREMENT,\n",
        "    customer_id INTEGER NOT NULL,\n",
        "    order_date TEXT NOT NULL,\n",
        "    amount REAL NOT NULL,\n",
        "    FOREIGN KEY (customer_id) REFERENCES customers (customer_id)\n",
        ");\n",
        "\n",
        "\"\"\""
      ],
      "metadata": {
        "id": "SXd-kM6ozcPU"
      },
      "execution_count": 6,
      "outputs": []
    },
    {
      "cell_type": "code",
      "source": [
        "# Creating a cursor object to execute SQL commands\n",
        "cursor=connection.cursor()"
      ],
      "metadata": {
        "id": "sBMESs8izelJ"
      },
      "execution_count": 7,
      "outputs": []
    },
    {
      "cell_type": "code",
      "source": [
        "# Executing the SQL query to create the employees,customers and orders table\n",
        "cursor.execute(table_creation_query)\n",
        "cursor.execute(table_creation_query2)\n",
        "cursor.execute(table_creation_query3)"
      ],
      "metadata": {
        "colab": {
          "base_uri": "https://localhost:8080/"
        },
        "id": "6AU-tj3kzgfB",
        "outputId": "adb3d046-0242-43d0-fa44-307018737964"
      },
      "execution_count": 8,
      "outputs": [
        {
          "output_type": "execute_result",
          "data": {
            "text/plain": [
              "<sqlite3.Cursor at 0x7f96a19a4940>"
            ]
          },
          "metadata": {},
          "execution_count": 8
        }
      ]
    },
    {
      "cell_type": "code",
      "source": [
        "# SQL query to insert data into the employees table\n",
        "insert_query = \"\"\"\n",
        "INSERT INTO employees (emp_id, first_name, last_name, email, hire_date, salary)\n",
        "VALUES (?, ?, ?, ?, ?, ?);\n",
        "\"\"\"\n",
        "# SQL query to insert data into the customers table\n",
        "insert_query_customers = \"\"\"\n",
        "INSERT INTO customers (customer_id, first_name, last_name, email, phone)\n",
        "VALUES (?, ?, ?, ?, ?);\n",
        "\"\"\"\n",
        "# SQL query to insert data into the orders table\n",
        "insert_query_orders = \"\"\"\n",
        "INSERT INTO orders (order_id, customer_id, order_date, amount)\n",
        "VALUES (?, ?, ?, ?);\n",
        "\"\"\""
      ],
      "metadata": {
        "id": "SIKPILFNzlBC"
      },
      "execution_count": 9,
      "outputs": []
    },
    {
      "cell_type": "code",
      "source": [
        "# Sample data for employees table\n",
        "employee_data = [\n",
        "    (1, \"Rizwan\", \"Nazir\", \"rizwan.nazir@abc.com\", \"2023-06-01\", 50000.00),\n",
        "    (2, \"Zia\", \"Khan\", \"zia.k@gmail.com\", \"2022-04-15\", 60000.00),\n",
        "    (3, \"Alice\", \"Johnson\", \"alice.johnson@jpg.com\", \"2021-09-30\", 55000.00),\n",
        "    (4, \"Bob\", \"Brown\", \"bob.brown@uio.com\", \"2020-01-20\", 45000.00),\n",
        "    ]\n",
        "\n",
        "# Sample data for customers table\n",
        "customers_data = [\n",
        "    (1, \"John\", \"Doe\", \"john.doe@example.com\", \"1234567890\"),\n",
        "    (2, \"Jane\", \"Smith\", \"jane.smith@example.com\", \"9876543210\"),\n",
        "    (3, \"Emily\", \"Davis\", \"emily.davis@example.com\", \"4567891230\"),\n",
        "    (4, \"Michael\", \"Brown\", \"michael.brown@example.com\", \"7894561230\"),\n",
        "]\n",
        "\n",
        "# Sample data for orders table\n",
        "orders_data = [\n",
        "    (1, 1, \"2023-12-01\", 250.75),\n",
        "    (2, 2, \"2023-11-20\", 150.50),\n",
        "    (3, 3, \"2023-11-25\", 300.00),\n",
        "    (4, 4, \"2023-12-02\", 450.00),\n",
        "]"
      ],
      "metadata": {
        "id": "2OlFf6euzngr"
      },
      "execution_count": 11,
      "outputs": []
    },
    {
      "cell_type": "code",
      "source": [
        "# Inserting employee data into the employees, customers and orders table\n",
        "cursor.executemany(insert_query,employee_data)\n",
        "cursor.executemany(insert_query_customers,customers_data)\n",
        "cursor.executemany(insert_query_orders,orders_data)"
      ],
      "metadata": {
        "colab": {
          "base_uri": "https://localhost:8080/"
        },
        "id": "aOEthBEU0FCa",
        "outputId": "f6470ab2-47da-42ec-9cc8-8b74dd060cdd"
      },
      "execution_count": 12,
      "outputs": [
        {
          "output_type": "execute_result",
          "data": {
            "text/plain": [
              "<sqlite3.Cursor at 0x7f96a19a4940>"
            ]
          },
          "metadata": {},
          "execution_count": 12
        }
      ]
    },
    {
      "cell_type": "code",
      "source": [
        "# Committing the changes to the database\n",
        "connection.commit()"
      ],
      "metadata": {
        "id": "ql7N7JHr0G_S"
      },
      "execution_count": 13,
      "outputs": []
    },
    {
      "cell_type": "code",
      "source": [
        "# Querying all data from the orders table\n",
        "cursor.execute(\"select * from orders;\")"
      ],
      "metadata": {
        "colab": {
          "base_uri": "https://localhost:8080/"
        },
        "id": "p5UrxIVw0I1D",
        "outputId": "22d93a9d-05fe-453a-aef0-f38f2ba3cb9b"
      },
      "execution_count": 14,
      "outputs": [
        {
          "output_type": "execute_result",
          "data": {
            "text/plain": [
              "<sqlite3.Cursor at 0x7f96a19a4940>"
            ]
          },
          "metadata": {},
          "execution_count": 14
        }
      ]
    },
    {
      "cell_type": "code",
      "source": [
        "# Fetching and printing all rows from the orders table\n",
        "for row in cursor.fetchall():\n",
        "    print(row)"
      ],
      "metadata": {
        "colab": {
          "base_uri": "https://localhost:8080/"
        },
        "id": "SkFpJtFA0K1J",
        "outputId": "e7cbd830-3982-43bc-afee-f353de14dc2a"
      },
      "execution_count": 15,
      "outputs": [
        {
          "output_type": "stream",
          "name": "stdout",
          "text": [
            "(1, 1, '2023-12-01', 250.75)\n",
            "(2, 2, '2023-11-20', 150.5)\n",
            "(3, 3, '2023-11-25', 300.0)\n",
            "(4, 4, '2023-12-02', 450.0)\n"
          ]
        }
      ]
    },
    {
      "cell_type": "markdown",
      "source": [
        "![image.png](data:image/png;base64,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)"
      ],
      "metadata": {
        "id": "Gc_lmcC_0XM4"
      }
    },
    {
      "cell_type": "code",
      "source": [
        "%pip install -qU langchain_community langchain_groq langchain_core langgraph"
      ],
      "metadata": {
        "id": "6Zf_z4SB0bhL"
      },
      "execution_count": 50,
      "outputs": []
    },
    {
      "cell_type": "code",
      "source": [
        "# Importing SQLDatabase from langchain_community to manage the SQLite database\n",
        "from langchain_community.utilities import SQLDatabase"
      ],
      "metadata": {
        "id": "VAeOx-tX0YPj"
      },
      "execution_count": 19,
      "outputs": []
    },
    {
      "cell_type": "code",
      "source": [
        "# Initializing a SQLDatabase object using the existing SQLite database\n",
        "db=SQLDatabase.from_uri(\"sqlite:///mydb.db\")"
      ],
      "metadata": {
        "id": "27u1FGnm0lii"
      },
      "execution_count": 20,
      "outputs": []
    },
    {
      "cell_type": "code",
      "source": [
        "db"
      ],
      "metadata": {
        "colab": {
          "base_uri": "https://localhost:8080/"
        },
        "id": "gBNRwhJi0rQh",
        "outputId": "3c8c7a78-1739-4080-b275-6d7000ad1574"
      },
      "execution_count": 21,
      "outputs": [
        {
          "output_type": "execute_result",
          "data": {
            "text/plain": [
              "<langchain_community.utilities.sql_database.SQLDatabase at 0x7f966beb1f00>"
            ]
          },
          "metadata": {},
          "execution_count": 21
        }
      ]
    },
    {
      "cell_type": "code",
      "source": [
        "# Displaying the database dialect (e.g., SQLite)\n",
        "db.dialect"
      ],
      "metadata": {
        "colab": {
          "base_uri": "https://localhost:8080/",
          "height": 36
        },
        "id": "Fk01tO_P0tYg",
        "outputId": "7b2c33a5-3c4b-4077-abd6-62d13aa77939"
      },
      "execution_count": 22,
      "outputs": [
        {
          "output_type": "execute_result",
          "data": {
            "text/plain": [
              "'sqlite'"
            ],
            "application/vnd.google.colaboratory.intrinsic+json": {
              "type": "string"
            }
          },
          "metadata": {},
          "execution_count": 22
        }
      ]
    },
    {
      "cell_type": "code",
      "source": [
        "# Fetching usable table names from the database\n",
        "db.get_usable_table_names()"
      ],
      "metadata": {
        "colab": {
          "base_uri": "https://localhost:8080/"
        },
        "id": "S2rxahXl0vQh",
        "outputId": "885b5cb7-7b6d-46b8-e308-cd1225d24efe"
      },
      "execution_count": 23,
      "outputs": [
        {
          "output_type": "execute_result",
          "data": {
            "text/plain": [
              "['customers', 'employees', 'orders']"
            ]
          },
          "metadata": {},
          "execution_count": 23
        }
      ]
    },
    {
      "cell_type": "code",
      "source": [
        "# Importing modules for accessing environment variables\n",
        "import os\n",
        "from google.colab import userdata\n",
        "os.environ[\"GROQ_API_KEY\"]=userdata.get(\"GROQ_API_KEY\")\n",
        "\n",
        "# Importing ChatGroq for using a specific language model\n",
        "from langchain_groq import ChatGroq\n",
        "# Initializing the LLM with a specific model\n",
        "llm=ChatGroq(model=\"llama-3.3-70b-versatile\")"
      ],
      "metadata": {
        "id": "_wAgh6XN0xRR"
      },
      "execution_count": 28,
      "outputs": []
    },
    {
      "cell_type": "code",
      "source": [
        "# Testing the LLM with a sample prompt\n",
        "llm.invoke(\"hello how are you?\")"
      ],
      "metadata": {
        "colab": {
          "base_uri": "https://localhost:8080/"
        },
        "id": "eSIptBHB1NuA",
        "outputId": "b76b5d50-b0f3-4ef5-b87c-1bd744646626"
      },
      "execution_count": 29,
      "outputs": [
        {
          "output_type": "execute_result",
          "data": {
            "text/plain": [
              "AIMessage(content=\"Hello. I'm doing well, thanks for asking. I'm a large language model, so I don't have feelings or emotions like humans do, but I'm functioning properly and ready to help with any questions or tasks you may have. How about you? How's your day going so far?\", additional_kwargs={}, response_metadata={'token_usage': {'completion_tokens': 61, 'prompt_tokens': 40, 'total_tokens': 101, 'completion_time': 0.221818182, 'prompt_time': 0.007515647, 'queue_time': 0.020353091, 'total_time': 0.229333829}, 'model_name': 'llama-3.3-70b-versatile', 'system_fingerprint': 'fp_4e32347616', 'finish_reason': 'stop', 'logprobs': None}, id='run-dc627503-6744-4101-b628-b495f208b147-0', usage_metadata={'input_tokens': 40, 'output_tokens': 61, 'total_tokens': 101})"
            ]
          },
          "metadata": {},
          "execution_count": 29
        }
      ]
    },
    {
      "cell_type": "code",
      "source": [
        "# Importing SQLDatabaseToolkit for creating tools to interact with the database\n",
        "from langchain_community.agent_toolkits import SQLDatabaseToolkit"
      ],
      "metadata": {
        "id": "JYyj_Rtd1QHj"
      },
      "execution_count": 30,
      "outputs": []
    },
    {
      "cell_type": "code",
      "source": [
        "# Initializing the toolkit with the database and the LLM\n",
        "toolkit=SQLDatabaseToolkit(db=db, llm=llm)"
      ],
      "metadata": {
        "id": "dyC5foRl1R4D"
      },
      "execution_count": 31,
      "outputs": []
    },
    {
      "cell_type": "code",
      "source": [
        "# Fetching tools from the toolkit\n",
        "tools=toolkit.get_tools()"
      ],
      "metadata": {
        "id": "DKLb8CLu1Tlo"
      },
      "execution_count": 32,
      "outputs": []
    },
    {
      "cell_type": "code",
      "source": [
        "tools"
      ],
      "metadata": {
        "colab": {
          "base_uri": "https://localhost:8080/"
        },
        "id": "SFZcem991VU4",
        "outputId": "ee921daf-d757-432c-e134-3226e6b97225"
      },
      "execution_count": 33,
      "outputs": [
        {
          "output_type": "execute_result",
          "data": {
            "text/plain": [
              "[QuerySQLDatabaseTool(description=\"Input to this tool is a detailed and correct SQL query, output is a result from the database. If the query is not correct, an error message will be returned. If an error is returned, rewrite the query, check the query, and try again. If you encounter an issue with Unknown column 'xxxx' in 'field list', use sql_db_schema to query the correct table fields.\", db=<langchain_community.utilities.sql_database.SQLDatabase object at 0x7f966beb1f00>),\n",
              " InfoSQLDatabaseTool(description='Input to this tool is a comma-separated list of tables, output is the schema and sample rows for those tables. Be sure that the tables actually exist by calling sql_db_list_tables first! Example Input: table1, table2, table3', db=<langchain_community.utilities.sql_database.SQLDatabase object at 0x7f966beb1f00>),\n",
              " ListSQLDatabaseTool(db=<langchain_community.utilities.sql_database.SQLDatabase object at 0x7f966beb1f00>),\n",
              " QuerySQLCheckerTool(description='Use this tool to double check if your query is correct before executing it. Always use this tool before executing a query with sql_db_query!', db=<langchain_community.utilities.sql_database.SQLDatabase object at 0x7f966beb1f00>, llm=ChatGroq(client=<groq.resources.chat.completions.Completions object at 0x7f966a84cf40>, async_client=<groq.resources.chat.completions.AsyncCompletions object at 0x7f966b082500>, model_name='llama-3.3-70b-versatile', model_kwargs={}, groq_api_key=SecretStr('**********')), llm_chain=LLMChain(verbose=False, prompt=PromptTemplate(input_variables=['dialect', 'query'], input_types={}, partial_variables={}, template='\\n{query}\\nDouble check the {dialect} query above for common mistakes, including:\\n- Using NOT IN with NULL values\\n- Using UNION when UNION ALL should have been used\\n- Using BETWEEN for exclusive ranges\\n- Data type mismatch in predicates\\n- Properly quoting identifiers\\n- Using the correct number of arguments for functions\\n- Casting to the correct data type\\n- Using the proper columns for joins\\n\\nIf there are any of the above mistakes, rewrite the query. If there are no mistakes, just reproduce the original query.\\n\\nOutput the final SQL query only.\\n\\nSQL Query: '), llm=ChatGroq(client=<groq.resources.chat.completions.Completions object at 0x7f966a84cf40>, async_client=<groq.resources.chat.completions.AsyncCompletions object at 0x7f966b082500>, model_name='llama-3.3-70b-versatile', model_kwargs={}, groq_api_key=SecretStr('**********')), output_parser=StrOutputParser(), llm_kwargs={}))]"
            ]
          },
          "metadata": {},
          "execution_count": 33
        }
      ]
    },
    {
      "cell_type": "code",
      "source": [
        "# Displaying all the tools\n",
        "for tool in tools:\n",
        "    print(tool.name)"
      ],
      "metadata": {
        "colab": {
          "base_uri": "https://localhost:8080/"
        },
        "id": "zVtdeSwv1Ygi",
        "outputId": "b9684028-4d3e-4ea2-f34f-15a9fdcb7c5d"
      },
      "execution_count": 34,
      "outputs": [
        {
          "output_type": "stream",
          "name": "stdout",
          "text": [
            "sql_db_query\n",
            "sql_db_schema\n",
            "sql_db_list_tables\n",
            "sql_db_query_checker\n"
          ]
        }
      ]
    },
    {
      "cell_type": "code",
      "source": [
        "# Fetching a specific tool for listing tables in the database\n",
        "list_tables_tool = next((tool for tool in tools if tool.name == \"sql_db_list_tables\"), None)"
      ],
      "metadata": {
        "id": "NlLSsaKA1aag"
      },
      "execution_count": 35,
      "outputs": []
    },
    {
      "cell_type": "code",
      "source": [
        "list_tables_tool"
      ],
      "metadata": {
        "colab": {
          "base_uri": "https://localhost:8080/"
        },
        "id": "FfDsLfXK1hNQ",
        "outputId": "260c8869-18b4-4701-8445-6ce679ec0d66"
      },
      "execution_count": 36,
      "outputs": [
        {
          "output_type": "execute_result",
          "data": {
            "text/plain": [
              "ListSQLDatabaseTool(db=<langchain_community.utilities.sql_database.SQLDatabase object at 0x7f966beb1f00>)"
            ]
          },
          "metadata": {},
          "execution_count": 36
        }
      ]
    },
    {
      "cell_type": "code",
      "source": [
        "# Fetching a specific tool for getting schema information\n",
        "get_schema_tool = next((tool for tool in tools if tool.name == \"sql_db_schema\"), None)"
      ],
      "metadata": {
        "id": "wyj6C9h41nYP"
      },
      "execution_count": 37,
      "outputs": []
    },
    {
      "cell_type": "code",
      "source": [
        "get_schema_tool"
      ],
      "metadata": {
        "colab": {
          "base_uri": "https://localhost:8080/"
        },
        "id": "uLRkep0d1rJA",
        "outputId": "1d8f3bea-375d-49cc-9967-74d26235da47"
      },
      "execution_count": 38,
      "outputs": [
        {
          "output_type": "execute_result",
          "data": {
            "text/plain": [
              "InfoSQLDatabaseTool(description='Input to this tool is a comma-separated list of tables, output is the schema and sample rows for those tables. Be sure that the tables actually exist by calling sql_db_list_tables first! Example Input: table1, table2, table3', db=<langchain_community.utilities.sql_database.SQLDatabase object at 0x7f966beb1f00>)"
            ]
          },
          "metadata": {},
          "execution_count": 38
        }
      ]
    },
    {
      "cell_type": "code",
      "source": [
        "# Invoking the list tables tool\n",
        "list_tables_tool.invoke(\"\")"
      ],
      "metadata": {
        "colab": {
          "base_uri": "https://localhost:8080/",
          "height": 36
        },
        "id": "aixT8fUe1tYX",
        "outputId": "99054b1e-8763-43dc-cd69-0e59ac24a90c"
      },
      "execution_count": 39,
      "outputs": [
        {
          "output_type": "execute_result",
          "data": {
            "text/plain": [
              "'customers, employees, orders'"
            ],
            "application/vnd.google.colaboratory.intrinsic+json": {
              "type": "string"
            }
          },
          "metadata": {},
          "execution_count": 39
        }
      ]
    },
    {
      "cell_type": "code",
      "source": [
        "# Invoking the schema tool to display the schema of the employees table\n",
        "print(get_schema_tool.invoke(\"employees\"))"
      ],
      "metadata": {
        "colab": {
          "base_uri": "https://localhost:8080/"
        },
        "id": "ym0LsDhl1ver",
        "outputId": "2dd5c1a8-347e-4f08-90f9-d1c6c6cbc779"
      },
      "execution_count": 42,
      "outputs": [
        {
          "output_type": "stream",
          "name": "stdout",
          "text": [
            "\n",
            "CREATE TABLE employees (\n",
            "\temp_id INTEGER, \n",
            "\tfirst_name TEXT NOT NULL, \n",
            "\tlast_name TEXT NOT NULL, \n",
            "\temail TEXT NOT NULL, \n",
            "\thire_date TEXT NOT NULL, \n",
            "\tsalary REAL NOT NULL, \n",
            "\tPRIMARY KEY (emp_id), \n",
            "\tUNIQUE (email)\n",
            ")\n",
            "\n",
            "/*\n",
            "3 rows from employees table:\n",
            "emp_id\tfirst_name\tlast_name\temail\thire_date\tsalary\n",
            "1\tRizwan\tNazir\trizwan.nazir@abc.com\t2023-06-01\t50000.0\n",
            "2\tZia\tKhan\tzia.k@gmail.com\t2022-04-15\t60000.0\n",
            "3\tAlice\tJohnson\talice.johnson@jpg.com\t2021-09-30\t55000.0\n",
            "*/\n"
          ]
        }
      ]
    },
    {
      "cell_type": "markdown",
      "source": [
        "The method `run_no_throw()` suggests that it executes a query (likely against a database) and handles exceptions internally without throwing them to the caller. The goal is typically to ensure the program continues running smoothly even if the query fails.\n",
        "\n",
        "**Key Features of `run_no_throw()`**\n",
        "1. **Execute a Query**: Runs the SQL query passed as an argument.\n",
        "2. **Error Handling**: Catches and suppresses exceptions, such as SQL syntax errors or connection issues, instead of letting them propagate.\n",
        "3. **Returns a Result**: Often, it either:\n",
        "- Returns the query result if successful.\n",
        "- Returns a fallback value (like None or an empty dataset) in case of failure.\n",
        "\n",
        "**Why Use `run_no_throw()`?**\n",
        "- **Resilience**: Ensures the application doesn't crash due to unexpected database errors.\n",
        "- **Simplified Code**: Avoids the need for explicit try...except blocks around each database query.\n",
        "- **Controlled Behavior**: Offers predictable behavior in scenarios where the query might fail (e.g., in exploratory or error-prone tasks).\n",
        "\n",
        "**Example Implementation**\n",
        "If you were implementing such a method in Python, it might look like this:\n",
        "\n",
        "class Database:\n",
        "    def run_no_throw(self, query):\n",
        "        try:\n",
        "            # Assume `self.connection` is a valid database connection\n",
        "            cursor = self.connection.cursor()\n",
        "            cursor.execute(query)\n",
        "            return cursor.fetchall()  # Or another method to retrieve results\n",
        "        except Exception as e:\n",
        "            print(f\"Error executing query: {e}\")\n",
        "            return None  # Fallback value\n",
        "\n",
        "**Usage Example**\n",
        "db = Database()\n",
        "\n",
        "# A safe way to run queries without crashing the program\n",
        "result = db.run_no_throw(\"SELECT * FROM users WHERE age > 30\")\n",
        "\n",
        "if result is not None:\n",
        "    print(\"Query executed successfully:\", result)\n",
        "else:\n",
        "    print(\"Query failed, but the program continues running.\")\n",
        "**When to Use It**\n",
        "- **Testing/Debugging:** To test queries without interrupting the workflow.\n",
        "- **Non-Critical Queries**: For queries where failure can be safely ignored or logged.\n",
        "- **Fail-Safe Operations**: When the system must keep running regardless of individual query outcomes.\n",
        "\n",
        "If this function is part of a specific library or framework, its exact behavior might vary, but it generally follows this pattern. If you're working in a specific framework, its documentation might provide more details."
      ],
      "metadata": {
        "id": "50goTaS718MA"
      }
    },
    {
      "cell_type": "code",
      "source": [
        "# Importing necessary modules for tool creation\n",
        "from langchain_core.tools import tool\n",
        "\n",
        "# Defining a custom tool for running database queries and returning results\n",
        "@tool\n",
        "def db_query_tool(query:str)->str:\n",
        "    \"\"\"\n",
        "    Execute a SQL query against the database and return the result.\n",
        "    If the query is invalid or returns no result, an error message will be returned.\n",
        "    In case of an error, the user is advised to rewrite the query and try again.\n",
        "    \"\"\"\n",
        "    result=db.run_no_throw(query)\n",
        "    if not result:\n",
        "        return \"Error: Query failed. Please rewrite your query and try again.\"\n",
        "    return result"
      ],
      "metadata": {
        "id": "CkrZL8513KB4"
      },
      "execution_count": 43,
      "outputs": []
    },
    {
      "cell_type": "code",
      "source": [
        "# Testing the db_query_tool by running a query on the employees table\n",
        "db.run(\"SELECT * FROM Employees;\")"
      ],
      "metadata": {
        "colab": {
          "base_uri": "https://localhost:8080/",
          "height": 55
        },
        "id": "CiObULgJ3MLo",
        "outputId": "9641eb38-f0b7-4f64-89d3-72bb9e907200"
      },
      "execution_count": 44,
      "outputs": [
        {
          "output_type": "execute_result",
          "data": {
            "text/plain": [
              "\"[(1, 'Rizwan', 'Nazir', 'rizwan.nazir@abc.com', '2023-06-01', 50000.0), (2, 'Zia', 'Khan', 'zia.k@gmail.com', '2022-04-15', 60000.0), (3, 'Alice', 'Johnson', 'alice.johnson@jpg.com', '2021-09-30', 55000.0), (4, 'Bob', 'Brown', 'bob.brown@uio.com', '2020-01-20', 45000.0)]\""
            ],
            "application/vnd.google.colaboratory.intrinsic+json": {
              "type": "string"
            }
          },
          "metadata": {},
          "execution_count": 44
        }
      ]
    },
    {
      "cell_type": "code",
      "source": [
        "db_query_tool.invoke(\"SELECT * FROM Employees;\")"
      ],
      "metadata": {
        "colab": {
          "base_uri": "https://localhost:8080/",
          "height": 55
        },
        "id": "b47ZWUaf3P0n",
        "outputId": "3fe1dd99-a5ea-447f-e4ea-196aebec26e6"
      },
      "execution_count": 45,
      "outputs": [
        {
          "output_type": "execute_result",
          "data": {
            "text/plain": [
              "\"[(1, 'Rizwan', 'Nazir', 'rizwan.nazir@abc.com', '2023-06-01', 50000.0), (2, 'Zia', 'Khan', 'zia.k@gmail.com', '2022-04-15', 60000.0), (3, 'Alice', 'Johnson', 'alice.johnson@jpg.com', '2021-09-30', 55000.0), (4, 'Bob', 'Brown', 'bob.brown@uio.com', '2020-01-20', 45000.0)]\""
            ],
            "application/vnd.google.colaboratory.intrinsic+json": {
              "type": "string"
            }
          },
          "metadata": {},
          "execution_count": 45
        }
      ]
    },
    {
      "cell_type": "markdown",
      "source": [
        "## query_check\n",
        "## query_gen"
      ],
      "metadata": {
        "id": "ZW8Tr5e33TiX"
      }
    },
    {
      "cell_type": "code",
      "source": [
        "import warnings\n",
        "# Suppress all warnings\n",
        "warnings.filterwarnings(\"ignore\")"
      ],
      "metadata": {
        "id": "66XsvzUn3YFB"
      },
      "execution_count": 46,
      "outputs": []
    },
    {
      "cell_type": "code",
      "source": [
        "!pip install -qU langgraph"
      ],
      "metadata": {
        "id": "_6RF9Yy_30z6"
      },
      "execution_count": 51,
      "outputs": []
    },
    {
      "cell_type": "code",
      "source": [
        "# Importing modules for advanced query generation and tool fallback mechanisms\n",
        "from typing import Annotated, Literal\n",
        "from langchain_core.messages import AIMessage\n",
        "from langchain_core.pydantic_v1 import BaseModel, Field\n",
        "from typing_extensions import TypedDict\n",
        "from langgraph.graph import END, StateGraph, START\n",
        "from langgraph.graph.message import AnyMessage, add_messages\n",
        "from typing import Any\n",
        "from langchain_core.messages import ToolMessage\n",
        "from langchain_core.runnables import RunnableLambda, RunnableWithFallbacks\n",
        "from langgraph.prebuilt import ToolNode"
      ],
      "metadata": {
        "id": "e3Apr4fi3anQ"
      },
      "execution_count": 52,
      "outputs": []
    },
    {
      "cell_type": "code",
      "source": [
        "# Setting up the query-checking system prompt\n",
        "from langchain_core.prompts import ChatPromptTemplate\n",
        "\n",
        "query_check_system = \"\"\"You are a SQL expert with a strong attention to detail.\n",
        "Double check the SQLite query for common mistakes, including:\n",
        "- Using NOT IN with NULL values\n",
        "- Using UNION when UNION ALL should have been used\n",
        "- Using BETWEEN for exclusive ranges\n",
        "- Data type mismatch in predicates\n",
        "- Properly quoting identifiers\n",
        "- Using the correct number of arguments for functions\n",
        "- Casting to the correct data type\n",
        "- Using the proper columns for joins\n",
        "\n",
        "If there are any of the above mistakes, rewrite the query. If there are no mistakes, just reproduce the original query.\n",
        "\n",
        "You will call the appropriate tool to execute the query after running this check.\"\"\"\n",
        "\n",
        "# Initializing the query-checking prompt with the LLM and database tools\n",
        "query_check_prompt = ChatPromptTemplate.from_messages([(\"system\", query_check_system), (\"placeholder\", \"{messages}\")])\n",
        "\n",
        "query_check = query_check_prompt | llm.bind_tools([db_query_tool])"
      ],
      "metadata": {
        "id": "i8weYYjt4BGW"
      },
      "execution_count": 53,
      "outputs": []
    },
    {
      "cell_type": "code",
      "source": [
        "# Testing the query-checking system with a sample query\n",
        "query_check.invoke({\"messages\": [(\"user\", \"SELECT * FROM Employees LIMIT 5;\")]})"
      ],
      "metadata": {
        "colab": {
          "base_uri": "https://localhost:8080/"
        },
        "id": "rxYB-fJX4DyW",
        "outputId": "ee27cb5d-af71-48bf-bc84-060903d9e3a7"
      },
      "execution_count": 54,
      "outputs": [
        {
          "output_type": "execute_result",
          "data": {
            "text/plain": [
              "AIMessage(content='', additional_kwargs={'tool_calls': [{'id': 'call_3s7x', 'function': {'arguments': '{\"query\": \"SELECT * FROM Employees LIMIT 5;\"}', 'name': 'db_query_tool'}, 'type': 'function'}]}, response_metadata={'token_usage': {'completion_tokens': 21, 'prompt_tokens': 432, 'total_tokens': 453, 'completion_time': 0.10368533, 'prompt_time': 0.088608167, 'queue_time': 1.858245806, 'total_time': 0.192293497}, 'model_name': 'llama-3.3-70b-versatile', 'system_fingerprint': 'fp_c0cfa69934', 'finish_reason': 'tool_calls', 'logprobs': None}, id='run-81feb003-58d3-4ffd-aaf9-38753aea5441-0', tool_calls=[{'name': 'db_query_tool', 'args': {'query': 'SELECT * FROM Employees LIMIT 5;'}, 'id': 'call_3s7x', 'type': 'tool_call'}], usage_metadata={'input_tokens': 432, 'output_tokens': 21, 'total_tokens': 453})"
            ]
          },
          "metadata": {},
          "execution_count": 54
        }
      ]
    },
    {
      "cell_type": "code",
      "source": [
        "# Define a class to structure the final answer submitted by the workflow\n",
        "class SubmitFinalAnswer(BaseModel):\n",
        "    \"\"\"Submit the final answer to the user based on the query results.\"\"\"\n",
        "    final_answer: str = Field(..., description=\"The final answer to the user\")\n",
        "\n",
        "\n",
        "# System prompt for generating SQL queries based on user questions and database schema\n",
        "query_gen_system = \"\"\"You are a SQL expert with a strong attention to detail.\n",
        "\n",
        "Given an input question, output a syntactically correct SQLite query to run, then look at the results of the query and return the answer.\n",
        "\n",
        "DO NOT call any tool besides SubmitFinalAnswer to submit the final answer.\n",
        "\n",
        "When generating the query:\n",
        "\n",
        "Output the SQL query that answers the input question without a tool call.\n",
        "\n",
        "Unless the user specifies a specific number of examples they wish to obtain, always limit your query to at most 5 results.\n",
        "You can order the results by a relevant column to return the most interesting examples in the database.\n",
        "Never query for all the columns from a specific table, only ask for the relevant columns given the question.\n",
        "\n",
        "If you get an error while executing a query, rewrite the query and try again.\n",
        "\n",
        "If you get an empty result set, you should try to rewrite the query to get a non-empty result set.\n",
        "NEVER make stuff up if you don't have enough information to answer the query... just say you don't have enough information.\n",
        "\n",
        "If you have enough information to answer the input question, simply invoke the appropriate tool to submit the final answer to the user.\n",
        "\n",
        "DO NOT make any DML statements (INSERT, UPDATE, DELETE, DROP etc.) to the database. Do not return any sql query except answer.\"\"\"\n",
        "\n",
        "# Create a prompt template for query generation and bind it to the LLM\n",
        "query_gen_prompt = ChatPromptTemplate.from_messages([(\"system\", query_gen_system), (\"placeholder\", \"{messages}\")])\n",
        "\n",
        "query_gen = query_gen_prompt | llm.bind_tools([SubmitFinalAnswer])"
      ],
      "metadata": {
        "id": "suP_yOfB4HLx"
      },
      "execution_count": 55,
      "outputs": []
    },
    {
      "cell_type": "code",
      "source": [
        "# Define the structure of the state used by the workflow\n",
        "class State(TypedDict):\n",
        "    messages: Annotated[list[AnyMessage], add_messages]"
      ],
      "metadata": {
        "id": "6CJEBfn-4Kj9"
      },
      "execution_count": 56,
      "outputs": []
    },
    {
      "cell_type": "code",
      "source": [
        "# Define a function to initiate the first tool call in the workflow\n",
        "def first_tool_call(state:State)->dict[str,list[AIMessage]]:\n",
        "    return{\"messages\": [AIMessage(content=\"\",tool_calls=[{\"name\":\"sql_db_list_tables\",\"args\":{},\"id\":\"tool_abcd123\"}])]}"
      ],
      "metadata": {
        "id": "hbIcNjhk4MZu"
      },
      "execution_count": 57,
      "outputs": []
    },
    {
      "cell_type": "code",
      "source": [
        "# Handle tool errors by returning error messages and allowing for corrections\n",
        "def handle_tool_error(state:State):\n",
        "    error = state.get(\"error\")\n",
        "    tool_calls = state[\"messages\"][-1].tool_calls\n",
        "    return {\n",
        "        \"messages\": [\n",
        "        ToolMessage(content=f\"Error: {repr(error)}\\n please fix your mistakes.\",tool_call_id=tc[\"id\"],)\n",
        "        for tc in tool_calls\n",
        "        ]\n",
        "    }"
      ],
      "metadata": {
        "id": "0BeWcAnc4QbO"
      },
      "execution_count": 58,
      "outputs": []
    },
    {
      "cell_type": "code",
      "source": [
        "# Create a tool node with a fallback mechanism for handling errors\n",
        "def create_tool_node_with_fallback(tools:list)-> RunnableWithFallbacks[Any, dict]:\n",
        "    return ToolNode(tools).with_fallbacks([RunnableLambda(handle_tool_error)], exception_key=\"error\")"
      ],
      "metadata": {
        "id": "p2WJthAc4SII"
      },
      "execution_count": 59,
      "outputs": []
    },
    {
      "cell_type": "code",
      "source": [
        "# Function to invoke the query check tool to validate generated queries\n",
        "def model_check_query(state:State):\n",
        "    return {\"messages\": [query_check.invoke({\"messages\": [state[\"messages\"][-1]]})]}"
      ],
      "metadata": {
        "id": "02we50nH4Tmw"
      },
      "execution_count": 60,
      "outputs": []
    },
    {
      "cell_type": "code",
      "source": [
        "# Define the query generation node with error handling for invalid tool calls\n",
        "def query_gen_node(state:State):\n",
        "    message = query_gen.invoke(state)\n",
        "\n",
        "    # Sometimes, the LLM will hallucinate and call the wrong tool. We need to catch this and return an error message.\n",
        "    tool_messages = []\n",
        "    if message.tool_calls:\n",
        "        for tc in message.tool_calls:\n",
        "            if tc[\"name\"] != \"SubmitFinalAnswer\":\n",
        "                tool_messages.append(\n",
        "                    ToolMessage(\n",
        "                        content=f\"Error: The wrong tool was called: {tc['name']}. Please fix your mistakes. Remember to only call SubmitFinalAnswer to submit the final answer. Generated queries should be outputted WITHOUT a tool call.\",\n",
        "                        tool_call_id=tc[\"id\"],\n",
        "                    )\n",
        "                )\n",
        "    else:\n",
        "        tool_messages = []\n",
        "    return {\"messages\": [message] + tool_messages}"
      ],
      "metadata": {
        "id": "213AdvLJ4VdP"
      },
      "execution_count": 61,
      "outputs": []
    },
    {
      "cell_type": "code",
      "source": [
        "# Define logic to determine whether the workflow should continue or end\n",
        "def should_continue(state:State):\n",
        "    messages = state[\"messages\"]\n",
        "    last_message = messages[-1]\n",
        "    if getattr(last_message, \"tool_calls\", None):\n",
        "        return END\n",
        "    if last_message.content.startswith(\"Error:\"):\n",
        "        return \"query_gen\"\n",
        "    else:\n",
        "        return \"correct_query\""
      ],
      "metadata": {
        "id": "fA8YTcjy4XdA"
      },
      "execution_count": 62,
      "outputs": []
    },
    {
      "cell_type": "code",
      "source": [
        "# Define the workflow structure and nodes\n",
        "workflow = StateGraph(State)"
      ],
      "metadata": {
        "id": "ePnW8IyZ4Y62"
      },
      "execution_count": 63,
      "outputs": []
    },
    {
      "cell_type": "code",
      "source": [
        "# Add nodes for each step in the workflow\n",
        "workflow.add_node(\"first_tool_call\",first_tool_call)\n",
        "workflow.add_node(\"list_tables_tool\", create_tool_node_with_fallback([list_tables_tool]))\n",
        "workflow.add_node(\"get_schema_tool\", create_tool_node_with_fallback([get_schema_tool]))\n",
        "model_get_schema = llm.bind_tools([get_schema_tool])\n",
        "workflow.add_node(\"model_get_schema\",lambda state: {\"messages\": [model_get_schema.invoke(state[\"messages\"])],},)\n",
        "workflow.add_node(\"query_gen\", query_gen_node)\n",
        "workflow.add_node(\"correct_query\", model_check_query)\n",
        "workflow.add_node(\"execute_query\", create_tool_node_with_fallback([db_query_tool]))"
      ],
      "metadata": {
        "colab": {
          "base_uri": "https://localhost:8080/"
        },
        "id": "rHYzH5Gl4bqJ",
        "outputId": "2ebac9de-93d8-42ee-ad01-ecd9ff5046e1"
      },
      "execution_count": 64,
      "outputs": [
        {
          "output_type": "execute_result",
          "data": {
            "text/plain": [
              "<langgraph.graph.state.StateGraph at 0x7f966b083730>"
            ]
          },
          "metadata": {},
          "execution_count": 64
        }
      ]
    },
    {
      "cell_type": "code",
      "source": [
        "# Define edges to connect the workflow nodes\n",
        "workflow.add_edge(START, \"first_tool_call\")\n",
        "workflow.add_edge(\"first_tool_call\", \"list_tables_tool\")\n",
        "workflow.add_edge(\"list_tables_tool\", \"model_get_schema\")\n",
        "workflow.add_edge(\"model_get_schema\", \"get_schema_tool\")\n",
        "workflow.add_edge(\"get_schema_tool\", \"query_gen\")\n",
        "workflow.add_conditional_edges(\"query_gen\",should_continue,\n",
        "                               {END:END,\n",
        "                                \"query_gen\":\"query_gen\",\n",
        "                                \"correct_query\":\"correct_query\"})\n",
        "workflow.add_edge(\"correct_query\", \"execute_query\")\n",
        "workflow.add_edge(\"execute_query\", \"query_gen\")"
      ],
      "metadata": {
        "colab": {
          "base_uri": "https://localhost:8080/"
        },
        "id": "gJjQVSb_4eIe",
        "outputId": "25a82d64-7ba7-4952-e724-1c9620c0df47"
      },
      "execution_count": 65,
      "outputs": [
        {
          "output_type": "execute_result",
          "data": {
            "text/plain": [
              "<langgraph.graph.state.StateGraph at 0x7f966b083730>"
            ]
          },
          "metadata": {},
          "execution_count": 65
        }
      ]
    },
    {
      "cell_type": "code",
      "source": [
        "# Compile the workflow for execution\n",
        "app=workflow.compile()"
      ],
      "metadata": {
        "id": "4DrNYlX-4fsm"
      },
      "execution_count": 66,
      "outputs": []
    },
    {
      "cell_type": "code",
      "source": [
        "from IPython.display import Image, display\n",
        "from langchain_core.runnables.graph import MermaidDrawMethod\n",
        "\n",
        "display(\n",
        "    Image(\n",
        "        app.get_graph().draw_mermaid_png(\n",
        "            draw_method=MermaidDrawMethod.API,\n",
        "        )\n",
        "    )\n",
        ")"
      ],
      "metadata": {
        "colab": {
          "base_uri": "https://localhost:8080/",
          "height": 761
        },
        "id": "Fei3-UUM4hsW",
        "outputId": "71f87b3b-1e9d-4b23-d4bf-17eb87cbe4c9"
      },
      "execution_count": 67,
      "outputs": [
        {
          "output_type": "display_data",
          "data": {
            "image/png": "[encoded data removed]",
            "text/plain": [
              "<IPython.core.display.Image object>"
            ]
          },
          "metadata": {}
        }
      ]
    },
    {
      "cell_type": "code",
      "source": [
        "# Constructing a query as a dictionary, which includes a user question\n",
        "query={\"messages\": [{\"role\": \"user\", \"content\": \"How many customers are in the customers table? List all customers with their email addresses. Show the phone numbers of customers whose last name is \\\"Smith.\\\"\"}]}"
      ],
      "metadata": {
        "id": "7BNJxI8U4j72"
      },
      "execution_count": 82,
      "outputs": []
    },
    {
      "cell_type": "code",
      "source": [
        "# Invoking the compiled workflow application with the user query\n",
        "response=app.invoke(query)"
      ],
      "metadata": {
        "id": "K3C19JIP4mjP"
      },
      "execution_count": 78,
      "outputs": []
    },
    {
      "cell_type": "code",
      "source": [
        "# Extracting the final answer from the tool calls in the workflow's response\n",
        "response[\"messages\"][-1].tool_calls[0][\"args\"][\"final_answer\"]"
      ],
      "metadata": {
        "colab": {
          "base_uri": "https://localhost:8080/",
          "height": 55
        },
        "id": "wojTyKW14n93",
        "outputId": "0b6eec3b-cb3b-496e-b7a5-33819ac4a30c"
      },
      "execution_count": 79,
      "outputs": [
        {
          "output_type": "execute_result",
          "data": {
            "text/plain": [
              "\"There are 4 customers in the customers table. The customers with their email addresses are: John Doe - john.doe@example.com, Jane Smith - jane.smith@example.com, Emily Davis - emily.davis@example.com, Michael Brown - michael.brown@example.com. The phone number of the customer whose last name is 'Smith' is: 9876543210\""
            ],
            "application/vnd.google.colaboratory.intrinsic+json": {
              "type": "string"
            }
          },
          "metadata": {},
          "execution_count": 79
        }
      ]
    },
    {
      "cell_type": "markdown",
      "source": [
        "Basic Questions\n",
        "\n",
        "About Customers Table: How many customers are in the customers table? List all customers with their email addresses. Show the phone numbers of customers whose last name is \"Smith.\"\n",
        "\n",
        "About Orders Table: How many orders are in the orders table? What is the total amount of all orders combined? List all orders placed on or after \"2023-12-01.\" Using WHERE Clause: Which customers placed orders greater than $300? Show all customers whose email contains \"example.com.\"\n",
        "\n",
        "Intermediate Questions\n",
        "\n",
        "Joins: List all orders with the customer’s first and last name. Find the total amount spent by each customer. Show orders along with customer details where the order amount is greater than $200.\n",
        "\n",
        "Aggregation: What is the average order amount? How many orders were placed by each customer? What is the highest order amount, and who placed it?\n",
        "\n",
        "Date Queries: How many orders were placed in December 2023? Show customers who have not placed any orders. Find the most recent order date in the orders table. Advanced Questions Subqueries:\n",
        "\n",
        "Which customer placed the maximum number of orders? List customers who placed orders totaling more than $500. Find customers who haven't placed any orders yet. Window Functions (if supported):\n",
        "\n",
        "Rank customers based on the total amount they spent. Show the running total of order amounts by date. Error Handling/Edge Cases:\n",
        "\n",
        "What happens if a customer ID exists in orders but not in customers? How does the database behave when two customers have the same email address? Testing Agent Capabilities Complex Queries: Show the top 3 customers who spent the most money. List all customers and their total order amount, including those who haven't placed any orders (use LEFT JOIN). Find customers who placed orders only in the last 30 days."
      ],
      "metadata": {
        "id": "Pp1jheOR4z82"
      }
    }
  ]
}