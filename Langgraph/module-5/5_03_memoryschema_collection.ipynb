{
  "nbformat": 4,
  "nbformat_minor": 0,
  "metadata": {
    "colab": {
      "provenance": [],
      "authorship_tag": "ABX9TyMpzWlvz9cXF4vjP6EnVKOh",
      "include_colab_link": true
    },
    "kernelspec": {
      "name": "python3",
      "display_name": "Python 3"
    },
    "language_info": {
      "name": "python"
    }
  },
  "cells": [
    {
      "cell_type": "markdown",
      "metadata": {
        "id": "view-in-github",
        "colab_type": "text"
      },
      "source": [
        "<a href=\"https://colab.research.google.com/github/Rizwankaka/Agentic-AI-/blob/main/Langgraph/module-5/5_03_memoryschema_collection.ipynb\" target=\"_parent\"><img src=\"https://colab.research.google.com/assets/colab-badge.svg\" alt=\"Open In Colab\"/></a>"
      ]
    },
    {
      "cell_type": "markdown",
      "source": [
        "# Chatbot with Collection Schema\n",
        "## Review\n",
        "We extended our chatbot to save semantic memories to a single [user profile](https://langchain-ai.github.io/langgraph/concepts/memory/#profile).\n",
        "\n",
        "We also introduced a library, [Trustcall](https://github.com/hinthornw/trustcall), to update this schema with new information."
      ],
      "metadata": {
        "id": "tdv2zV3HzdMe"
      }
    },
    {
      "cell_type": "markdown",
      "source": [
        "## Goals\n",
        "\n",
        "Sometimes we want to save memories to a [collection](https://docs.google.com/presentation/d/181mvjlgsnxudQI6S3ritg9sooNyu4AcLLFH1UK0kIuk/edit#slide=id.g30eb3c8cf10_0_200) rather than single profile.\n",
        "\n",
        "Here we'll update our chatbot to [save memories to a collection](https://langchain-ai.github.io/langgraph/concepts/memory/#collection).\n",
        "\n",
        "We'll also show how to use [Trustcall](https://github.com/hinthornw/trustcall) to update this collection."
      ],
      "metadata": {
        "id": "VdMTefIXztSD"
      }
    },
    {
      "cell_type": "code",
      "execution_count": 1,
      "metadata": {
        "id": "iKafmuowy_Sc"
      },
      "outputs": [],
      "source": [
        "%%capture --no-stderr\n",
        "%pip install -U langchain_openai langgraph trustcall langchain_core"
      ]
    },
    {
      "cell_type": "code",
      "source": [
        "import os\n",
        "from google.colab import userdata\n",
        "\n",
        "os.environ[\"LANGCHAIN_API_KEY\"] = userdata.get('LANGCHAIN_API_KEY')\n",
        "\n",
        "os.environ[\"LANGCHAIN_TRACING_V2\"] = \"true\"\n",
        "os.environ[\"LANGCHAIN_PROJECT\"] = \"langchain-academy\""
      ],
      "metadata": {
        "id": "T3Fqg4UB0Nma"
      },
      "execution_count": 2,
      "outputs": []
    },
    {
      "cell_type": "markdown",
      "source": [
        "## Defining a collection schema\n",
        "Instead of storing user information in a fixed profile structure, we'll create a flexible collection schema to store memories about user interactions.\n",
        "\n",
        "Each memory will be stored as a separate entry with a single `content` field for the main information we want to remember\n",
        "\n",
        "This approach allows us to build an open-ended collection of memories that can grow and change as we learn more about the user.\n",
        "\n",
        "We can define a collection schema as a [Pydantic](https://docs.pydantic.dev/latest/) object."
      ],
      "metadata": {
        "id": "OtBJOjYS0Q6p"
      }
    },
    {
      "cell_type": "code",
      "source": [
        "from pydantic import BaseModel, Field\n",
        "\n",
        "class Memory(BaseModel):\n",
        "    content: str = Field(description=\"The main content of the memory. For example: User expressed interest in learning about French.\")\n",
        "\n",
        "class MemoryCollection(BaseModel):\n",
        "    memories: list[Memory] = Field(description=\"A list of memories about the user.\")"
      ],
      "metadata": {
        "id": "zv-Z0--p1AxJ"
      },
      "execution_count": 3,
      "outputs": []
    },
    {
      "cell_type": "code",
      "source": [
        "os.environ[\"OPENAI_API_KEY\"] = userdata.get('OPENAI_API_KEY')"
      ],
      "metadata": {
        "id": "iy-RVeBR1Dhj"
      },
      "execution_count": 4,
      "outputs": []
    },
    {
      "cell_type": "markdown",
      "source": [
        "We can used LangChain's chat model chat model interface's `with_structured_output` method to enforce structured output."
      ],
      "metadata": {
        "id": "G2SRPXBj1GoA"
      }
    },
    {
      "cell_type": "code",
      "source": [
        "from langchain_core.messages import HumanMessage\n",
        "from langchain_openai import ChatOpenAI\n",
        "\n",
        "# Initialize the model\n",
        "model = ChatOpenAI(model=\"gpt-4o-mini\", temperature=0)\n",
        "\n",
        "# Bind schema to model\n",
        "model_with_structure = model.with_structured_output(MemoryCollection)\n",
        "\n",
        "# Invoke the model to produce structured output that matches the schema\n",
        "memory_collection = model_with_structure.invoke([HumanMessage(\"My name is Rizwan. I like to bike.\")])\n",
        "memory_collection.memories"
      ],
      "metadata": {
        "colab": {
          "base_uri": "https://localhost:8080/"
        },
        "id": "ZroW_1hX1LYD",
        "outputId": "270c33de-dde0-4749-aa6a-85d10f34543a"
      },
      "execution_count": 5,
      "outputs": [
        {
          "output_type": "execute_result",
          "data": {
            "text/plain": [
              "[Memory(content=\"User's name is Rizwan.\"),\n",
              " Memory(content='User likes to bike.')]"
            ]
          },
          "metadata": {},
          "execution_count": 5
        }
      ]
    },
    {
      "cell_type": "markdown",
      "source": [
        "We can use `model_dump()` to serialize a Pydantic model instance into a Python dictionary."
      ],
      "metadata": {
        "id": "6J7fOdWv1TDA"
      }
    },
    {
      "cell_type": "code",
      "source": [
        "memory_collection.memories[0].model_dump()"
      ],
      "metadata": {
        "colab": {
          "base_uri": "https://localhost:8080/"
        },
        "id": "UGjdgCFn1WRR",
        "outputId": "c0c44c45-7739-4095-efea-90ace171f8ea"
      },
      "execution_count": 6,
      "outputs": [
        {
          "output_type": "execute_result",
          "data": {
            "text/plain": [
              "{'content': \"User's name is Rizwan.\"}"
            ]
          },
          "metadata": {},
          "execution_count": 6
        }
      ]
    },
    {
      "cell_type": "markdown",
      "source": [
        "Save dictionary representation of each memory to the store."
      ],
      "metadata": {
        "id": "AWxN8bON1Y4J"
      }
    },
    {
      "cell_type": "code",
      "source": [
        "import uuid\n",
        "from langgraph.store.memory import InMemoryStore\n",
        "\n",
        "# Initialize the in-memory store\n",
        "in_memory_store = InMemoryStore()\n",
        "\n",
        "# Namespace for the memory to save\n",
        "user_id = \"1\"\n",
        "namespace_for_memory = (user_id, \"memories\")\n",
        "\n",
        "# Save a memory to namespace as key and value\n",
        "key = str(uuid.uuid4())\n",
        "value = memory_collection.memories[0].model_dump()\n",
        "in_memory_store.put(namespace_for_memory, key, value)\n",
        "\n",
        "key = str(uuid.uuid4())\n",
        "value = memory_collection.memories[1].model_dump()\n",
        "in_memory_store.put(namespace_for_memory, key, value)"
      ],
      "metadata": {
        "id": "cJWrACem1bkI"
      },
      "execution_count": 7,
      "outputs": []
    },
    {
      "cell_type": "markdown",
      "source": [
        "Search for memories in the store."
      ],
      "metadata": {
        "id": "owJcDPlh1gCZ"
      }
    },
    {
      "cell_type": "code",
      "source": [
        "# Search\n",
        "for m in in_memory_store.search(namespace_for_memory):\n",
        "    print(m.dict())"
      ],
      "metadata": {
        "colab": {
          "base_uri": "https://localhost:8080/"
        },
        "id": "1lvKwXBu1hmL",
        "outputId": "fd19bfc8-6902-4140-9f6d-63ed1c2c4056"
      },
      "execution_count": 8,
      "outputs": [
        {
          "output_type": "stream",
          "name": "stdout",
          "text": [
            "{'namespace': ['1', 'memories'], 'key': 'c8a528c0-d051-45bb-9c3f-5b19ee34e1c0', 'value': {'content': \"User's name is Rizwan.\"}, 'created_at': '2025-01-11T14:47:41.516893+00:00', 'updated_at': '2025-01-11T14:47:41.516898+00:00', 'score': None}\n",
            "{'namespace': ['1', 'memories'], 'key': 'b74a0822-85c3-4610-b495-aad34d38e7fd', 'value': {'content': 'User likes to bike.'}, 'created_at': '2025-01-11T14:47:41.517143+00:00', 'updated_at': '2025-01-11T14:47:41.517146+00:00', 'score': None}\n"
          ]
        }
      ]
    },
    {
      "cell_type": "markdown",
      "source": [
        "## Updating collection schema\n",
        "We discussed the challenges with updating a profile schema in the last lesson.\n",
        "\n",
        "The same applies for collections!\n",
        "\n",
        "We want the ability to update the collection with new memories as well as update existing memories in the collection.\n",
        "\n",
        "Now we'll show that [Trustcall](https://github.com/hinthornw/trustcall) can be also used to update a collection.\n",
        "\n",
        "This enables both addition of new memories as well as [updating existing memories in the collection](https://github.com/hinthornw/trustcall?tab=readme-ov-file#simultanous-updates--insertions).\n",
        "\n",
        "Let's define a new extractor with Trustcall.\n",
        "\n",
        "As before, we provide the schema for each memory, `Memory`.\n",
        "\n",
        "But, we can supply `enable_inserts=True` to allow the extractor to insert new memories to the collection."
      ],
      "metadata": {
        "id": "JOlBx-fJ1l7I"
      }
    },
    {
      "cell_type": "code",
      "source": [
        "from trustcall import create_extractor\n",
        "\n",
        "# Create the extractor\n",
        "trustcall_extractor = create_extractor(\n",
        "    model,\n",
        "    tools=[Memory],\n",
        "    tool_choice=\"Memory\",\n",
        "    enable_inserts=True,\n",
        ")"
      ],
      "metadata": {
        "id": "-hwlWWXu1kjh"
      },
      "execution_count": 9,
      "outputs": []
    },
    {
      "cell_type": "code",
      "source": [
        "from langchain_core.messages import HumanMessage, SystemMessage, AIMessage\n",
        "\n",
        "# Instruction\n",
        "instruction = \"\"\"Extract memories from the following conversation:\"\"\"\n",
        "\n",
        "# Conversation\n",
        "conversation = [HumanMessage(content=\"Hi, I'm Rizwan.\"),\n",
        "                AIMessage(content=\"Nice to meet you, Rizwan.\"),\n",
        "                HumanMessage(content=\"This morning I had a nice bike ride in Stuttgart.\")]\n",
        "\n",
        "# Invoke the extractor\n",
        "result = trustcall_extractor.invoke({\"messages\": [SystemMessage(content=instruction)] + conversation})"
      ],
      "metadata": {
        "id": "y-RzDvDu2FnA"
      },
      "execution_count": 10,
      "outputs": []
    },
    {
      "cell_type": "code",
      "source": [
        "# Messages contain the tool calls\n",
        "for m in result[\"messages\"]:\n",
        "    m.pretty_print()"
      ],
      "metadata": {
        "colab": {
          "base_uri": "https://localhost:8080/"
        },
        "id": "miitzPWC2N34",
        "outputId": "a448375a-d6ec-4aed-cfa5-1126458ea68a"
      },
      "execution_count": 11,
      "outputs": [
        {
          "output_type": "stream",
          "name": "stdout",
          "text": [
            "==================================\u001b[1m Ai Message \u001b[0m==================================\n",
            "Tool Calls:\n",
            "  Memory (call_6QoNf5Fcr0nIeBR2hP9poOIR)\n",
            " Call ID: call_6QoNf5Fcr0nIeBR2hP9poOIR\n",
            "  Args:\n",
            "    content: User had a nice bike ride in Stuttgart this morning.\n"
          ]
        }
      ]
    },
    {
      "cell_type": "code",
      "source": [
        "# Responses contain the memories that adhere to the schema\n",
        "for m in result[\"responses\"]:\n",
        "    print(m)"
      ],
      "metadata": {
        "colab": {
          "base_uri": "https://localhost:8080/"
        },
        "id": "AS2kUykZ2TJY",
        "outputId": "f71a9707-184c-4f3a-8548-4514a16d952f"
      },
      "execution_count": 12,
      "outputs": [
        {
          "output_type": "stream",
          "name": "stdout",
          "text": [
            "content='User had a nice bike ride in Stuttgart this morning.'\n"
          ]
        }
      ]
    },
    {
      "cell_type": "code",
      "source": [
        "# Metadata contains the tool call\n",
        "for m in result[\"response_metadata\"]:\n",
        "    print(m)"
      ],
      "metadata": {
        "colab": {
          "base_uri": "https://localhost:8080/"
        },
        "id": "S2S5AOaU2XNA",
        "outputId": "db902fc5-79f2-436c-ab92-d9345c2e91b6"
      },
      "execution_count": 13,
      "outputs": [
        {
          "output_type": "stream",
          "name": "stdout",
          "text": [
            "{'id': 'call_6QoNf5Fcr0nIeBR2hP9poOIR'}\n"
          ]
        }
      ]
    },
    {
      "cell_type": "code",
      "source": [
        "# Update the conversation\n",
        "updated_conversation = [AIMessage(content=\"That's great, did you do after?\"),\n",
        "                        HumanMessage(content=\"I went to Tartine and ate a croissant.\"),\n",
        "                        AIMessage(content=\"What else is on your mind?\"),\n",
        "                        HumanMessage(content=\"I was thinking about my Japan, and going back this winter!\"),]\n",
        "\n",
        "# Update the instruction\n",
        "system_msg = \"\"\"Update existing memories and create new ones based on the following conversation:\"\"\"\n",
        "\n",
        "# We'll save existing memories, giving them an ID, key (tool name), and value\n",
        "tool_name = \"Memory\"\n",
        "existing_memories = [(str(i), tool_name, memory.model_dump()) for i, memory in enumerate(result[\"responses\"])] if result[\"responses\"] else None\n",
        "existing_memories"
      ],
      "metadata": {
        "colab": {
          "base_uri": "https://localhost:8080/"
        },
        "id": "_ko3ytpc2cTY",
        "outputId": "470d34f3-17dc-4156-d1fe-ed17a7df8ebd"
      },
      "execution_count": 14,
      "outputs": [
        {
          "output_type": "execute_result",
          "data": {
            "text/plain": [
              "[('0',\n",
              "  'Memory',\n",
              "  {'content': 'User had a nice bike ride in Stuttgart this morning.'})]"
            ]
          },
          "metadata": {},
          "execution_count": 14
        }
      ]
    },
    {
      "cell_type": "code",
      "source": [
        "# Invoke the extractor with our updated conversation and existing memories\n",
        "result = trustcall_extractor.invoke({\"messages\": updated_conversation,\n",
        "                                     \"existing\": existing_memories})"
      ],
      "metadata": {
        "id": "4of83nOE2hJ5"
      },
      "execution_count": 15,
      "outputs": []
    },
    {
      "cell_type": "code",
      "source": [
        "# Messages from the model indicate two tool calls were made\n",
        "for m in result[\"messages\"]:\n",
        "    m.pretty_print()"
      ],
      "metadata": {
        "colab": {
          "base_uri": "https://localhost:8080/"
        },
        "id": "YBaGeiKG2lMY",
        "outputId": "dde3569f-47f3-432e-b5b6-c2359b34035e"
      },
      "execution_count": 16,
      "outputs": [
        {
          "output_type": "stream",
          "name": "stdout",
          "text": [
            "==================================\u001b[1m Ai Message \u001b[0m==================================\n",
            "Tool Calls:\n",
            "  Memory (call_JljlgyZuWQKI6DpfiO8LsS0c)\n",
            " Call ID: call_JljlgyZuWQKI6DpfiO8LsS0c\n",
            "  Args:\n",
            "    content: User had a nice bike ride in Stuttgart this morning. User went to Tartine and ate a croissant. User is thinking about going back to Japan this winter.\n",
            "  Memory (call_BnWajcdfD621w9KyOkNmxPEM)\n",
            " Call ID: call_BnWajcdfD621w9KyOkNmxPEM\n",
            "  Args:\n",
            "    content: User went to Tartine and ate a croissant.\n",
            "  Memory (call_Nb6gcpzCRiowY2q7JNQgBglB)\n",
            " Call ID: call_Nb6gcpzCRiowY2q7JNQgBglB\n",
            "  Args:\n",
            "    content: User is thinking about going back to Japan this winter.\n"
          ]
        }
      ]
    },
    {
      "cell_type": "code",
      "source": [
        "# Responses contain the memories that adhere to the schema\n",
        "for m in result[\"responses\"]:\n",
        "    print(m)"
      ],
      "metadata": {
        "colab": {
          "base_uri": "https://localhost:8080/"
        },
        "id": "fC5inCle20-a",
        "outputId": "a495ab52-1857-4d8d-f8a4-911b65e2c6ba"
      },
      "execution_count": 17,
      "outputs": [
        {
          "output_type": "stream",
          "name": "stdout",
          "text": [
            "content='User had a nice bike ride in Stuttgart this morning. User went to Tartine and ate a croissant. User is thinking about going back to Japan this winter.'\n",
            "content='User went to Tartine and ate a croissant.'\n",
            "content='User is thinking about going back to Japan this winter.'\n"
          ]
        }
      ]
    },
    {
      "cell_type": "code",
      "source": [
        "# Metadata contains the tool call\n",
        "for m in result[\"response_metadata\"]:\n",
        "    print(m)"
      ],
      "metadata": {
        "colab": {
          "base_uri": "https://localhost:8080/"
        },
        "id": "YSwSWFp13AfQ",
        "outputId": "d9a57019-b161-4b21-d94e-dc4b66be7fde"
      },
      "execution_count": 18,
      "outputs": [
        {
          "output_type": "stream",
          "name": "stdout",
          "text": [
            "{'id': 'call_JljlgyZuWQKI6DpfiO8LsS0c', 'json_doc_id': '0'}\n",
            "{'id': 'call_BnWajcdfD621w9KyOkNmxPEM'}\n",
            "{'id': 'call_Nb6gcpzCRiowY2q7JNQgBglB'}\n"
          ]
        }
      ]
    },
    {
      "cell_type": "markdown",
      "source": [
        "LangSmith trace:\n",
        "\n",
        "https://smith.langchain.com/public/fb237a32-8080-4cdc-ab02-7c8ae1d010e0/r"
      ],
      "metadata": {
        "id": "xcOZAOVE3DRK"
      }
    },
    {
      "cell_type": "markdown",
      "source": [
        "## Chatbot with collection schema updating\n",
        "Now, let's bring Trustcall into our chatbot to create and update a memory collection."
      ],
      "metadata": {
        "id": "_jPSlVjZ3UZ7"
      }
    },
    {
      "cell_type": "code",
      "source": [
        "\n",
        "from IPython.display import Image, display\n",
        "\n",
        "import uuid\n",
        "\n",
        "from langgraph.graph import StateGraph, MessagesState, START, END\n",
        "from langgraph.store.memory import InMemoryStore\n",
        "from langchain_core.messages import merge_message_runs\n",
        "from langchain_core.messages import HumanMessage, SystemMessage\n",
        "from langchain_core.runnables.config import RunnableConfig\n",
        "from langgraph.checkpoint.memory import MemorySaver\n",
        "from langgraph.store.base import BaseStore\n",
        "\n",
        "# Initialize the model\n",
        "model = ChatOpenAI(model=\"gpt-4o-mini\", temperature=0)\n",
        "\n",
        "# Memory schema\n",
        "class Memory(BaseModel):\n",
        "    content: str = Field(description=\"The main content of the memory. For example: User expressed interest in learning about French.\")\n",
        "\n",
        "# Create the Trustcall extractor\n",
        "trustcall_extractor = create_extractor(\n",
        "    model,\n",
        "    tools=[Memory],\n",
        "    tool_choice=\"Memory\",\n",
        "    # This allows the extractor to insert new memories\n",
        "    enable_inserts=True,\n",
        ")\n",
        "\n",
        "# Chatbot instruction\n",
        "MODEL_SYSTEM_MESSAGE = \"\"\"You are a helpful chatbot. You are designed to be a companion to a user.\n",
        "\n",
        "You have a long term memory which keeps track of information you learn about the user over time.\n",
        "\n",
        "Current Memory (may include updated memories from this conversation):\n",
        "\n",
        "{memory}\"\"\"\n",
        "\n",
        "# Trustcall instruction\n",
        "TRUSTCALL_INSTRUCTION = \"\"\"Reflect on following interaction.\n",
        "\n",
        "Use the provided tools to retain any necessary memories about the user.\n",
        "\n",
        "Use parallel tool calling to handle updates and insertions simultaneously:\"\"\"\n",
        "\n",
        "def call_model(state: MessagesState, config: RunnableConfig, store: BaseStore):\n",
        "\n",
        "    \"\"\"Load memories from the store and use them to personalize the chatbot's response.\"\"\"\n",
        "\n",
        "    # Get the user ID from the config\n",
        "    user_id = config[\"configurable\"][\"user_id\"]\n",
        "\n",
        "    # Retrieve memory from the store\n",
        "    namespace = (\"memories\", user_id)\n",
        "    memories = store.search(namespace)\n",
        "\n",
        "    # Format the memories for the system prompt\n",
        "    info = \"\\n\".join(f\"- {mem.value['content']}\" for mem in memories)\n",
        "    system_msg = MODEL_SYSTEM_MESSAGE.format(memory=info)\n",
        "\n",
        "    # Respond using memory as well as the chat history\n",
        "    response = model.invoke([SystemMessage(content=system_msg)]+state[\"messages\"])\n",
        "\n",
        "    return {\"messages\": response}\n",
        "\n",
        "def write_memory(state: MessagesState, config: RunnableConfig, store: BaseStore):\n",
        "\n",
        "    \"\"\"Reflect on the chat history and update the memory collection.\"\"\"\n",
        "\n",
        "    # Get the user ID from the config\n",
        "    user_id = config[\"configurable\"][\"user_id\"]\n",
        "\n",
        "    # Define the namespace for the memories\n",
        "    namespace = (\"memories\", user_id)\n",
        "\n",
        "    # Retrieve the most recent memories for context\n",
        "    existing_items = store.search(namespace)\n",
        "\n",
        "    # Format the existing memories for the Trustcall extractor\n",
        "    tool_name = \"Memory\"\n",
        "    existing_memories = ([(existing_item.key, tool_name, existing_item.value)\n",
        "                          for existing_item in existing_items]\n",
        "                          if existing_items\n",
        "                          else None\n",
        "                        )\n",
        "\n",
        "    # Merge the chat history and the instruction\n",
        "    updated_messages=list(merge_message_runs(messages=[SystemMessage(content=TRUSTCALL_INSTRUCTION)] + state[\"messages\"]))\n",
        "\n",
        "    # Invoke the extractor\n",
        "    result = trustcall_extractor.invoke({\"messages\": updated_messages,\n",
        "                                        \"existing\": existing_memories})\n",
        "\n",
        "    # Save the memories from Trustcall to the store\n",
        "    for r, rmeta in zip(result[\"responses\"], result[\"response_metadata\"]):\n",
        "        store.put(namespace,\n",
        "                  rmeta.get(\"json_doc_id\", str(uuid.uuid4())),\n",
        "                  r.model_dump(mode=\"json\"),\n",
        "            )\n",
        "\n",
        "# Define the graph\n",
        "builder = StateGraph(MessagesState)\n",
        "builder.add_node(\"call_model\", call_model)\n",
        "builder.add_node(\"write_memory\", write_memory)\n",
        "builder.add_edge(START, \"call_model\")\n",
        "builder.add_edge(\"call_model\", \"write_memory\")\n",
        "builder.add_edge(\"write_memory\", END)\n",
        "\n",
        "# Store for long-term (across-thread) memory\n",
        "across_thread_memory = InMemoryStore()\n",
        "\n",
        "# Checkpointer for short-term (within-thread) memory\n",
        "within_thread_memory = MemorySaver()\n",
        "\n",
        "# Compile the graph with the checkpointer fir and store\n",
        "graph = builder.compile(checkpointer=within_thread_memory, store=across_thread_memory)\n",
        "\n",
        "# View\n",
        "display(Image(graph.get_graph(xray=1).draw_mermaid_png()))"
      ],
      "metadata": {
        "colab": {
          "base_uri": "https://localhost:8080/",
          "height": 350
        },
        "id": "hHW0e2UA3Zo4",
        "outputId": "09ddd284-cafa-4685-a745-af7a84fff89f"
      },
      "execution_count": 19,
      "outputs": [
        {
          "output_type": "display_data",
          "data": {
            "image/png": "[encoded data removed]",
            "text/plain": [
              "<IPython.core.display.Image object>"
            ]
          },
          "metadata": {}
        }
      ]
    },
    {
      "cell_type": "code",
      "source": [
        "# We supply a thread ID for short-term (within-thread) memory\n",
        "# We supply a user ID for long-term (across-thread) memory\n",
        "config = {\"configurable\": {\"thread_id\": \"1\", \"user_id\": \"1\"}}\n",
        "\n",
        "# User input\n",
        "input_messages = [HumanMessage(content=\"Hi, my name is Rizwan\")]\n",
        "\n",
        "# Run the graph\n",
        "for chunk in graph.stream({\"messages\": input_messages}, config, stream_mode=\"values\"):\n",
        "    chunk[\"messages\"][-1].pretty_print()"
      ],
      "metadata": {
        "colab": {
          "base_uri": "https://localhost:8080/"
        },
        "id": "hP0sBLfh3gGX",
        "outputId": "7dfe3c28-b723-4ac8-8b58-d517ec577d9b"
      },
      "execution_count": 20,
      "outputs": [
        {
          "output_type": "stream",
          "name": "stdout",
          "text": [
            "================================\u001b[1m Human Message \u001b[0m=================================\n",
            "\n",
            "Hi, my name is Rizwan\n",
            "==================================\u001b[1m Ai Message \u001b[0m==================================\n",
            "\n",
            "Hi Rizwan! It's great to meet you. How's your day going?\n"
          ]
        }
      ]
    },
    {
      "cell_type": "code",
      "source": [
        "# User input\n",
        "input_messages = [HumanMessage(content=\"I like to bike around Stuttgart\")]\n",
        "\n",
        "# Run the graph\n",
        "for chunk in graph.stream({\"messages\": input_messages}, config, stream_mode=\"values\"):\n",
        "    chunk[\"messages\"][-1].pretty_print()"
      ],
      "metadata": {
        "colab": {
          "base_uri": "https://localhost:8080/"
        },
        "id": "VCdv4_X53orX",
        "outputId": "5c186061-1b3b-4d96-9128-a95a3138f464"
      },
      "execution_count": 23,
      "outputs": [
        {
          "output_type": "stream",
          "name": "stdout",
          "text": [
            "================================\u001b[1m Human Message \u001b[0m=================================\n",
            "\n",
            "I like to bike around Stuttgart\n",
            "==================================\u001b[1m Ai Message \u001b[0m==================================\n",
            "\n",
            "That's awesome! So you enjoy biking around Stuttgart as well. How does biking there compare to biking in San Francisco? Do you have any favorite routes or spots in Stuttgart?\n"
          ]
        }
      ]
    },
    {
      "cell_type": "code",
      "source": [
        "# Namespace for the memory to save\n",
        "user_id = \"1\"\n",
        "namespace = (\"memories\", user_id)\n",
        "memories = across_thread_memory.search(namespace)\n",
        "for m in memories:\n",
        "    print(m.dict())"
      ],
      "metadata": {
        "colab": {
          "base_uri": "https://localhost:8080/"
        },
        "id": "ZIqm58QB3vmX",
        "outputId": "169fd576-9d98-4b92-f38b-b68b04c3be89"
      },
      "execution_count": 24,
      "outputs": [
        {
          "output_type": "stream",
          "name": "stdout",
          "text": [
            "{'namespace': ['memories', '1'], 'key': '5d1d9948-d1cf-4a44-a764-ff10b17cbb1e', 'value': {'content': \"User's name is Rizwan. User enjoys biking around Stuttgart.\"}, 'created_at': '2025-01-11T14:57:38.335564+00:00', 'updated_at': '2025-01-11T14:57:38.335566+00:00', 'score': None}\n",
            "{'namespace': ['memories', '1'], 'key': '5cc79d49-3906-4f88-aac7-e6e29799a75c', 'value': {'content': 'User enjoys biking around Stuttgart.'}, 'created_at': '2025-01-11T14:57:38.335591+00:00', 'updated_at': '2025-01-11T14:57:38.335592+00:00', 'score': None}\n"
          ]
        }
      ]
    },
    {
      "cell_type": "code",
      "source": [
        "# User input\n",
        "input_messages = [HumanMessage(content=\"I also enjoy going to bakeries\")]\n",
        "\n",
        "# Run the graph\n",
        "for chunk in graph.stream({\"messages\": input_messages}, config, stream_mode=\"values\"):\n",
        "    chunk[\"messages\"][-1].pretty_print()"
      ],
      "metadata": {
        "colab": {
          "base_uri": "https://localhost:8080/"
        },
        "id": "9w4PBsf33xl4",
        "outputId": "69c05cd5-1625-4cd3-9985-55f96d296115"
      },
      "execution_count": 25,
      "outputs": [
        {
          "output_type": "stream",
          "name": "stdout",
          "text": [
            "================================\u001b[1m Human Message \u001b[0m=================================\n",
            "\n",
            "I also enjoy going to bakeries\n",
            "==================================\u001b[1m Ai Message \u001b[0m==================================\n",
            "\n",
            "Bakeries are such a treat! Do you have a favorite bakery in Stuttgart or San Francisco that you like to visit after a bike ride?\n"
          ]
        }
      ]
    },
    {
      "cell_type": "code",
      "source": [
        "# We supply a thread ID for short-term (within-thread) memory\n",
        "# We supply a user ID for long-term (across-thread) memory\n",
        "config = {\"configurable\": {\"thread_id\": \"2\", \"user_id\": \"1\"}}\n",
        "\n",
        "# User input\n",
        "input_messages = [HumanMessage(content=\"What bakeries do you recommend for me?\")]\n",
        "\n",
        "# Run the graph\n",
        "for chunk in graph.stream({\"messages\": input_messages}, config, stream_mode=\"values\"):\n",
        "    chunk[\"messages\"][-1].pretty_print()"
      ],
      "metadata": {
        "colab": {
          "base_uri": "https://localhost:8080/"
        },
        "id": "gpsjCevw3zx4",
        "outputId": "2cd03ae1-861c-4d62-e12a-a0f469bc60a0"
      },
      "execution_count": 26,
      "outputs": [
        {
          "output_type": "stream",
          "name": "stdout",
          "text": [
            "================================\u001b[1m Human Message \u001b[0m=================================\n",
            "\n",
            "What bakeries do you recommend for me?\n",
            "==================================\u001b[1m Ai Message \u001b[0m==================================\n",
            "\n",
            "Since you enjoy going to bakeries, here are a few recommendations in Stuttgart and San Francisco:\n",
            "\n",
            "**Stuttgart:**\n",
            "1. **Bäckerei Schmid** - Known for their delicious pastries and traditional German breads.\n",
            "2. **Café Rösterei** - A cozy spot with great coffee and a variety of baked goods, including cakes and tarts.\n",
            "3. **Konditorei Café Duss** - Famous for their exquisite cakes and seasonal treats.\n",
            "\n",
            "**San Francisco:**\n",
            "1. **Tartine Bakery** - A must-visit for their artisanal bread and pastries, especially the morning buns.\n",
            "2. **B Patisserie** - Known for their French pastries, including the famous kouign-amann.\n",
            "3. **Miette Patisserie** - A charming bakery with beautiful cakes and confections.\n",
            "\n",
            "Do any of these sound good to you?\n"
          ]
        }
      ]
    },
    {
      "cell_type": "markdown",
      "source": [
        "## Langsmith\n",
        "\n",
        "https://smith.langchain.com/public/8f7afa54-bd11-4cf7-a8f6-31624a735c99/r"
      ],
      "metadata": {
        "id": "L5gHJ2y84CBW"
      }
    }
  ]
}