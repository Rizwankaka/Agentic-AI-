{
  "nbformat": 4,
  "nbformat_minor": 0,
  "metadata": {
    "colab": {
      "provenance": [],
      "authorship_tag": "ABX9TyP5QyS0LohrVW8VwaewMFOG",
      "include_colab_link": true
    },
    "kernelspec": {
      "name": "python3",
      "display_name": "Python 3"
    },
    "language_info": {
      "name": "python"
    }
  },
  "cells": [
    {
      "cell_type": "markdown",
      "metadata": {
        "id": "view-in-github",
        "colab_type": "text"
      },
      "source": [
        "<a href=\"https://colab.research.google.com/github/Rizwankaka/Agentic-AI-/blob/main/Langgraph/module-1/1.1_tools_messages.ipynb\" target=\"_parent\"><img src=\"https://colab.research.google.com/assets/colab-badge.svg\" alt=\"Open In Colab\"/></a>"
      ]
    },
    {
      "cell_type": "markdown",
      "source": [
        "# LLM Actions and Structure Messages"
      ],
      "metadata": {
        "id": "iwi_MVWJ6lK9"
      }
    },
    {
      "cell_type": "markdown",
      "source": [
        "## Review\n",
        "We built a simple graph with nodes, normal edges, and conditional edges."
      ],
      "metadata": {
        "id": "vMo4Jws36rTm"
      }
    },
    {
      "cell_type": "markdown",
      "source": [
        "## Goals\n",
        "Now, let's understand the power of Actions with AI Models and before that structure our prompts."
      ],
      "metadata": {
        "id": "kqwrwE-X61P-"
      }
    },
    {
      "cell_type": "markdown",
      "source": [
        "## Messages\n",
        "Chat models can use `messages`, which capture different roles within a conversation.\n",
        "\n",
        "LangChain supports various message types, including `HumanMessage`, `AIMessage`, `SystemMessage`, and `ToolMessage`.\n",
        "\n",
        "These represent a message from the user, from chat model, for the chat model to instruct behavior, and from a tool call.\n",
        "\n",
        "Let's create a list of messages.\n",
        "\n",
        "Each message can be supplied with a few things:\n",
        "\n",
        "- `content` - content of the message\n",
        "- `name` - optionally, a message author\n",
        "- `response_metadata` - optionally, a dict of metadata (e.g., often populated by model provider for `AIMessages`)"
      ],
      "metadata": {
        "id": "v8dc7CaS69YU"
      }
    },
    {
      "cell_type": "code",
      "execution_count": 1,
      "metadata": {
        "colab": {
          "base_uri": "https://localhost:8080/"
        },
        "id": "IzPvGMOo6YTh",
        "outputId": "3d8201cb-255c-4861-c5fb-340992ca4c2b"
      },
      "outputs": [
        {
          "output_type": "stream",
          "name": "stdout",
          "text": [
            "==================================\u001b[1m Ai Message \u001b[0m==================================\n",
            "Name: Model\n",
            "\n",
            "So you said you were researching ocean mammals?\n",
            "================================\u001b[1m Human Message \u001b[0m=================================\n",
            "Name: Rizwan\n",
            "\n",
            "Yes, that's right.\n",
            "==================================\u001b[1m Ai Message \u001b[0m==================================\n",
            "Name: Model\n",
            "\n",
            "Great, what would you like to learn about.\n",
            "================================\u001b[1m Human Message \u001b[0m=================================\n",
            "Name: Lance\n",
            "\n",
            "I want to learn about the best place to see Orcas in the US.\n"
          ]
        }
      ],
      "source": [
        "from pprint import pprint\n",
        "from langchain_core.messages import AIMessage, HumanMessage, SystemMessage\n",
        "\n",
        "messages = [AIMessage(content=f\"So you said you were researching ocean mammals?\", name=\"Model\")]\n",
        "messages.append(HumanMessage(content=f\"Yes, that's right.\",name=\"Rizwan\"))\n",
        "messages.append(AIMessage(content=f\"Great, what would you like to learn about.\", name=\"Model\"))\n",
        "messages.append(HumanMessage(content=f\"I want to learn about the best place to see Orcas in the US.\", name=\"Lance\"))\n",
        "\n",
        "for m in messages:\n",
        "    m.pretty_print()"
      ]
    },
    {
      "cell_type": "markdown",
      "source": [
        "From now let's use HumanMessage to pass our Prompt to Model"
      ],
      "metadata": {
        "id": "d3vFb-mp7n5c"
      }
    },
    {
      "cell_type": "code",
      "source": [
        "from google.colab import userdata\n",
        "gemini_api_key = userdata.get('GEMINI_API_KEY')"
      ],
      "metadata": {
        "id": "H42ZShm_7qDQ"
      },
      "execution_count": 2,
      "outputs": []
    },
    {
      "cell_type": "code",
      "source": [
        "%pip install --quiet -U langchain-google-genai"
      ],
      "metadata": {
        "colab": {
          "base_uri": "https://localhost:8080/"
        },
        "id": "N-VmLrgO7xqM",
        "outputId": "16824cdd-ae26-41bd-e643-89366095d5a5"
      },
      "execution_count": 3,
      "outputs": [
        {
          "output_type": "stream",
          "name": "stdout",
          "text": [
            "\u001b[?25l   \u001b[90m━━━━━━━━━━━━━━━━━━━━━━━━━━━━━━━━━━━━━━━━\u001b[0m \u001b[32m0.0/41.5 kB\u001b[0m \u001b[31m?\u001b[0m eta \u001b[36m-:--:--\u001b[0m\r\u001b[2K   \u001b[90m━━━━━━━━━━━━━━━━━━━━━━━━━━━━━━━━━━━━━━━━\u001b[0m \u001b[32m41.5/41.5 kB\u001b[0m \u001b[31m2.0 MB/s\u001b[0m eta \u001b[36m0:00:00\u001b[0m\n",
            "\u001b[?25h\u001b[?25l   \u001b[90m━━━━━━━━━━━━━━━━━━━━━━━━━━━━━━━━━━━━━━━━\u001b[0m \u001b[32m0.0/411.6 kB\u001b[0m \u001b[31m?\u001b[0m eta \u001b[36m-:--:--\u001b[0m\r\u001b[2K   \u001b[90m━━━━━━━━━━━━━━━━━━━━━━━━━━━━━━━━━━━━━━━━\u001b[0m \u001b[32m411.6/411.6 kB\u001b[0m \u001b[31m13.2 MB/s\u001b[0m eta \u001b[36m0:00:00\u001b[0m\n",
            "\u001b[?25h"
          ]
        }
      ]
    },
    {
      "cell_type": "code",
      "source": [
        "from langchain_google_genai import ChatGoogleGenerativeAI\n",
        "\n",
        "llm: ChatGoogleGenerativeAI = ChatGoogleGenerativeAI(model=\"gemini-1.5-flash\", api_key=gemini_api_key)"
      ],
      "metadata": {
        "id": "PC8HjTWL71l9"
      },
      "execution_count": 4,
      "outputs": []
    },
    {
      "cell_type": "code",
      "source": [
        "simple_call = llm.invoke(\"Hi\")\n",
        "print(simple_call)"
      ],
      "metadata": {
        "colab": {
          "base_uri": "https://localhost:8080/"
        },
        "id": "7XAw6Tpv74gs",
        "outputId": "a01f8453-370a-4a56-879b-711e2e1f06cf"
      },
      "execution_count": 5,
      "outputs": [
        {
          "output_type": "stream",
          "name": "stdout",
          "text": [
            "content='Hi there! How can I help you today?' additional_kwargs={} response_metadata={'prompt_feedback': {'block_reason': 0, 'safety_ratings': []}, 'finish_reason': 'STOP', 'safety_ratings': []} id='run-65568008-2bb1-4584-97ad-45fbb378a20a-0' usage_metadata={'input_tokens': 2, 'output_tokens': 11, 'total_tokens': 13, 'input_token_details': {'cache_read': 0}}\n"
          ]
        }
      ]
    },
    {
      "cell_type": "code",
      "source": [
        "messages = [HumanMessage(content=\"What is your name?\")]\n",
        "result = llm.invoke(messages)\n",
        "print(result)"
      ],
      "metadata": {
        "colab": {
          "base_uri": "https://localhost:8080/"
        },
        "id": "9h_TVVKf78nn",
        "outputId": "6d6e4c96-1e34-4dcf-d47c-0409735a6da2"
      },
      "execution_count": 6,
      "outputs": [
        {
          "output_type": "stream",
          "name": "stdout",
          "text": [
            "content=\"I don't have a name.\" additional_kwargs={} response_metadata={'prompt_feedback': {'block_reason': 0, 'safety_ratings': []}, 'finish_reason': 'STOP', 'safety_ratings': []} id='run-f6d5cdcd-62f2-4320-b62e-c21d4db341a3-0' usage_metadata={'input_tokens': 6, 'output_tokens': 9, 'total_tokens': 15, 'input_token_details': {'cache_read': 0}}\n"
          ]
        }
      ]
    },
    {
      "cell_type": "code",
      "source": [
        "system_human_message = [\n",
        "                SystemMessage(content=\"You are a helpful assistant! Your name is Bob.\"),\n",
        "                HumanMessage(content=\"What is your name?\")\n",
        "            ]\n",
        "result = llm.invoke(system_human_message)\n",
        "print(result)"
      ],
      "metadata": {
        "colab": {
          "base_uri": "https://localhost:8080/"
        },
        "id": "5n_NpSxO8GxM",
        "outputId": "3d6bb3c1-86be-4f25-d838-7f339731d50e"
      },
      "execution_count": 7,
      "outputs": [
        {
          "output_type": "stream",
          "name": "stdout",
          "text": [
            "content='My name is Bob.' additional_kwargs={} response_metadata={'prompt_feedback': {'block_reason': 0, 'safety_ratings': []}, 'finish_reason': 'STOP', 'safety_ratings': []} id='run-835f83c2-3949-42a0-a77b-6a31040ad38a-0' usage_metadata={'input_tokens': 17, 'output_tokens': 6, 'total_tokens': 23, 'input_token_details': {'cache_read': 0}}\n"
          ]
        }
      ]
    },
    {
      "cell_type": "code",
      "source": [
        "context_call = llm.invoke(messages)\n",
        "print(context_call)"
      ],
      "metadata": {
        "colab": {
          "base_uri": "https://localhost:8080/"
        },
        "id": "HoRW-o4b8Q9c",
        "outputId": "89aeca99-7d25-4b7a-e450-8c2207b07153"
      },
      "execution_count": 8,
      "outputs": [
        {
          "output_type": "stream",
          "name": "stdout",
          "text": [
            "content=\"I don't have a name. I am a large language model, trained by Google.\" additional_kwargs={} response_metadata={'prompt_feedback': {'block_reason': 0, 'safety_ratings': []}, 'finish_reason': 'STOP', 'safety_ratings': []} id='run-ed456654-e413-4d02-8fff-ee6594d7278e-0' usage_metadata={'input_tokens': 6, 'output_tokens': 20, 'total_tokens': 26, 'input_token_details': {'cache_read': 0}}\n"
          ]
        }
      ]
    },
    {
      "cell_type": "markdown",
      "source": [
        "## Tools\n",
        "\n",
        "Tools are useful whenever you want a model to interact with external systems.\n",
        "\n",
        "External systems (e.g., APIs) often require a particular input schema or payload, rather than natural language.\n",
        "\n",
        "When we bind an API, for example, as a tool we given the model awareness of the required input schema.\n",
        "\n",
        "The model will choose to call a tool based upon the natural language input from the user.\n",
        "\n",
        "And, it will return an output that adheres to the tool's schema.\n",
        "\n",
        "Many [LLM providers support tool calling](https://python.langchain.com/v0.1/docs/integrations/chat/) and [tool calling interface](https://blog.langchain.dev/improving-core-tool-interfaces-and-docs-in-langchain/) in LangChain is simple.\n",
        "\n",
        "You can simply pass any Python `function` into `ChatModel.bind_tools(function)`.\n",
        "\n",
        "![Screenshot 2025-01-08 222542.png](data:image/png;base64,iVBORw0KGgoAAAANSUhEUgAABA4AAAFOCAYAAAAGvl+LAAAAAXNSR0IArs4c6QAAAARnQU1BAACxjwv8YQUAAAAJcEhZcwAADsMAAA7DAcdvqGQAAPcDSURBVHhe7N11nBT1/8Dx12xeJ3U0CCIgiKAIqChYIBZgEQIW+MP2iwl2J2BggaLYQUuXIC3SHUdcd2zvzszvj9sd7/buEBCV0/fz8d2vx8xnZmdmJz6f93xC0XVdRwghhBBCCCGEEKIKpvAJQgghhBBCCCGEECESOBBCCCGEEEIIIUS1JHAghBBCCCGEEEKIakngQAghhBBCCCGEENWSwIEQQgghhBBCCCGqJYEDIYQQQgghhBBCVEsCB0IIIYQQQgghhKiWBA6EEEIIIYQQQghRLQkcCCGEEEIIIYQQoloSOBBCCCGEEEIIIUS1JHAghBBCCCGEEEKIakngQAghhBBCCCGEENWSwIEQQgghhBBCCCGqJYEDIYQQQgghhBBCVEsCB0IIIYQQQgghhKiWBA6EEEIIIYQQQghRLQkcCCGEEEIIIYQQoloSOBBCCCGEEEIIIUS1JHAghBBCCCGEEEKIakngQAghhBBCCCGEENWSwIEQQgghhBBCCCGqJYEDIYQQQgghhBBCVEsCB0IIIYQQQgghhKiWBA6EEEIIIYQQQghRLQkcCCGEEEIIIYQQoloSOBBCCCGEEEIIIUS1JHAghBBCCCGEEEKIakngQAghhBBCCCGEENWSwIEQQgghhBBCCCGqJYEDIYQQQgghhBBCVEsCB0IIIYQQQgghhKiWBA6EEEIIIYQQQghRLQkcCCGEEEIIIYQQoloSOBBCCCGEEEIIIUS1JHAghBBCCCGEEEKIakngQAghhBBCCCGEENWSwIEQQgghhBBCCCGqJYEDIYQQQgghhBBCVEsCB0IIIYQQQgghhKiWBA6EEEIIIYQQQghRLQkcCCGEEEIIIYQQoloSOBBCCCGEEEIIIUS1JHAghBBCCCGEEEKIakngQAghhBBCCCGEENWSwIEQQgghhBBCCCGqJYEDIYQQQgghhBBCVEsCB0IIIYQQQgghhKiWBA6EEEIIIYQQQghRLUXXdT18ohBCCPFvous6gUAAn89nTFMUBbvdjtlsrpA2lK7849Fut2OxWCqk0zQNr9eLpmnGNKvVitVqRVEUY5qu63i9XlRVNaaZTCYiIiIqpfP5fAQCgQrp7HY7JpPE+YUQQgjxz5HAgRBC/Ev5fD58Ph+aqmKxWomKjARdp6CwkM+nTKGwsNBIa7FYuOnGG2lx2mmYFAVd1yksLGTSp5/icDqNdCaTiW5du9Lz4osxBwuzHq+XjyZOZO26dUY6gObNmjHm8cexW62g66iaxoxZs/hxxowK6eJiYnh+zGhqJSaBroOus2HLZt7+6GMC5QrbZrOZVx57jJQ6dVAAXdPZvX8/L054r0Lh3WwycU3PnvS77HJMwXJ5Vm4uj781lvyi3/dZURTObNmSZ/5vJFazGRTw+QO8NPFjftuxw0gHkBQfz7uPP0FMZGRwis6Pi5fw1Zyf8Jcr6EdFRfHRE6OJi44GBVRNY8VvG3n7m68rBASsFgv3DxjIhWd3KAse6Dpb9+3n+UkT8Xi9RjpFUbju4ou59aqrjGm+QIAXJ09mX1qaMQ2gdnw8r919NzarFYKBjbe++YZN+/ZVDIJYrbzzwANER0SAoqCqKvPWruWrRYvKrQ3ioqN57o47qJ2YWDZBUVi3fTvv/vADarnjDXB9z55ce9HFmIIHvMTp4umPPiSnoKBCutbNmvG/W24h0h4BgKqpfPTjVFZu3lRhGxNjY3lj1MNE2GygQEDVWLJuLVNmzarwW8fHxvL8PfeSXG4bd+zfz3tffkFRaamRTlEUHh0+nDNbnm4Ea/KLinj1ow8pLi2lXp06ZekAk9nMA7feSmxMDAoKOjqZOblM/PYb47v14PnY55JLOfvMM43ATonTwaQvv6S43HejKLRu2ZIb+16HEkznDwSY8dNctu0sO8/04HfXrl2b24cNI8JuNxZfuW4dixcvrnDMY2JiuP+eeyr81gcPH+ab777DW+78sVqtDB40iCaNGqGggAJ5efl89sUUSkpKjHSKonDB+edzSY8exvHx+f38OHUqu3bvNtIBdOrYkcsvu4zU1FS+++EH45goikKnTp249NJLiTSuEyGEEP8W5meeeeaZ8IlCCCFqpkAgwN69e1m2bBnfffcdn37yCR+8/z51rVbOSEyCokJ2b/iNyV9+yf49eziSmsqR1FTSDx7krDp1aGKzoxQUQH4+OXv28u3UqeSlZ1CQmUFBZiaFWVnUURTaJyRgysuD3Fy8aWksWrKEnKwsNLcHze1B93iIQ+Gi+vWxBtPpWVns2LyZnMxMInSIDH7izBa61qtHtNMJ+fmQn0/ann2kHkjFqqpE6hClQ7Si0KVhI+L8PpTiYvTCQkqysti+axe2YLrIYLp2KSk0j4lBcTigtBRnXh479+7BrkO8zUa8zUaCzUazpCTOadgIk8cNTidqaQm79+7F73QZ6eJtNholJNCteTNsfh+4XOBykZ2RTnZ2NjFmS9n67DaSbHZ6tD4Dm98PLhe600leVhaHj6QRa7Ea60uOiKB9wwY0jIlBcbvB7aa0oIBde/cRaylbX2gbW9WtS5u6dcHjAY8H1eVi+65duItLKhzHpkmJdG7WDLPfD56y32DLjp04i4qI0PSy4wjEmc10P+MM7JoGXi+6283hw0c4dOiwsa5IHeIsZrq1aEE0lH23201megZ79+/HrmlGuiigeXIyrWrVKtsXlwt3USEbt2xF93grrDPWbKJL06ZYfV5wOdEdDlb9+itHjhxGdbnLzh+PB5uqckmrVti9XnA60UpL2Lx5Czt27/o9nduDxe+nW7OmxOsalJZCaQk7t29n3W8b8TkcRjq8HtrWrk2TqCiUkmL0kmKKMtKZ9/NySgsKyM/KpiA7m/zsbAqzc7iwaRPi/H6U4mIoLCQr9QCzFi4iJyOd/KwsCrKyKMzOoVl0FC2iIlEKC6GggJIjafw4dw7phw6Rn5VV9snMAkcpF9Svjyk/H3LzULNzmDp7Fnt27SI/M5OCzEzyMzMpysrmopQUIouLIScHcnKYPWs2mzZtJj8jnfyMDPbt3k3mocNc26oVtsJCyMlBz85m85q1fD9jBqn79nE4eF1nHDrEefVSqA8oeXmQm0f6zh1M/KLi9X8kNZUoj5fzGzc2rv9ATi4fTf6UzRs3Gus7kppK2r799G57Jgt++ok58+fjzMsnNz2Nvbt3s3nDBrqe1YHkWskQDEAEAio6utSaEUKIGk5qHAghxL+ErmmkHzpEvxtuQPX7ibTZaNusGRd3OJurunUlNioKgICqElDVCm8wFUXBbrFUqLavA36/n/CHhMVsNmobEKxir2papbfQZpMJS1gzAE3XK7wxBjApCkrwE6LrOpquG2+hFcre3JoUU6g8YlA1DXTd2E5FUYx1huihdYbtcyhteZquo2s6v6+xrKZFeLqqtlFRlCoLSMe0jcF1aeUey1Wlo5ptNJtMVaersI1lb53L/36U+w3Lq+q7w/eZ4DoVU+XjqGpahXSEfmuTqez3DFI1DVVVK5xnJkXBWkXTkEAV6cxmc4Xv1oLnYoXjGDxvy/82uq4TUNUK6Yy0FkuFdeq6jj8QqPDdSrDWQfljqek6ahXrDL8WqrtmTIoJs7niuRZQVTRN+/0c1nUUwG6zVdpvr99f4btNioLNaq2wjaqm4Q8EKl7/wX22lTvmuq7jCwQq1PoBsJotWMwmNF3H5/djMpnKtk3TMJlMWCwWLFYrxMdDUjJzVq3E7fVy+eWXEx0dXeX1IYQQ4tQngQMhhPg38PshPR1XVhZrN22icd161K+VTITdXqGQJoQQfxtFYcK06bw3bSrt2rfnlVdfpUmTJpUCXEIIIU59EjgQQogarLS0lGhNx5R2pKxqvK6ja1qlN/hCCPFPCKgqSzdu5N2pU8l1uXjttdfo2rVrpU5JhRBCnNqkvpgQQtRAqqqSmprKFZdfzq6FC9CdTghWYTZVUWVdCCH+CRazmR5nn837Dz1ErchI7r77boqLiyo1YxFCCHFqk8CBEELUMJqm4fF4eOSRR4ixWKkdFweSCRdCnKIsZjN1k5L4+JFHePTGm4jMykYJ699BCCHEqU0CB0IIUcP4fD5efeUVDu/bz9PDhpEYGys1DIQQpzSzyUTdxERuvqQnkU4nFBVLwFMIIWoQCRwIIUQNous6u3fvZvbs2dzW50q6tG1TaeQCIYQ4VZlMprKAwcFUcJQ1sRJCCHHqk8CBEELUILqus2XLFhRV5cYePWRoMyFEjaSrKq7UA2hhwz0KIYQ4NUmOUwghahCTycT1vXox/623SIiJkaEWhRA1UqnLxTV3383ypUvCZwkhhDgFSeBACCFqEl0n0ucjOS5O+jUQQtRYVrOZ5NhYPv98CgG/P3y2EEKIU4wEDoQQoibRdCh1SE0DIUSNZrNa6dq2LftTU8nLyQmfLYQQ4hQjgQMhhKghVFXF73QQKCkOnyWEEDWK2WSiXfPmOJ1O8goKwmcLIYQ4xUjgQAghagiPx8OIkSPJys0LnyWEEDVOy4YNMZtMbNu+PXyWEEKIU4wEDoQQooZITU1ly/bt5BTK2zkhRM1XLzmZu/v2pW3jxuGzhBBCnGIkcCCEEDXE/v37AWhUp074LCGEqHGsZjODL7+ctq1ahc8SQghxipHAgRBC1BCpqalE2mzYrdbwWUIIUeMoioLJZMJks4XPEkIIcYqRwIEQQtQgteLjMZnk1i2EqPl0XafY6WRnsDaVEEKIU5fkPoUQooZISkykfq3amCVwIIT4F9B0nUVr1zHkjjvCZwkhhDjFSO5TCCFqiOv79+f1/z2ETZoqCCH+DXQIqCqlDkf4HCGEEKcYCRwIIUQNMXX6dB4fPx6f3x8+SwghhBBCiL+MBA6EEKKGyMvLIy07G03TwmcJIYQQQgjxl5HAgRBC1CB68COEEDWeEj5BCCHEqUoCB0IIUYPouo6uS+hACFHzmRSFDme0Yvjtt4fPEkIIcYqRwIEQQtQQiqKQnpcnNQ6EEP8KiqJwepMm3H/33eGzhBBCnGIkcCCEEDXEWWedxVktWmKR4RiFEP8SiqLIELNCCFEDKLrUeRVCiBpBV1XYuRPF5QqfJYQQNZPVCq1bQ0RE+BwhhBCnEAnxCiFEDaFIX2JCiH+ZgKpSXFISPlkIIcQpRgIHQgghhBDib6fpOpt27qTXNddQUlIiHb8KIcQpTAIHQghRQ/gDAfyBAKqmhc8SQogaKS0nl4LCQkqk1oEQQpzSJHAgjonX66WwsJD8/Hzy8/MpKCjA4XD8qbcDuq7j8/mMdYY+paWl4UmFEMCR9DQefecdfH5/+CxxgjRNw+l2cyQnB38g8KfuaVXRdR2f309+SQklTleNDPqoqkphaSn5JSXGp8jhCE8mxHFTFIUm9eqGTxY1hKZpOByOCnm4goICfD5feNJ/RCAQoKioiOLiYlRVDZ9do/l8PgoLCyksLDypzy2Px0NhYeGfzuOHqKqK2+0mOzub1NRU0tPTcTqdJ2Xd/waqqlJQUFCpHHSqHh/pHPEYBIKZSUVRMJlMmIK9/+q6TiAQKOsR2GxGUY6/9bGu68bNrPy6TyWaprFs2TIee+wx/H4/uq5jNpvp1asXzz33HGazOXyRY6JpGitXruS+++6D4LEA6Ny5Mx999FFYaiHE0qVLefR//2PBG2+QEBMTPvs/TdU0NE2rNFSlUu7eWtUdutjpZPDzz3MwK4v7r7+eYb17YznBe1pVVE1j6W8befj9CTSuU4cvn3qKmMjI8GR/SNd1VE1D13UsJ/i8ORG6rrM/I4MBzz5LQFWN+3SEzcaaDz4IT37CAuWfg3/TvoWE9stkMv1h7/6apqEFj4HZZDrq71D+nDQpinFeBVQVTdeNc/OPvvPfbtPevdz03HMsXryYBg0aHPWYiopC+dDwrLyiKH8qb3qsvF4vY8aMYdGiRRDcHovFwrhx47jgggvCk//t0tPTGTp0KIqiMG3aNGL+Rc/N9evXc++996LrOkuXLiUqKio8yQlZsmQJjz32GN26deP111/HarWGJzlmqqqyZ88ebrvtNlwuF6qqYjKZuO+++7jttttOmTKPrutl9+pg+eavvGbK03WdnJwcevXqZfwboGvXrrzzzjtYLJawJf55p8YvdgpTVZVnnnmG9u3b06VLF3bt2gXBH3fnzp2cd955DB8+HI/HE77oH9J1nYKCAm677TaGDx9OWlpaeJJThslkwm63Y7PZ0DSNoqIiXH+yZ3c9GIyx2WzYbDY8Hg9FRUU45E2WEOI4rduxk0533MGZQ4YYny533cV1TzzB5LlzCQQC4YsAUFBcQmZ+PqUuF4s2bMBfTboTpuv4AgGKSktxuN1oJ1jjwO3zMWbiRIa+9BJ5xcWVCgp/JZOiEGGzYrNayu7/DgfFTmd4shOiA8UOJ3e8+hp3vv46BzIywpP8pQKqyv3jx9PpjjvYum9f+OxKip1Ozh0+nP5jxuBwu8NnV/Djsp85+/bbaTdkCMNeesmobTLo+edpP3QoHW+/nWkrVoQvJsQxCRU6OnXqxJlnnml8OnfuTO/evRk1ahSpqal/+b3CarUa+bjQ233/KVIrTlVVSktLKS0t/VfWOCguLj7pfYOE1nsyagUsWbKEwYMHk5mZSXFxMbGxsSiKQlxc3N9WOD8W2dnZDB8+nNtuu42MjIw/vd/HQ1VV4/rRdZ2ioqKTcuz/KhI4OAaBQMCoEvTjjz8aGT89WNXe4/Gc8A/s8/lYu3Yt69evP2ULzCaTiQsuuIAFCxawZMkSHnjgASgXGTtRJpOJrl27snTpUpYuXcrQoUNPuPaCEOK/TQsW0KMiIji7ZUvObN4cu9XKrsOHee2rr/gq+EYsXEqtZAZeeik9zj6b+/tfj+1PvF05Gj34OVGaprH1wAHWbN+Ox+sNn/2XURSFpikpLHjzLZaOG89zt9+B1WyGP3n/N+g6fjXAup07WL9zJyXOPxeQPhF+VcUX7D/kj+jBpifeKt7yhgtoKj6/H4/fz5GcXApKSsgtKmLzvn14fD68/gBe36lRwPonxURHc2abNkRFRZ1ShYmawufzoes6rVu35uyzz6ZBgwZkZmYye/ZshgwZwv79+8MXOWmsVivPPPMMS5cuZdGiRdSvXz88yT8udJ3+0fVaU53s/TpZ6/N4PHzyySeUlJTQvn17li1bxuLFi1m1ahV9+/Y9pa51r9fLr7/+yrp16/7WspiiKNStW9coB40ZMwar1XrSfoO/ggQOjkMgEGDVqlU4j/KmRdd1XC4XpaWlOBwOPB5PlW+YAoEALpfLqLoTCATweDzGNJfLZVQ/03Udv9+P2+02mgoQzEiGpofSqqqK1+s11uHz+dA0DbfbTUlJCQ6Ho8Kbt1Dboz/aXovFQmRkJFFRUdhstvDZJyRUjS4qKoqoqCisVusf3khC7elKS0txOp14vd4qt7f8sQkdk9LSUkpKSqqtHRI6TkVFRcZy5Y87wd/X6/Xi8XgqRNTLTy9/fP1+v3E+OJ1O4wFfHVVVcblclJSU4HQ60TQNj8dTab0hPp8Ph8NBSUkJLperymMhxH9J6yZN+PDhh5n8+OP8+PwLnNumNaqmMWfNmgp9Q3j9flweD6qmccdVV/HGyJF0bHV6hXuQHqxu7vZ68QUC+AIBnB4PxQ4HzmrulQA+v59SlwuH240v8OfecvlVFbfXi9vrJRAoq+Lu8flweb24PB7cXi9ev79SUEILbnexw4nD7T5q/w2hfSx2OIJpf2+SQLDGQaTdTlREBDarBeUkVS8NqGrZfni9BDSNgKri9flweTzGp6rtVjUNl8dDicuF0+3B/yeP8V8tJjKSYqeDrIICNu/bh67rKCYTf/C4+89o2rAhn378MYmJieGzxB8I5RFtNhuvv/46EydO5IsvvuCzzz7DZrORnZ3NpEmTUIPNcfx+P06nk9LSUiOPGC6UZwrlg8pff3qwaYTL5cIbDGDabDYjH2f6g+Y7IaE8U0lJCaWlpdXm5UJ5nFAeqqpmGeWF9q+4uBj3n6jhFaJpmrGvofxgcXExDoej0rEJCe1b+TxnVemo4jhUlwcP/Xahdf5RXlLTNGO9JSUl1R5fPfgCNLTek1krw+PxcOTIESIjI3n//fdp0qQJUVFRREdHV2r+UD7v63A4KtVYCe1PeNnG4/EYx+6Pzo2qhH7TUJ4+EAjgdruN73G73VVeI6FrIFQz42jfHUobyteHpz3ectA/Tfo4+AOqqjJ69Gh++OEHEhMTcbvdvP322/To0YMdO3Zw00030b59eyZOnEhUVBSapnHvvfeSlpaG2WwmLi6Ohg0b0r9/f9q3b4/ZbEbTNJYuXcrEiRPxer1s3LgRs9lM69atjfZXiqLQt29f+vXrh67rfPbZZyxdupRrr72Wfv36YTab8fl8vPXWW2zbto0hQ4Zw6aWX4vV6efTRR8nNzcVkMnH++efTrVs3xo8fz5EjR4iJieGiiy5i5MiRRvOAhx9+mMOHD2OxWEhISKBx48YMGDCA5s2bV7q4dV3nyy+/5Omnn+bqq6/mzTffPGm1BN544w0++OADOnfuzFdffRU+G4IPkTvvvJOioiIsFgtJSUk0a9aMm2++mWbNmhkXnN/vZ+LEifzyyy/069ePn3/+mT179qDrOo0bN+b//u//OPvss430Ho+HWbNmMWvWLNLT06lduza9e/fGZDKxYMEC7rjjDrp3747f7+ell14iNTWVhx56iLPOOguC0crnnnuO9PR03njjDWrVqgVAfn4+I0aMwO/3Y7PZqF27NmeeeSYDBw4kNjbWOHa6rlNSUsKHH37Ib7/9Rm5uLomJiQwePJhff/2VI0eO8L///Y/27dtD8Ca6fft2Jk6cyKFDh3A4HNStW5cLLriAoUOHEhERccq0HRMnz57du3ng//6P7595huiIiPDZ/2krt27j9ldf4dwzzuDTxx832pPPWbOW+8ePo22zZnz99NNE2u0EVJWH3n2P3OIiY3kFuOb8C7jh4ouM61LTdX7bvYfxP/xAq8aNaFCrFrNWrqLIUUqt+AQu73wuAy+7jCi7vSy9prH94EE+mDGDg1lZoMOZzZtxRpMmPPvppzSvX5/pL75IXHS08b1/5JctW/ho1izcXi/bDx7E6XbT8fTTibDZQQGzYuKiDh24/ao+mBSl7F7icjF57lzW79xJdkEhsdFRNE+pz4hrr6F5/fpGm3odKHU6+XLhQlZu3UpWQQFx0dE0qVuPkX2vo1lKSqX+HuasWcMD77yDWVHY+cUXFeYdD03X+XXXbsZ+9x3+QIDf9u5BAc5o3Ji4cu2Qrzj3XAZffjmW4LOz1O3m05/msG7XTnILi4iPiaFZ/RTu6duPxnXrHHemK6CqjHzrLZZv3syUJ57g3DZtwpNUUFBSwoX33EOjunX57plnjvpbfrVoEc988gnnnHEG21NTGXldXwodpUz9+Wfq167FrkOHeXLoMAZddmn4ov8tNhu0bg3B60gcG13Xyc7O5qKLLsJmszF37lwaNmxozPvxxx95/PHHOffcc/nkk0+w2WysWrWKN998E03TiIiIoG7dupxzzjlcc801xMXFYTKZcDgcPPTQQzidToYOHcoll1xi3BMDgQA//PADs2bNonbt2rz66qvYg7+bqqpcdNFF5OTk8OGHH9KjR48K2xvi8/lYuXIl33zzDUeOHAGgfv369OvXj0suucRYH8CsWbOYOHEiABEREaSkpHDeeefRp08fo9o7wf3Nz89nwoQJbN68mcLCQho0aMC1117LSy+9hM1mY968eSQkJBjr/iO6rlNcXMzdd99NdHQ0PXr0YNasWWRmZpKQkECXLl247777iIiIQAneewOBAEuXLuX7778nIyMDVVVJSUnh2muvpU+fPlgsFiOt3+9n4cKFTJs2zageX79+ffr27ctll12GzWZDURRUVSUzM5Px48ezZ88eXC4XrVu3pkOHDrz22msAbNiwgejgvcjj8bB48WKmTZtGeno6BI9v//79KxxfVVXZvn07H374IQcPHkTXdTp27EjHjh157LHHuOiii3jvvfdO+GVhdnY2l156KSkpKUydOrXK/iW04MvAzz//nNWrV5OTk0NcXBxNmjRh5MiRNG/eHJPJhMfjYcyYMaSnp6MoCi1btmTAgAGMHz+e/fv3Y7fb6dy5M//73/+IjIw85ufA8uXLmThxIiUlJWzbtg1N02jXrp3RX4TZbObSSy9l2LBhEDwnioqK+OSTT/j111/JyckhKSmJ0047jXvvvZd69epVKBMVFRXxwQcfsGnTJnJyckhOTqZt27bce++9JCQkVCo/TZ8+nUceeYTzzjuPTz75pFIZ7FQgJYtjZDKZuO666wB46623jhrtO3z4MPn5+aSnp7N+/Xq+/fZbowAYilCWlpaSnZ1NXl4eBC+egoICsrOzjU+oR1NVVUlNTWX16tUcPnzY+N5AIMDWrVtZs2YN2dnZaMGOmPLy8jhy5AirV69m1apVPPTQQ+zatQu32822bduYMGECK1asMNKnp6dTUFBAWloa69at44svvmDgwIFs2bKl2n38p+i6TkZGBvn5+Rw5coRffvmFTz/9lP79+7Nv3z4joqqqKvv372fVqlWMHz+exYsX43Q6OXz4MEuWLOHee++lONhOWFVVZs6cyZNPPsnKlSvRNI2cnBzGjh3LjBkzWLt2LdnZ2ejBzlO2bdvGmjVrKCgoMLYrEAiwadMm1q5di6tc3w85OTkUFxeTl5dHamoqS5Ys4c0332Tw4MHk5+cb6TRN491332XixIls2bIFRVHIy8vjtddeY/78+axdu5aiorJCjqZpbN26lRtvvJE5c+aQkZFBIBBg48aNvP766zz33HPGmwDx79K8WTNmvPkmESf4IP8vCI1gkFNYyJ4jR/hs3lzMZjOnN2pUoRlCblEhWXn5ZOTmsmnPHlZt28aRnBzUsLdrhaUlrNm+jTlrVvPO1KlkFRZQ6HDw6+5dvPHNN2zYvRst2KlSocPBPWPHMn/dOnILi/AHAiz+bQNzVq854Xup2+slp7CQ3KIio9ZRXnEx2YUFZBcUkF1YgMPtItR0wBcIMPa773jnxx9Zt3Mnbp+XfenpTP9lBXe98Sb5xcXGuv2BAC9OmcJb333Hmh078Pr8HMjIYObKXxj51lvkBu85fwldx+l2k11YQG5RWa/gZce7tGy/gp9Sl8s4dh6fj1HvvcfbP/7Aht278fh97D5ymGnLlzPijdcpOkm9gJ9sLRs2JD46mp9Wr2bT3r3Uik8gKfbUauMr/l0UReHMM8/EarVSVFRkvEkO9UGQm5vL3r17mT9/Ps8//zyPPvooXq8XXdexWq00atSI1atX891331Wo7RgIBJg3bx6rVq2q8LLmWKmqysqVK7n33ntZuHChMQrDsmXLeOSRR1i2bFmFazgvL4/CwkJje3/66SeefvppXn755Qpvgl0uF3fffTdTpkxh165dWCwW9u3bxzPPPFMhT3a8vF4vq1evZvny5bz11lvs3bsXt9vN1q1b+fDDD/nss8+M46OqKtOnT+eee+7h559/Ntqqr1q1iocffpgffvjB+B1UVWXu3Lk88MADrFixwqj1u2LFCkaNGsXs2bON/GxxcTH33HMPU6dO5ciRIyiKwpo1a/jmm28q1RBQVZVvv/2WUaNGsWzZMhwOB06nkxUrVvDwww+zaNEi4/hmZGQwcuRI5s+fT25uLoFAgDlz5jB16tRK6z1WqqoatWSLioqMl2Z+v9+Y7vf7jX3z+/08/fTTjB07lvXr1+N2u9m3bx8zZ85kxIgRFBQUGM+G/Px8MjMzjbLNww8/zK+//orX62X37t188sknTJ8+/bi2vXxZLPQcz8/Pr1AWKy030pvb7eaBBx7ggw8+YMOGDfh8Pnbv3s3333/PXXfdZZQL9GDt8+HDhzNp0iS2bNmCqqrs3LmTzz77jBtvvNEo/9U0Ejg4Dm3btqVz587s27ePHTt2VJlBMZlMfPXVV8yePZu5c+cyffp0LrjgApxOJy+//DJOpxOz2UyfPn2YMWMGkyZNwmKxEBERwfjx45k5cyYzZ85kxowZDBo0qFI06o9ERkYyceJEPvzwQ6xWK7/++isej4cpU6Ywbdo0unXrhq7rRgE5MjKSzz//3NjeqVOnctZZZ1FUVMR7771X4YFxKrDZbPz444/G9n7zzTe0adOGkpISJkyYUOmGoes6ubm5TJo0iZkzZ/Luu+9itVrJzs5mzZo1aMGqTl9//TV+v5/BgwczY8YMpk+fzl133cWWLVsqrO94tWjRgh9//JGffvqJuXPn8tFHHxETE8OOHTuYO3eucaNKT09nypQpaJrGo48+ytSpU5k6dSrdunUjPz+/wrkWCAT48MMP8fl8XHDBBUydOrXCuTR37lwyMzMrbIf4d7CYzVgtlv98L+xH89vevfR++GF6jRrFdU88wYbduxl+1dWMHjLEOG4Ws5mJjz7KzFde5scXXqBTq1bhq6kkM7+Aq7t1Y+bLLzPntdfo0rYtXr+f6StW4A8ECKgqk2b/xKGsLGonJPDlU08y9cUX+GLMk6Tl5oSv7phdfPbZ/Pj883zzzDM0q18fRVH4+OGHmfHSS8x8+WWmvfgiI/v2NWoYbdm3jx+WLUMBHhkwgFmvvMLUF16gQa1aHM7O4v3p0411H87KYs7q1SjAc7fdzqxXX+Hz0aOJj47mQEYGb//4Q5XPuZPBZDJxYfv2zHjpJT4fPQabxYLdauP1/xvJzJdfNj7Dr7kGi9mMruscyMhgyW+/oes64++7nxkvvcT7D/0Pq9nMniNH+Hz+fGN0hlNJpN1Ory5d2HJgP+t37aJzmzZERsjb9RBd11HVsmehODk0TWP//v2oqkrt2rWxWCyYTCYuv/xypk+fzk8//cS8efN4++23iYmJYeHChaxatQpN07DZbNxxxx3YbDbWrVtnBBQI5j/27t2L2Wzm5ptvPu43oi6Xi7feeguXy8VFF13E7NmzmTVrFhdffDFOp5NHH320QkF/wIABzJo1i59++on58+fz0ksvYbfbmTlzJqtXrzbS7dy5k23btmG32/nwww+ZNm0aM2bMoEWLFiflRYrH46FDhw7MmDGDGTNm0Lt3b3RdZ9KkSUbB0uv1MnHiRPx+PyNGjDDSjhkzhkAgwOTJk3EHO1TNzs7mpZdeIhAIcNtttzF9+nRmzpzJww8/TCAQ4L333jPys3PnzmX79u1YLBY++ugjpk6dyrRp04iOjq5Ujd7hcBjBjFAAYubMmdx+++34fD7Gjh1rbO9XX31FdnY2Z5xxBtOnT2fq1Kl8+umnrF+//oTy/rquk5aWxvDhwxk+fDhPPPEEfr+fvXv3MnLkSGP6fffdhysYEM7IyGDWrFlomsarr75q5GUjIyM5cOAAH3zwAX6/n4iICCZMmMD3339PVFQUhw4d4uDBg3z88cdMnTqVPn36QPBYHc+2X3bZZfz444989NFHREZGYrFYeOedd4zfY9q0aQwfPtxIv2XLFtavX4/JZGLs2LHMmjWLCRMmYLFY2LlzJ99++y16MNCxbNkyNm3ahMlk4oUXXmD69Ol89NFHmEwmUlNTWbp0qRFAqUkk93kcIiMj6du3L7quM2/evGp/8JiYGOLj40lMTOS0005j3Lhx1KpVi+zsbDzB9vVWq5Xo6GijapGiKERGRhrToqOjjWpKx8NkMhltZQhGx5577jmaNm1KUlISN954I507d6ZevXooweElY2NjiY+PJykpiZYtWzJ+/HiSkpLIyMg4KTfck0lRlArb265dO1544QUiIyPZs2dPpd/EZDLRq1cvzj77bBISEujcuTOnnXYauq5z5MgR48a1Z88e4uPjGTJkCLGxscTGxjJgwABOP/30Cus7Xlar1djeWrVqcf755/P4448b0fBAIICqqqxduxa/30/dunWNKngJCQmMHDmyUvBIVVU2btxIQkICTz75JA0aNCAuLo6OHTvSp08fHA4HWVlZkgkT/0k+v5+CkhIKSktxejwkx8Wx+8hho215SHREBDFRUURHRBzTkEfRERHccvnlJMfFUTshgcvOOQezycSeI0cIaBoen4+VW7eiA7f36UPTevWIjoykWUoKfbp0Oe57eYjVYiE6MpLoiAjMStkjO9JuL5sWGUlMZCT2cpn3FVu34PF5SYqLY8Cll5IQE0PzlBSuu/BCdF3nu6VLjcL13HXr8fj9tGnalGsvvID46GjaNW/O4Csux2QysT31IO4q2neeLBaLmZjISKKCVX0VBSLK7Vt0cN8URcGvqsxftx5N17moQwcu6tCBxNhYzm19Brf06oWuw8Y9e42RC04lVouFi846C5OiEFBVru7WrayDSQFAWmYmD4z6H7m5ufLc+pP0YLPH6dOn8+STT+L3+2ndurVRwLfZbEb+onbt2lx88cVGvnb16tWoqoqiKMTHx9OhQwdKS0v59ttvCQQCRjAiIyODM844o0JTgWN16NAhDhw4gNVq5e677yY5OZlatWpxzz33EBUVhdvtZnewFhfB5glxcXEkJCRQq1Yt+vXrx4UXXkggEOC3334z1rty5Up8Ph+XXXYZnTt3Jioqitq1a/PEE08QeQLD34aLiIjg9ttvJyUlhVq1ajFo0CAURTH6YNB1HafTyb59+2jTpg133XUXycnJJCYm0r9/f84880zS09PxB9vuHzlyhJKSEtq0acM999xDUlISCQkJXHPNNdSuXZuDBw9SXFxMIBBg8+bN6LrODTfcQKdOnYiOjjaaNIQHbrZt20ZmZibNmjVj8ODBxMXFER8fz4gRI2jRogUlJSUUFhYC8MMPZYHhvn37Uq9ePaKjo2nfvj233HJLpfUeq9LSUlasWMGKFSvYsGEDgWD/batXrzamh/K7oRoOqqrSqVMnLrvsMpKSkmjfvj233XYbuq6zadMmfD6fUUYKdaDq8/l44oknaNu2LQkJCfTv35/zzjuPFi1ahG/SUdlsNmJiYir0zxEZGUlMTAzR0dHExMRUaDqzYMECfD4fPXr04LLLLiM+Pp5u3bpxww03QPD4h66VDRs2oKoqV1xxBVdeeaVRBhkyZAgmk4l169YZ50NNIoGD46AoCh06dCAmJoZp06YZEbOQ0I1jxowZDBs2jAsvvJAOHTpw4403kp+fb3SKUX595f8b+jv0ORkiIyPp2rUrZrMZs9lMr169+OSTT7jtttswm80UFBTwww8/MHjwYLp160aHDh249dZbKSgooLS0tFJB/J+k6zqFhYVMmTKFAQMGcN5559GxY0fuv/9+nE5npTfzlOuxNHRDsFgsNGjQAIJVpAiO86uqKna7ndq1axvH326306RJkwrrO16pqamMGzeOfv36ce6559K5c2cjgpqfn2/UOEhLS0PXddq1a0d0dDRKMKjTqFGj8FXi9/vJysrC5/Px/vvv89RTT/HUU0/x3HPPsWfPHlRV5fDhw6fUbyfE36VL27as/+gjfps4keXvvMPd/fqx9cABHp4wga37D1RIq4TuuRWmVs1iNlM7MdG4PyTHx6MAXp8Pgj3tO4OB4S5t2mI2mVAAs8lE22bNwlf3pyjlPuXpus6hrGx0Hc5q0YLoYFtPk8lEu+bNMZvNaLpeVqUf2HkwFU3TqBUfT5Tdbuzbhe3Owmwy4fR48Hj/usBBSPnHXfl9K79/qqax49BBFKBRnTqYzcF7utlMjw5no6NTUHpyhyU7WRRF4bQGDbj83M5cfu65tDut+Ul7xv8bFBQVsWjJkr9l6MB/K5fLxRVXXEGnTp3o2rUrjz32GEVFRbRp04bbbrsNk8mEpmns3r2bV199lWuvvZaOHTvSrVs3Y7SwQ4cOGfkGm83Gtddei6IofPDBB8YQi99++y0A7dq1O6aAa7jMzExUVcVkMtG0aVPjntOsWTPsdju6rhsvPrRg09DnnnuOq666ig4dOnD++eezdOlSAoFAhSHMU1PL7mUNGzY0OphTFIXatWsbL9L+DJvNRlJSkrHeunXrGvNC+bhQDY/CwkJefPFFI2/2wgsvGM2PncFh9goKCvB4PEZt5FDacePGURIcXjEtLY1AIEBRURGm4Chkoe9XFIXGjRtXerEU2oa8vDxeeeUVY72vvvoqOTk5eL1eYztKS0uxWCycfvrpRh5ZCTZxMZ1ArUZFUWjRogWLFi1i0aJFfPbZZ9jtdlq1asXcuXON6bNmzSIuLg412McCwT4YQr+bxWLh4osvhmAzjarKTVarlfPPP9+oSdO1a1c+/fRTnnjiiRPukyEk9B2h/5a3a9cudF2vcJ6ZTCa6d++OyWSisLDQ2N709HR0XadDhw4VzskzzjgDRVE4fPjwcdWOOFUc/5nxH1enTh369+9Pbm4us2fPrvCjBwIBXnzxRR577DE2bNiA2+3GbreTk5NzQhfhH9GDvbFWR1EUEhMTK9wQQs0irFYrXq+Xxx9/nKeffppNmzYRCAQqbe+p9BB3OBwMHz6c559/nh07dqBpGlarlfz8fEwmU7XbGn7sQzcDPVidKFQtLnR8yqc71huQFuwvIkQP1mgYPHgwH330Efv27TNuMHl5eZVuSI7g8C8xMTEV5oU/FCj3mzidTubOncvs2bOZPXs2c+bMIS0tjbi4uGPeblGzOF0uPvhxKu6jXPf/dTaLhcTYWJLi4mhcty4DLrmEay64gMLSUib9NDs8+XExlQ/yBou1obuOputoetk9IDLCbpSGFcBu+5uqpQc73QKwWSq+MTKbzGXPgeD9CsDjLwsKWMxl80Islt87ba1uEMmqp/551a1XCdve8tND9+1TOVhaOyGBsffew/j778cadrz/63RdRw17horjFyps2+12UlJSGDVqFJMnTyY5ORlN00hLS2Pw4MFMnjyZQ4cOGddNqJZB+TyU2WzmqquuIj4+HqfTya5duygpKWHevHmYTCb69OlTZf6EP8g3ls8zl19eURTjLXeoiv6+ffu49dZb+frrr8nIyMBmsxnzwq8fZ3C0M3swABpiNpsr5QFPhMlkMtZTfv3l9zUQ7C0/JyfHyJeFmtV6vV7i4uIqBVuOHDnCrFmzjLTz5s3DYrEQFxdnHB+/34+iKJUCIFartdK+hY5vaWlppW0IBALExMRgsViMdFXlc8OP4fGIiIigefPmNG/enIYNG2I2m4mIiKBJkybG9Pr16xv7FqqFHX5c/uieHhqZQQmWbcxmM5GRkVUek+N1tPPXExwhw1zpmVnW6WXoWqLcy8nq9q0m1jZAAgfHz2q1cuuttxIXF8fMmTMr/PB+v5/Fixdjs9kYO3YsixcvZvny5cyZM4ekpKQK6wkJXbBqcCiSqoQuCoJR5dBJ7ff7OXToUFjqisJvCOUVFRWxadMmYmJimDBhAkuWLGH58uX88MMPR+151mKxoAc7eDzaBXa8Qk0zAsHq++GOHDnCzp07SUpKYuLEiSxdupTly5czadIkIv5ED/P169fHZDLh9/spLtdxmB7sOLG80E1KD/a2G+IPDpMTous6a9euJTc3l3bt2vHtt9+yfPlyfv75Zx599NEKNzYlGDlWFIUdO3ZUeLCGfz/B4xTqufXVV1/liy++4KuvvuKrr77im2++4dtvv6Vnz55/+uYpTj2bt2zhk1kz2RfsKVkcnRIM1kXZ7Wi6ztbU1PAkJ43VYiEyeL/dl5ZuZHh0IKD++bcKiqIYBfqC0lK0Ku69CpCSnIyiKGw5sB9v8Pmk6Tr7M8pqVimKQnx0NArQunFTTIpCfkkJnmAwSgc27duHqmpE2e0VmkEAWM0WoyaA52Q0Y1AUrOZgAUbTcATbAIczKQqtGzdFBzKCtbUIjorw257dKEBCzPFXnf67GENa/olMuRDVsdvtTJw4kalTpzJnzhzmz5/PiBEjSE5Oxmw2o6oqX375Jbm5uZxzzjn8+OOPLF++nKVLlxrVrMtTggXV66+/nkAgwKJFi4we/evUqUPHjh2rzGPYbDZ0XTcKhOFCNUC1YMfcoTxk6I08wRd0iqLw7rvvUlRUxMUXX8ysWbNYsWIFy5Yt49JLK49C0qRJE5Rgp9LheaiTlU892nWrKIrx5j4pKYlPPvmEL7/8slLeLDl4f05KSsJmsxn9klWVtmXLlkYQQVVV9u7dW+E7VVWtVLA+44wzMJvN1KpVi/fee89Y59dff80333zD5MmTady4MTExMUYgJrxpaygAcqJC+eTQ8Sr/7/LTTSYTbdq0QQ/WMgnldwPBzr6BCgGU8kIF9ZMltL5Q2aY6rVq1wmQykZ2dbZT/9GCTClVVK4yUUD/YJ9GePXsqlBUPHjyIpmk0atSo0r6Fgjb+ch1InmoqX/XiqEwmE4mJiXTq1InQOK4herD6kdVq5bTTTiMiIoJAIMC6deuMHjtD46nquo4SrBEQERGB3+9nxYoVFBYW4nK5cDgcOBwONE3DZDJRv359NE1j/fr1ZGRkUFJSYvSYqgffmvt8Pnw+Hx6Px/iO0A3c4/FUqhLj9XpxOp1ERETQsmVLrFYrfr+f1atXU1JSQiAQoDQ4vm7oJqIE+xhQFIWdO3eSlpaG0+mkoKCgwigBJ6Jhw4aYTCZjxIRQ84OioiI0TTPGWo2MjKRZs2ZGrYm1a9ca4/WWlJTg9/uP66bXqFEj4uLijLZZTqcTt9tNeno6u3fvrpDWHBxvNfQQDo2aMGfOHHJzc9GCQ8t4vV6jN9i6desaNxCHw8HKlSuN3yV0DoVuRgcPHmT9+vW4gmPIbtiwodK+mM1m2rdvj6qqfPbZZ5jNZho1akTTpk1p3Lgx9evXJy5Oeuz+N/L6fARUFX8NrN72d/EFAhSUlBgjK2xPTWXeunUAdAi2fwyoKh6fD5fXi8fnwx+8j/sDfjxeL26v97iPcYTNRoPatQGYOHs2ecXFuL1eih0OVm3bFp78uJlNJhJiYlCAyfPmkVNYiMvjwenxUBKs/gpwdsvTsZjNZBcUsGzjRkqcTjLz8pi7Zi2artOlbVvswQBH1+Df+9LTWb97NyUuF4ezsvlwxgw0XaNB7dpEhA2RlxgcRlbTNDbu3Uupy0WRw0F+SckJZXQUIDY6iqjgMJmLf9tAQUkJLo8Hh9tNqcuFFnzD06VNGywmE+t37mTX4cOUulzsS0/nvWnTUBSF0xqUBYFPhKZplLjc5AfPnfKfgpISHG53pcx1YWlplWlLq3kJIKoWXqAQx89sNtO4cWOaN29OvXr1iIiIqPBWVNM0Dh8+DGD0KwBQUlJi9BUQqjpf/m30FVdcgcViYcaMGaxYsYJAIMBll11W7VvplJQUNE0zhkR0Op1kZ2cbI5E1btyY5ORkVFVl6tSpFBQUUFhYyLfffovP5yM6Otp4kRJqupKcnGy8fMvNzWXz5s1owY6tQ/nkUNOJ0Ohjbrcbh8PBtm3bjloQPFkURSEmJoZmzZqRm5vLrFmziImJoXHjxjRt2pSGDRvSqFEjo1ZFSkoKSUlJOJ1Opk+fTmxsrJG2UaNGNGrUyPgNQ81rP/vsMzIyMox927x5c6WXS61ataJ27drk5+fzyy+/EB8fT5MmTYxtSElJITIyErPZTOfOnVFVlfnz51NUVITb7aawsJCff/650nr/CmazmW7dumG1Wtm+fTvbtm2jpKSE1NRU3nnnHRRFoWnTpthsNgLBvhJCASk9WOPaExyl4c+Kj48nKioKTdNYuHAhBQUFRlmspKTESNe1a1esVitr1641zq29e/fy8ccfo+s6TZo0Ma671q1bYzKZ+Omnn9iyZQsOh4P9+/czbdo0CHa4H14boVGjRphMJjIzM0lLS8PhcBijipzI8/WvoOjhpRJRgaqqjB49mqlTp/Luu+9y+eWXEwgEjGFUAoEA559/PhMnTkRRFK677jr27NlD7dq1adOmDYcPHyY9PZ3ExESys7NJTk7msssu49lnnzUisy+99BKTJ09GURQSEhKw2WxomsaZZ57J22+/jd1u57fffmPgwIF4vV4SExOx2+14vV5SUlLYsWMHsbGxdOzYkX79+jF+/HjjZm02m6lbty4RERGMGTOGnj17GvuWl5fHDTfcwKFDh6hduzZnnXUWe/bsITc3F4vFQmlpKbVr16Z379489dRTRoZs+/bt3HDDDbhcLhISEoiKiiIQCNCtWzfeeuutE864paenc/XVV1NUVGRcxH6/n6uuuorHHnuMtLQ0brjhBvLz82nYsCFt27Zl586dRmDB6XRSu3ZtBg0axG233cazzz7LtGnTGDFiBA8++CBWq9UYSmXRokU89NBDjBgxAoCxY8cyYcIEbDYbjRs3JjIykiNHjlBUVITVauXFF1+kf//+mEwm3nvvPcaNG4eqqiQmJmK1WiktLSUyMpL8/Hxq167N7bffTpMmTXjggQdQVZUmTZpw2mmnsXHjRvRggMlisVCnTh2ef/55LrjgAoYNG8aqVauIioqiTp06WK1W0tPTcTgc2O12Pv74Y7p3744WbKd43XXXGQ/auLg4IiMj8Xg8NGnShPfff5/4+PjwQyxquKVLl/K/Bx9k4qhRdPyTHXf+26zcuo3bX30FTdOIDxawVU3H4XbhCwRIiInhizFjaNO0KWt37OCJjz/G5/ej6TqFJSW4vF7ioqOJi4rCarFwe5+rGHjZpSzZsIGRb71FdGQkK959l9ioKFRNY87qNTz07js0TUlh+osvEhkRQWpGBpf973+g69ROSKB+rVpkFRSQV1yMz+/ntAYNmP7ii8QFO8U9Hv5AgCnzF/DilM/RdZ2kuDjsNhsK0LhOHaY8+aTRL8H9b7/Nkg0bsFmtJMbE4Pb5KHE6SYqL48fnn6dJvXoQrDFw1xtv8PPmzditVhJjY3F7vZQ4nURFRDDthRdoGdbPSn5JCdc89hgZeXlERUYSHxWFqum0P605b99/P5FhgYZj9e7Uqbwd7KwrITYWu9WKpuukJCXzxZNjiLTbKXG6GPT8c2xLTSXSbicuKsrYXqvFwvJ33qFusB3ysQqoKiPfeouF69cTFx1dqYYFwQzuFZ07M2bIEEqcTi685x68fj8JMTEVmq8QbBJy8dln8/KI4Xy1aBHPfPIJd113HQ/ecEOF7XrovXeZu2YtY4YMZdBlld+g/pfsSUtjwPPP8/GkSXTo0OGE8xD/NXqwWnz37t2x2WzMnTuXhg0bhieDYKDryy+/5Nlnn8VkMnH66aeTlJTEnj17SEhIYPfu3URERFC3bl2effZZevToAcHalBdddBGZmZlYgu3J3333XS655JJKv5OmaUyYMIHx48cDkJiYiMViwe/38/7779OxY0d0XefHH3/kscceA6BWrVrouk5RURGKovDwww9z5513AvDmm2/ywQcfGNsbGxvLrl27SElJYdeuXVitVurWrcv48eOpX78+N910E4cOHSIuLo5mzZpRUlJCVlYWbrebOnXqMG/evKPWpg2nB0fl6tKlC3Fxcfz4449G59oHDx7kkksuISYmhpkzZ9K0aVMCgQAzZszgscceIxAIEB8fT1xcHHa7HZfLxfnnn88LL7xgFISXLFnCXXfdBeUKrna7Hb/fz7XXXsuDDz6I2Wzm4MGDXH311TgcDhITE2nWrBk5OTnk5ubi8XiIiIhgw4YNREdHo2kan332mTFiQ0JCgtHBn8fj4ZJLLuHZZ5+F4AgBt9xyC06nk1q1alG/fn0yMjLIyclB0zQuu+wy3nvvvaPWXD6aAwcO0KdPH04//XS++eabKjupdLvdDBs2jPXr1xsdYXo8HoqLizGbzSxdupSGDRuybt06nnjiCdxuN5mZmSiKQp06dYiMjOT//u//uPHGG8NXfVx8Ph8fffQRb775JiaTieTkZKxWK7qu06hRI77++mtMJhPFxcXcfPPN7Nq1i8jISOLj440XvbGxscyaNYsmTZqgBzspPf/883E6nURFRREXF1ch7fTp02nevHmF7SguLuaaa67h8OHDxMXFER0djaqqNGvWjE8//bTKY/h3k7vzMSofDTebzfTs2dN4ixxis9kYM2YMrVq1Ii8vj59//pnc3Fz69u3L+eefjxKsRhXqFC+03rvuuovrrrvO6F8gLS2NjIwMY1QDRVFo06YN9913H5GRkRQWFpKfn8+QIUPo0KEDerBqTW5uLk6nk4yMDLKzs9F1nUAgQEZGBmlpacb4oiFJSUmMGjWK0047jezsbBYuXEheXh5Dhw6lTZs2qMEOVsI7HWzZsiX/+9//iIuLo6ioiIyMDPLy8vD5fH8qSlm3bl1Gjhxp7GN6ejp5eXlGpK1Ro0Y8/vjj1K9fn/T0dBYsWIDL5eKWW26hcePGaJpGTk4ORUVF6ME3VOGUcs0+QpE+i8XCrbfeyrBhw1AUhX379rFr1y46d+5Mx44dIdhuK/RbDxkyhBuCmcD8/HxcLhcvvfQSzZo1Q9M0CgoKKCkp4cILL2TYsGHExMSwb98+Fi5cSEREBE899RRRUVF4PB5ycnJwOByYzWZefvllevTogc/nIzU1lczMTG688UZMprI+KkI3b5PJxBlnnMF3333HFVdcAcHxePfv3096ejrp6enVVhMU4t8qNNSi1+8nt6iInKIi8kuKiYuO4pKOnXjz7rtp1bgxAG6fj4y8PNJyc8nIyzP6jCh1uUjPyyM9N4+sgrIaVOGZ45DQ91ktFlAUTIpC05QU3r7/fuolJ5NTVMSW/ftJiInhmVtvO67CbFUsFgsDLr2EO6+6mpjISPKKi0nPzSUtN7esaUHwmRJlt/PMrbfS/6KL0HWdzIICih0OzmzWnNf+7/9oWKeOsU671cqzt99O/4suIqCqZObnU+J00rZZM9578EGaB990lZcQE8MLd9xJ7YQEnC4XGfn55BQWUFhN84ljNbRXLwZccinRkZHkFhUZv01WQb7R6WRMVCTj77uP3uedh8/vJ6ugAJfHQ4eWLfnqqaePO2gQoigKmq5T7HCQEzx3KnwKCykJtqEO8QcC5BUXV05b9HtaU3AUDFMV1ZxDI2QIaNa4MVMmT6Z9+/bVXm+iauXzpkdjNpu58cYbjXzOjh07WLVqFfHx8YwZMwaTyWTkSco3m7VarTz++OPYbDZ8Ph8Wi4Wzzjqryu9UFIXrr7+eCy+80MiPZWZm4nK5KCwsNPJlffr0YcyYMdSqVYvc3Fxyc3NJTEzk/vvvZ/Dgwcb6RowYwfXXX4+qqmzdupXVq1fTsGFDHnnkEex2O263m6ysLDweD8nJybz55puce+65FBcXs2nTJhwOB8OGDSMlJaXCdh6P6s7HqvKXFouFa6+9lvfff5+zzz4bt9vN4cOH2bt3L5mZmWRkZBh5ZIvFQs+ePfnggw/o2LEjpaWlpKenc+DAATIyMjhw4IBRTmjUqBEffPABrVq1oqCggN9++w2z2cxdd91Vqd8Dk8nEgAEDGD9+PB06dKCkpIQjR46wb98+0tPT2bp1q5Gfb926NaNHj6Zu3bpkZWWxadMmatWqxZtvvvmnmv8ej4iICF577TWuvvpq/MGOvx0OB23btuXzzz+nQYMGKIqC1+s1jqGmaajBJhZpaWlkZ2eHr/a4Wa1WBg0axKBBg4iIiCAnJ4f09HQyMjLIysoyrom4uDjGjx/PFVdcgcfjITMzE6fTybnnnsunn35qBO4URSEuLo4ZM2bQs2dP/H4/mZmZOBwOunTpwpQpU6rsfD02NtZoYlRcXGyU50pKSv5U+epkkhoHf0APVilXg73uh6oZ6cHmAaqqYrVasdlsmIPtyNxuN7m5uTgcDurUqUNcXBwulwuPx4PVaiUmJoaIiAjjhqTrujGkS0ZGBn6/n6ioKOrXr090dDTm4BjWgUCAkpISMjMzSUxMJDk52ajSbrPZiI6OxmQyoVbR7kkJjhIQHjkMVf/Jzs7G5XJRt25dEhISjJ5B7XZ7hSFQCG5vIBAwtlfTNGPYmfIF7BPh8/lwuVykp5e1EU5KSiI5ORlbsP8DNdgXRE5ODm63m/r16xMVFUVxcTGqqmILDjVksVhQVRWfz4fNZjOW1zQNn8+H3+83fs/Q9EAgYAReUlJS8Hq9DBkyhPT0dCZOnGj0aBv6vUpLS8nKyqJ27dokJiYaxywiIoKoqCijCYrT6SQrKwuCbZ4iIyONDihDx9Ye7E3Y4/FQWlpKTk4ODRs25NChQ/Tr14/IyEh+/PFHWpUbbz60Lz6fz2gfGBUVRUpKinHeiH+XvLw8ru7dm4mjRp30nvprOp/fjy84DFJ5JpMJi9mMNTiyzNHShiiKgtViwW61omoabq+3bB0WC5bQ/TjY3MFiNmOzWjGbTOjB69Lt9ZKVX4DVaqFWfDxmk4n84mLioqOJiogwgg7HS9d1/IEAXr+ftJxcvH4/FrOZekmJZaM8lKuW7FdVXB4Pmfn5JMbGEh8Tgy24/eVpwXW6vV4y8/KJj4kmITa2yrQhoX3PzCsr1CfExFAnKRF78DicCF3X8QUCuDwe0nJzCQRUIuw26icnExOsWktwe31+f9n25ueTFBtHXEw0ESfYKZau62XNVY7SNEUJjt4QYbMRUFV81fTDQ7m0kXY7Xr8ffyBgnEvleYKBdksV8/5zbHb01megnGBtlf8yPTial8lkwmazVar6XF75vGZ2djaW4ChTNpuNjGDng6E8Sfm8osPhYMyYMcyePZtrrrmGN998s9p8XigfU1BQQF5eHna73cgHm4NVuEN5SI/HQ25uLqqqUq9evQp5stC6fD4fJSUlZGdnY7fbadCgAaZgk1ZzsOO9mJgYzMHmUz6fj8LCQkpKSmjQoAFWq5XCwkIig0PsHe34VEUL1mY1mUzY7XZj+eqmE6yp7As2G87MzMTr9RIfH280ISmf99c0Da/Xi8/nM14WxsfHU7du3Qr57kAggM/nIzc3F7/fbwypXlxcTGRkJAkJCRWOm6qq+P1+XC6XEbAov94Qv99vFMojIiKMkSOKi4uJjY0lKjhM4YkI5bWVYPmjujypXq7ZQUZGBgkJCSQkJFQ4VqHtDH9mK8GXavaTcO/QNA2/31+hLBYZGUlKSgrxYc/XUFklMzOT5ORk4uPjjXJg+DpD11xmZiZ169YlNja2yrQhfr8ft9tt9GEXGor0aMv8nSRw8Bcpf1iru8FW5ViWC6Wpbv6JONF1nuhyf+SP1lvVfD3Yb8SJCt3EVVXF4/EwadIk3n//faKjo5k6daoxdFD4MuHTqlLV9lYltA2BQAC3282TTz7J7NmzqV+/PnPmzKm2+cGxnDei5vO4XGSvWEHd6GgiTrD6oPh76LoOwVEMoKzTwZN5ZR7rNX+s9yiOMy3lt6Hcfp4Mx75vVBjKUdRQdju0bg1yT/vbhOdJwq/9UD6kuLiY6dOnM27cOKNafvmhCKtz7NfwseeNOIZ0IeH780851uPAMaY93uPAX7jev8Kpth38wbYcz3l2PGk5hY5FOAkciP88TdP4+eefWb9+vdFhZGpqKps3b0bXdQYNGsTo0aP/0kifrutMmTLFqHZXXFzM7t272bFjB1FRUbzzzjtceOGFxx0tF/8yqgrbtoNXmqIIIf4ddJsN/YzWmCL+/FtD8ec5nU4+/vhjjhw5wrp164zaCPfffz933HGH5EOE+A+TwIH4z1NVlddff51PPvkEgtE9m81GfHw8V111FQ888MBf3t5L0zRuvPFGtm3bZkQZIyMjSUxMZPjw4fTr1++kVMUSNVxAhe3bINgmXwghajqnprE0M4sLelxcoUqw+GcUFBRwxRVXUFJSgt1up1atWtx+++3ccMMNlZq7CiH+WyRwIP7zdF1n9+7dHDp0yGgHV7t2bWJjY4mLizvh9l3HQ9d1Vq9ejcvlIiIigtjYWGrVqkV8fDzR0dGSkRJlAgH0bdtRfBI4EEL8O+xJT2fAc88x4YMPOPfcc/+WZ66ons/nY+nSpdSpU8fow6l8e3shxH+XBA6ECBbcq2rT9Hc+KKvq9KX8f4Xwut38POULurU6nZhTYFgeIYT4s/akpXHz88/z3oQJnHfeeRI4+IeVzw8pxzhqgxDiv0HuzkIEH44mk8n4/BMPy/Lf/09tgzi1ub1enpn4MfvT08NnCSFEjaXrOhkZGRUC+OKfUT4/JHkQIUR5EjgQQogaQlVV/KqKWs0wgkIIUSMFRxQSQghx6pLAgRBCCCGE+EdYrVYio6KkPx8hhDjFSeBACCGEEEL8I+rVqcNjox7mggsukMCBEEKcwiRwIIQQNYgS/AghxL9BZGQk11xzDXFxcRI4EEKIU5gEDoQQooaIi45m1MCBtGjYMHyWEELUXBIvEEKIU54MxyiEEDWE7vejb92G4vfJmzkhxL9DRAS0aQMWS/gcIYQQpxCpcSCEEDWEoiiYZJhOIcS/iNfrZd26dRQVFclwjEIIcQqTwIEQQtQokrEWQvx75BUU8Ojjj/Hzzz/LkIxCCHEKk8CBEELUEKqmUVBSQkBVw2cJIUSNpGsagYCKz+cLnyWEEOIUIoEDIYSoIUqcTgY8/TS7Dh0OnyWEEDWTtLwSQogaQQIHQghRQ2iaRmFpKf6AP3yWEELUSNL4SgghagYJHAghRA2iS0ZbCPEvoiAdvgohRE0ggQMhhBBCCPGPSExIYNDAgZx77rkSQBBCiFOYBA6EEKKGUBQFRZoEi5NF19H9fjSPx/ioJSUE8vNRCwpQi4rQPB50nw/d7y9L63TiPbAf16ZNePbsQXM4QXrCF39CVFQUw++8k6ZNm2IySbZUCCFOVYoug+YKIUSNUFJczIght/Dc0Ftp2bBB+GwhjomuqqDroKoUfPMt3iOHQAOT1YLmdqHYI9ADgbI0gK1RIyxxcZiio3Dv2QMBndiLLkTz+nCuXUPSgAFYatdGsVhA3hiL4xUZCa3bgMUcPkeI/xRd1wkVyySI9u8X+r0VpeY015LAgRBC1BR+P9rmzSiqWmMeMuIUo2m4t23FvWMnJrsdzecl4epr0JxOsFhA11EsFnS/HwIBdE1Dczhxbd1C6YoVJFx1FbEXXIAvMwvP7l3409LwZ2VhrVOH2Isvxt6yZfg3CnF0kZHQpg2YJXAg/rt0XScjI4O9e/cSHx/PWWedJcGDfzG/38+2bdsoLi6mVatW1KtXr0bk6yRwIIQQNUUgAFu2lP1XiD+i6/jS0vDs2o3mdqJYrQRycvBn5WBNqYfv8CESr7+BiFatwpesSNfx7NtHwTdfU2/Uw5giI8smaxpoGprDgXvXLgI52fgzs4k+rzNR7dtLQVAcE9VmIy02ltopKURGRtaIzLMQJ5PP52Ps2LFMnjwZXdepU6cOixcvxmq1hicVxygQCLBp0yaysrLo0qULycnJp9S9pbi4mCuuuILCwkJMJhN33HEH99xzD3a7PTzpKcX8zDPPPBM+UQghxClI0yA7W9qUiz+mafiOHKZw6nQsiQmg6egBP/6sLJJuvBHv/v0odjtxl1yCYjaXNTE4ykctLiaQk0d0x45GkwTFZEIxmzFFRGBr2BB7i5ZEtmlD/pQviLngfBR5WyaOQX5JCXc88QQms5l27drJW1ZxTPx+P3v27GHfvn0kJiZitVpPqYIhwOHDh3nttddYt24d3bp1q/bczs7O5uGHH8Zms3HvvffSv39/mjdvbuzPoUOHeO2119i9ezetWrXijTfeYMGCBXTo0IHIYCD3WGmaxoIFC/j444+xWq24XC7Gjh3Lr7/+yvnnn3/cx9DtdvPLL7/wxhtvMG7cOH7++WcKCgpo3rw5NpvtuNd3rObNm8fEiRPJy8ujSZMmjB49mq1bt9KhQwesVit+v58XXniBjz/+mIsvvpj69etXuy0+n4/33nuPqVOn0rBhQ3bt2sX777+P0+mkVatW1S5XFU3TKCwsZPr06UyePJlx48axePFiABo2bGicpyaTiebNm9OsWTM2b97M5s2bGTZsWLWBg6KiIl588UUWLVpEp06dsNvtx7VdJ0vVZ7AQQohTTkBV8fl8+FU1fJYQFeiBAMVz5xF9TiciW7cmunNn4nr0pM7Iu7E1akh053OJOeec8MWqpQcCRLQ6HarK+AaDC4rFghIRgWI24T1wALWoGM3tRvf5wpcQwuD1eikpLaWgoMBo3y3EH1FVlTFjxjB48GAOHz58Sp47JSUlzJw5k3nz5h11+3bt2kUgEKBt27bceuut9OjRo0KQobi4mJkzZ/Lzzz/j9XqZP38+M2bMwOl0VljPsdA0jT179jB16lT27NlDfn4+M2bMYMGCBeFJj0rXdRwOB2PGjOGBBx5g6dKl5OXlsX79el588UXuvPPOE9q+Y3Xw4EFmzJjBunXr0HWdH3/8kcWLF+P1eiG4fYFAAI/Hg6ZpRz3+qqqyevVqpk2bRmZmJmlpaUybNo1NmzaFJz0qXddJTU3l9ttv5+mnn2bhwoVkZmayZs0aHnvsMT766CNjO2w2G5deeil33HEHZ599NqWlpWRlZVW7nYFAgJkzZzJjxgxcLlf47L9NFTkAIYQQpyKvz8e948aTmZcXPkuI32kavn37MCckEN21K7ZmzbDWq4c5Ph7FZgPFhK1BQxxr1+JcuxZ/VtYx1GLRUSzBmglV0XX0QIBAZiaWunXxHTmMe9tWiufOoXTxInxpacfwHeK/SCd4/lSTYRZlhT23243L5cLtduP3+ysdr1Ahye124/V60TQNr9eL0+nE7Xajlgs467qO3+/H5XLhcrkIBAL4fD58Ph+qqqLrOqqq4na7CQQCxndpmobH48Hn86FpGpqm4fP5jGlOpxO/34/X68XtduMLCxqG0rtcLpxOp7GeEF3X8fl8eL1e/H4/Ho/H2P5QuvDvLL/foX0vv6+UOzZOp5PS0lKcTqdxjMrTdR2v14vH46m0jhNhDjbXstls4bMq8Pv9AMTExFT5lt5kMqEoChaLxVinruuV3k57vV7jN63qOISYTCZjeYvFAlBpXSG6rhu/ZfjxKikpITU1lWbNmjF27FiWLVvGlClTqFevHlu3bmXXrl0V0p9MoZoWkZGRWCwW9KN0Mhi6FlwuV7W/bWRkJLquY7Vasdvt6LpuHOtwofMp/Pwm+Jt7PB6uvvpqvv76a+bPn8/IkSMJBALMmDGjwnWrKApms5no6GgI1nwIv65DQvuoaZrxm/0TJHBwHPTggy30o4Zu4NX9yEKcikI3ntAD0uFwVHoYiFOTx+fjt717yCsuDp8lhEHzeimcO5eIli2rzEQBmBMSqH3nnfizcyiaPRv1D94MKRYrvkOH0X0+NLcbzeFA83jKZuo6ms9H8U+zyZk0EVNUFK4NG/EeOkRE06ZEtGtP8Zy5eHburDBagxCEhpet5jwVZc/sQ4cO0a9fP/r378+IESP49NNPyczMrFAAWrduHXfffTcjR47khRdeoKCggKeeeorzzz+fYcOGsWvXLiMP63A4mDRpEldddRX9+vVjwYIFfP/999x///3s2bMHXddZv349I0eO5IcffjC+x+fz8cgjj/DGG28QCATwer2MHj2au+++m3feeYdLLrmE+fPnM3HiRC6//HKmTJliFIo1TaOgoIBx48bRp08fLr30Ul5++WVyc3ONPIiqqrz33ns88cQTbNu2jeHDh9OlSxfuvPNO9u7di6Zp+P1+3njjDe69914OHToEwOjRoxk5ciT/93//x6hRo8jKyjKOncvlYtGiRdx1111cfvnldOrUiUsvvZS7777beDsdEggEeOutt7j55pspKCioMO9EmM1mFEUhIiIifFYloTxZVcxmM2azGZvNZqwTqNQHwrPPPkvfvn0ZOHAgzzzzDKtXr8blclUqp4SWs9vtRqCiuiYPbreb4cOH88gjj1BSUmJMVxSF+vXr8/XXX/PVV19x+eWXEx8fz5lnnknv3r0JBALk5+dXWNfJFBERUWG7rVYrZrO5yuYg+fn5vPTSS1xyySXcd999bNu2jUC5vqLKr8dmsxl9rZQ/1uVt27aN6667js8++6xSIKBJkybMnj2b119/nbZt21KnTh0uvvhibDZbtQGk0Plf1XeFhIJHoQDSP6Xy0RXV8vv9zJ49m9LSUlRVZeDAgQwcOPAvvTCEOJlUVWX58uXs2bOHQCDAyy+/zI033sjhw4fDkwohaiA9EKB0yWLUokJcGzeGz65AsdlI7NeX5MGDMMfEhM+uwBQRiepyk/P+BLLeeIPcDz7AtWkTaBq630/RD99jS0mh/hOjSbrpJuo+cD+J116LpX4DCKjE9eyBY+VKiqZNRa8mcyz+m6xWK/ZqMtSirECZnZ3N/v372blzJ8uXL+fll1/mmmuuYdGiRUahPi8vjzVr1rBs2TLmzp3L66+/ztSpU3G73axdu5Zhw4bhcDjweDyMGjWK1157jYMHD5Kdnc2oUaP44YcfWLFiBdnZ2ei6Tm5uLsuXL2fbtm3GdwQCAVavXs2vv/6KqqoEAgHWrl3L0qVLWbx4MQUFBYwaNYqZM2eSmZnJG2+8wY4dO9B1neLiYoYMGcL7779PamoqOTk5TJ48mRtvvJF9+/ZBMI+ybds2Fi5cyG233caKFSsoLS1l5cqVDBgwgMLCQlRVZefOnaxfv57S0lIAdu/ezdq1a1mzZk2F6R6Ph/vvv5+RI0eybNky0tPTsVqtFBQUUFxcXKlAXVxczLx589ixYwdz5sypMO9EhAqy1b3NDwkFaxISEsJnQbDQaDKZjMCByWTCYrFUKGhqmsbGjRvZvXs3mzZt4uuvv2bIkCHcc889lQr8UVFREAwchNZTVeBAVVU2bNjAypUrWbhwoRGoKc9utxMVFWVsi67rFBQUYDKZjilgcqIiIyMrfEf5fSlP13Xee+89vvnmG1wuFwsXLmTQoEHMnj27QuAtdExsNpvRf0BVBXRN01i6dCm7du1i3LhxFQIQlKtFEApglJaWMmXKFKPcGL59lKuZsnv37mpf5CmKQmxsLARrH1S1nr+DBA6OQ1paGs8//zyzZ8/G6/Wyfft20tPTqzyxhDgVeb1e3n33XV555RV0XWfXrl0nJaouhPhnaQ4HznXryfvkUwJ5+aQ8+hi6puHZu+foTQQUBVNEZLVvfHVVxbV+HYU//kBE82YkDxxEyiOPUOe++4g+91wwmfCnp6FERhLZsVOwKYSCYrNhionBWrcutiaNsTdvTlyvXngPpOI9mHr0bRL/KTExMVxw/vm0bdu2yreF/3WKonDuuefy66+/8uuvv7Jo0SKeeOIJ/H4/kyZNMgouvXv3Zvny5XTo0IH8/Hy2b9/OjBkzWLRoES1atKCoqIg9e/awd+9e1qxZQ8uWLVmyZAm//PILr7/+Ojt27EANNlMICdVQCP93+el6sHr3a6+9xqWXXorFYuH555+nV69eaJpGSUkJuq4zbtw4UlNT6du3Lxs2bGD9+vUMHz6cnJwc5s6daxTi9GCNiI4dO7J06VIWLFjA6aefTkFBAcuWLcNisTBx4kRWrVpF27ZtAfj+++9Zv349GzZsYOnSpbRo0QKCwZQtW7ZQt25dvvnmG7Zs2cK6dev47bffmDx5cqWCbXx8PLfccgsDBgzg6quvrjDvRMTGxnLhhRfSpUuXSue2pmkcOXKEBx98kAkTJnDaaacxePDgCmlC4uLi6N69O2effTY2m42uXbvSo0ePCgEJk8nEjz/+yMaNG1m9ejVfffUV5557LitXrmTbtm0V3mo3adKEnj170qhRI5KSkujevTudO3cu942/r/Occ87h9ttvZ9iwYTRv3jw8SQW6rlNaWsratWux2WzUqVMnPMlJ06hRI7p3706rVq2wWq1ccsklnHPOOVW+1bfb7SxevJiVK1fy2muvoes6U6ZMMa4di8VCu3bt6NGjB0lJSTRo0ICLL76YVlWMOKQoCr1792bgwIE8//zzVZYBNU1j+fLlPP744/Tu3ZuVK1fy2GOPcdNNN1U6DywWCwMGDKB58+Y88cQTjB49mrS0tAppCAY0LrroIi666KI/DET9leQOfRx8Ph9+v5/09HQyMzPRNI2zzz670o1HiFOVFmwnmZ2djaqqZGZmEh0dbUQxxSlOqniLqug6zjVrsMRGE3NeZ5IGDECJiiLm/PNxrv8VvYr2nEejud1oLhe6qqJ7PDjWrafWHXcQc9FFWOvWRbHbUWy2stEYAMfqNdgaNCwbbSGMrmloTieB/HwUux1zTAzO1WvQg9WXhYiMiGDMmDH07NnzH3uLdioLvcFUFAWPx4OiKHTp0oWkpKQKbyitVisRERFGW+irrrqKFi1akJKSwogRI7jhhhuIjIxk48aN+Hw+o+AYHR3NFVdcQXx8fPhXHzOTyURCQoLR3jw+Pt7IV+jB/hTmz58PwMiRI41q171798Zms3HgwIFKVcf/97//0bhxY5o2bUrfvn0hOLqAoijY7XYiIyONKvcRERFER0cTHR1tbAPl3vjn5+ezZMkSDh06hNPpxGazER0dXakQZ7VaGTZsGE8++SSJiYkV5p2I5ORk3nzzTe69995K57aiKOTn57NixQr8fj+9e/emadOmFdKE1KlTh1dffZXbbrsNq9XKM888wyuvvFKpkGy1Wo0mJMnJyVx66aX4/X62b99eIXDQtWtX3n77bTp06ED9+vV56623uOuuu6rcxoiICB555BEeeughYv6gZprf7+f9998nPT2dTp060axZs/AkJ027du0YO3YsvXr1wmw28+qrrzJq1KhKzTcURWHQoEHUr1+fmJgYevToYfTBEApWmc1mBgwYwNtvv02jRo047bTTGD9+PL17966wrtD6Tj/9dJ577jmuvfbaSscsJCMjgzVr1uByuSgoKOCTTz7hyJEjFQJxBNfXunVrevTogd/vZ/ny5TgcjgppCP62Tz/9NOPGjZPAQU1htVrRdd0IHAB07drVqGJyqtGDb5RD7cv+y3Jzc43qd/9liqIYDxafz0d6ejq1atWqsoqaOPWYTCaS4+KIld9LlBe8r5mSksBqLSvUm0xEtm4NaoDSZUvR3C50rxfPrl14du2qNgjlPbCf/MmTca5bD6pK0cyZRJ/XGZPd/vuwjWFiul9IROvW4ZMB8O7ZQ/7nU8j/4gsKvvoK++ktUYuL8R05Ep5U/EeZTCasVus/Wv32VBZ6e3nHHXdw/fXXc/XVVzNw4EDS0tIoKioKT27o0qULFosFi8XC9ddfz/PPP0/r1q05ePAgBN/YhvKvFouF00477YSPv1KuU7ryf4c4nU4CgQCqqnL33XczZMgQhgwZwiOPPILT6aSwsLBCFe2IiAiioqIwBavolw9CHE8+rlatWtxyyy3Y7XY+/vhjrr/+em6++WZGjRpV5VtdgsfiZJ2LoX4JQlXfw51xxhl89tlndOnShffff5/vvvsuPAkE11O+P4LQOsuXPxwOB6NHj2bAgAFcd911XHfddYwfPx5N0ygtLTWOmxKsgh8KMpVfd1VC+cbq2vuHaJrGwoUL+e6776hXrx7PP//8X1rAtVgs2O12rFar0WTBZrNVCgYBNGjQwJgeERFBZGQkXq+X/Px89GCniqHAmynYDCS07qqE0lRX/jOZTPTt25fvv/+eL774gsGDB5OZmcmoUaMqNW3QNI1JkyYxefJkrrzySiZNmlRlzQ5TsKnKX3lMj0XloyuqFRMTQ3JycoUbSkJCwlEvpHCqqlJSUmK00/qr6MH2ZNOnTyc1NbXaNjOnGr/fbwxJkpaWRklJCYFyPfqeCF3XmTFjBqtWrap0wdZkmqZRVFTEhg0bWLJkCQsXLmTjxo2kpaVV6kE5xGw2U6dOHWw2m3GzjI+Pr/JGK049NouFPl27kiA1RER5ioISEYHu90H5e5yiENGiJd5Dh3Bt2oRr8ybcO3bgS00tv3QZXUdzu3Fv2Yqu61jrllUxVYuKMMfGVRkwCLE1bIS5qnNS0/BlZKD7/US0bk1k27bYGjZEsdlQi4qkuYIQxyAQCBjPd7fbTZ06dSrUEqwufxTqqZ2wWguh/GD4c/9YC8tV5S2OVSAQIDU1lf3797N//37S0tKMwlD57TmW7TgWNpuNCy+8kN69e9OiRQssFguHDx9myZIlLFu27B99saYE3+a3bduWTp06oWmaEdQ5Efv372fp0qUcPnyYmJgY6tatW+GYVneenAyqqpKdnc28efMoLS2lY8eO1KlTp9I59k+pqoCvKMpfun12u51atWrRpk0bevTogdls5sCBA5U6q1RVlYyMDFRVpXv37px++unVBnFOBX/dEfsXql27NpMmTeLRRx+lVatWxMTE0LRpUxRFwe/3H9MNyOVycdNNN9G3b1+ys7NxOBx/ycWs6zqHDx/mgw8+4I033jimbauKHuzl9a8ePULXdTweD99//z0XXXQRF1xwARdffDE9e/ZkwYIFVQ55cqx0XeeNN97gmWeeqTI6H9pHT3Cs15qioKCAq6++mhtvvJE77riDESNGcP3113PxxRdz1113VVnbxG638/TTT/P6668TFRVFp06daN269V968xQnT3REBPf270/tajpQEv9BwWEQrfVScK77FaX8GxJFIbpbN5IH34K1dh1sjZsQ2/k8os/r8vuyqlpW+0DTcK5eg+9IGrWGDTNqEGi+AKY/quGi61UGFnS/H+/+/dS643bie/Ui7vLLiTijNdZGjXCsWvX7qAxC/IX5i5pMD9ZynTJlCg0bNmTevHksXLiQ2bNnc/rpp4cnryA2NrbKAnjDhg0BKCoqMvJ1enC0paqEXt7ouk4gEDA6HjwesbGxWIPD3H311VcsX76cFStWGJ+33nrrhApLobyL0+msNo/arl07Xn31VebOncuCBQsYOnQoLpeL1157jfT09PDkaJpWqa+Hv1qor4acnJzwWcdE13XeeecdSkpKePrpp1myZAnz58/npZdeMppt/BmqqqIFR+MKp6oqaWlp3H///cybN49zzjmHN954o9rfM3R8qzvf/kq6ruN0OnE4HMTFxZGcnFzlNfJH9OBwpceyD4qi0K5dOyIjI/F4PKSlpVU6jp7gs7BNmzanfH781N66U4zJZKJJkybUqlWL5ORkli5dSvv27cnJyWHo0KHccsstFW7EVVm7di2pqakUFRWxdOlSevTogcvlCk92UoTerqelpR3TyV0Vt9vNfffdR69evSq0kTrZCgsLufXWWxkzZgwFBQVGICYvL497772Xjz766ISj3KHlNE2rst1QaWkpN954I/3792ffvn1H/f1OFaHMRFFRESkpKVx++eVcfvnl1KlTh0AgwPLly7nhhhsYP358heUURSElJYXWrVtjtVr54IMPuPvuu6utjiVOMTXg3BR/I03Dd/gwhT/8gHP1KvwZGVgbNfp9vq4TyM8nb9JECr7+BseKFZjr1sGcmAiKgub2UDx7FnrAjx68r9iaNP49+GA2E3VmG3yHDlV/7qkq7q1b0asI7qpOJ+aYmLIOE0MUhbgePbA3bUrR7Fnlk4v/KE3TOHT4cJW93P/X6bpuVKdOSkoiNjYWs9nM/v37q+zh/licddZZKIrCokWLjAJ3Xl4eO3bsMPJ4iqIYHdstXryYnJwc3G4377777gnV3DSbzVxzzTWoqsqbb76J1+slKSnJ+FQX5Dgas9lMu3btAJg8eTJutzs8CXow4KEEq+enpKQwYMAALBYLWrDPp/JUVeXzzz9nzJgxFUYi+KuFtvHPVEPPysrCZDLRqFEjI083a9asP51v9/l8PPvss4wbN65SHloPvpjr27cv27Zt44EHHmDSpEnGUIlV2bhxI6+//jrTp0//2693j8fDF198QXp6epUdVh6rffv28eCDDzJr1qxK+6CqaoWXlJqmsWzZMpxOJ4qi0Lhx40rfG/p3+LpORSd2xP7DlGDbLUVRSEpKwmQy8csvv/Dbb7+xZcsW8vLywhcxBAIBvvzyS/x+P23btqV27dqVbtZ/lqqqFBcXc/DgQTZt2gTAwYMHueOOO+jduzfnn38+vXv35ueffz7mgrjb7ebw4cPceuutJ/ygOhpd11m5ciUbN24kIiKCBx98kOXLl/Pzzz8zaNAgLBYLs2bNOq4Aix6MKmZkZBjDBrlcLh5++GGuu+46LrzwQi655BKefvpp/H4/Ho+HnTt38thjjx01cn2qUBSFVq1a8cUXXzBnzhzGjh3LM888w+jRo+natSt6MBpaVY+25c/hhIQEo82cqAFO8fNS/L00n4+imTNAUbCk1CNQUIian4/u9+PetInSFcsp/O47os/tTNLNN6EWFZU1Uwhd7rqGWlwCetl9wVqnDr5Dh3Bv2YIeCKCYTERfcAHuzZvQq3lG6X4/jl9+wfXbb5WaHrg3b8YUG2t0ohhiio4m7oor0D0+3Fu2VJgn/ntKHaXc/8D9fP311yctL/RvoSgKLVq0oG7dumzbto1hw4YxbNgwRo4cafT4ftlll/Hll1/yzjvvMHDgQHbu3Imu69x6663cdNNNrFy5ssI627RpQ4cOHdi8eTNXXnklQ4cOpV+/fhVqKCrBDtsaN25MUVERV199Nddccw1r164lOTmZbdu2cfPNN3PkOPoquffee+nUqRO//vorl156Kf369ePmm2/msssu4+effw5P/ocsFgv9+/cnNjaWhQsX0qdPH/r370+fPn1YsWIFBPO/F110Eb169eL666/nuuuuo3///vh8Pjp37kzjxo0rrLO4uJgpU6YwY8YM5s2bV2HeXylUK8Dn8x1z3jxcjx490HWdRx55hDvvvJO+ffuSlZUFwKRJkxg6dGilgv8f0YJDPH711Vd89tlnlcoAgUCAL774goKCArxeL5999hm9evWie/fuXHjhhdx2222VgjNLly5lypQpbNq06W/Je+q6zquvvsqIESO46qqr+Pjjj2nYsCH33XffCdXG0DSN+fPnM3fuXF566aVKv1deXh7du3fniiuuYNCgQVx11VWMGjUKk8nEyJEjKzQhIrh9oRoHNSE/LoGDk8Dv9x+1Gg/BE+PAgQNs2rQJm83GnXfeSUJCAnqwA8OT8bB0u9089NBD9OjRg+uuu45XX33VKED/+uuvZGdnoygKtWrVol69esd0ctrtdt59912eeuopzjzzTLzB8bd1Xcfn85Gdnc2aNWuYOHEin3/+OYWFheGrOCZJSUlERkbSo0cP7rzzTho3bkyTJk248847iYuLIy8vr9LFWR1VVZk1axbdu3fnyiuv5PbbbycQCBAIBNi0aZPRe29kZCRt27YlOjqaKVOmcM899xAfH29EBf8MPVilr7rzwev1kpOTw+rVq/noo4+YPHkyRUVFx3UeREREcNZZZ2G1Whk3bpxxc1qzZg0RERFcccUVXH/99eGLiRrMHwhQ6nLhO8GmR+LoVm3dxk3PPEOP++/n/956i7U7dlDkcKAex3X5d9LdbjRfAEtiIrE9elJryBDyv/ma3A8/xLH+V2yNGpM0cCBRnTphbdSIgMNB/jff4tm9GzQNzeMp65sg2OlhRJvWJFx3HSXz5pbVIFAUFIsFS4MGlMybh17Fm0YlIoLYHhdTumIFmtNpTA8UFODavImI00+H8Lc6weEa4/tcSdHsn9DcLgmK/YcFAioez1/fJPLPUIP9Ux05coTU1FQOHjxIXl6ekSf6qyjBsdvffvttmjRpQlZWFgcPHuSGG26gX79+NGnSBIvFgtfrxev1UlJSQu3atWnWrBkej8co0JUXHR3Ne++9x5VXXgnBkQquvfZaEhISMAU7IlQUhZiYGCZMmECjRo2Ii4sjJSWF999/nzPOOIP69evj8Xiw2+00atSIBg0aYLfbqVOnDvXq1SM6OpratWvTqFEjYmJiUBSFqKgoPvzwQx566CFSUlLIyckhLS2NQCBgFJxCtQIaN25sjFgW2qZmzZoRHx9vtFc3mUy0bt2ad955h1atWhEIBMjMzMTpdJKfn2/sr81mo7S0lIyMDAoKCqhVqxZ33303r7/+eqWOoaOiomjbti1NmzblwgsvrDDvrxTqf2H37t1s3LiRzMzMY87zEjxPbr/9dgYPHozVamXXrl3Y7XaeffZZGjVqRK1atXA4HMddUFYUhTZt2tC2bVtatmxJSkpKpfkpKSk0bdrUGKEj1NGpxWLBZDJV6l9g165dqKpa5VCHJ5PFYqFu3bo0atSI7Oxsdu3aBcBNN93Ed999d8LDvyqKQqdOnahfvz79+vWrtH+6rtOkSROcTiepqamUlpbSunVrPvzwQ0aOHGmUL7xeL9nZ2WzevJkdO3YQERFB3bp1/3T546+m6KfqXboGWbp0KSNHjkTXdWbOnEnLli3x+XysWrWK+vXr07JlSxRF4cMPP+TNN9+kW7duvPfee6SlpdGrVy+GDx/OqFGjjPZAerDKUnl68A2y0+lEVVVMJhN2u71ChzJ5eXlcf/31RmczZrOZkpISkpOTee6552jZsiX169c3eqoN/46jCQVFFEWhtLSUn3/+mblz57J161aysrLQdZ2IiAgeffRRhgwZEr74H/J6vWzdupXk5GSaNGmCyWRC13W2bdvGoEGDiIuLY86cOcTFxYUvWomqqowePZoffvgBs9lMREQEDocDRVF46KGH6Nq1Kw0bNiQxMdHoLEgvNy7xsRybUKAovIq/z+cjLy+PiRMnkpGRQUpKCldffTVnnnkmFosFp9PJ4sWLmT17Njt37jRGerBYLDz66KMMHTq00k3oj2RnZ3PFFVdUCNo0btyYZ555hq5duxIVFVUhvai5SvPzGTpoEK/ceSenl6+SLk4KXdcpcjjZfeQwS3/7jUW//kpibCxnNm/OJR070aFlCyJsNqzHmfn6qwTy88mZMIFaQ4dia9QIdB1/Tg66z4e1fv0KoyCohYXkf/stMed1wbF6NZbkRPyZmST27YetSRNjnb4jRyj4+hvq3HtPWd8Guo5a6iDnvfeoc9cIzAkJxjpDdFWldNkyfIcOkXTzzZiiovBs34aOQkTLlmA2V6p1AKD7fBR89RW2FqcR2+38ygEG8Z+Q73Yz6MUXuaJ3b+69997jLtz8Hfx+P2lpaWzatMlol5+cnEzLli255JJLOO+880hKSjJ6eD/Z9OCQhg6HA6vVSlRUFJqm4ff7MZvNWIIdG4a/fFCCtQvDt0kP9mngcrkwmUzk5ubSq1cvbDYb8+bNo379+ka6QCCA0+kkOjoas9lsDAlZfl9DeSdN04zvrC5PpQXbuJeWlqJpGlFRUUZv9qH54cuF8sCm4CgL5YW2MbQ+W3CoRbPZjB58mxvqMNpqtRrDOIa2M5zf78fn8xEVFVXl/L+Cx+PhkUceYeHChWiaRpMmTfjpp58q5TH/iKqquN1uvF6v0a9E6DcOFeaPd590XcftdhsBgfDl1aP0BxH6Dcv/jl26dMHhcDB58mTOPffc8EVOmtA543K58Pl8KMFg2Mm4RkPXTlUjL4S+1+l04vP5jFEcQuWNkNLSUnr37k1OTg5ms5levXrxyiuv/KnmKn8HCRycBAUFBfTs2ROPx2MEDrZs2cLgwYNp3rw5X331FWazmauvvprU1FSeffZZBgwYwOHDh7n44ou56aabeO655zCZTGzfvp39+/fTrl07WrRoYdyIHQ4H33//PV9++SUZGRnEx8fTtWtXxowZY3TuEaoydOjQIXr27EmDBg3o2bMnp512GtOnT6/QC+/x0HWdkpISo3rNO++8wzvvvIOmacTHx9O+fXsjyjxkyBDq1q0bvooTous6EyZMYNy4cVx44YVMmDDBiEAfja7rbNy4ka+//prOnTvTvXt3Bg0aRFZWFl999RXt27cPX4RAIIDD4TCipX6/H6fTSUxMDJqm8euvv2KxWOjUqRN+v5/vv/+egoIChg0bZox97Pf7mTdvHo899hherxeLxUIgECA6OpqxY8dywQUX8Morr/D5558TCARISkqibdu2pKSkkJiYyC233EL9+vWP+4bmdrt57rnnWL16Nfn5+UZVN7PZTL9+/bj//vtrRBRT/LH8rCx6XXklHz70EB3/oGOsfxMdONob6UpzyhaoPKkqul7lPE3TKHY6WbpxI/PXrmV/RibJcXFc0bkznVqdTqM6dYiNisIczBiZTCbMx3nt/ln+tDRyJ02i/lNPVSrMh1NLSyn85huSBg9G83jwHT5MRKvTMdkjgsGBUjSXC/f27ZgiI4k+7zyUUAFO1ymYOhVrYiIxF11UbRCgeO5cFJOZ2B4Xo0RGgg6ePbtBUcqGhgynabh37sC9YyeJffv+/n3iP6UmBA5C9GCBOysriyVLlrB48WIOHjyIoihcfPHFXHbZZbRu3ZrY2NhTdj9UVSU9PR2n02n0JfXFF1+wYsUK+vTpw8svv1zpTbz465WWljJnzhx27dpFQkICd9999yl7Dp0ot9tN586dsVgsLFiwgNq1a4cn+c8oLS1l8uTJFBYW0rp1a6655poa0VRBAgcngcPh4LrrriMtLY0ZM2bQokULbrvtNlasWMFpp53G119/zebNmxkxYgRRUVHMnj2bRo0akZOTw3nnncdVV13Fa6+9xvTp03n22Wfxer3Ur1+f+fPnExMTg9Pp5NFHH2XOnDlYgtW4zjjjDJYuXUrDhg2ZNm0aCVX0su71emnXrh0pKSlMnTqV5OTk8CTHxOl00qNHD5588kl69OjB//73PxYsWADAo48+yi233EJkZORxF3irEjoddV2ntLSUzp074/P5ePzxx7nzzjtP+IK64447WLNmDR999BHdunULn82mTZsYMWIEY8eOpWvXruzevZuhQ4fy8ccf43K5GDBgADExMaxevZrJkyczfvx4FEXhpZdeol+/fiiKwvz583nwwQfx+Xz079+fkSNH8vLLL7Nw4UIuvfRSxo0bx/Dhw1m1ahWKovDEE08wcODASsMQnYhQhNPtdrNhwwamTp3KggUL8Pv9Rm2NY22e8lcKbed/3Ynedguys+hz9TW8/8ADdGjZMnx2lf7wm6ooZB/NsaesQjX7HT5V0zS0YAZdDfs7lHFXNQ09+N+ApqPpGpqmG2lUVa2UPrSegKYFv0ND1cqm6ZqGqod9r6ajaiqqquENBNh18CBrd+0gPTePCKuVNs2acc7prYiJiuKcM1rRNdgz9t/FvX07RdOmkTJmTNkEXS/riyB0nBUFxWQqCyqoKo5fVuDc8Bu1brsNc3x82XRdx5uaSt6nk1FMJmyNG5E0aBCmckFaXVUp/O57UCCxX7+yAr6iVApW6H4/xTNn4ty2jeR+/VAiIymaNZvaI4Zjqqbmk+73U/jN1yQOGPiXBw604xwD/mQ52l3379+a43AMx+qPU/yxAo+HW158ka4XXMCjjz5a6Q3e8fo7f2Mt+NZ/6tSpfPjhh2RlZdGkSRPuvvturrzySuMto9ls/tPP+ZOlqKiIm2++mX379kG545WYmMi3337LaaedFraEEH+eruvk5ORw2WWXccYZZzB58mSpEVsDSeDgJHC5XAwfPpz169fz8ccfExcXxy233EJJSQlt27bls88+45FHHmHZsmXccsstjB49GrvdTnFxMWeddRbnn38+rVu35uuvvzY65lMUhTvvvJP777+fl19+me+//57u3bvz7LPPUqdOHXbv3s1NN91EIBDgqaeeYtCgQeGbhdfr5eyzz6ZWrVpMnTqVWrVqhSc5JkVFRXTq1ImLLrqI9957j+zsbF566SXmz5+P2WymWbNmDBkyhJtuuumYagRURwuOYZufn4/H42H69OlMmzaNxo0b880331CvXr3wRY7ZXXfdxS+//MKECRPo3r17+Gx++eUX/u///o+RI0dy1113sXnzZoYMGULfvn1ZuHAh6enpWK1W3n77bUaPHk1hYSFms5krr7yScePG4Xa7uemmm9ixYwdNmzbl6aefJjIykpdffplNmzZx+eWX8/7773PkyBGeeuopVq5cia7rtGjRgsGDBzNgwIA/nVkieGMOFZSys7OZPn06b7/9Nueccw6ffPLJP1oFKhAI8NNPPzF58uTwWf8JoVvtn/mv6vdzIDWVBrVrE1GuaVPZHxB6d24sE7b870l/L0D9Pr3sv+XXYUwvm2Csr9r1G+n04PZUTl9+PZWWq+bt/x8Kbufv/39yGOsK21Zd11HKVQO2Wizc2vtKHhtc+T78V3Jv3kzxwoXUGzUKAF/qAYpm/4Q5JgbV40F3u4hs247Ynj1QrFZ0r5fiBQvwHTpE7CWXENmqFbrPR97nn5PQpw/mhISygEEo2EBZrQDHuvUoJspqDVhtFH7/HfF9rsKSlFSWRlXR3G5M0dGg6wTy8vDn5aE7ndiaNMFSu3alIEOIrqoUfPUVSQMG/KWBA03X+XTOHFZu3QrlfjtFUTAHt80UDIaEpptCf5fr9doUDMYY85Sydf3+74qf0HQTZcsp5a4JLXgd/n5elb9eQvN+v16Nfxt/V7xmdF03giPGesKa4pVfpsq/y/07uNKy/5T7jpCyy67c/Crm/T4lbFrw/3RA1XV2HDxIXHw8jRo1Qgluc1ny8mv4/d8VtuMP/q5q2vH+fbTt0IPPXL/fT0FBgVE1PDY21ug3YOjQoQwcOPCkPOf/LLfbzYcffkhhYSFRUVHUq1ePVq1a0aZNG2JiYk6ZAIf49/F6vfz6668kJSXRqlUrOddqIAkcnAQej4eHH36YefPm8eSTTzJnzhzWrVuHqqq0a9eO0aNHM3ToUKKjo5k6darRht/pdNKmTRuio6MJBAI0atSIp556CpfLxV133UX79u154403GDhwIMnJyXz++efUrVuXQCDAmDFj+P7779F1nTp16jBjxoxK1dFDgYOkpCSmTp1KnTp1cDgc/PDDD3Tr1s1oCvFHfD4f7dq1Iy4ujkWLFhEbG4vP5+Onn35ixowZrF+/Hk3TjABCr169SExMrLAtR6PrOuvXr+fll19mz549ZW//gu35VFWlbt263HrrrfTt2/eEm0EMHz6clStX8vbbb3PJJZegqipLlizB5/Nx6aWXsn37doYOHUrPnj0ZO3YsW7ZsYcCAAUanQqG35BaLhZiYGHr37s3s2bNp0KABc+bM4dtvv+W5557DarXi8XiMfgp8Ph8pKSm8+eabdOnSBT1Yk2LevHnMmDGDzZs34/P5OOOMMxgwYABXXnklcXFxx3zsjkYPtkt79dVXmTJlCpMmTaJ79+7H3YfCyaJpGqmpqfzyyy8cOHCgUgY79KFcJr1CBjxsWvi/T+QT+q7j+Xf4Oo7lc7KUFhTwwssvM+Kqqzkt2Ab1j4Sy7nrF/yv/Z1gBIFjiD/5d/gFRluT3oEAoVYV55aeG1lN+3b9/VdmU8l9QLk3Zd5RbX7kVHnWZct9lLKKEra/c8uH7W174d+roeHw+th1IZcOe3Tjcbk5v2Ij2pzXnwRtvJOkY+mA5mVybNlE8azYpo58gkJ9P/qefkjhwINbgaCq+jHR8qanEdA82L9B1dL+founT0f1+Ijt0wNakCfmfTSZ5yFDMMTH4szIpXrCQpH79MMXGli0TbLeMoqAHAhR8+y1xPXtiDZ6DrvXr8aWlkXDddb8HCHS97BNcLkRzOChZupS4Sy/FFBFBIC+Xotk/kXzLLX9p4EDXdWatXMln8+ejaVqwFoAS/J8S3MTf/0tZhQ2UcmmC//v9b6UsqBBarvz0suVD8yuvp+K04L/LHacK8xSl7N9QdpZWKOwHz/Xg32XzQ9dB+XSh6+E4lzfmV5wWTFlhmd+nha6Z36+d8usKXYvGdEVBK1egrrx8Ves8sWnV/X20aUebFz49/KMEn1XTp0/nzDPPPKY8119ND/YJoAWva1OwA7uT+awSojqh60XOt5pJAgcngc/n46WXXuKzzz7Dbrfj9Xpp2LAhWVlZJCUloSgKWVlZXHHFFYwfP56IiAh0XSc3N9foGCQ6Opr333+f888/H7/fzyWXXIKmaTz22GOMHj2aCy64gLFjx6LrOvPmzWP06NEowepvLpeLQYMGGTUZQhdjqFDs8/n44YcfqF+/PocOHaJ3797ccsstPProo8fUfsrv99OzZ09KSkr44YcfOO2004zOUAKBALm5uYwePZpNmzbh8/no2LEjH3zwgTHe8B/x+/10796d7Oxs4uLiaNu2LatWrULTNKNzG6vVSoMGDZg4cSLNmzc/7hvO008/zXfffcfLL7/Mddddh9fr5ZprriEQCPDdd99RUFBAv379MJlMbNiwga1btxqBg+joaOrUqcOBAwewWq088cQT9OnTh/9v767jpKr6B45/7r2TO9sFC0t3p4L5AGK3qCgm/ozHjsfuehS7A7s7UFTUR0wMFFCR7t5luydunN8fMzvsDrsICrqL37evebnce+bGxJ17vuec7znggAOoqanht99+Y+zYsZSUlPDwww9j2zaPP/44xcXFDBkyhAsvvJCOHTvidrtRsdkodF0nEomwdu1arrnmGhYuXIhlWfTo0YPnnnuO7OzsrTrHcDgcf32aeq0ty2LDhg3stddeHHHEEdx1113xJJx/h4Y3Wa3d1rw/21uwtITxxx3P5EsuIe8PDj36O7T2d9y2barr6vhx4UKenTaNlRs20LNDB04/5FCG9+6F1+3G9TfceIcWLsRcvQZPj+6Ely3D07ED3p69NuUgUE1U3pXCqamh5Pnn0ZOSSN5zT2p/+J60/Q/AlZtL1bRp2MEg6YcdhtZE66iyLOp+nIm7Y0c8+R3Atil+5mkCu44gaeDARkGCpijbpvT55/F260byHnsQnDeP4G+/7fAeBwARy8K0LJSjNtXWf0fDqnxTz2liUVTC69BsuQb+6Ocneklt+lsWX5pw3d2sdGwbmy0nuq6ZNXGb9tPoX3GNljQujPL5oHfvJpNj/t7vxZ9Zv6V19bZUpn5d/e/6unXreOONN5g+fToAPXr04KijjmLfffclLS3tb+3xJ4QQ24MEDrYD0zS57777eOSRR9A0jS5dujB58mQuvfRS5s6di6Zp5OTk8NZbb5Gfn48eS3j4888/c9RRR+Fyubjqqqs48cQT8fl88TH9H3zwAffddx833XQTtbW17LbbblRWVjJnzhySk5O59dZbycnJ4fzzz6e0tJRDDjmEa6+9lszMTAzDIBKJMGHCBBYvXsxjjz1Gx44duemmm/jqq6+46667OOyww5qsbCayLCs+N/Crr75K9+7dufDCC8nIyOCss84iLy8P0zT5+eefefbZZ/nyyy856KCDuOeee7Zq6EJtbS3Dhw8nGAzSo0cP3G43CxcupH379lx55ZUUFhbyxhtvsGbNGrKyspg8eTL9+vXbppusp556irvvvpvjjz+e8847j/fff59bb72Vvfbai8cee4yqqir2228/gsEgc+fOZdGiRRx33HEYhsGkSZN4/fXX+e6779h3332544478Pv9XHvttbzzzju89957HHvssTiOwxNPPMGee+6Jio2xrs9AW3+sjuNw9dVXEwqFuOiii2jTpg2O4/DTTz/x9NNP8/3333P00Udz8803b1UF/8477+SXX36ha9eu7L///nTo0IH09HQ0TcO2bZYvX86kSZOYPXs2F198Meecc06L6Cop/hhVXYW9YCF6fbdqsUMoFc2VEIpE+G3FCj6fM4dZCxdh2hZjhg5j1JDB9OnUCd/fnMjIqamhZsYMQsuWgaaTfdrE+EwIyraJrFxJeO1a9KQkAsOGbQoEKEVw/gLqfpyJEwmjB5JxqqvJOnUiGx+4n6wTT8DTPr/pilwkQulLL5N24P6489phlZRQ9sILZJ91VnSoQhOUbeNUV0dnZIjNBlH1ySekjBpF3S+/4NTVkX7EETs8cCBaKL8f+vaNTgvaSjiOQyQSoby8nK+++opvvvmGJUuW0LNnT/baa694guvWkOxM7JycWOb/elpsJoytubf8PSrWK7g+iXhTsy1sSf3QHrPB1NJut3u7zHggdizjxhtvvDFxodg2Sil+++03Zs+eTU5ODpMmTaJ///44jsNvv/2Grutccskl7LHHHvGKuoolCZk2bRp9+/bliiuuiM96UB9omDJlCrvuuiu9e/fml19+Yfny5RQXF9OzZ0/uvvtu9t57b/Ly8ujSpQszZ85k3rx5rF+/nn333TfeUv/zzz/z66+/8uGHH/Lyyy+zcuVKBgwYwOWXX77VP2hKKZYtW8aKFSs48cQT8Xq9TJ48mRkzZvDee+9RWVnJunXrKCkpobi4mKVLl+JyuTj66KO36gLldruxLItVq1ZRXFxMRUUF+fn53HjjjYwdO5Zhw4Zx0EEHUVZWxvz58+nRo8c2z79aV1fHhx9+yKxZs3jzzTf57LPPyMjI4J577qFNmzYYhhFPWnjaaacRDAZ5//33OeCAAzjllFPi8xXfddddpKamous67du355NPPmG33XajrKyMVatWUVRUxJgxYxpN0WLF5iiuqKgA4Mknn2TGjBlMnTqVkpKS+NzC69atY/Xq1QCMGzduqyr4b7/9Nl9//TVz585lypQpvPDCC7z22mtMnTqVhx56iNdee42ioiL69OnDTTfd9JdOLyS2Py0cRi8v36rWS/HnrC0qYso3M5j2w/fUhcMcsedeXDL+OEYPGUy77Gzc23ijtCNobjeejh0JLVyAr1dPvF26oGkaTihE9f/+R82PP4Jl48pIw5OfH02USLQ13J2Tg7dXL5y6OtzZ2dhlZaDpmBuLorkLHAcVDuMEg5setbWEFi4gsno1ybvuiub1Ym7ciAqH8fXp0+RsC8Smgix//XUCsR52mseNuW494SVLcCwLV0ZG9Ni34Zoudh6OYVDl9WLHpjj+u79Xv6eyspKFCxfyzDPPcO+997JgwQIGDhzIlVdeyXHHHceAAQPIzc3d5sqUENuTaZpMnDiRt99+m3fffZcPPviAjIwMunfvnlgU1WDaTaXU7w5dMU2Thx56iMsvv5xu3brRpUuXbbonj0Qi3HHHHTz22GO8++67vPvuu6xfv55dd911qxo0xd9HehxsJzU1NXzxxReMHDky3s1cKUVtbS2lpaV07Nhxsy+h4zisWbOG3Nxc/H5/o/VKKV577TX69OnDgAEDCIVCLF++nA4dOpCamtroi6WUoqSkhK+++orRo0fHh0fUBy6OO+44QqEQLpeL4447jiuuuILk5OT487dGfTe8+vwM5eXlnHHGGfz888+bdeXTdZ2zzjqLiy66aKsCBzS4aBUXF+N2u0lPT9+s4hyJRJg9ezZ9+vQhLS1ts9dzS+rq6jj22GOZP38+uq4zaNAg7rzzTrp27Yqu6/HoaUVFBbm5uahYfgCPxxMfzqFi4xXrKaWoq6vD7/dTXl7OoYceSkFBAUlJSTzyyCPsvvvulJWV8d577/Hiiy9SWlrKlVdeyZgxYzj33HOZP38+TsKcy7quc9lll3HGGWds1cUzEonw3Xff8cUXX/DRRx9RUlLSaH1ycjKnnHIKZ5xxxnbLnSD+RlVVsGQJJHxuxD+U4xBeupTKTz8l95xzwDBQlkXVtGlYlRVkTTih8TCF5iiFikTYcOt/aXPB+ZS//jqRgg3ogWQ0jye6PhzGCYVwt21L1gknYmREew9E1qyh8qNpZE88Fa2prtixZIllL71MzvnnxYML1V9/TXDub2guF4GRI0kaNLDJHg5i51erFCdPmsSQYcO2y6wKO5oTm5Wl/t6nPkeAEC1JKBRi0KBBmKaJ4zh4PB6uv/56TjzxxMSi2LbNtGnTuPjiizn++OO59tprt3j/Xl1dzYknnshvv/3GwQcfzN13371NQ3Hq6uo466yzmDFjBsS+UwceeCD333//VvVUFn8fCRxsJ6pBIpzEyiVbGLuYWBltyLZt9FhitoZvU1Plm9u/4zisXbuWsrIy8vPzycjI+N1IYnMaHmt9N6MVK1ZQUFBARUUFXq+X5ORk8vPz6dSp0zbvZ2vOsV5T67dEKUVFRQWrV68mLS2Ndu3aNdnjouE5bum9qVdfxnEcfv31V26++WZ+/vnnRi0N9TcYnTp14qGHHqJv375YlsWyZcsoLCykrKyMpKQkAoEA+fn58XwIW6P+fa+/kbEsi3A4TDgcxuVyEQgE4vkPfu9cRCtQVQlLlkrgQEQ5DnVz5lA3Zw7Zp58Ouk7w11+p+WEmWaec3GhKxd+jLIvKqR+grAhphxwKto2KRFCWFf28aRq43RhpqWi6EQ9GOOEwRQ8/TPLIESTvvsdmQYrwypXU/fgjZnExruxsUseOpe6XnwnNX0DqQQdR/vY75J57Dkasx5345ykLBpnw3//Sf+BAbr/99q3+/fu7/d79nRB/JxVrEAO49dZbeeutt7j66qubDBxYlsW0adO44IILmDBhAtdff/0WAwGO4zB//nzmzp3LvvvuS05OzjZ9D1RsOK9pmnz33XecccYZ7LfffhI4aAUkcPAPsCN/3OorrvXq97Ej9rU97MjXwrZtampq+Pzzz5k9ezZVVVX4fD569erF8OHD6datG0lJSfHuXK3ttRN/v+oNG7ji0ku54eRTaJOZkbha/NMohRMMUvriS6SO3QdPhw6UvvwyRmoqGUcd1agSb5WVEV6+nOAvv5Ay6l94u/doXMlXCqe2FrOwAHdeO1QkEs1JsBXXo/CqVVS8O4WkYUNJGjwYIzUVHIfQ0qXUfPUVyXvtibdbd2q+/ZbQsmXoXi/+AQOiiRZ/nkPOGWdu1X7Ezqk0GGTCrbfSf+BAJk2a1GoCB+KvEQqFmDdvHi6Xi/bt2zNnzhxqa2vJz89n8ODBjVrGV61axcKFC9Fj02F27tw5PhyVWIV38eLFVFVVEQgEWLduHW3atKFNmzbMmjWLrKwshg4dit/vh9h92po1a1i8eDE1NTW0a9eOgQMHkpSUFN9nvUgkwsyZM/H5fAwePHibP8dKKTZu3MjSpUvJy8tj2bJlpKWl0blzZ5YsWYKmaQwfPhy/309paSlLly4lIyOD3r17Q2yazd9++w2fz0efPn0a7f+mm27i9ddf3yxwoJRi9erVrFy5kh9//JHHHnuMvffem1NOOQWXy4VhGHTu3Jn27dujaRpFRUUsXboUy7LijVb9+vUjJycnfm/rOA4//vgjhmHQqVMnVqxYwbp16+jYseNm75dt23z77bdMnDiRfffdt1HgQClFeXk5CxcuJCMjg549ezZK6L5y5UoKCgriQ7bFX0MCB0JsZ/UXU8dx4j1G6h9C/Bmlq1dz4JFHMvmSSxjSs2fiavEPpGybupk/UrdwPplHH0PF22/jHzKYpCFDYwUUkdWrqfjoI1QkQvKIkfgHDEAPJDVZWVeRCLWzZ6Nqa0nZZ58myyRSjoNdXEzFBx9glZah6TqOGUGFgugpqRiBAHoggCsnB2VZKNvCKirGk98eT4dO+Af0T9yk+AcpC4U48b//pU///hI4EJspKipiwoQJBAIB/H4/v/zyC5Zl4fP5OP3007nwwgvj91ePPvoo999/P8Smz05KSuKMM87g5JNPxu/3Y1kWV111FZ9//jlut5vq6mr8fj+5ubksX74cr9fLU089xS677IJlWXzyySdcf/311NbWYts2Xq+Xnj17Mnny5Eat7EopCgoKGDt2LElJSXzxxRfxvGVbSynF1KlTufLKK2nXrh0bNmzA5XLRv39/5s2bh23bnHPOOfz73//mhx9+4Pzzz2fXXXfl8ccfB6CgoIDjjz+etm3b8uyzz8aDH/xO4OCRRx7hkUcewbZtwuEwbrcbl8uFruu43W4uvPBCJk6ciKZpTJ8+nf/85z/xqcrrtz1u3Lh4cMayLEaPHk0wGGTQoEHMnDmTSCSC2+3moIMO4tZbb433ZthS4IBYIGj8+PEkJyczZcqU+GuqlOK0007jl19+4eqrr+aYY46JP0fsWDKgUIjtTItNk1k/RKA+eCDEnxadAr2Jyc7EP5VmGCSN2AV3m7aUvfoyZkkxroxYbxSlMDdsoPzdd0kaNIic008nMHIEenIgHhBQlkVo0SIqP/yQmq+/pvztt6ibORNvr17YNTVUf/klFVOnUjV9Ok5NDcq2Gx8AoOk6rjZtyDrxRJJHjkBPSSZ5jz3IGHc0qWPGkDR8F3y9emGkJOPKzsKdlYW7XR6614u3e7fEzYl/GL/Pt1meJyHq2bZNKBRi4cKFFBYWctFFF3HssccSiUR47LHHWL16dbz35m677cbll1/ORRddxLhx4wB48MEHmTp1aryXZyQSobKykqOOOor999+f8vJy9tprr/gU26tWrcJxHIqLi7n11lsBOOuss7j22msZNmwYixYt4oUXXmjUY5RYou+MjIw/nE9KxXJ9BYNB8vLyuOiii+IV+XPOOQfTNFm4cGF8WGowGGxUgXccJz5U1dmG4Yx7770311xzDYcffjgAgwYN4pprruGaa67h6quvZsSIEfGy3bt35/LLL+fyyy9n1113JRgMxnsf1FNKEQqFqKyspLi4mMsuu4xrr72WrKwspkyZwuzZs7Gb+B1pSvv27enatSsbNmzg448/ji8vKytjwYIFGIbBHnvs0eg5YseSwIEQQrQaEjIQm9N0g5Tdd8euqMSVkYmrbdvoCqWo+vJL/H37ERgxAj05ebPhCaH58yl/6y3MwkLCa9agJwWi+RKA0meewSzciCsrC7uqkuLJk7GKi6GpjoqOQ3jtWsJr1uDr2QNz3TrCa9agLBPd74smTlSgQmE0r5fAsOGkjB4TnT5S/KPpuk737t3pEpsVRIimRCIR7r//fs444wyuvvrq+OxlK1eujFdcBw8ezKmnnsppp53GVVddxQMPPADAzJkzG1VW3W43++yzD/369cPn8zF69GgGDRqEruuYphkf819UVMQJJ5zA2WefzYknnsgNN9yAYRhMmTKlUeVc07R4xfjtt98m0MzUtFvDMAxGjhzJLrvsgtfrZeTIkey+++54vd5G0xduD5qmMXDgQI477jj23ntvNE2jd+/eHHvssZxwwgmMHz++0fTnnTp1YsKECZx44okMGTLkd7+vl112GSeffDITJkzg/PPPx7Zt7r33XiKRSGLRJrndbs4991w0TePtt98mEomglGLlypXU1tay6667kpmZmfg0sQNJ4EAIIVqLJuprQqBpGJmZuDt2xNe7N7pnU1Irc916kvfaE63B2NB6yjKpnT2b1P33I/v//o+sE08k/fDDwTCoePddsiaeRuZx40nefXcyjjyKrJNOonLqVFQTN6/h1aup/PAjlGkSGL4LmccfT/ohhxDYdQT+/v1JGjyY5L32ImX0aAK7jsCdlyezKAgAvF4vt99+O2effXajMcxCNJSWlkbv3r0xDAOPx8PQodHhWHV1dfHAQW1tLc8++yynnnoqY8aMiVdSy8rKGgUOGg4f1TRts56htm0zb948iE09+Pbbb/P666/z9ddf4zgOhYWFhEKheHliAbCcnBwyMjJ+t0L9e+rzBST+3ZokJSXFcyMYhhEPTKxYsWKbAiBDhw6lZ8+erFixIj5z2KxZs4hEIvHgivjrtM5PoxBC/AMZmkZ6cjIZ2zh2UvwzpB96GHXz5uHU1saXaT5vsxV0zeUm/YjDSRo6rNHyivfexz9gAEZy41YzIzsbIzeHivemoKxNN35OXR0VH0zF36c3WSdM2LxngxC/Q9f1VltBEjuepmlNzoTV0LJlyzjiiCO4884740kP169fj2VZiUW3SjAYxLZtnnzySW688UZuuOEGbr31VoLBIMSGBrQk9bm1WgpN0xoFAhsmnNyW98Tn87HHHntQVVXFe++9h1KKjz76KB482tJnQmx/cpUWQohWIuDzMXXSJPJzchJXCYERCODObUPlZ9Oxq6qwystR4TB2aWmTvQTQNFyZWWgJc9CbBRuiwx0SKnKarpM2dj+UbVP81FNUfvgBNTNmUPL88yT170/K6NFoHq8EDYQQf7nXXnuNDRs2MHHiRD744ANefvllnn76adLT0xOL/i5d1+nfvz+6rnPGGWfwxRdfMGPGDL799lu+//57vv32W5KTkxOfFs+jsKPVJyKsq6uL96SoqqpqlPOgofqZDKqrqxNXQaySX5+UsKioaLsEIFQsUXj932vWrIFYT4T6XgKapsWToZaXlzf52um6zkEHHYTX62Xy5MksWrSIhQsX0rZtW7p1kxw5fzUJHAghRCvhNgx8Hg9u6c4rmqLr+Pv1xSkvo+ixRyh77TXQNCo/nkbJM89Q/dVX2NXVqHC46TwFMf6+fbFKSppMhKgHksgYdzSZ448jafhw7LJSXJmZJO+xJ5pkwxd/gIrN6Z6YZE2IbVFVVYXjOLjdbjRNw7IsXn/9dWpqagiFQlRVVW312HrDMNh///0JBAK8+eabLFq0CLfbjc/nw+fzEQgENmvpDoVCnHnmmVx22WXNVuC3lw4dOqDrOqtWrWLBggUUFxfz4osvUlNTQzgcpra2tlGrfvv27VFK8c4777BhwwbKysooKCiIH6eu63Tp0gVd15kzZw4LFiygrKyMiooKqqqq4gGR2tpaKioqqKysjA8Rqauro6KigpqamkZDEEKhEL/88gvl5eWUl5fz6KOP4jgOhxxySDyQoWkaubm5aJrGvHnzWLx4MSUlJRQVFVFbWxu/HnTr1o1Ro0ZRXV3Ngw8+iGVZnHLKKY1mYBB/DQkcCCFEayE31eJ3+Hr1IuPYY8k++VQyjjqK1NGj8XTujCs7i/DSpZQ8+RSlr7xC5ccfU/Xpp9R89y3h5ctx6upQ4TDKNEnadQShhQsJL12auHkANLcbIyWF8NKlhFasIO2gg9AazM0txLawbZvHH3+cN998c7u0dIqdS2IFvTmHHXYYXq+XZ555hpNOOoljjjmG6dOnk5mZyY8//si4ceNYvHhx4tOapOs6HTp04NRTTyUYDHLuuedy+OGHc9xxx3H44Yfz2muvNQpyKaVYv349n3/+OR999FF8OMMf9XvnnJOTw7BhwygtLeXwww/n0EMPZeHChQQCARYtWsQpp5xCcXFxvPyYMWPIzMxkxYoVHHzwwRx66KEce+yx8ZwBmqbRoUMHRo8eTVVVFSeddBJHHXUURx55JNdeey1KKUzT5Oqrr2bcuHEcc8wxvPnmmyilePDBBznmmGM49dRTN5vl4dZbb2XChAkce+yxfPzxx3Tu3JkzzzwzPoShfr/Dhg0jFApx4okncsQRRzBmzBjmzJkTf409Hg9HHHEEhmHw8ccfEwgE2HvvveM9L8Rfx7jxxhtvTFwohBCi5XGqa3AqKkCp372xEP9Qmobm8WCkpGCkpOBu1w5vly74+/QlafBgvN264snLQ/d4sMrLMQsKCc77jerpX2BuLMAuL8MuKUHTDTSXC3deHlrDIQtKoSJhamfOpPrzz8k69VRcmZkyPEH8YWHH4d4XXyQYCrHPPvtIZUA0EolEWLJkCbm5uRx00EEYhoHjOKxbt45QKMSoUaPIz88nPz+fTp06sXHjRiKRCFlZWdxwww0Eg0E8Hg+5ubnsueee1NbWous6Y8eOjU/NOHr0aEzTpLy8nL333psuXbrgdrsZMWIEQ4cOpbq6Gsdx0DSNtLQ0+vbty8CBA+O/w/Vd/VesWEH//v0ZO3ZsvAv+tqjvCbD77ruTl5fHypUrGT58OPn5+axYsYK+ffsyYsQIvF4vQ4YMoaioCJ/Px8CBA7niiisoKCggNTWVdu3aMXr06PhwiuTkZLp3705hYSFer5eUlBT69u3LqFGj4jNA1CcwrM/t4HK58Pv95Obmsu+++6KUYtasWdTW1hIIBMjKyiI/P5+cnBwCgQCZmZnsu+++uN1unn76aXRd58ILL6SyspJIJMKQIUO44447yMvL2yz546677srKlSvxer0EAgE6derE2LFj470RNE3D7/fz22+/sXbtWvr27cuECROkx8HfQFPSL0wIIVqF2lWruf/ee7n46HEkyQ+m2F5sm0hBAbU/fE/aoYehAeFVK6n64kv8ffuSvNtu0VkZNA2rtJSK998nsn492SedhKdjRwkaiD8lCJx422107taNSZMm/aEKlxD1VGxsvR6bKaFhNefPBNwdx0HFgvbNJfKs39ef2c+2sm07Hmz7vf3XvzZbOgcSzrX+sbVM02T33XfHNE3ef/99OnTogOM4WxUQtG272WOrra3l4osv5n//+x+33HILxx13nMzC8jfY/J0RQgjRIv26YAFTvvmaJWvXJq4S4o8zDDzt25E0dBhVn35K+dtvE1q4iKT+/cCyqPn2W6o++YSKKVMoe+01dJeL7FNPkaCBEKLF0WLT/zXsDbCtld+m6LqOYRhNVmrrbY/9bKuGFfLf23/9a7OlcyDhXLe0va1Rv8+tkXhsVVVVfPbZZ9xyyy2MHz+er7/+mlGjRnHUUUdt9TbF9rXlT44QQogWIxwOR6dcko5iYnvTdLxdupC2//6kH3kkybvvhpGegebx4NTVYVdXo3m9pO6zDxnjx+Npny9BAyGEEDuEUopVq1ZxxRVX8Nxzz7Fq1SqGDRvGpEmT8Pv9fzqgIf4YGaoghBCtxBfvTuHSG2/gycsuY2jPnomrhdj+Em8R5GZNbGcRw+Dchx8mr0MHrr/+eul+LEQr5jgOX3zxBUopRo4c2eS0lVursLCQjz76iDZt2tC7d2/atm0bz8kg/h4SOBBCiFbii3fe5dKbbpTAgRBip+F4vZS2aQOGQXZ2trQkCiHi6nMtiJZBhioIIUQrkRII4HW7SfJKYkQhxM5B13VycnLIycmRCoIQohG5JrQs0uNACCFaCbVuPRVLFpMeCMiPqRBi5+D3Q9++IMnOhBCiRZMeB0II0UpoQEZKigQNhBBCCCHEX0oCB0II0VpIBzEhxE7GNE2++OILPv74YyzLSlwthBCihZDAgRBCtBoSOBBC7Fxs2+bxxx/npZdewnGcxNVCCCFaCAkcCCFEKxGOmHw2azamtMoJIXYSSilM08Q0TSTtlhBCtFwSOBBCiFbiuzlzuPqJyZRXVyeuEkIIIYQQYoeRwIEQQrQWsdY4j9uduEYIIYQQQogdRgIHQgjRSmiS40AIsZPRNI2U5GSSk5NlxhghhGjBJHAghBCthAz/FULsbNxuN3fceSfXX389LpcrcbUQQogWQgIHQgjRSui6jqHr6NIqJ4TYSRiGQdu2benUqRO6LrelQgjRUskVWgghWokBPXtw8fjxuKVVTgghhBBC/IU0JXPfCCFE67BiBZSWypgFIcTOw+9H9ekDhiE5DoQQogWTHgdCCCGEEOJv4SjF+nXrWLhwIY7jJK4WQgjRQkjgQAghWgtHehoIIXYuZiTCdddfzz333INt24mrhRBCtBASOBBCiFaiJljH6sJCIpaVuEqI7S4UibBs/XqC4TAyqlHsKI7jUFlVSU1NjfQ4EEKIFkwCB0II0Ur8tmQpp99xBxHTTFwlxHa3YsMGTr3tNqb9MBNHAgdiR5KPlxBCtHgSOBBCiFYiFA5RWVuLJd15xQ7mKMWajUUUlpXxwiefSBdyIYQQ4h9OAgdCCNFqSMZx8dcIRSK8/+0MTMti0ZrVVNbWyXAFsUNomobb7cblcsmsCkII0YJJ4EAIIYQQjSxYuYpvfv0VYkGEFz75WHq6iB3C4/Hwn//8h9NOOw2Xy5W4WgghRAshgQMhhBBCxNm2w6c//UhtKASAUoqp335HRU1NYlEh/jRd0xg+fDijRo2SHgdCCNGCSeBACCFaiR4dO3DUv/6F3+tNXCXEdhOMhPlu3jy8bjd+r5eMlBTWFm3ku3nzpdeB2P40DV3TMQxDAgdCCNGCSeBACCFaifzcNlx5wgl43e7EVUJsNz8uWMiqwkKy0tJITUoiMzUVgCemvk91XV1icSGEEEL8A0jgQAghhBAAWLbNK//7H5Zts8+wYfi8XjwuN2OHD2dlQQE/LVokSRLFduU4DlXVVZSVlclnSwghWjAJHAghhBACBRSUlvLL8mV43W4O2HVXUGA7NkfttRcoxfTZs2W4gtiuIpEIl/7nP1x77bWYppm4WgghRAshgQMhhGhNpEVO7ChKsaqgkJpgkL0HDSY/NxdQ2LZD3y5dSEtO5uelSwlFIonPFOIPU0pRWlpKWVlZ4iohhBAtiAQOhBCilfjom2844ZZbqA0GE1cJsV1YtoXH5eKQ3XfDE5saz3ZsstPS2KP/ADaUlPDD/PmJTxPiT1GxAIIMVRBCiJZLAgdCCNFKLFmzhkVr1mBKV3GxA7XNymJYz57ouo6maViOg6HrjB8zGkPX+XDmD4lPEUIIIcROTgIHQgghhABA13XOPvwI0lJS4oED27FRQP+uXenTqTPri4oTnybEH6YBuqbFP29CCCFaJgkcCCGEEAI0jbysbMYOH4bbMDA0DV3TsG0HAJ/Xy3677oLLMBKfKcQfpus6o0aNYpdddpHAgRBCtGASOBBCiFZCAzRNQ26txY6gAT3y25OSlASxCp2mafFZFDTg0N13Jz05OeGZQvxxHo+X8847j0suuQS32524WgghRAshgQMhhGglBvXqxR79B+CRm2uxgzRs8dV1HV3XsZ1ojwOAzJQULjzmmPi/hfjzJCGiEEK0BhI4EEKIVmL3wYO465yz8UrgQPwFdE1r1OMAwDAMenXs2KicEEIIIXZ+EjgQQohWwuNy43G70XW5dIsdT9M0XIaBkzCLhwyVEduTUmBZFpFIRKZjFEKIFkzuPoUQQgjRJK/bjdVgqIIQ25ttWzz88MNMnjwZRz5rQgjRYkngQAghWgnLtrFsW1rlxF/G43JhO4585sQOY5omX3/9NTNmzMCyrMTVQgghWggJHAghRCvx9Zw53PD004RNM3GVENudpml43G6UUo0SJAohhBDin0cCB0II0UrMW7qURWvWYCeMORdiR6mfwcOUlmAhhBDiH00CB0II0Uo4SqGUksnLxF/G44kGDizbls+d2GEk4aYQQrR8EjgQQgghxGY0wGu4gGjWeyTPgdgBXIaLNm3b0rVrVwzDSFwthBCihZDAgRBCtBLSKif+UpqGxxUbqiDDY8QO4nK5uP2227jsssskcCCEEC2YBA6EEKKVyMrIID05GV2XS7f4a7hdsR4HEjgQO4ima6SlpZGZmYmmSXhUCCFaKrn7FEKIVuKEgw7i6SuvJMnrTVwlxHanAR53NHBgWpLjQOxIEjAQQoiWTgIHQgjRSmixKfKE+KvU9ziQmTzEjhVN/CqEEKLlksCBEEIIITanaXhigQPTlukYxY5hRiK8/fbbfPDBB9EknEIIIVokCRwIIUQroUBa5cRfRotlvKc+OaJ89sQOYNk2r776Kl9++aVc34QQogWTwIEQQrQSS9es5n8/zZJEdeIv43FHZ1WwLPnMiR1H4gVCCNHySeBACCFaiY++mcHj700hFIkkrhJih6gfqmDZkhxRCCGE+CeTwIEQQgghmlQ/9aclOQ7EjiIRKSGEaBUkcCCEEEKILTJlqILYQTRNw+/34ZVpZoUQokWTwEErphIeQgghxPaiaRpulwGxoQryQyN2BLfbxR2T7uDss8/GMKKfNyGEEC2PBA6aoJTCdmxMx8JWdrNZfqMV9qbX7UimY7G4bDm/Fs1r9LAc6UoqxM7M0HUMXY93HxdiR9I0jTYZmQCYlvW3/N6JnZ9hGLTPb0+HDh3k2iaEEC2YppqrFf9DBa0Q01d9w7ySxZSGKkjzprBL28GM6bQ7Lt2FhgaxgMGqyrWUBSvplNaebH/05uqvUBGqYuK0i1ldtQ4ARzkAfH/iVPwuX0JpIcTOYvH/PqN8/TqG9eyJO5a0TogdxXEcZi9ZyrHXX8d955/PIbvvjktahMX25vVC374Qm8FDCCFEyySh3QbKQ5Xc8O093PTdfby15AO+X/8TU5ZO48qv/8urC97DcjaN8XSU4rFfXuTMTy7joxWf4/yF8ReP4Wav/BHs3/lf7NV+BG5DfmyF+Cfo1akTI/v1k6CB+EtEexxk0DYrC7fLFQubC7H9KUc127tTCCFEyyCBgxhb2Tw/702+WP0tWf50njvoAaYd8wo373k5uqbz5NyXWVddkPi0v0WS289Fw0/n1r2v5D+7nkWyO5BYRAghhPhTNE2jQ24OXz74IAeOGCHjz8UOYVkWX331FQsWLMBxoj0ohRBCtDwSOIjlNCiqLeWdJR+S5PZz1cgLeGbuqxw/9WzeWPQ+I/KGELFN1lUXUBmu5rPVM/hk5Zesry5A4bCodBkfr/qSaSu/5OOVX/Lt+p+I2Oam7aMI2xG+Xz+bJ355mRfmvckvRfMxm8hJoFCYjsl362fx5K8v88K8t/i1eMFm+Qt0TcfQdHRNl1YgIYQQO4SmaXjdbhl7LnaY2tpa7r3vXl5++WVsW2bvEEKIlkpyHAC2Y/PO0mnc/sNDHNXjIEzHjA4/wCHNk4Jbd1MSLOXWva6kS3oHzvn0KoJWmIgdwVEOLt2FW3eBBhoandM6MHm/O0j2BHCUQ3FdKbd+/wBzNv6G6VhogNtwc1DXfThz0Ilk+dLRNA2lFAW1Rdz07b38VrIQy7HQ0HAbbg7oMopzh0wkw5fW6NjXVRdw8ocXUBaqkBwHQuzkCr//gVBxER1yczGkIieE2AmU1tYx4dZb6D94MJMmTcItuQ6EEKJFkjtPwMFhdcVaAA7pPpZlFSvRNLjjX9fw0iEPkelPRwGOskn3pnFwt304tPtY2gZyQIO+2T05tPu+HNptPw7tti/7dt4rnncgYptc+80dfLNuJo5S7Np2EL0yumE5Fu8s+Yi3Fk/FjiU3jDgRHpz1ND8V/oKjHIa3GUTPWNn3l33KlCXTGh23EOKf5d4XX+DqJ57AtDbvrSSEEEIIIcSOIoGD2FCF0nA5ANn+TOrMEO2T8xiRN5S2gVwO6joGQ4u+VG0DOfxnl39zxYjz6JfTGx2dfTrtyRUjzuOqkedx5cjzOLX/eLyGB4BVlWtZVLYcXdM4f+hE7h1zE5MPuItT+h+LUg5vLJqKo6Jd8xaVLueb9TMxNJ2Lhp3Bg2Nv5ekD7+HIHgdhOw7PzHud6khNgyMXQvyTFFeUUxsMYkl3XiHETkKrf2gy8FIIIVoyCRzENBywYSsbRzlosZwDdVaoYdFtUh6qpM6sI+BOYlyvg/EYbvwuL2M67oHf5ac8XElZqAKFYmXlGiK2iaEbHNJ9LC7dwGO42a/z3ngNDxE7wvrqwr90BgchhBBCiB1F0zUMw8Dr9SauEkII0YJI4CAW5c7ypQNQEiwlye2nqK6EtTUFmLbF9FUzsGO9AraFQlEVqcZB0SYpB71BND3J7cfn8oKCVZXrYgkaS7CVjd/lbTRTQk5SFoZuoFAU1hYDEjgQQgghROuXmpLC3XfdzTnnnINLppoVQogWSwIHRBMa5qe0A+DjFV/SMaU9lmPxf9Mu4ah3/486sy7Wka4JGjjKabIyr6GR5PajoVEdqW3Uq8G0rehMCRpk+dPR0Ej1JqNrOiHbxHI2BSpqzbrYPqJlmiN5LoXYuWloaJrW3NVICCFaHUM36N27F+3atZPhCkII0YJJ4ADQNYPd2w/Ha3j4cMV0Du42lsG5/UjzpJDmS+Xk/kfTI6MLqd6U+HM0iM6GgMaayvUJ0y9ukuwO4DHclATLWFq+EtuxsRyb1VVrqTXrcOsu2ifnoWkaecltcOkGtmPza9F8bOVgK4dfixYQsSPosTINf1iN2HAGgHU1BTjKQcX+E0LsXE446GCO3PtfeCTruBBiZ6FFe35K0EAIIVo248Ybb7wxceE/jaZppHgCrKsuZGHpUuYWL+CMwScwrtfBjO20J+uqCzhv6ES6pXfGpRsQCw4UBUv4fv0sVlWtxaW5aJfchlqzjtXV60jzpuLSDbwuD9NWfEG1WcNvxQvpldWdZRWruPW7+wlaIf6VP5L9u47C0HQyfelMW/EFVZEaFpQuoU9mD1ZVruXeWZOps4Ls2nYwx/Q6BD2WqBHAdEw+WfklZaEKFpcuo29OL6rDNXy7/ifaBHKiwyGEEDuFrkkBBue3l6kYhRA7D8MF2Tngit5fCSGEaJk0Jf3bIdbNf1XlWm79/gF+K1mI5di4dANHORiawfTxb5Ds2ZR3QKEoqCli4kcXURqqaJQDwat7eH/c8+QmZWE5Nj8W/Mx1M+6iIlSJQ3TqRUMzyPJlcOeoaxmQ0xtd07GVzcwNc7jq60lUR2rivQYMzSA3kMMDY26iR0aX+H6ITff4+C/P8+L8t7FjvQ0A0jwpPL7fHfTO6t6ovBCiFVuxAkpLG2dzFUKIVsx2uVidlERm27akpaVJzwMhhGihpMdBjKZpZPjSOLDraPTYCA6/20+OP5N+Wb0Y23kv3PqmpD0aGimeZA7uNpaKUCWappPuTSXLl0FuIJsDuowi4E5C13Tap7RlZN5QCmuKSHL7yE3KYVibAdw16lq6pneK/0hGy+axd/5I1tcUEnAnkZuUzS5tB3P73lfSMbV9fP/1DN1gWNuBWI5DxDFJ9SSTm5RNt4wu/KvDSNK8qYlPEUK0VhUVUFeXuFQIIVqtytpazrj6akKRCEOHDkWXHlVCCNEiSY+DBAqFoxwc5WA7DpoWbfE3dIOmUpIpFS1vKSs+TaKh6bh1d6OouVIKW0XzG2iaFt2mpjcZWVdKYSkbW9loaLg0A72ZssSGTTiOjRWbRlKPb99o9jlCiNbHXrESraRYktMIIXYaZbW1nPDf/7L/IYdw3nnnycwKQgjRQsn9ZwKNaKXbrbvxubx4DS8u3dVk0IBYTwVDN/AaXvwuH36XD4/h2azCrmkaLt0V26YHl958pV7TNNy6C58RLWtsoSyxRI3RY/Dgd/k2HfMWniOEaH0ee+1Vrn3ySUKRSOIqIYRolRTR0VfSjiWEEC2bBA6EEKKVmL1gPvNXrsS2N+VUEUKI1k+CBkII0dJJ4EAIIVoJFWuak1tsIcTOor6ngeQ2EEKIlk2u0kIIIYQQ4m/h83r51957M3DgQBliKYQQLZgEDoQQopXQNA3kxloIsRNJDgS46sqrGD16NIZhJK4WQgjRQkjgQIit5CgH0zGJ2BEsp2WNMXeUQ8SOELFNbGUjndl3TgN69aJXx064Jeu4EGKnIr9ZQgjR0sl0jL/DcixKgmVomkamLwO3/udu2BUKy7HYWFvC2uoNeA0PbQO5tAnkYGh/bxxHKUVxsBRbbaoU65pOli8D158874YUitJgBWuq1tEvuxdew5NYZKvYyqYsWIGlrPgyQ3OR6UvHpW+/VgvLsZizcR5vLJ7KgpIl1JlBTuh7JGcMOiGx6HajlKLGrKXGrMXv8pHqSUXfQkvz0rIVnP2/q9A1na7pnTio6xj27bw3fpcvsahoxcKr16BtWI9L17f4eRDNU6hmZ8kRfz2FotCsREcj05WMW9t+1+6/SlhZlFu18SmZNQ2SdA+phl8+a1vD44E+fcDrTVwjhBCiBZHAwRYoFOuqCjjlowtxG26e2P8uOqW2Tyy21Wxls6BkCff8NJlVlWuxHBtNgz5ZPbl/zE0kuf2JT/lL2Y7N4e9MpNaqiyZhQ+F3+3h030l0Tstv9gaoJFiGoxQpnsBWVVRDVpjzp1/LkrIVHNFjPy4eflZika1SZwWZ8P45VISrY0sUWf4MHt13Em0C2Qml/xjTMfmp4Feu+WYSleEqAu4AeYFczhx0EmM775lYfLuxHIv7Zz3Fhys+Y3jbQdy291VbDFptqCnk2m/uYHXVespDlXgNDxP6HskZA0/A55KbsZ1G4UZYtxYcJ3GNaIZCUedEWBkupsiqpMyqJc+dTqYrmY6eLJJ0T6NrW60TptYO49FdpBtJjbbV0tSfW40dwq97SDF8zV6nWypL2ey75A78uoeHOp5MN29uYpFmRZTF0lAhVU4ocVUjKbqPXr68HRaU+LZmMTdueBczFnTXNZ2D0wZxUe4Bf3uDQGtgGwbV+fkEMjNxuWQqaSGEaKnkF21LVLQyXRWppiZSi+mYiSW2mkKxomINF31+A/NKFhNxTNK9qaR70/C7fNu1Rf/PyPClk+IO4NXd1Jh1VEdqsZxNLfpNOfd/V/PvTy7nk5VfJa5qkq1sNlRvpM4MMrvgt8TVW01DI82bRoo7gN/wUhGuih5vgx4If9a6qgKu/noSleFqemR05akD7uax/SYxquPIxKLblaMcQnaYilAVQSuEo7ZcUWwbyOX+fW7myf3vZkynPbAcm9cWvseswrmJRUVrJjfU2yzkmNyyYQrnrHmOS9e+yu2FU7lg7YucvfpZbtzwDjV2uFH5T6vm8e81z3JrwRRstvy9+7s5SjG14mfOXP0MjxR/hv0714mWyEZRYddRZQfjFe+tZSmb/xa8z3lrnue8Nc9z7prnOWf1c5yz+jnOXfMc5615nvPXvMBtBe9jbeO2t4Wu6aToPpI1LyhFpV1HnRPGke73W6WyuprzL7yQL7/8Mj7DghBCiJZHAgdNUA3++z1qa8sreHPRB1SFq+mW3okn9r+LD45+ganjnueBfW7GY7gTn7FFifut33fivzeVT1yyaXk9Qzd48ZAHeX/c8zxz8H2/21Jdv58NNRtZW72B8lBls/uPlo8+x2t4+Pfgkzis+35cMfK8xGKQcLwKhVKbb9Pv8vH8wffz/tHP8dwh9zda15TNt9BY4lpb2Xyx5juqIzXkBXK5a/R19MjoSpZ/86EbDc87cTvbQ/35N7d9XdNJ9aTQNb0jN+z+H4a26U/ICvPU3JcJWY0rRoma2p5omSzHwbbtFn9zbTsOEdMkFIkQDIcJRSJYth3vyv1Xerr4Sz6vXoCpbPZI7smEzN3YM7knIWXybc1SvqhZAPHrE1TadayLlLHRrMSJTX1Z/2ioqeXNfUMTy/3e8nrR9c1v08ah0g6yNlJKsVWFpaJV1aa229Sy5pY3tY3mjqOhrSlDo3K/V3LLdHR2S+7Ovin92TelH3sGeqBrGoamsVdyL8am9GNsSj9GBLqhJ7T8b+m1bcqWjnm3QA/e6X4R7/a4mAlZeySuFr+jrq6OVavXUFFR0eKvbUII8U8mgYMEITsczT9QtYGaSF3i6kaUUlSHq9lQvZF1VQVUhCqbbRlWKL5b/xO2chjX8yD6Z/dKLLJNKsNVlAUrCFsRimpLKawpxlYONZFa1lUXUB6qjJe1HIuyYAVV4apGNz2mY0aXR6qbvBnaEkcpSoPllAbL47dStWZdfFlpsDweSCB2/lXhakqD5VSEq9it/TDOHnIyXdM7Jm4a07EoDVZQHanBVjYba0tYU72ekrqyP5yUsP41qAhVbnZjooDqSC2lwXJqzU3veZ0ZZMrSjzF0nQl9jyI/uV2z48oLa4opqCliY20xFaFK7D94nM0JWSHWVxeyrrqAyvCW368UT4BzhpyKz+VlRcVqVletTSwSF7LCrK8u+N3ggmgZPvh8Ok+8/z6WvX0/X9uTUoofFyzk3/fcw4izzqLvSSdx8OWX8/y0j1lbVETY/OM9t7aVjcPUqp+xlM0BqQN5sOPJ/KfNQTzQ4SRuancUF7fZn4NTB6NiAYNSq4YaO4xCYSqHUquGUquaUquaMqsm3iJuKSe+vNSqIawsbOVQZFaxJlJKqVUdD5I4KMqtWkqtxt/b+uVlVk2T3+eIsii1qlkbKWNdpIwKu7bR9bT+eGud6Hc34liU2Y2Pt74Hgortq9yqbdQKXr+8wt60PKwsymLnXb8NU9kUmJWsSTiOTduBGidEoVnJ2kgZZVZNs63tEWVRZFazJlJKiVW92fV4W/h0N+fn7sek/PHcnj+ey9segkdz4dc9XJN3GHfkH8ek/PFc2GZ/vNqmYK9CUW0HWR8pZ32knCo72MzRRoWVSZFV/97WENmOvdpEvS29A0IIIVoCyXEQo5RiVdU6Lvn8RspDlViORbovlWN6HsoDc56KtW4/QPf0zgBYjs2rC97h1UXvUROpQ6FIcvvYv8tozh86EZfubjTS1HIs9nj5CBQOd426jn912K3B2m137v+uZmn5SnZvvwtfrf0OpRTjeh3CjHUz2VBTSLY/i3tGX0/X9E4sKlvKJZ/fRNf0Ttw96vp4T4L/rfqae36azNA2A7hpz0sbjaFfX1PI+Pf/DcCzB95H94zOjcbOVoWrOXLK/wFEAwRK4Xf58Ls35TjI8GXw4sEP4Hf5iNgRrvn6Dn4umhe/6TQ0gyN6HMg5Q06OPwdgbtECLv3yFgbm9CE3kM0nK78kbEXwujx0T+/CPWOuJ+BOih+PQlFUV8L+b0wgNymbZw+6j/bJbRttc1XlWi6Yfh2g8fSB95Djz4yvC1ohrvrqNhaVLeffg0/i8B77o6GxumodJ0w9D13XefbA++ia3rHJ8cOWY3HI26cQtEJoaLgMg2R3MucPnci/OozcrHfC1ojYEe788THeXvwhPTO7Yjs2G+tKAAi4kxjf+zBO6jeu2W0HrRAXTL+OuUULmTTqakZ32D2xCKZjcfO39/L1uh/Ys/2uXLf7xb/by0T8vf7vlFMoLyjgxWuvJeD7/Xwif5f6HgellZV8OmsWL37yCQWlpfg8Hrrk5XHcPvtw8MiRJPn9zQbjtgdT2Ry87G5KzGoOTx/G9e2OiH+H6yvVhqYTURYXrnmJpeFCap0wIcfE0PRYcrsor+bmtvxjGODrwMy6ZVy3/m2ItXqfnj2KBeH1fF21CFPZeHUXp2eP4uiMXamw6zhvzfOUWNW81/0SkvXod6zIrOL/Vj8FwJtdz8enR3ud2cphRaSI69a/RbFVTdix0DTwax72Tu7F5e0OwXRsLlzzIisixQSdCEEngkdzkWx44+fn1dw80vFkOntzqLHDnLrqCQCe6HQaWa5kAMrtWk5a+TgZRoAHO55EupHEZ9XzuadwGqay8Gpu7ut4As+UfMXMmuVYyiHZ8HJq1t6MzxyJVh+cKZ/DU6VfUW2HsJWDT3cz1N+Ja9odQZoRzd2jUBSZVVyw5gWKrGpMZZGke5mY/S/uLJxKQPfxVOfT6e3L449QKNZHyjlmxUO4NJ23u11AristsRhhZfJK6fe8Wv49odjwwyTdy7j04ZyavXejPAgOihXhIq5a9wYldjWmY+HR3fTytuXm9uPIcaU22HL08/ZsyddMLvmcI9KHcmXbw3ZYXoWdydqSEibccgsXXHIJRx11lEzJKIQQLZT0OIjdcAStEJd/eStrqtfj0g0G5vbFZ3h5ffH7m7WImI7Fs/Ne5+Gfn6Okrow2gWw6pLSjIlTNqwun8MjPz2PaJo5ysByLiG1SawZjvRE0XLoL0zHjj8TWm61RGa6mJFjKV2u/Z9e8IVSEq3h14bt0SGmHS3exoaaQZeWroi1ntkVZqIKqcDVOgzG7dVaQslC0ZT/xHH+PoRt0SetIl7SOGJqOpkGGLy2+rEtaRzql5ce7h2qaTm4gm46p+XRMaY9SirJQRaMW/noRx6I0WM6swrm8s+Qj8pPz6JXVnVozyOyNc7lz5qPb3PMg25+Jz+WjoGYjL8+P3vDXKw2WM6doHjVmLd3SO8WXr68uwFY2bj06U0NTQQOAkB0hL7kNuUlZJLuTqI7UsrZqPTfMuJvPVs3A/J0cEVuiUKyoWM36mkL6ZvWgc1oHSoPlPPbLC7y56INmt+3WXeQFcnFwWF25LnF1lFIsLV9JTaSW34oXNdtbZntRSuE4jjy24aFUbJhO7OE4TrTLfxPrdtgj1hbY8EHC34kMXcfv9dI+J4eT9tuPN266iUcvuYSjR43Csm1ufeEFjr7+em569lm+nzef2lBohwxjcGsGfX3t0DWdr2oW8XzJDCrsOhwUhqbHE9dpaOR7MuniySHDSEIDfJqbLp4cunhyY48cUnQ/mqYR0L108eRioFNm1TCt8le+rFpIvieTFMNPuVXL5OLPWW+WYSsn1uOgptH116a+R8Om1nkHxapICeesfp4loUKCToQOnkw8mptSu4b3Kufw4MZPUajY8WaTHgtuBHQvnRscb2dPNn7dC2g4OFTEehY0zINgEz22Crsu9vprpOo+Onuy0dAosqp4r2I2X1cvoosnB0PTKLaqeb38B8qsGgA+r1rAPUXTKDKryDACdPe2oc4J82XNIu7f+DEhFa2cm8rmmvVvsixShKUcBvg7kOVK5rGiz5r9HG1vlrJ5r3wOk0s+p8SsJkNPIk33U2JV82zp17xT8VOj3+O1kVIuXPMiKyNFOI5DR08WtXaYWXUruWTty1TYm/9+iW0X/WXVJCmiEEK0cNLjIDabwLtLP+a2Hx7E7/LxwD630DuzG6Zjcc03d/D9hlkkufzxHgdBK8S4KWdQEizlzEEncXSvg9HR+HrdD9zy3f1k+TN4+ZBHsJTFRZ/dQNgOYyub1VXr0dDI8qeT6kmB2A3rEwfeRYZ385aRLTnxg/NZULqEUR1246Y9L+Vfr46jTSCHR/e9jYdmP8OM9T9yyfCzGN/nMOYVL+KMTy6jZ0ZXHt//DpJc0Rag95Z9wn+/f5AReUO4Z/QNjfIs/F6PA1vZ8e7t+71xHCE7wlmDTuKEvkfGy7h0F27dha7pOMohYpvYysZRDrf98CD/W/UN43sfzmW7RvdTb1bhXM785DKUUkzocyRnDj4BXdP5Ys33/PeHB6IJwY56jjZJ2WiatlU9DhSKx39+gWfnvUGbpGxeOuRh0rzR9+Cl+W/z4JxnyPZn8Nphj5PqibbGvb7ofe75aTLp3lQ+PPoF3LEWwURKKeqsELZj4aCI2BEenv0MH6yYTpo3lbePeJJMX3ri07aovsfBW4s/IOBO4p7R19Mvuze2Y3HHzEf5eOUXdM/ozBP730WGb/PPjqMU9896klcWvsPB3fblpj3+k1gEWzl8tupr3l06jeP7HMnu7YdvceaGP8OyLGbNmsWyZcuQS07TNK3xjXPDf9f//9mnn6a6vJxzjjgSrzv2edSi15FNT41+UzVNi68Dtfm262/YY/uJ/x3fSsK6hH8rtWmbjY614XYaPhcwbZtwJMLPS5fy2axZrN64kYDPx4Cu3Th4t5F0a9cOXdfp1r49malbnoJ0axXb1Zy+8inWm2VoaHRwZzExe2/2TO5JmsuPjo6DIuxYODi8XPY9TxR/Tg9vGx7vNBFXrMVYR8etGRix61lImTxZ8gUvlX6LS3NxRPowzs4ZQ7ldx/jlD6NrcEu7Y+jvz+fklY9TZFXxde9rSdWj198Cs4Jxyx8E4LOeV5Kke6hzIpy1+mnmB9fT2ZvD3R2OJ8tIxlQ29xR+xILQBs7P3Zd/pfTBVg5hZfJC6bc8U/IVe6X04qZ2R+GJdcnX0fDqbnQ0Ku06jlr2AGjwapdzyXVHW8pL7GoOX3ofma5knut8Jlmu6L7CymJSwft8WPkrPt3N2dljODJjOOV2kBNWPoqBxjOdz6S9J53Dl91HuVUbPf/csRjo/FS3givXvY5Hc/Fop1Po58vnx7rlnLv6eQK6l7s6HE8/Xz6msrh5w7t8VbPoL+lxUG7XcvzyRyixqzkwdRD/aXsQSiluK3yfL6sX4tFcTO40kX7+fBRwb+FHvF4+M3oeHU+lizeHucE1XL3+TSLK4r/tjmGf1H7x7UuPgz+mqKqaCx9/jLMvuIA999wTXZc2LSGEaIkkcBCrpF0/424+XfUVe+eP4PZ/XY3f5cN2bL5c+z2Xf3krPpeX5w9+gG7pndhYV8KBb5xA1/SOTN7/TgLu6JRdYTvM2Z9exbLylXww7kVsZXPqRxcRtEIoFHVmHaDhMTzxCpqmabx75NNk+jIa3WD/nhM/OJ9FZcsY3/swLhh2Gru9dDid0tozeb87uX/WE3y2+hsuGX4m4/scvkMCBw3t9cqRhKwQ5w45jVMHHJO4ejOOcrjx23v4aMXnWwwcuHUXn41/g2RPdFhCabCcU6ddxLqqAm7Z6zIO6DIGl25sVeAAoCRYyvj3ziZoh3h47H8Z0qY/juNw3mfXMKvwVw7oMoZb9rosXv6pua8y+ZcXyfSn8/HRLzeqeDWkUPGeJbZj46AImiEOfecUPIabZw68l96Z3ROftkUNhyoMzO3DI2NvI9kTQClFRbiKA96cgNfw8Mqhj5KfsvmNtkLxyJzneHbe6/wrfzfuHXNDYpEGoi2NO5Jpmrz99tu88sor/PbbH59JY2fU3OeqKU5sGsZGlflWTMUCEEqpaCBD03C7XDxy8cXsM2zYdqlAKBRrIqU8WvQZ39QsIaxMNDS6enO4ud04enjbNpoy77nSb3i06DN6+fJ4pvMZW6z4PVL8Gc+VfE0bdxovdzmbtNj0jdesf5NaJ8xJWXvQ3p251YGDleFiTlr5OCEV4aa8ceyfNhBX7NgiyqLMqqWNOzV+LTaVzTMlXzO5eDqjU/tyW/tjG43lr7ctgQNiPR9u2TCFKRWzCBg+Pu1xBX7dQ9gxua/oY8qsGi7OPYA6FWHCikfRNY1Xu5xDW3c0QKqAc9Y8y4LgBq7NO5wD0gZy78ZpvFb2AwN8+Tze+TQCuhcHxbJQIeNXPEJA9+7wwMGPtcu5cO1LKBRPdz6Dvr52aGgsCK7n/1Y/halsDk8fytVtD8PG4ZK1r/BD7VLGZ+7GZW0Ogtj7cN36t5hePZ99Uwdwe/tj49uXwMEfYxsGFXl5pLdpI8MUhBCiBZPAQSxB3OVf3sKM9T9ywdD/44R+43DrLhylWF6xiuOnno3XiAYOuqZ1ZMa6n7hg+rWke9PondUdI3Zj4CibBaVLqIrU8NbhT9I5NZ+KcBUODkEzzLgpp6NpGrfseTnD2g6A2I3ylrrBN6epwEHntPY8vpMEDs765HKy/ZlMHfd8/LiCVogzPr6U+SWL+b8BEzhryEm4dddWBw5M22TSzEd4f9knHNBlNDfteRkVoUomTruY4mApT+5/N/2ye8bLf7RiOjd9ex+p3mTeO/JZktzR160hhaIkWM4bi97nyzXfsb66kLAdJsUdoCJSjdfwMnm/SQxu0z/xqVvUMHCwR/tduGfM9XiN6NjokBXiiHdOoyRUzpuHP0GXtA6JT8dWDnfOfIR3lnzEhL5HcvHwMxOL/OUikQiPPfYY3333HTRRYW7Yep24LPHfif9PXN/w76aWNff3tm6vueVbW6a5cs39vXTxYuoqKhjUrfum1vj4/zb9O7a3RrM3xv9sqldB7P/xIvE/GpRNONaGyxo+f7O/Y/+u/7s+UGA7Dis2FDB3xXJqg0GSfD4GdetO/65duPDoo/F7t2++DVPZzK1bw5SK2UyvXkDQidDD24ZHOp1Kjiva+4g/GDjYI7knd+Qf12SlvdCs3OrAwU+1Kzh/7QvYyuHtbhfQwZPV7HWX7RE4sKo5bNl9ZDUTOHi/cg4jA915pOMpCVuMlplRs4RL174CwJCkTo1eq1/r1hJUYc7L2Y/js0Zy6dpX+aZmMYemD+XavMPjxxl0Iuy+6Oa/JHDwbsUsJhVMxdB0PuxxKelGAA2ocoIcvvReKu0g3by5vNr1XExlc/rqp1kWKuT2/PGMSekb387dGz/ildLv6OrN4a1uF8aXS+DgD/J4oE8f2M7feSGEENuXBA5igYP/fHkT362fxaW7/Jtjex8WrZAqxerKdRz9/hmNAgczC37m7E+vxNAMMv1paE2kinj6oHvJT86L3/LVWUFGvToODZ0H9rmZke2GJjxj22yPwMFri97j3p8mMyJv6HYJHJwzZCITB2xqfWnO1gYO2gRymHLkM/HjCllhzvzkUuYWL+LU/sdy7pBTcRvuhMBBFs8eeD/tUzYPHABMXz2Dq76+DdD4+JiXKawt4vRpl9IhtR3PHHhvvPcIwNzihfz70yvwGV5ePewx2iRlN9oWsSSZV3z1X75c+x0BdxKZvnRcmoGlLNZUrcete/584CB/F+4ZfQNewwOxAMpBb55IjVnHm4dPpnMTgYOIbXLtN5P4cu0PXDXiPI7seWBikb+NXHL+hOpqWLwYYj0PWhvLtimprOT7+fN57qOPWLh6NVlpaYwdNpyTDzyAHu3bQzNBiu3FQfFL3WouWvsSIcfkvJyxnJy9V3z9psBBW57pfOYWK371gYMD0wZxfd4R8WENDTUXONhglnPksgcwND0eOJhdt5Jz1zyPrRxe7noO3b1t0Ju57pIQOBiV2ofb24/fpsDBWrOM8csfIsuV0mTgYGrlzxyZNoxr2h2esMVomR9qlnHR2pewlE2GK4CR8FuoaxqnZ4/m0PTBXLjmZX6oXcq4jF24Ijb7AbFZHEYuvPEvCRxMqZjNbQXv44oFDjKMAABVdpDDlt1HlV1HT29bXup6NqayOWP10ywNbeT2/GMYk7JpSEJ94KCHtw2vdzs/vrxh4ODw9KFcJYGDrSOBAyGEaBU2r/H+A+maRrI7GQ2N2YVz41PpKRRWwrRLuqbTJ6sHGhoBdxKT97uTVw59hFcPfbTRo11S7hZu9/5amqYDGnVmMN7VGWBJ6YpmE+J5dQ8aGo5yCFqh5rOgAT6XFyeW7HB7chw71uk1KmiFqAzXRLsZp3eMnVe0pdUXa42P2GazCQMBhrcdSLYvE0c5fLj8M6at+ALTseif3Rufq3GW+nbJbTA0g5AVZk3lus0qvApFRbiSb9bNxGt4uHPUtbxy6CO8dMjDTN7vzs3mDU+klMJR0SR3W8tWNkvLVlAZqSbTl4Y/4Zjrheww80uWoGsaHVOjlbGmKBS2srfpGP6s+pZ2efyBh2FsvqyFP4jlNvjfrFlMvP12jrzmGm55/nn6denKy9ffwNRJk7j+1FPo3q5do+dsL4mfbB2NAf4OpBh+HBzWm+WN1ifrPjQgouytnnYvOtSh6ePWGgRCysxoIkSFotoJbbb9HFcKbs3AQfFl9cJGiQybogEphg8F1NrhLXyPo69rxLEwY1NKAiwJFvzuPpoKRBDbd0dvFlrs/K9seyivdD2HV7ueG3+83OUcDkkbjIZGJ08WAEtDG7Ea7LM+MeRfId+diUuL5rRYEylFxfa9PFxEWEVn0hgc6ISGhkszyDSSsbH5pnpxfBsRZbEhUo6uafRICHJoaPhjuXCq7VCjdaJ5Kpb4VQghRMu25ZrNP4ShGQxvMwAN+GHDHOZs/I2QFaYmUss7Sz7aLNu3z/DSJ6sHtWYt//3hQZaVr8Lr8pDsCWDoBpZjbfeb3z8j2Z2ER3expnoDH6yYTnFdGd+un8XHq77AVg5BK0hVZNO84wBelxefy0fENvl89beUhsopC1Uwt3ghETvSaPt9MnugaRrfrf+JuUULCFpB6swghbXF8Uq8oxzCdiT+iN6sRiutm5bZ8Rs5haI4WMb/Vn1NrVlHrVnHp6u+oqiuBI/hZnBu/0bjkr1G9HhrzDq+Wvs9JcEySoJlzN44t9HNdMCdxOmDJuAohy/WfMcHy/6HoesMazuw0fYAUjwBhrcZSMSJMHXZp40yotdzlIOtbCzHwrItDM3AdExemP9WPDBQGqogZEXnhm/4vDcXf8At393PM7+91mibiRzlYNomISvE3KKFXDfjLpRS9MvuTUoskWNDSimmLvuU4mAZmb70JnMgEEsK+v7STznvs2v4cMV0TDua/Vy0YC3ouvJ7TMti7vLl3PvGG5xw883c9+YbdM/P57pTTmHKbbdxw8RTGd67Fznp6Xjc7u2SzyBRqVXDAxs/5qPKX9lglhNyTIJOhG+qF1NlBzHQ6eVv/P3o5Y/mPFgfKWdaxa9U2nWElEmJVU2NE/0eW9iEVTTZq4p9RyOYmwUCADy6ixQ9GuC7r+gTVodLWBbayN0FHwHRRKYlVjWWsslxpTLY3wlHKd4u/4n3Kuaw0aok5JhUOUFWhIsa7UPXdPonRQODC0Mb+Kp6IRV2HUEnerx1TvRa7dJ00owkgirCkyVfsM4sY0mokMeLp2PhYCqLMrsWG4eIsqLnRjRw66AIKxOzwfWZWCW5rSudAUnRaWqfLf2aucG1eHSDFMOHR3dhYuPWDFzo7JncEx2NlZEiZtYuI6giVDlBXiyZ0UR4Z8fo5sslz50e7xmwLlLO6kgJT5V8ialsUnQfR6UPR9c0DE2nl78tGhofV/3G9Or5lNu1vFcxhx9rV+DRXOzbIDEisUaIdp4MlFL8WreG+cF11NghVoaLWRoubFRWbFJcWsoNN9/MqlWrthD8EkII8XeToQqxSmrYinD8+2eztmYDXsNLmieZkGOio1EaKm80q4Lt2Hy17gdu/f4BqsLVeA0PXpcXQzNwlM3QNgP4715XNur6/3cOVaiO1HD2p1eyuGw5hmZEEz8qm6FtBvLt+p/QNZ1sfwaP7nt7vNt7xI5w+w8P8/6yT9E1nWRPtAu/W48m+2tYGV1UupSzPr2CWjOIx3DHW8HduounDriH9slt+bV4IZd+cRPEXu86M0jYjuAx3CS7o91Fzxx8IuN6HsTPG+dz1ieXoWs6XsNLwO1HATWRWkzH5OBuY7lmtwsbzQBgOiaXfnEzM9b9hNtw4TW88THg7x75DGnelPhQiw01Gzn5wwsoD1XiKJsMXzpvHv4EWf6M+PaIVQamr57Btd/cicLhut0vYb/Oe8dnigCwHItj3juLtdXr8bl8tE3KoSxUgelY5AVyWVG5Bp/hYXjeYO4edR2u2DFHbJMLp1/HT4W/clSPA7l6twsa7bvhrArJ7iRy/NmE7BDVZi1hK0xuIJdnD7yHbH9m/FjqAxWLypZx8ec3UhGu5IAuo7lxj/802fshYpuMf//frK5aR3ZSFlOOeLrJPA6i5XDq6mD+fPRWcNl2HIewaVIXDmM7Dl6XC7/Xi9vl+ksCqwpYEirgrNXPEFImXs0dTzRY64SxlUNnTw5Pdv4/0mNJDQHqnAjnrHmOecG1GOgEjGgPBAWcn7Mvh6QP4cK1L7IkVEiNEyLiWHh1N0m6B7dm8Ga380mJDUcg1kL934L3+aDyZ3Q0fLobA51kw0+FVUutEybF8HFH/nh2TepGqV3DxJVPUGhW4tYMvHr0uOtDqo93Oo0e3jbx61mdE+aklY+zMlyMV3fj09zRii861+Qdxt4pvbGUw60FU/io8ldUbOpGhaKPrz2/1K3GxiFZ93Ft3mG8VvYDqyIl1Dphwo6JR3eRrPvo4MnkwQ4nkWI0vkYsCRdy8ZqXKLKqcGkGft0TG65l096VwZOd/w+f7iaiLM5e/Ry/Blfj1dwk6z7sWNCizjHxaS6e3MFDFSxl80nVXG4teJ+wY5Fi+LBVNFji1VxclXcoB6UNjpcvtqo4bdWTFJiVuDQdn+Yh6IRRsZwOd+dPIMVo3OtrWXgjp696igq7jmTdh1uLJvDt7+/Awx1PblRWRC1Zt47jbr6ZRx57jBEjRuyQIKIQQog/T67OsZYTj+HhnjE30C+7N7qmU23WETD8XDnyPFI9KSS5/fGKqqEbjOqwGw+MuYld2g7CY7iJ2BHqzDoithkdEpDQ/VNDI9kdINkTwN0goPBHBTxJpHgCpLiT0TWdDF8qSa4kPIabgDuJZHcgnkwv1ZPCNSMvpE9WTzyGG1vZDG8ziDMGnUCaNwWv4YlVOje1J3kMDxMHjKdPVnd8Lg8R28RyLLyGh1qz8dzV3TI6c+WI88gL5KJrOiErTNgKYzk2VZFqFGCgEXFMIk50KIHbcJPsCeAxPPHlNZE6NtWHNLL8mZzQ90isWK8Ij+FmXK+DuGDo/202ltjQDM4fehq9Mrvi1l3YTrQXQMCVRJ0ZbFQ205dOv6xesaqAxtjOe5PsiQYvGtI1nRF5Q+iS1hHbcbhj5sPc/sNDzFj3IzWx10DXDP6795X0yuyOhkZhXTG2sjl94PHs1WEEye4kdE3HdqItk/UsZVEZqcbQdHZtN6TBmihd0wm4A6TEjqsoWEK1WYvP5eO4Pkcweb9JjYIGEdvk1+IFPPbLC1z8+Y2UhSrI9mdxzpBTmwwaEGsd26XtIJI9AfbrtBeGLmNxW7rfFi7k0x9/xLI3dTdvqXRdx+/1kpWaSm56OmnJyXjc7r8kaFAv0xXgwLRBpOnRYQlhxyTsWPg0N4ekDeHODseRllAR9utursk7jF0CXfHqbsKOScgxMZVFlRNExVrhI8rCo7lINqKVQ1PZ0UfCd92tGVzcZn8OSB2ET/eggFx3Kre3P4ZcdyrJsYqnoxSGppNpJPNwx1PYP3UgHt2FrRxCjknEsaJDwqyaRtv3aG5uaT+OIUmdcGk6EWXFjtemNlbJdWsG/87dh7Gp/fHrbmzl0MadxpV5h5DjSsWvu9E1MFV04ICpoj0Fkg0fHs0V64Vg0fjMorp72/Bgx5M4MHUgXs1NxLGotaMBlTIn2osBwKUZ3Nz+KPYI9MTQdOpUGLemc1GbA+jkySJg+HA3c63aOtFeAsm6l4DuxaNt/jvr0gxGp/TltvbH0M6djo2DpkG2K4Xr2h3B2NTGuWiyjGQe7HAyw/2d8WguLGXj1d0clj6UG9sdtVnQACDfk8nleYeQbUR7g5nKwsbBq7n+0mEZrYu8LkII0RpIj4MmVEaqiVgRspMy0dCojtTgNbyNehA0ZDoWJcEyQlaYFE8yWb70v/TmeGs5yqEsVIHt2OQmZePgUGsGcesuPLq7yYqjUorycCU14Vr8bj+Z/rT4LBKJbMemuK6UoBXGrRtkJWXgc/niLWNbKzE5oqHrFNeWku5Lw+facvIkpaKzHISsEEluPxm+9EZzwSuiAZKNtcVMnHYJleFKHt33doa2ic5y0ZSSYBnXfXMnswp/xVYOLt3gvCGncXL/o+NlFIryUCV1ZpBMfzpJLj9BK4SlbDy6u1EvBYDqSA3HvX8OFeFKXj/0MfJT28XX1XOUQ2WkmppwHREnQro3NToDRxOfrSVlK/i/j/9DrVmHrul0Tu3Af3Y5i5Hth27x9VcqOiQky5+x2VAN0fL8+9//pmTVKp6/+moCvs0rLaJpNg7VdpBqJ4QHF1nuFFy/EzdXKKrtEOV2LQpI1X2kuwJbTFb4e6qdINV2iCxXMm7NRY0dwtB0PLoLF8ZmW3ZwKDKrCToRfLqLbFcK7mZyDgCU27VU2dFAaYrhJ8OITmVbT6GosoPUOGFy3WkYaNTaYQxNw6O5MLTNj2Fb2DgUm9WElIlf95BtJDd5XalxQtQ5EbJdKeho1DghPJoLt+b6U/vfFgpFiVWDBmS6krf4vqrY7A/ldi25v/Me1DOVTaFZgaZpZBgBAvqWf7v+yZasW8v4m2/m0ccelx4HQgjRgkngQLQ4iYGD5gI228pybGrNOlZVruWGb+9hdeVa+uX04vH9JsWHSzRFEZ1q88eCn3lh3psU15VyaPf9OKX/788g0ZzyUCWHvzORZE8SLx780GbDJLbV0rIVXPX17QTcfg7rsT8HdR3zh4I2omWbOHEiZWvX8vJ115Hsl2ElQojWb97KlYy/6SaeevppCRwIIUQLJldn8Y+wqnIdp027hAkfnMOZn1zGuur1tEtuy13/ujY+PWVztNhQiF3zhvLAPrfw0iGPMKHvUYnFtklFuBLTMcn0pTc7M8K26JrRiZcOeZgnDriLw7sfIEEDIYQQrYLLMPB6vaSkpCSuEkII0YJI4EC0OC5Nx+vy4DU82y2JvOVYrKlaR0mwnBx/Fkf0OJB7xtxAbiCn2RwAiQxNx2N48Lm8jRIz/hHV4Rq6pneib1ZPvC5P4uptZmgGPpcXr+HFpRsSNBBCCNEqdM7P57knnqBnz55NDsUTQgjRMshQBdHihO0INZFaNE0jzZva5BjZbVUdqWVF5Wqy/ZkkuwMkuX24Y/Nt/x0idoSIY0UzdW+HHgfin+Hcc8+lbPVqnrniCvxeGTMthNgJuN3Qpw9I3hYhhGjRJHAghBCtxIply7AWLKBrTg4uo+kkpUII0apI4EAIIVqFP9+UK4QQ4i/RtXNnenbsJEEDIcROQymF4zSewloIIUTLI4EDIf4kRzlYjoWt7MRVQmxnWjRbpxBC7CTKK6t45fXXsW35DRVCiJZMAgeiSY5ysJWDjGTZMkc5fLTic06bdglP/voypmMmFhFi+9Fgu2UMFUKIv5lSimVrVjPpnnsoKiqSew4hhGjBJHAgNmM5Ns/Ne4Nbv7ufeaWLE1eLBhRQEixjYekyNtRsxJGbHrEDrV67lvnLl2Pb0q1XCNH6OUqxqqAA0zSlx4EQQrRwEjgQm3GUzXfrZ/HhiuksKVueuPofx1Y2NZFaglZIWkPE3+r+Bx7g9ueew7StxFVCCNH6KJCfVSGEaB0kcNBKmY5F2A4TssOE7QhKKUzHJGiFCFohIra5WSXXVg4RO9KgTARHbWq5dJQibEcIx5YrFJZjE4rtJ2SHMR0LRylUbHthOxJfBqBQ2MombEewHAulFEopLMdqsA0TW9mYjhU/FtPZdLzx7dpm9HlWmKAVImSFsZw/3iKhUPF9hqwQYTuM5ViNXoNECsXS8pVc9Pn1PDj76S3mMag/z6AVoq6J11eIP6uiooLq2losaZkTQuwMGoy80nW5JRVCiJZMpmNspSb/8iILy5ahUBiawWW7ns3UZf9j+uoZWI7F4Db9OGvQSeQmZUGs1Xx24Vw+XD6dBaVLQSn6ZPfg8B4HMDi3L7qmU1hbzJ0zH8VyLOYWL6Q6UkOXtA7kp7aL77drWifOHnwSLt3FTwW/8Oqi90ly+7h+t4vxubzYyuGLNd/xwfLPyE9pywVD/w8NeHDOM6ypXo9SkOT28e9BJ/Hhiul8sfo7QDGy3VDOGHQCqd4UVlSs4ZGfn6NnRle6Z3TmtYXvsbGmiPzU9hzabSz7dfkXLt3V4NXYOrayeX7eG3y++jvcuosMfxr9s3szIm8ovbO6YWibMtU3rPAvKl/OiVPPY/d2w7h79A14DDcAuqZjK4cX57/FI3OeY3THPeicls8Xa77FUYp+2b04osf+DMrpi6FLFnzx502cOJGytWt5+brrSPb7E1cLIUSrYjsOH373Pdc+9yxz585NXC2EEKIFMW688cYbExeKlu+l+e/wU+EvrKhcw5qq9VSEKnlr8QdUR2ooC5WzpGw55aFKRnXcDdB4a8mHXD/jLhaVLqPGrKUqUs2i0uV8svJLOqS2o1t6J9ZVF/DEry+xoWYjdWYQpRQ1Zi0ba4vZULORDTUb0YD9u4xC13RmF87l5QXvUBIs47g+h+Mx3NjK5tOVX/H+sk8ImmEO77EfaPDM3Nf4rXgRKypWs6FmIysqVvPRis+ps4IUB0v5rWQRSsGwNgNZU7WOR39+joLqQqYs+5jiujKqzBrWVW9gxvof6ZiaT5f0jujbmCTOcmzeXvIRczbOpaiulJUVa/mp4BemLv8fGd50+mb1QIttc27xQh6c/RRd0zvhN7y8tug9emZ2Y3jbQUxd/hmvL3yPvfJHoGs6c4sX8FPBLxTWbGRW4VzqrCDVZg0LSpfw0YrP6ZXZlU5p+WiSDl/8Se+99x7BqirG/etfeNzRAJYQQrRWuqbRoV07DjvlFNKzsxNXCyGEaEGkX1grdeXIc5m8/51keNOwHZuv1s3kvKETeeHgBzml37EoYPrqb3Ach7JgOa8umIJSikO678tzB97Pcwfez+E99sNRDm8t/pCwHaFbekeeO+h+nj7gHnpndselG0wccBwvHPxA/HHDHv/Ba3iA6LjE+qEIDSlANZiRwa27+e/eV/LcQffhd/kIWWEWlC7lomGn8/xBD3BMz0PQ0Phw+WfRIQux4Qrrazeya9shTN7/Dh4e+1+6p3fBtC2+XPvdHxoC4NJdnDdkIs8eeB9PH3APj+x7G/t3GYXC4aUFb1Nr1sXLPvLzs3y+5lsmfnQRl395K0opZhXO5ZQPL+S+WZOZWfBLo/IAYSfCcX2O4MVDHuLZA+/jXx12w1EOz897k6AZalRWiD9C13V0TYsHuIQQojVzHIc5ixZx5333Ja4SQgjRwkjgoJVqG8ilS1oHPLobTdPondGNY3odQreMTuzTaU+6pXciP6UdYSdCcbCUwrpiOqd14OLhZ9Ajows9MrpwxsATyfZnsrJiDRHbxGt46Zbeia7pHfG7fWiaTm5SFt3SO8cf7ZLboGvb9rHRNZ12yW3omt4ZQzOwlcOubQdzZM8D6ZrekQO7jaFrekfykts0ymFgaDpX73YBA3P6MLztICb0PQKFYl3Vhs2CFVtD1zTaJbehR0ZXemV2ZUibfpw/dCLtkttSXFdKYW1xvOyBXcZwQJfR5CRlsaR8BQpFeaiCWrOWXfOGcHSvgzervLVNyuX/Boyna1pHemZ05eR+43DpBksrVlIULG1UVog/4uyzz+aUw4+Q3gZCiJ2C7TjM+HUu38+cmbhKCCFEC7NtNUDRIumaxoDcPhi6Cw2NHpldeebAe3n6gLvxu3ysqFiD49g4yuHl+e/wxNxXeGLuK7yxeGosYWGIOjOYuNk/YcuVeg0YljcIn+FF03QG5PTmmQPv5fH9JhFwJ8XKaKR708hNykLXdFy6QcfU9igUISvyu/toSsSOsLJqLbd8dz8nTD2PQ94+hbM/vYriulIcHFZXrY2XPbLngVwx8lzOHHQSGhqGpkdf24yu3LjHfzhj0Amke1Mbbb9XVjd8Ll/0Hxp0SusQDZQ4NuuqChqVFeKPGD5sGEfsvx9uQ3JmCCFaP9txKK2qpHPnzomrhBBCtDASONgpaGR4U+Nj6N26i4A7iWRPAA2NmkgtClhesZrn57/B8/Ne5/l5r/PqwnepNetw6+5GmY0T/vG7EqvwtrPlqeJ0TSPZ5UfTokdsaAYpnmSS3H5cDZIIug13o2P5MzkCFIqpyz7j9GmX8uGKz1hXU0idGWRjXTEhOxwr06C8UswunMv9s55A13RO7n8MuUlZzC1ewKNznsdyzAalo/wuX4NeCFrsv+h2I3YkobQQf4zS9T/U40YIIVoa23FYWVBAhw4dElcJIYRoYSRwsBPQAK/L22y1uldW12g3/UAu946+kYfH/pdH9r0t+hh7G/ftcxNZvox4eU2LDi8ARVW4ptG2GqpPTlg/DWH93+Xhys2CCQ1pmh4LCvx1glaINxe/T2WkiiN7HMCHR7/Atye8x7SjX6ZH+uYtHSE7zAvz36I4WMrg3H6cPnACl+16Nrpm8MmqL/l+/ZzEpzSmFAW1RdjKwaUZdEvvmFhCiG3mKMXideuoDm7PHkJCCPH3CJsmqzdupHv37omrhBBCtDASOPgHyPFnkewOsLGuhNkb59E3qydDcvszJLc/g3L7MiC7D25j0/SGLt1FwO3HciymLP2YoBVExf5zlINCoWka2YFosCFoBVlavhLLsQhaIeaXLI4mTUThtJCW0ZAVps4K4dZcHNxtHzK8aSgUpaEyiuvKUCp2brHj9bm83D3qOvbvPIp7Rt9AktvPmE57clSPg7ht7yvZq8OuibuIUyhCdph3Fn+I6Zi0CWSTkyTZosWfV1dXxwW33srr06cnrhJCiFanoroav9/PgAEDElcJIYRoYTQlfV5bnYpwFffPepKiuhJmF/5GxInQLb0zbQM5DM7tz8n9jsbToEXfciwenvMsry18DweHrmmdyE7KRNcMwnaYkXlDOXXAsY2GAry1+APu/vFxLGXRPb0L2f5MADRN47a9ryTZE6A8WMFh70wkaAXJScqmY2p7ykOVVIWrKaorwefyMiJvCGcPOYVnfnuNWrOOHzbMwVY2vTO7k5uUzaDcfpw2YHx8vwCzCudy1ieX0yaQw5Qjn4mfy88b53Hax5fQLa0zrxz6MJ7Y7A5bI2xH+L9pl7CobBltknIYmNOHiGMyv2QxjqMoC1fQISWPjqntuWf0Dbh0F45ycJSDpmkYWnQIRcSOYGgGRmxIha0cXpz/Fo/MeY6spEyG5vQjbIdZX7uRZeWr8Bhubt/7avbM3xVjG5NKCpEoFApxyimnkOty8eAFF2yWoFMIIVoTyzAoys4mIzcXv9+fuFoIIUQLIjWZVshyLH4pms/swt8A8Oge1lZt4KeCX/l143wUjacqdOkuzhx0AqcPmkDbQC6rqtbyY8HP/LBhFj9vnMfS8pWbjZk+uNtYDuu+H8nuACsqVzOz4Gd+LPyZeSWLKKorjSYv9KXxn13OItWbQlmogl+LFmA7Nkf0PACvy4OjHOYWL6QmUsvswrn8VPArhmbg0T2sqFjDTwW/8OvGeY32S2w2BZ/Li8fw0LBepOs6PqN++bZVmDyGm/OH/R9d0zpTEizn8zXfMmPdT7RLbsu+XfbGY7jZULOR2Rt/i/eSiCZldMWDBtHteOJBA2LDRNy6G4/hoixYzmdrZjBj/U+srdpAv+xe3LTnZezWbqgEDcR24Xa7adeuHRtKSghFJG+GEKJ1c6Wk0K5DBwkaCCFEKyA9Dlohy7GoMeuI2E0n6PO7vLj0TUMP6tUPJagK17Cqci1BK0ROIJsuqfkkewKbTbMYtiPUmnUsK19Fdbgat+6mY1o+bQM5+FxeiLW4V4erWVaxGlB0z+iCBmyo3YhX95DqScHr8mA5NmZC0kQNDY/hJs2b0mh5yApTY9bGgxP1le6QHaY6XIOhG6R5UxpV6LeGrRzqzCAbagoprCkiJymLzmkdqDFrKQ9X4tHdJLmSyE3K2urAhFKKarOGddUFlNaVE7RCZCVl0CGlHcnuAD6Xd7PXVYg/45lnnuGpxx7j3VtuoU1mtCeQEEK0OpoGnTtDdnb0byGEEC2aBA6EEKIVWblyJeOPOYarj5/AEXvtmbhaCCFaBdPjRevVE8PXcEYiIYQQLZU0hQohRCvSvn17LrrwQjq3a5e4SgghWgVbKSZ/9AHPv/wyjtN4eKUQQoiWSQIHQgjRirjdbo47/ngGjhyZuEoIIVqFlZWVvDTlPaqqq6W3gRBCtBISOBBCiFZE0zR0lwu9XR54o7lGhBCitbCTAjz1ySeg6xx55JHoutyKCiFEayBXayGEaI08HlS7dpRVV2NaFpKtRgjRomkaluFiyuxZfPS//3HOOefQvn37xFJCCCFaKAkcCCFEa6RpVLndHH3jjbzxxReEIuHNplUVQogWQdPA48Hp0Z0nXnmFQYMGMW7cONxud2JJIYQQLZRx44033pi4UAghRMvn8XgoKi3l0ZdeoriigqE9e+I2DOn6K4RoGTQNdB0yMqFLF5TPS15eHieffDJpaWmS30AIIVoRmY5RCCFaMdu2efTRR3nh+ecJuFxcc/LJ7DN0qAQPhBB/L02D5GTIy4O0tOi/hRBCtFoSOBBCiFbOsiwKCgq49tprWfDbb/zv4YdJj3UBVo6DoxSO46DrOhqgxf7fkKNUdKiDUtEEjE0EHhylUA2nTtM0dE3brNWw4bbiRXUdfQvl6v/WdR2XYTQu5zhYtk3DHytd0zAMo9E2HaWwHafR9G4aGoahYzQ4HxV7zZyGxwfR7el6/HyUUliWhYr9TSw5paZpuF2uTduL7dc0TVSDozR0A5fL1Wjflm3H9t34GD1uN0aD83Ych4hpNlmu4TE6joNpWdiOEzuz+nM28DToBq6UwrJtTMuMLwNwGS5cCb1UTMuKvt7xfUff5/p9E9ue4zhELLPREBlN0/C43NFz1jRQ4Kj6c9n0mdBi758n4XU0Y69PQ25X9Bgbfs4iloVt2432ret69Bjr378Gr+Nm5VyuRufsOA6W42w23Kepz5ntONgJZXVNw9D1Rtusf80bfs4A3IbR6DuoYgFAx3Hinx4tdpxNfxccNC32Waz/TCZ8p1XsO9XoOxj77G72fU0879i5JFKxa8OWOEphA1YgmQLH4bHnn6Nd+/ace955eDyexOJCCCFaEQkcCCHETsC2bYLBIGVlZXTIy0MLR8CMECov57IbbqCotDRaoTN0Uvx+OuXlcfYRRzB78RLe+uJzwqZJMBxGKfB5PZw/fjwDe/aK1mA0jVXrN3D3889RWVMb36emwV7DhnHa0UdjGC7QIBgKM2nyZFauXduoot82J4frL7qIlORk0DRsx+HORx9h0bJlOI4iYpkEQ2HaZGcz+d670WMVJsuyeeXNN3nrww8bVW4C/iRuufoqevToEW/JnP3zz9z14EMEQ6F4OU2D48aN49ijj45X6goKC7niuuuorKqqL4WmaQwdPIgrL70Ujyc6W0XEjHD2+RdQWl4Wr39pGqQEknnx2Wfrd4FpmTz+xBO8PXVqo4p+anIKTz78MHlt8+LL3pkyhceeeZpwJBxfpus6N199DXvtsSeapqGUw8+//Mrl119HxIzEyxm6wf+ddBLHH3ts9PUGQqEQp5x1JoUbN8aDFpqmkZeTy2svvBh/bsSMcOukSXzz/ffxZQBZGRm88NRTJPmT4svue+hBPvz0U2zbji/zeb0889hj8XNxHJv3P/yIh5+Y3KicYRj8e+JEjjrscHRj0+v974supLyiMl5O1zT69+7Nw/fcE18WDoe55KqrmLdo0abPjlJ079SJR++7D1/9LCJKccpZZ7GqoCAeyNI0jYy0NF578sl4Odu2ePnNt3j+jTcbBUzcbjc3X3opu++yS6wirJi3cBE33X03EbNx0CItJZl7b7yR7MzMWFxG8dp77/H61Kk4zqbPo8vQuWDiRP41on6aVMXKNWu59p67qakLxssB7DF0CBefdhpulxtQmKbJpbffzsr16xsFqNrn5vLoDTfGG+ojpslDL77IV7Nm4fN48LqjFfGs9DRuu/BCknz++D7e+PhjPprxDba96fPochlcetLJ9OvWDWKBgN+WLuWBV18lYm56fXRd46QDD2T0sGHxYFYoHObyhx6Kl4mW0xnZfwDHHX4Y+HyENY37J09mzsKFlFZWUllVRSA5mdNOO40JEybgahAkEkII0fpI4EAIIXZikUiEt958kx9mzqS2tpZIJFoRbd+uHTdcdx3Tp0/n9bfeavQcj8fDRRdcwIB+/aMLNFi9eg133HUn1TU18XJer5fRo0Zx/PjxsUq5Rigc4oEHH2L9hvWbNgi0bdOGiy66iCR/tHLjOA7PvfACv/76a6PKUocOHbjk4ovjlXzbtpn544+8+eabjSqoycnJXHLJJWRnZ8eXrVu7lnfefXezFutRo0YxePDg+Darq6t55ZVXqK3dFAQB6Nu3L2PHjo1XcCzL4pVXXqGkpKRRuY4dO3L00UfH/23bNr/++itff/11o94O6enpHH/88fhj5wywYsUKpk2bRjjcOHBwzDHH0K5du1jgQFFWVsZbb73V6Bi9Xi8HHnggnTt3jp+LaZpMmTKFtWvXxssB9OvXj/333z/+b8uyWLBgAcuWLWtULikpidGjR+NtMLXnypUr+eWXXxoFajweD6NHjyYQCEDs/Vu/fj2zZ89udM66rjNs2DDat28fP8ba2lreeecdiouL4+U0TWP33XdnxIgR8WWmaTJ9+nQWLFgQX0bsfRkzZkyjFusvvvhis2PMzMzkhBNOiCbci/WIWLxkCR9//HGjcoZhcMwxx5DXtm28Bb24uJjXXn8ds0EFGiAtLY3xxx5LcnJyfNmCBQv45NNPN+vFcNihh9K1S5f4spLSUt586y2CwcaBg2FDh7LHHnvEexPYts3kJ55g8ZIljb4LvXv14t9nnRXvSWDZNu+88w4zvvuuwdYgNyeHS//zn02BFWD6558z9cMPG703hmFw9lln0bN7DwAUisVLlnDPffcRahBscxkGE44/nn1Gj46/hxHT5LwLL2x0LrquM3LECM4+6yzQNEzL4rbbb6e4uJjOnTszcuRIBgwYQFJSEi6X63d7KwghhGjZJHAghBD/ACrW7b6+ImEYRrw1sT6YUE/X9c1u9JVS2La9WeuykdCFXAjRupim2Xh4j6bhdrs3+/43vH7Ul3MlDPmovz40HHYjhBBi5yCBAyGEEEIIIYQQQjRr8+w3QgghhBBCCCGEEDESOBBCCCGEEEIIIUSzJHAghBBCCCGEEEKIZkngQAghhBBCCCGEEM2SwIEQQgghhBBCCCGaJYEDIYQQQgghhBBCNEsCB0IIIYQQQgghhGiWBA6EEEIIIYQQQgjRLAkcCCGEEEIIIYQQolkSOBBCCCGEEEIIIUSzJHAghBBCCCGEEEKIZkngQAghhBBCCCGEEM2SwIEQQgghhBBCCCGaJYEDIYQQQgghhBBCNEsCB0IIIYQQQgghhGiWBA6EEEIIIYQQQgjRLAkcCCGEEEIIIYQQolkSOBBCCCGEEEIIIUSzJHAghBBCCCGEEEKIZkngQAghhBBCCCGEEM2SwIEQQgghhBBCCCGaJYEDIYQQQgghhBBCNEsCB0IIIYQQQgghhGiWBA6EEEIIIYQQQgjRLAkcCCGEEEIIIYQQolkSOBBCCCGEEEIIIUSzJHAghBBCCCGEEEKIZkngQAghhBBCCCGEEM2SwIEQQgghhBBCCCGaJYEDIYQQQgghhBBCNEsCB0IIIYQQQgghhGiWBA6EEEIIIYQQQgjRLAkcCCGEEEIIIYQQolkSOBBCCCGEEEIIIUSzJHAghBBCCCGEEEKIZkngQAghhBBCCCGEEM2SwIEQQgghhBBCCCGaJYEDIYQQQgghhBBCNEsCB0IIIYQQQgghhGiWBA6EEEIIIYQQQgjRLAkcCCGEEEIIIYQQolkSOBBCCCGEEEIIIUSzJHAghBBCCCGEEEKIZkngQAghhBBCCCGEEM2SwIEQQgghhBBCCCGaJYEDIYQQQgghhBBCNEsCB0IIIYQQQgghhGiWBA6EEEIIIYQQQgjRLAkcCCGEEEIIIYQQolkSOBBCCCGEEEIIIUSzJHAghBBCCCGEEEKIZkngQAghhBBCCCGEEM36f5d1q4I66UIkAAAAAElFTkSuQmCC)"
      ],
      "metadata": {
        "id": "KEVPt1ZT8Wi8"
      }
    },
    {
      "cell_type": "code",
      "source": [
        "%%capture --no-stderr\n",
        "%pip install --quiet -U langchain-google-genai langchain_core langgraph"
      ],
      "metadata": {
        "id": "a7uzhIFI8-Ue"
      },
      "execution_count": 9,
      "outputs": []
    },
    {
      "cell_type": "code",
      "source": [
        "from google.colab import userdata\n",
        "gemini_api_key = userdata.get('GEMINI_API_KEY')"
      ],
      "metadata": {
        "id": "V4s1z5oD9ERU"
      },
      "execution_count": 10,
      "outputs": []
    },
    {
      "cell_type": "code",
      "source": [
        "from langchain_google_genai import ChatGoogleGenerativeAI\n",
        "\n",
        "llm: ChatGoogleGenerativeAI = ChatGoogleGenerativeAI(model=\"gemini-1.5-flash\", api_key=gemini_api_key)"
      ],
      "metadata": {
        "id": "eVmU8EhT9Gj9"
      },
      "execution_count": 11,
      "outputs": []
    },
    {
      "cell_type": "markdown",
      "source": [
        "## Tool Calling"
      ],
      "metadata": {
        "id": "MvwgMWJA9IFD"
      }
    },
    {
      "cell_type": "code",
      "source": [
        "print(\"\\n\\nllm\\n\", llm, \"\\n\\n\\n\")"
      ],
      "metadata": {
        "colab": {
          "base_uri": "https://localhost:8080/"
        },
        "id": "DFI3J1TF9OCb",
        "outputId": "b14295fa-d258-4377-b9c8-7edd7cf07811"
      },
      "execution_count": 12,
      "outputs": [
        {
          "output_type": "stream",
          "name": "stdout",
          "text": [
            "\n",
            "\n",
            "llm\n",
            " model='models/gemini-1.5-flash' google_api_key=SecretStr('**********') client=<google.ai.generativelanguage_v1beta.services.generative_service.client.GenerativeServiceClient object at 0x7bf089baa5c0> default_metadata=() \n",
            "\n",
            "\n",
            "\n"
          ]
        }
      ]
    },
    {
      "cell_type": "code",
      "source": [
        "def deposit_money(name: str, bank_account_no: int) -> int:\n",
        "    \"\"\"Deposit Money in Bank account.\n",
        "\n",
        "    Args:\n",
        "        name: first str\n",
        "        bank_account_no: second int\n",
        "    \"\"\"\n",
        "    # BUSINESS LOGIC for Bank Deposit\n",
        "    # ......\n",
        "    return {\"status\": f\"Deposit Successfule in {name} Account\"}"
      ],
      "metadata": {
        "id": "sA_ro3Bu9T5U"
      },
      "execution_count": 13,
      "outputs": []
    },
    {
      "cell_type": "code",
      "source": [
        "llm_with_tools = llm.bind_tools([deposit_money])"
      ],
      "metadata": {
        "id": "xvUUrfGf9Yr0"
      },
      "execution_count": 14,
      "outputs": []
    },
    {
      "cell_type": "code",
      "source": [
        "llm_with_tools"
      ],
      "metadata": {
        "colab": {
          "base_uri": "https://localhost:8080/"
        },
        "id": "SfAXUBQp9b3b",
        "outputId": "21e5bae0-b249-451f-fbe5-4b44bd5e25fb"
      },
      "execution_count": 15,
      "outputs": [
        {
          "output_type": "execute_result",
          "data": {
            "text/plain": [
              "RunnableBinding(bound=ChatGoogleGenerativeAI(model='models/gemini-1.5-flash', google_api_key=SecretStr('**********'), client=<google.ai.generativelanguage_v1beta.services.generative_service.client.GenerativeServiceClient object at 0x7bf089baa5c0>, default_metadata=()), kwargs={'tools': [{'type': 'function', 'function': {'name': 'deposit_money', 'description': 'Deposit Money in Bank account.', 'parameters': {'properties': {'name': {'description': 'first str', 'type': 'string'}, 'bank_account_no': {'description': 'second int', 'type': 'integer'}}, 'required': ['name', 'bank_account_no'], 'type': 'object'}}}]}, config={}, config_factories=[])"
            ]
          },
          "metadata": {},
          "execution_count": 15
        }
      ]
    },
    {
      "cell_type": "code",
      "source": [
        "from langchain_core.messages import HumanMessage"
      ],
      "metadata": {
        "id": "SQb5xNF19fi7"
      },
      "execution_count": 16,
      "outputs": []
    },
    {
      "cell_type": "code",
      "source": [
        "call = llm.invoke(\n",
        "    [HumanMessage(content=f\"Deposit Money in Rizwan Account. His acc number is 00123\", name=\"Muhammad\")])\n",
        "call"
      ],
      "metadata": {
        "colab": {
          "base_uri": "https://localhost:8080/"
        },
        "id": "0qvYO-t39h1Z",
        "outputId": "bf3b4de1-3814-4efc-ba0d-1bdfa38631da"
      },
      "execution_count": 18,
      "outputs": [
        {
          "output_type": "execute_result",
          "data": {
            "text/plain": [
              "AIMessage(content=\"I cannot directly deposit money into a bank account.  I am a large language model, and I don't have the capability to interact with financial systems.  To deposit money into Rizwan's account, you will need to use a bank's online system, mobile app, or visit a branch in person.  You'll need more information than just the account number, such as the bank name and potentially other identifying information.\", additional_kwargs={}, response_metadata={'prompt_feedback': {'block_reason': 0, 'safety_ratings': []}, 'finish_reason': 'STOP', 'safety_ratings': []}, id='run-26d3fe91-278b-4499-8713-ed093c009470-0', usage_metadata={'input_tokens': 18, 'output_tokens': 90, 'total_tokens': 108, 'input_token_details': {'cache_read': 0}})"
            ]
          },
          "metadata": {},
          "execution_count": 18
        }
      ]
    },
    {
      "cell_type": "code",
      "source": [
        "call = llm_with_tools.invoke(\n",
        "    [HumanMessage(content=f\"Deposit Money in Rizwan Account. His acc number is 00123\", name=\"Muhammad\")])\n",
        "call"
      ],
      "metadata": {
        "colab": {
          "base_uri": "https://localhost:8080/"
        },
        "id": "O_TDmFJB9ymE",
        "outputId": "3a111a81-9df5-4db5-daea-12372255bbfa"
      },
      "execution_count": 20,
      "outputs": [
        {
          "output_type": "execute_result",
          "data": {
            "text/plain": [
              "AIMessage(content='', additional_kwargs={'function_call': {'name': 'deposit_money', 'arguments': '{\"bank_account_no\": 123.0, \"name\": \"Rizwan\"}'}}, response_metadata={'prompt_feedback': {'block_reason': 0, 'safety_ratings': []}, 'finish_reason': 'STOP', 'safety_ratings': []}, id='run-1da827e6-3131-4813-b1b7-e34a3f396929-0', tool_calls=[{'name': 'deposit_money', 'args': {'bank_account_no': 123.0, 'name': 'Rizwan'}, 'id': '4cce5327-cd67-4721-9772-8c1eafe82443', 'type': 'tool_call'}], usage_metadata={'input_tokens': 77, 'output_tokens': 11, 'total_tokens': 88, 'input_token_details': {'cache_read': 0}})"
            ]
          },
          "metadata": {},
          "execution_count": 20
        }
      ]
    },
    {
      "cell_type": "markdown",
      "source": [
        "## Building Graph"
      ],
      "metadata": {
        "id": "rbnMy-f997-r"
      }
    },
    {
      "cell_type": "code",
      "source": [
        "# We have an LLM Capable of Tool Calling: using bind_tools\n",
        "\n",
        "# Now Lets do the Orchestration Through LangGraph\n",
        "\n",
        "# 0.  State\n",
        "\n",
        "from typing_extensions import TypedDict\n",
        "\n",
        "class LlmWithToolSState(TypedDict):\n",
        "  messages: list\n",
        "\n",
        "# 1. tool calling llm ki Node\n",
        "\n",
        "def call_llm(state: LlmWithToolSState):\n",
        "  messages = state[\"messages\"]\n",
        "  call_response = llm_with_tools.invoke(messages)\n",
        "  # messages.append(call_response)\n",
        "\n",
        "  # return {\"messages\": messages}\n",
        "  return {\"messages\": [call_response]}\n",
        "\n",
        "# 2. Graph\n",
        "\n",
        "from langgraph.graph import StateGraph, START, END\n",
        "\n",
        "builder: StateGraph = StateGraph(LlmWithToolSState)\n",
        "\n",
        "# define nodes\n",
        "builder.add_node(\"call_llm_with_tools\", call_llm)\n",
        "\n",
        "# define edges\n",
        "builder.add_edge(START, \"call_llm_with_tools\")\n",
        "builder.add_edge(\"call_llm_with_tools\", END)\n",
        "\n",
        "# build graph\n",
        "graph = builder.compile()"
      ],
      "metadata": {
        "id": "oKxExryp9_Ly"
      },
      "execution_count": 21,
      "outputs": []
    },
    {
      "cell_type": "code",
      "source": [
        "from IPython.display import display, Image\n",
        "\n",
        "display(Image(graph.get_graph().draw_mermaid_png()))"
      ],
      "metadata": {
        "colab": {
          "base_uri": "https://localhost:8080/",
          "height": 251
        },
        "id": "UWEgeSsT-NET",
        "outputId": "f9c74cd7-8efd-4dd4-ff5e-5aa28873736d"
      },
      "execution_count": 22,
      "outputs": [
        {
          "output_type": "display_data",
          "data": {
            "image/png": "[encoded data removed]",
            "text/plain": [
              "<IPython.core.display.Image object>"
            ]
          },
          "metadata": {}
        }
      ]
    },
    {
      "cell_type": "code",
      "source": [
        "graph.invoke({\"messages\": [HumanMessage(content=\"Hi\")]})"
      ],
      "metadata": {
        "colab": {
          "base_uri": "https://localhost:8080/"
        },
        "id": "LkMbySS7-PvL",
        "outputId": "6847ea09-4492-4b87-fa5a-591516774360"
      },
      "execution_count": 23,
      "outputs": [
        {
          "output_type": "execute_result",
          "data": {
            "text/plain": [
              "{'messages': [AIMessage(content='Hello! How can I help you today?', additional_kwargs={}, response_metadata={'prompt_feedback': {'block_reason': 0, 'safety_ratings': []}, 'finish_reason': 'STOP', 'safety_ratings': []}, id='run-03113202-309e-4f80-944f-7cd0a58d6cbf-0', usage_metadata={'input_tokens': 61, 'output_tokens': 10, 'total_tokens': 71, 'input_token_details': {'cache_read': 0}})]}"
            ]
          },
          "metadata": {},
          "execution_count": 23
        }
      ]
    },
    {
      "cell_type": "code",
      "source": [
        "\n",
        "graph.invoke({\"messages\": [HumanMessage(content=\"Deposiut 7000 in Rizwan Account - his bank num is 001\")]})"
      ],
      "metadata": {
        "colab": {
          "base_uri": "https://localhost:8080/"
        },
        "id": "duGC3r9p-SN6",
        "outputId": "0d8c644d-b058-4101-e9f4-bf7d4bed78c5"
      },
      "execution_count": 24,
      "outputs": [
        {
          "output_type": "execute_result",
          "data": {
            "text/plain": [
              "{'messages': [AIMessage(content='', additional_kwargs={'function_call': {'name': 'deposit_money', 'arguments': '{\"bank_account_no\": 1.0, \"name\": \"Rizwan\"}'}}, response_metadata={'prompt_feedback': {'block_reason': 0, 'safety_ratings': []}, 'finish_reason': 'STOP', 'safety_ratings': []}, id='run-8628caf1-d37b-4666-ae29-04afd131857e-0', tool_calls=[{'name': 'deposit_money', 'args': {'bank_account_no': 1.0, 'name': 'Rizwan'}, 'id': 'da258eac-14b8-4832-9891-e71fc7c99a94', 'type': 'tool_call'}], usage_metadata={'input_tokens': 81, 'output_tokens': 11, 'total_tokens': 92, 'input_token_details': {'cache_read': 0}})]}"
            ]
          },
          "metadata": {},
          "execution_count": 24
        }
      ]
    },
    {
      "cell_type": "markdown",
      "source": [
        "## Current Flow\n",
        "\n",
        "- LLM: Call this Tool\n",
        "- System: Called Tool and told LLM the result.\n",
        "\n",
        "**Issue ??: Where is my Human Message**\n",
        "Right now in response we only have AIMessage\n",
        "\n",
        "**Solutions:**\n",
        "- Proposal 1: manually Add Messages in call_llm using llm\n",
        "- Proposal 2: Reducer Functions to Keep History Context"
      ],
      "metadata": {
        "id": "QV3pdbWk-kBC"
      }
    }
  ]
}