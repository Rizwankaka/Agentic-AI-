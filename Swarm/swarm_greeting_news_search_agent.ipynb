{
  "nbformat": 4,
  "nbformat_minor": 0,
  "metadata": {
    "colab": {
      "provenance": [],
      "authorship_tag": "ABX9TyNWDqgvZw5M+2818IOOd6vJ",
      "include_colab_link": true
    },
    "kernelspec": {
      "name": "python3",
      "display_name": "Python 3"
    },
    "language_info": {
      "name": "python"
    }
  },
  "cells": [
    {
      "cell_type": "markdown",
      "metadata": {
        "id": "view-in-github",
        "colab_type": "text"
      },
      "source": [
        "<a href=\"https://colab.research.google.com/github/Rizwankaka/Agentic-AI-/blob/main/Swarm/swarm_greeting_news_search_agent.ipynb\" target=\"_parent\"><img src=\"https://colab.research.google.com/assets/colab-badge.svg\" alt=\"Open In Colab\"/></a>"
      ]
    },
    {
      "cell_type": "markdown",
      "source": [
        "# Greeting/News Search Agent by Swarm (OpenAI)"
      ],
      "metadata": {
        "id": "ucK9n-uBTKla"
      }
    },
    {
      "cell_type": "code",
      "execution_count": 2,
      "metadata": {
        "colab": {
          "base_uri": "https://localhost:8080/"
        },
        "id": "-AhD_3eSNyo6",
        "outputId": "dcf99ab0-26ca-4b9e-8224-51b66b08483b"
      },
      "outputs": [
        {
          "output_type": "stream",
          "name": "stdout",
          "text": [
            "  Installing build dependencies ... \u001b[?25l\u001b[?25hdone\n",
            "  Getting requirements to build wheel ... \u001b[?25l\u001b[?25hdone\n",
            "  Preparing metadata (pyproject.toml) ... \u001b[?25l\u001b[?25hdone\n"
          ]
        }
      ],
      "source": [
        "%pip install -qU git+https://github.com/openai/swarm.git requests"
      ]
    },
    {
      "cell_type": "markdown",
      "source": [
        "* swarm: A library for creating and managing multiple AI agents.\n",
        "* requests: A library for making HTTP requests, which we'll use to interact with APIs."
      ],
      "metadata": {
        "id": "kYtlkT_zOF_X"
      }
    },
    {
      "cell_type": "code",
      "source": [
        "# Set the API keys as environment variables\n",
        "from google.colab import userdata\n",
        "import os\n",
        "os.environ['OPENAI_API_KEY'] = userdata.get('OPENAI_API_KEY')\n",
        "os.environ['NEWS_API_KEY'] = userdata.get('NEWS_API_KEY')"
      ],
      "metadata": {
        "id": "ylAmsU85OoM9"
      },
      "execution_count": 3,
      "outputs": []
    },
    {
      "cell_type": "code",
      "source": [
        "# Access the API key\n",
        "news_api_key = os.getenv('NEWS_API_KEY')"
      ],
      "metadata": {
        "id": "3szP4UEPSpdC"
      },
      "execution_count": 24,
      "outputs": []
    },
    {
      "cell_type": "code",
      "source": [
        "# Import required libraries\n",
        "from swarm import Swarm, Agent\n",
        "import requests\n",
        "from IPython.display import display, Markdown"
      ],
      "metadata": {
        "id": "Ugd9bGVSO7Bt"
      },
      "execution_count": 4,
      "outputs": []
    },
    {
      "cell_type": "markdown",
      "source": [
        "## Agent 1 - Greeting Agent\n",
        "We will define our first agent, the Greeting Agent, which will greet the user and tell a joke."
      ],
      "metadata": {
        "id": "7Fu_sYCUPHY5"
      }
    },
    {
      "cell_type": "code",
      "source": [
        "# Define the Greeting Agent\n",
        "greeting_agent = Agent(\n",
        "    name=\"Greeting Agent\",\n",
        "    instructions=\"You are a friendly assistant that greets the user and tells a joke.\",\n",
        ")"
      ],
      "metadata": {
        "id": "Krip2T9EPEnf"
      },
      "execution_count": 11,
      "outputs": []
    },
    {
      "cell_type": "markdown",
      "source": [
        "* **name**: Identifies the agent.\n",
        "* **Instructions**: Provides the agent with context on how to respond."
      ],
      "metadata": {
        "id": "Yo8VCt8YPRoG"
      }
    },
    {
      "cell_type": "markdown",
      "source": [
        "## Agent 2 - News Agent\n",
        "Next, we define the News Agent, which fetches the latest news headlines."
      ],
      "metadata": {
        "id": "t5nwmOkxPXCB"
      }
    },
    {
      "cell_type": "code",
      "source": [
        "def fetch_news(country=\"us\", category=None):\n",
        "    \"\"\"\n",
        "    Fetches the top news headlines for a given country and category.\n",
        "\n",
        "    Args:\n",
        "        country (str): The country code (default is \"us\").\n",
        "        category (str): The news category (optional).\n",
        "\n",
        "    Returns:\n",
        "        str: A string containing the top news headlines or an error message.\n",
        "    \"\"\"\n",
        "    base_url = \"https://newsapi.org/v2/top-headlines\"\n",
        "    params = {\n",
        "        \"country\": country,\n",
        "        \"apiKey\": news_api_key\n",
        "    }\n",
        "\n",
        "    # Add a category if provided\n",
        "    if category:\n",
        "        params[\"category\"] = category\n",
        "\n",
        "    # Make a GET request to the News API\n",
        "    response = requests.get(base_url, params=params)\n",
        "    data = response.json()\n",
        "\n",
        "    # Check if the request was successful\n",
        "    if response.status_code == 200 and 'articles' in data:\n",
        "        # Extract the titles of the first 10 articles\n",
        "        headlines = [article['title'] for article in data['articles'][:10]]\n",
        "        return f\"Here are the top news for {country.upper()} ({category or 'all categories'}):\\n\" + \"\\n\".join(headlines)\n",
        "    else:\n",
        "        # Return an error message if the request failed\n",
        "        return f\"Sorry, I couldn't fetch the news at the moment: {data.get('message', 'Unknown error')}\""
      ],
      "metadata": {
        "id": "tI-CK5XRPkxL"
      },
      "execution_count": 17,
      "outputs": []
    },
    {
      "cell_type": "markdown",
      "source": [
        "This function uses the News API to fetch the latest headlines based on the specified country and category."
      ],
      "metadata": {
        "id": "_R-mZHKcQAon"
      }
    },
    {
      "cell_type": "code",
      "source": [
        "# Define the News Agent\n",
        "news_agent = Agent(\n",
        "    name=\"News Agent\",\n",
        "    instructions=\"You provide the top news headlines for a given country and category.\",\n",
        "    functions=[fetch_news]\n",
        ")"
      ],
      "metadata": {
        "id": "SFg_6ia-QDZk"
      },
      "execution_count": 18,
      "outputs": []
    },
    {
      "cell_type": "markdown",
      "source": [
        "* **Functions**: List of functions that the agent can use to perform tasks."
      ],
      "metadata": {
        "id": "RQ8ay-h7QGLE"
      }
    },
    {
      "cell_type": "markdown",
      "source": [
        "## Orchestrating the agents\n",
        "We define how the main agent will delegate tasks to specialized agents."
      ],
      "metadata": {
        "id": "vIBJyH9NQIcn"
      }
    },
    {
      "cell_type": "code",
      "source": [
        "# Define function that transfers the task to the agent\n",
        "def transfer_to_agent(agent_name):\n",
        "  agents = {\n",
        "      \"Greeting Agent\": greeting_agent,\n",
        "      \"News Agent\": news_agent\n",
        "  }\n",
        "  return agents[agent_name]"
      ],
      "metadata": {
        "id": "F74Kx_rmQNyl"
      },
      "execution_count": 19,
      "outputs": []
    },
    {
      "cell_type": "markdown",
      "source": [
        "* **Functionality**: Returns the agent instance based on the provided agent name.\n",
        "* **Usage**: The main agent will use this function to transfer control to the appropriate agent."
      ],
      "metadata": {
        "id": "LSyqgUwGQSbX"
      }
    },
    {
      "cell_type": "code",
      "source": [
        "# Define the Main AI Agent\n",
        "main_agent = Agent(\n",
        "    name = \"Main Agent\",\n",
        "    instructions = \"\"\"\n",
        "    You are the main assistant.\n",
        "    BAsed on the user's request, you decide which specialized agent should handle the task.\n",
        "    - If the user wants a greeting or a joke, transfer to the Greeting Agent.\n",
        "    - If the user wants to fetch the news, transfer to the News Agent.\n",
        "    \"\"\",\n",
        "    functions = [transfer_to_agent]\n",
        ")"
      ],
      "metadata": {
        "id": "PThwPys4QUkF"
      },
      "execution_count": 20,
      "outputs": []
    },
    {
      "cell_type": "markdown",
      "source": [
        "* **Instructions**: Guides the main agent on how to delegate tasks.\n",
        "* **Functions**: Includes the transfer_to_agent function to enable delegation."
      ],
      "metadata": {
        "id": "u83ozD60QZ3x"
      }
    },
    {
      "cell_type": "markdown",
      "source": [
        "## Start the Connection to the OpenAI API"
      ],
      "metadata": {
        "id": "k7AgogKQQb_k"
      }
    },
    {
      "cell_type": "markdown",
      "source": [
        "We initialize the Swarm client, which handles communication with the OpenAI API and manages the agents."
      ],
      "metadata": {
        "id": "OlTy6yZzQfdv"
      }
    },
    {
      "cell_type": "code",
      "source": [
        "# Start the connection the OpenAI API\n",
        "client = Swarm()"
      ],
      "metadata": {
        "id": "yvnZK9JCQhAG"
      },
      "execution_count": 21,
      "outputs": []
    },
    {
      "cell_type": "markdown",
      "source": [
        "We simulate a user interaction with the main agent."
      ],
      "metadata": {
        "id": "lT8OUSjpQkbU"
      }
    },
    {
      "cell_type": "code",
      "source": [
        "# Run the application\n",
        "response = client.run(\n",
        "    agent = main_agent,\n",
        "    messages = [{\"role\": \"user\",\n",
        "                 \"content\": \"good morning\"}]\n",
        ")\n",
        "print(display(Markdown(response.messages[-1]['content'])))"
      ],
      "metadata": {
        "colab": {
          "base_uri": "https://localhost:8080/",
          "height": 65
        },
        "id": "uBCHB2jiQmXT",
        "outputId": "2e37b7be-ec42-4c25-e7cd-e691b9a5acf9"
      },
      "execution_count": 12,
      "outputs": [
        {
          "output_type": "display_data",
          "data": {
            "text/plain": [
              "<IPython.core.display.Markdown object>"
            ],
            "text/markdown": "Good morning! How are you today? Would you like to hear a joke to start your day with a smile?"
          },
          "metadata": {}
        },
        {
          "output_type": "stream",
          "name": "stdout",
          "text": [
            "None\n"
          ]
        }
      ]
    },
    {
      "cell_type": "markdown",
      "source": [
        "* **Agent**: We specify the main_agent as the agent to handle the interaction.\n",
        "* **Messages**: We pass a list of messages, starting with the user's input \"good morning\".\n",
        "* **Response Handling**: We display the assistant's response in Markdown format for better readability."
      ],
      "metadata": {
        "id": "vIqSG8x5QzRW"
      }
    },
    {
      "cell_type": "code",
      "source": [
        "response.agent"
      ],
      "metadata": {
        "colab": {
          "base_uri": "https://localhost:8080/"
        },
        "id": "GuNb1n0nQxcq",
        "outputId": "a8b9b7f8-193f-4a56-8621-93aa2aa289d4"
      },
      "execution_count": 13,
      "outputs": [
        {
          "output_type": "execute_result",
          "data": {
            "text/plain": [
              "Agent(name='Greeting Agent', model='gpt-4o', instructions='You are a friendly assistant that greets the user and tells a joke.', functions=[], tool_choice=None, parallel_tool_calls=True)"
            ]
          },
          "metadata": {},
          "execution_count": 13
        }
      ]
    },
    {
      "cell_type": "code",
      "source": [
        "# Run the application\n",
        "response = client.run(\n",
        "    agent = main_agent,\n",
        "    messages = [{\"role\": \"user\",\n",
        "                 \"content\": \"what is the current news in USA\"}]\n",
        ")\n",
        "print(display(Markdown(response.messages[-1]['content'])))"
      ],
      "metadata": {
        "colab": {
          "base_uri": "https://localhost:8080/",
          "height": 226
        },
        "id": "GVhEoK8uRf2z",
        "outputId": "5fcae258-bf6b-4afa-8a27-13952910dbfa"
      },
      "execution_count": 22,
      "outputs": [
        {
          "output_type": "display_data",
          "data": {
            "text/plain": [
              "<IPython.core.display.Markdown object>"
            ],
            "text/markdown": "Here are some of the current top news headlines in the USA:\n\n1. \"UK’s Starmer in Kyiv for security talks with a pledge for a ‘100-year partnership’ with Ukraine\" - The Associated Press.\n2. \"Netanyahu says Cabinet won't meet over ceasefire until Hamas backs down from 'last minute crisis'\" - The Associated Press.\n3. \"Israel's cabinet set to approve ceasefire deal as at least 20 killed in strikes on Gaza\" - BBC.com.\n4. \"Jeff Bezos' Blue Origin launches massive New Glenn rocket into orbit on 1st flight (video)\" - Space.com.\n5. \"Bollywood Star Saif Ali Khan Stabbed Multiple Times in Mumbai Home Invasion Attack\" - Variety.\n6. \"‘One of Them Days’ Review: Keke Palmer and SZA Make a Rowdily Funny Duo in Issa Rae-Produced Comedy\" - Hollywood Reporter.\n7. \"Samsung Galaxy S25 leak shows new Gemini overlay, hotword, and more\" - 9to5Google.\n8. \"Ukraine hawk removed from House intelligence role, reportedly at Trump’s request\" - The Washington Post."
          },
          "metadata": {}
        },
        {
          "output_type": "stream",
          "name": "stdout",
          "text": [
            "None\n"
          ]
        }
      ]
    },
    {
      "cell_type": "code",
      "source": [
        "response.agent"
      ],
      "metadata": {
        "colab": {
          "base_uri": "https://localhost:8080/"
        },
        "id": "0igu33qJTCBE",
        "outputId": "5aff52ba-80ec-4abe-81a9-b1a6f0ba4112"
      },
      "execution_count": 23,
      "outputs": [
        {
          "output_type": "execute_result",
          "data": {
            "text/plain": [
              "Agent(name='News Agent', model='gpt-4o', instructions='You provide the top news headlines for a given country and category.', functions=[<function fetch_news at 0x7c56393689a0>], tool_choice=None, parallel_tool_calls=True)"
            ]
          },
          "metadata": {},
          "execution_count": 23
        }
      ]
    },
    {
      "cell_type": "markdown",
      "source": [
        "This line outputs the agent that provided the final response, which helps us verify which specialized agent handled the request."
      ],
      "metadata": {
        "id": "6qT8W0A3Q9lG"
      }
    }
  ]
}